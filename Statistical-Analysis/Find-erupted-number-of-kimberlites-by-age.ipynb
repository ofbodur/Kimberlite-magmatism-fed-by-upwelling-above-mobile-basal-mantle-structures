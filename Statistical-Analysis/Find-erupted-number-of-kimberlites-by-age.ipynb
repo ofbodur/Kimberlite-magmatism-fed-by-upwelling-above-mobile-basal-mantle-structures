{
 "cells": [
  {
   "cell_type": "code",
   "execution_count": 1,
   "id": "a1df7b0b",
   "metadata": {},
   "outputs": [],
   "source": [
    "import sys\n",
    "sys.path.insert(0,'/Users/omer/Documents/pygplates_rev28_python38_MacOS64/')\n",
    "sys.path.insert(1,'/Applications/GMT-6.0.0.app/Contents/Resources')\n",
    "import pandas as pd"
   ]
  },
  {
   "cell_type": "code",
   "execution_count": 2,
   "id": "264997d6",
   "metadata": {},
   "outputs": [],
   "source": [
    "import pygplates\n",
    "import numpy as np\n",
    "import os\n",
    "import sys\n",
    "from call_system_command import call_system_command\n",
    "%matplotlib inline"
   ]
  },
  {
   "cell_type": "code",
   "execution_count": 3,
   "id": "67f1921a",
   "metadata": {},
   "outputs": [],
   "source": [
    "def find_number_of_LIPs(age,window,point_features):\n",
    "    \n",
    "    agemax = age+window\n",
    "    agemin = age-window\n",
    "    \n",
    "    count = 0\n",
    "    \n",
    "    for p in point_features:\n",
    "        \n",
    "        # NB valid_time is a tuple, we take the first value since this is the 'birth' time of the LIP\n",
    "        BirthTime = p.get_valid_time()[0] \n",
    "        \n",
    "        if BirthTime <= agemax and BirthTime > agemin:\n",
    "            \n",
    "            count+=1\n",
    "    \n",
    "    return count"
   ]
  },
  {
   "cell_type": "code",
   "execution_count": 15,
   "id": "c11a08c6",
   "metadata": {},
   "outputs": [
    {
     "name": "stdout",
     "output_type": "stream",
     "text": [
      "1000  Ma 2  Kimberlites\n",
      "980  Ma 1  Kimberlites\n",
      "960  Ma 1  Kimberlites\n",
      "940  Ma 1  Kimberlites\n",
      "920  Ma 1  Kimberlites\n",
      "900  Ma 0  Kimberlites\n",
      "880  Ma 1  Kimberlites\n",
      "860  Ma 0  Kimberlites\n",
      "840  Ma 2  Kimberlites\n",
      "820  Ma 1  Kimberlites\n",
      "800  Ma 7  Kimberlites\n",
      "780  Ma 2  Kimberlites\n",
      "760  Ma 1  Kimberlites\n",
      "740  Ma 1  Kimberlites\n",
      "720  Ma 2  Kimberlites\n",
      "700  Ma 1  Kimberlites\n",
      "680  Ma 3  Kimberlites\n",
      "660  Ma 4  Kimberlites\n",
      "640  Ma 6  Kimberlites\n",
      "620  Ma 2  Kimberlites\n",
      "600  Ma 4  Kimberlites\n",
      "580  Ma 19  Kimberlites\n",
      "560  Ma 9  Kimberlites\n",
      "540  Ma 25  Kimberlites\n",
      "520  Ma 18  Kimberlites\n",
      "500  Ma 14  Kimberlites\n",
      "480  Ma 10  Kimberlites\n",
      "460  Ma 10  Kimberlites\n",
      "440  Ma 9  Kimberlites\n",
      "420  Ma 5  Kimberlites\n",
      "400  Ma 10  Kimberlites\n",
      "380  Ma 26  Kimberlites\n",
      "360  Ma 24  Kimberlites\n",
      "340  Ma 6  Kimberlites\n",
      "320  Ma 9  Kimberlites\n",
      "300  Ma 2  Kimberlites\n",
      "280  Ma 4  Kimberlites\n",
      "260  Ma 10  Kimberlites\n",
      "240  Ma 35  Kimberlites\n",
      "220  Ma 13  Kimberlites\n",
      "200  Ma 19  Kimberlites\n",
      "180  Ma 34  Kimberlites\n",
      "160  Ma 67  Kimberlites\n",
      "140  Ma 95  Kimberlites\n",
      "120  Ma 66  Kimberlites\n",
      "100  Ma 118  Kimberlites\n",
      "80  Ma 165  Kimberlites\n",
      "60  Ma 86  Kimberlites\n",
      "40  Ma 12  Kimberlites\n",
      "20  Ma 3  Kimberlites\n",
      "0  Ma 1  Kimberlites\n",
      "967  is the total number of kimberlites erupted in the last  1010  million years\n"
     ]
    }
   ],
   "source": [
    "LIP_File='/Volumes/Accelsior4M2/ada2/KimberlitesReconstructed/Tappe-et-al-2018-EPSL-Kimberlite_emplacement_ages-automatic-part1-with-locations-with-plate-IDs.gpml'\n",
    "window=int(10)\n",
    "pc = pygplates.FeatureCollection(LIP_File)\n",
    "sumNLips=0\n",
    "initialAge=1000\n",
    "for age in np.arange(initialAge,-1,-20):\n",
    "    \n",
    "    nLIPs=find_number_of_LIPs(age,window,pc)\n",
    "    sumNLips=sumNLips+nLIPs\n",
    "    \n",
    "    print(age,' Ma', nLIPs,' Kimberlites')\n",
    "    \n",
    "print(sumNLips,\" is the total number of kimberlites erupted in the last \",str(initialAge+window),\" million years\")"
   ]
  },
  {
   "cell_type": "code",
   "execution_count": 16,
   "id": "8d97b2b5",
   "metadata": {},
   "outputs": [
    {
     "data": {
      "text/plain": [
       "(71.45811789038262, 68.8728024819028)"
      ]
     },
     "execution_count": 16,
     "metadata": {},
     "output_type": "execute_result"
    }
   ],
   "source": [
    "# find_number_of_LIPs(100,110,pc)\n",
    "100*691/967,100*666/967"
   ]
  },
  {
   "cell_type": "code",
   "execution_count": 10,
   "id": "5681fafa",
   "metadata": {},
   "outputs": [
    {
     "data": {
      "text/plain": [
       "<module 'pandas' from '/Users/omer/opt/anaconda3/envs/py38/lib/python3.8/site-packages/pandas/__init__.py'>"
      ]
     },
     "execution_count": 10,
     "metadata": {},
     "output_type": "execute_result"
    }
   ],
   "source": [
    "pd"
   ]
  },
  {
   "cell_type": "code",
   "execution_count": null,
   "id": "b13645c4",
   "metadata": {},
   "outputs": [],
   "source": []
  }
 ],
 "metadata": {
  "kernelspec": {
   "display_name": "Python 3 (ipykernel)",
   "language": "python",
   "name": "python3"
  },
  "language_info": {
   "codemirror_mode": {
    "name": "ipython",
    "version": 3
   },
   "file_extension": ".py",
   "mimetype": "text/x-python",
   "name": "python",
   "nbconvert_exporter": "python",
   "pygments_lexer": "ipython3",
   "version": "3.8.16"
  }
 },
 "nbformat": 4,
 "nbformat_minor": 5
}
