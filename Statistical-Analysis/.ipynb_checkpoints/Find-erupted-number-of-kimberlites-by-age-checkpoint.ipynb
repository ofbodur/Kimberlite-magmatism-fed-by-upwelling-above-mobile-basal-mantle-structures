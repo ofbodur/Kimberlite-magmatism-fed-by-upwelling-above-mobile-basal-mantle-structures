{
 "cells": [
  {
   "cell_type": "code",
   "execution_count": 1,
   "id": "a1df7b0b",
   "metadata": {},
   "outputs": [],
   "source": [
    "import sys\n",
    "sys.path.insert(0,'/Users/omer/Documents/pygplates_rev28_python38_MacOS64/')\n",
    "sys.path.insert(1,'/Applications/GMT-6.0.0.app/Contents/Resources')\n",
    "import pandas as pd"
   ]
  },
  {
   "cell_type": "code",
   "execution_count": 2,
   "id": "264997d6",
   "metadata": {},
   "outputs": [],
   "source": [
    "import pygplates\n",
    "import numpy as np\n",
    "import os\n",
    "import sys\n",
    "from call_system_command import call_system_command\n",
    "%matplotlib inline"
   ]
  },
  {
   "cell_type": "code",
   "execution_count": 3,
   "id": "67f1921a",
   "metadata": {},
   "outputs": [],
   "source": [
    "def find_number_of_LIPs(age,window,point_features):\n",
    "    \n",
    "    agemax = age+window\n",
    "    agemin = age-window\n",
    "    \n",
    "    count = 0\n",
    "    \n",
    "    for p in point_features:\n",
    "        \n",
    "        # NB valid_time is a tuple, we take the first value since this is the 'birth' time of the LIP\n",
    "        BirthTime = p.get_valid_time()[0] \n",
    "        \n",
    "        if BirthTime <= agemax and BirthTime > agemin:\n",
    "            \n",
    "            count+=1\n",
    "    \n",
    "    return count"
   ]
  },
  {
   "cell_type": "code",
   "execution_count": 4,
   "id": "c11a08c6",
   "metadata": {},
   "outputs": [
    {
     "name": "stdout",
     "output_type": "stream",
     "text": [
      "200  Ma 19  Kimberlites\n",
      "180  Ma 34  Kimberlites\n",
      "160  Ma 67  Kimberlites\n",
      "140  Ma 95  Kimberlites\n",
      "120  Ma 66  Kimberlites\n",
      "100  Ma 118  Kimberlites\n",
      "80  Ma 165  Kimberlites\n",
      "60  Ma 86  Kimberlites\n",
      "40  Ma 12  Kimberlites\n",
      "20  Ma 3  Kimberlites\n",
      "0  Ma 1  Kimberlites\n",
      "666  is the total number of kimberlites erupted in the last  210  million years\n"
     ]
    }
   ],
   "source": [
    "LIP_File='/Volumes/Accelsior4M2/ada2/KimberlitesReconstructed/Tappe-et-al-2018-EPSL-Kimberlite_emplacement_ages-automatic-part1-with-locations-with-plate-IDs.gpml'\n",
    "window=int(10)\n",
    "pc = pygplates.FeatureCollection(LIP_File)\n",
    "sumNLips=0\n",
    "initialAge=200\n",
    "for age in np.arange(initialAge,-1,-20):\n",
    "    \n",
    "    nLIPs=find_number_of_LIPs(age,window,pc)\n",
    "    sumNLips=sumNLips+nLIPs\n",
    "    \n",
    "    print(age,' Ma', nLIPs,' Kimberlites')\n",
    "    \n",
    "print(sumNLips,\" is the total number of kimberlites erupted in the last \",str(initialAge+window),\" million years\")"
   ]
  },
  {
   "cell_type": "markdown",
   "id": "d1b13fed",
   "metadata": {},
   "source": [
    "# The End"
   ]
  },
  {
   "cell_type": "code",
   "execution_count": null,
   "id": "d66f4074",
   "metadata": {},
   "outputs": [],
   "source": []
  }
 ],
 "metadata": {
  "kernelspec": {
   "display_name": "Python 3 (ipykernel)",
   "language": "python",
   "name": "python3"
  },
  "language_info": {
   "codemirror_mode": {
    "name": "ipython",
    "version": 3
   },
   "file_extension": ".py",
   "mimetype": "text/x-python",
   "name": "python",
   "nbconvert_exporter": "python",
   "pygments_lexer": "ipython3",
   "version": "3.8.16"
  }
 },
 "nbformat": 4,
 "nbformat_minor": 5
}
