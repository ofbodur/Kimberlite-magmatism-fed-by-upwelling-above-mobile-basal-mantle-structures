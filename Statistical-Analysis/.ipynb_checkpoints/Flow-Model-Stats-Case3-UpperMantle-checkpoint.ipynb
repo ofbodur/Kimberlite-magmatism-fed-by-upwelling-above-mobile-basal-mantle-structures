{
 "cells": [
  {
   "cell_type": "code",
   "execution_count": 12,
   "metadata": {},
   "outputs": [],
   "source": [
    "import sys\n",
    "# sys.path.insert(0,'C:/Users/annal/OneDrive/Documents/python3.8/pygplates_rev28_python38_win64')\n",
    "# sys.path.insert(0,'/Users/omer/Documents/pygplates_rev18_python27_MacOS64')\n",
    "sys.path.insert(0,'/Users/omer/Documents/pygplates_rev28_python38_MacOS64/')\n",
    "sys.path.insert(1,'/Applications/GMT-6.0.0.app/Contents/Resources')\n",
    "import pandas as pd"
   ]
  },
  {
   "cell_type": "code",
   "execution_count": 13,
   "metadata": {},
   "outputs": [],
   "source": [
    "# !pip install scipy"
   ]
  },
  {
   "cell_type": "code",
   "execution_count": 14,
   "metadata": {},
   "outputs": [],
   "source": [
    "# !pip install healpy \n",
    "# !pip instadll statsmodels"
   ]
  },
  {
   "cell_type": "code",
   "execution_count": 15,
   "metadata": {},
   "outputs": [],
   "source": [
    "import pygplates\n",
    "import numpy as np\n",
    "import os\n",
    "import math\n",
    "import sphere_tools as sph\n",
    "import matplotlib.pyplot as plt\n",
    "import itertools\n",
    "from scipy import stats\n",
    "import statsmodels\n",
    "import sys\n",
    "from matplotlib.lines import Line2D\n",
    "from call_system_command import call_system_command\n",
    "%matplotlib inline"
   ]
  },
  {
   "cell_type": "code",
   "execution_count": null,
   "metadata": {},
   "outputs": [],
   "source": []
  },
  {
   "cell_type": "code",
   "execution_count": 16,
   "metadata": {},
   "outputs": [],
   "source": [
    "def find_number_of_LIPs(age,window,point_features):\n",
    "    \n",
    "    agemax = age+window\n",
    "    agemin = age-window\n",
    "    \n",
    "    count = 0\n",
    "    \n",
    "    for p in point_features:\n",
    "        \n",
    "        # NB valid_time is a tuple, we take the first value since this is the 'birth' time of the LIP\n",
    "        BirthTime = p.get_valid_time()[0] \n",
    "        \n",
    "        if BirthTime <= agemax and BirthTime > agemin:\n",
    "            \n",
    "            count+=1\n",
    "    \n",
    "    return count"
   ]
  },
  {
   "cell_type": "code",
   "execution_count": 17,
   "metadata": {},
   "outputs": [],
   "source": [
    "def get_volcanic_product_long_lat(rotations,anchor_plate_id,age,window,point_features):\n",
    "    \n",
    "    agemax = age+window\n",
    "    agemin = age-window\n",
    "    \n",
    "    Xr = []\n",
    "    Yr = []\n",
    "\n",
    "    for p in point_features:\n",
    "        \n",
    "        # NB valid_time is a tuple, we take the first value since this is the 'birth' time of the Kimberlite\n",
    "        BirthTime = p.get_valid_time()[0] \n",
    "        \n",
    "        if BirthTime <= agemax and BirthTime > agemin:\n",
    "            \n",
    "            PlateID = p.get_reconstruction_plate_id()\n",
    "\n",
    "            # Get rotation for the point and reconstruct to its birth time if it's in age interval (window)\n",
    "            Kimb_rotation = rotations.get_rotation(age, PlateID, anchor_plate_id)\n",
    "\n",
    "            reconstructed_point = Kimb_rotation * p.get_geometry()\n",
    "            reconstructed_point_degrees = reconstructed_point.to_lat_lon_point()\n",
    "\n",
    "            Xr.append(reconstructed_point_degrees.get_longitude())\n",
    "            Yr.append(reconstructed_point_degrees.get_latitude())\n",
    "    \n",
    "    \n",
    "    return Xr, Yr"
   ]
  },
  {
   "cell_type": "code",
   "execution_count": 18,
   "metadata": {},
   "outputs": [],
   "source": [
    "# generic function to sample grids using grdtrack and read results\n",
    "def sample_using_gmt(grdfile, point_lons, point_lats,OutputDirectory):\n",
    "\n",
    "        dataout = np.vstack((np.asarray(point_lons),np.asarray(point_lats))).T\n",
    "\n",
    "        np.savetxt(OutputDirectory+'/tmp.txt',dataout)\n",
    "        \n",
    "        # Note -nn forces nearest neighbour interpolation\n",
    "        call_system_command(['gmt',\n",
    "                             'grdtrack',\n",
    "                             '%s/tmp.txt' %OutputDirectory,\n",
    "                             '-G{:s}'.format(grdfile), \n",
    "                             '-fg',\n",
    "                             '-nn',\n",
    "                             '-V',\n",
    "                             '>', \n",
    "                             '%s/tmp_interp.txt' % OutputDirectory])\n",
    "        G=[]\n",
    "        with open(OutputDirectory+'/tmp_interp.txt') as f:\n",
    "            for line in f:\n",
    "                if line[0] == '>':\n",
    "                    continue\n",
    "                else:\n",
    "                    tmp = line.split()\n",
    "                    G.append(float(tmp[2]))\n",
    "\n",
    "        f.close()\n",
    "        return np.array(G)"
   ]
  },
  {
   "cell_type": "code",
   "execution_count": 19,
   "metadata": {},
   "outputs": [],
   "source": [
    "\n",
    "def create_hot_nc_file(GridDirect,OutputDirect,FlowModelName,Age):\n",
    "    Age=int(Age)\n",
    "    XYZFile=\"%s/%s_%dMa.xyz\" %(GridDirect,FlowModelName,Age)\n",
    "    print(XYZFile)\n",
    "\n",
    "    TempGrid1=\"%s/%s_TempGrid1_%d_Ma.nc\" %(OutputDirect,FlowModelName,Age)\n",
    "    TempGrid2=\"%s/%s_TempGrid2_%d_Ma.nc\" %(OutputDirect,FlowModelName,Age)\n",
    "    GridOutput1_0=\"%s/%s_1Hot_0Cold_%d_Ma.nc\" %(OutputDirect,FlowModelName,Age)\n",
    "    hot_xyz_file=\"%s/%s_hot_%d_Ma.xyz\" %(OutputDirect,FlowModelName,Age)\n",
    "    \n",
    "    DistanceFROMHot=\"%s/%s_%d_Ma_Distance_to_Hot.nc\" %(OutputDirect,FlowModelName,Age)\n",
    "    \n",
    "#     gmt blockmedian $filexyz -Rd -I0.1 -V > $medianfile\n",
    "#     gmt surface $medianfile -I0.1 -R${region} -V -G$gridFile # Resolution is 0.1 deg.\n",
    "#     gmt grdclip $gridFile -Rd -G$gridFile_1_0 -Sa0.99/1 -Sb0.99/0 -V # Set values equal and above 1 as 1, others as 0.\n",
    "    \n",
    "    call_system_command(['gmt',\n",
    "                         'blockmedian',\n",
    "                          XYZFile,\n",
    "                          '-Rd',\n",
    "                          '-I1',\n",
    "                          '-V',\n",
    "                          '>',\n",
    "                          '%s' % TempGrid1])\n",
    "\n",
    "    call_system_command(['gmt',\n",
    "                         'surface',\n",
    "                          TempGrid1,\n",
    "                          '-Rd',\n",
    "                          '-I1',\n",
    "                          '-G%s'%TempGrid2])   \n",
    "\n",
    "    \n",
    "    call_system_command(['gmt',\n",
    "                         'grdclip',\n",
    "                         TempGrid2,\n",
    "                         '-Rd',\n",
    "                         '-G%s' % GridOutput1_0,\n",
    "                         '-Sa0.99/1',\n",
    "                         '-Sb0.99/0',\n",
    "                         '-V'])    \n",
    "\n",
    "    call_system_command(['gmt',\n",
    "                         'grd2xyz',\n",
    "                         GridOutput1_0,\n",
    "                         '-Rd',\n",
    "                         '-di0',  # set all cells with '0' to be nodata\n",
    "                         '-s',\n",
    "                         '>',\n",
    "                         '%s' % hot_xyz_file])\n",
    "\n",
    "    call_system_command(['gmt',\n",
    "                         'grdmath',\n",
    "                         GridOutput1_0,\n",
    "                         '%s' % hot_xyz_file,\n",
    "                         'PDIST',\n",
    "                         'KM2DEG',\n",
    "                         '=',\n",
    "                         '%s' % DistanceFROMHot])"
   ]
  },
  {
   "cell_type": "code",
   "execution_count": 20,
   "metadata": {},
   "outputs": [],
   "source": [
    "GridDirect=\"/Users/omer/Desktop/NatGeoReviews/Flow-Models/Case3/\"\n",
    "OutputDirect=\"/Users/omer/Desktop/NatGeoReviews/Statistical-Analysis/Flow-Model-Stats/Case3/UpperMantle/\"\n",
    "FlowModel=\"Case3_UpperMantle\"\n",
    "\n",
    "# # \"%s%s.nc\" %(GridDirect,FlowModel)\n",
    "# for Age in np.arange(200,20,-20):\n",
    "\n",
    "# # FlowModel=\"Case3_UpperMantle_180Ma\"\n",
    "#     create_hot_nc_file(GridDirect,OutputDirect,FlowModel,Age)"
   ]
  },
  {
   "cell_type": "code",
   "execution_count": 21,
   "metadata": {},
   "outputs": [],
   "source": [
    "# DistanceFROMHot"
   ]
  },
  {
   "cell_type": "code",
   "execution_count": 22,
   "metadata": {},
   "outputs": [],
   "source": [
    "def run_random_sampling(nPoints,age,dist_to_hot_nc_file,CalcOutputDir):\n",
    "    \n",
    "    age=int(age)\n",
    "    recon_label = 'M21-NNR'\n",
    "    ReconstructionDir='/Users/omer/Desktop/NatGeoReviews/Reconstruction_Models/M21NNR/'\n",
    "    cratonFile=ReconstructionDir+\"shapes_cratons_Merdith_et_al.gpml\"\n",
    "    cratons = pygplates.FeatureCollection(cratonFile)    \n",
    "\n",
    "    input_rotation_filename1 = '%s/1000-410_rotations-NNR.rot' % ReconstructionDir\n",
    "    input_rotation_filename2 = '%s/Global_EB_410-250Ma_GK07_2017-NNR.rot' % ReconstructionDir\n",
    "    input_rotation_filename3 = '%s/Global_EB_250-0Ma_GK07_2017-NNR.rot' % ReconstructionDir\n",
    "    input_rotation_filename4 = '%s/NR_0Ma_1000Ma_for_gplates.rot' % ReconstructionDir\n",
    "    rotation_model = pygplates.RotationModel([input_rotation_filename1,input_rotation_filename2,\\\n",
    "                                              input_rotation_filename3,input_rotation_filename4])\n",
    "\n",
    "    ANCHOR_ID = int(0)\n",
    "        \n",
    "    randomLons = []\n",
    "    randomLats = []\n",
    "    random_pdist2hot = []\n",
    "   \n",
    "    \n",
    "    # Start with an empty list of features\n",
    "    features_to_modify = []\n",
    "    new_features=[]\n",
    "    reconstructed_feature_geometries=[]\n",
    "    \n",
    "    # Reconstruct cratonic shapes at Age Ma\n",
    "    pygplates.reconstruct(cratons, rotation_model, reconstructed_feature_geometries, age)\n",
    "    \n",
    "#     print(reconstructed_feature_geometries)\n",
    "#     print(age)\n",
    "    \n",
    "    RandomPoints_Lats=np.array([])\n",
    "    RandomPoints_Lons=np.array([])\n",
    "    \n",
    "    totalRandomInsideCratons=0\n",
    "    \n",
    "    while(totalRandomInsideCratons<nPoints):\n",
    "        random_point = sph.random_points_feature(1)\n",
    "        for mp in random_point:\n",
    "            for point in mp.get_geometry().get_points():\n",
    "                pointInDegrees=point.to_lat_lon_point()\n",
    "                PointLat=pointInDegrees.get_latitude()\n",
    "                PointLon=pointInDegrees.get_longitude()\n",
    "                \n",
    "#                 for static_polygon in cratons:\n",
    "                for static_polygon in reconstructed_feature_geometries:\n",
    "#                     PlateID = static_polygon.get_reconstruction_plate_id()\n",
    "#                     static_polygon_geom = static_polygon.get_geometry()\n",
    "                    static_polygon_geom = static_polygon.get_reconstructed_geometry()\n",
    "                    if static_polygon_geom != None:\n",
    "                        if static_polygon_geom.is_point_in_polygon((PointLat,PointLon)):        \n",
    "#                             print(\"inside\")\n",
    "                            RandomPoints_Lats=np.append(RandomPoints_Lats,PointLat)\n",
    "                            RandomPoints_Lons=np.append(RandomPoints_Lons,PointLon)\n",
    "                            totalRandomInsideCratons=totalRandomInsideCratons+1\n",
    "                            cF=pygplates.Feature()\n",
    "                            cF.set_geometry(point)\n",
    "                            new_features.append(cF)\n",
    "    output_feature_collection = pygplates.FeatureCollection(new_features)\n",
    "    output_feature_collection.write(\"Random_\"+str(nPoints)+\"_Points_onCratons_ForCase3_\"+str(age)+\"_Ma.gpml\")\n",
    "\n",
    "    # for the point locations of interest, sample the distance grids\n",
    "    # (and the original cluster boolean grid as a sanity check)\n",
    "    random_pdist2hot = sample_using_gmt(dist_to_hot_nc_file, RandomPoints_Lons, RandomPoints_Lats,CalcOutputDir)\n",
    "#     random_cluster_bool = sample_using_gmt(cluster_nc_file, RandomPoints_Lons, RandomPoints_Lats)\n",
    "    \n",
    "    return random_pdist2hot"
   ]
  },
  {
   "cell_type": "code",
   "execution_count": null,
   "metadata": {},
   "outputs": [],
   "source": []
  },
  {
   "cell_type": "code",
   "execution_count": 23,
   "metadata": {},
   "outputs": [],
   "source": [
    "# reconstructed_feature_geometries=[]\n",
    "# pygplates.reconstruct(cratons, rotation_model, reconstructed_feature_geometries, age)"
   ]
  },
  {
   "cell_type": "code",
   "execution_count": 24,
   "metadata": {},
   "outputs": [],
   "source": [
    "# reconstructed_feature_geometries"
   ]
  },
  {
   "cell_type": "code",
   "execution_count": 25,
   "metadata": {},
   "outputs": [
    {
     "name": "stdout",
     "output_type": "stream",
     "text": [
      "200 Ma\n",
      "1.4290153603813684 is the mean of the sample\n",
      "21.05263157894737 % of the points are on Hot Structures\n",
      "19\n",
      "Random 1 out of 1000\n"
     ]
    },
    {
     "name": "stderr",
     "output_type": "stream",
     "text": [
      "<ipython-input-25-99da4e5d8fd9>:160: UserWarning: p-value floored: true value smaller than 0.001\n",
      "  AD1S, AD2S, AD3S = stats.anderson_ksamp([MIN_DISTANCE_HOT_DEG,\n",
      "<ipython-input-25-99da4e5d8fd9>:160: UserWarning: p-value floored: true value smaller than 0.001\n",
      "  AD1S, AD2S, AD3S = stats.anderson_ksamp([MIN_DISTANCE_HOT_DEG,\n"
     ]
    },
    {
     "name": "stdout",
     "output_type": "stream",
     "text": [
      "Random 11 out of 1000\n",
      "Random 21 out of 1000\n",
      "MUTATION!\n",
      "Random 31 out of 1000\n"
     ]
    },
    {
     "name": "stderr",
     "output_type": "stream",
     "text": [
      "<ipython-input-25-99da4e5d8fd9>:160: UserWarning: p-value floored: true value smaller than 0.001\n",
      "  AD1S, AD2S, AD3S = stats.anderson_ksamp([MIN_DISTANCE_HOT_DEG,\n",
      "<ipython-input-25-99da4e5d8fd9>:160: UserWarning: p-value floored: true value smaller than 0.001\n",
      "  AD1S, AD2S, AD3S = stats.anderson_ksamp([MIN_DISTANCE_HOT_DEG,\n"
     ]
    },
    {
     "name": "stdout",
     "output_type": "stream",
     "text": [
      "Random 41 out of 1000\n"
     ]
    },
    {
     "name": "stderr",
     "output_type": "stream",
     "text": [
      "<ipython-input-25-99da4e5d8fd9>:160: UserWarning: p-value floored: true value smaller than 0.001\n",
      "  AD1S, AD2S, AD3S = stats.anderson_ksamp([MIN_DISTANCE_HOT_DEG,\n",
      "<ipython-input-25-99da4e5d8fd9>:160: UserWarning: p-value floored: true value smaller than 0.001\n",
      "  AD1S, AD2S, AD3S = stats.anderson_ksamp([MIN_DISTANCE_HOT_DEG,\n"
     ]
    },
    {
     "name": "stdout",
     "output_type": "stream",
     "text": [
      "Random 51 out of 1000\n"
     ]
    },
    {
     "name": "stderr",
     "output_type": "stream",
     "text": [
      "<ipython-input-25-99da4e5d8fd9>:160: UserWarning: p-value floored: true value smaller than 0.001\n",
      "  AD1S, AD2S, AD3S = stats.anderson_ksamp([MIN_DISTANCE_HOT_DEG,\n",
      "<ipython-input-25-99da4e5d8fd9>:160: UserWarning: p-value floored: true value smaller than 0.001\n",
      "  AD1S, AD2S, AD3S = stats.anderson_ksamp([MIN_DISTANCE_HOT_DEG,\n",
      "<ipython-input-25-99da4e5d8fd9>:160: UserWarning: p-value floored: true value smaller than 0.001\n",
      "  AD1S, AD2S, AD3S = stats.anderson_ksamp([MIN_DISTANCE_HOT_DEG,\n"
     ]
    },
    {
     "name": "stdout",
     "output_type": "stream",
     "text": [
      "Random 61 out of 1000\n"
     ]
    },
    {
     "name": "stderr",
     "output_type": "stream",
     "text": [
      "<ipython-input-25-99da4e5d8fd9>:160: UserWarning: p-value floored: true value smaller than 0.001\n",
      "  AD1S, AD2S, AD3S = stats.anderson_ksamp([MIN_DISTANCE_HOT_DEG,\n",
      "<ipython-input-25-99da4e5d8fd9>:160: UserWarning: p-value floored: true value smaller than 0.001\n",
      "  AD1S, AD2S, AD3S = stats.anderson_ksamp([MIN_DISTANCE_HOT_DEG,\n"
     ]
    },
    {
     "name": "stdout",
     "output_type": "stream",
     "text": [
      "Random 71 out of 1000\n"
     ]
    },
    {
     "name": "stderr",
     "output_type": "stream",
     "text": [
      "<ipython-input-25-99da4e5d8fd9>:160: UserWarning: p-value floored: true value smaller than 0.001\n",
      "  AD1S, AD2S, AD3S = stats.anderson_ksamp([MIN_DISTANCE_HOT_DEG,\n",
      "<ipython-input-25-99da4e5d8fd9>:160: UserWarning: p-value floored: true value smaller than 0.001\n",
      "  AD1S, AD2S, AD3S = stats.anderson_ksamp([MIN_DISTANCE_HOT_DEG,\n",
      "<ipython-input-25-99da4e5d8fd9>:160: UserWarning: p-value floored: true value smaller than 0.001\n",
      "  AD1S, AD2S, AD3S = stats.anderson_ksamp([MIN_DISTANCE_HOT_DEG,\n",
      "<ipython-input-25-99da4e5d8fd9>:160: UserWarning: p-value floored: true value smaller than 0.001\n",
      "  AD1S, AD2S, AD3S = stats.anderson_ksamp([MIN_DISTANCE_HOT_DEG,\n"
     ]
    },
    {
     "name": "stdout",
     "output_type": "stream",
     "text": [
      "Random 81 out of 1000\n",
      "Random 91 out of 1000\n"
     ]
    },
    {
     "name": "stderr",
     "output_type": "stream",
     "text": [
      "<ipython-input-25-99da4e5d8fd9>:160: UserWarning: p-value floored: true value smaller than 0.001\n",
      "  AD1S, AD2S, AD3S = stats.anderson_ksamp([MIN_DISTANCE_HOT_DEG,\n",
      "<ipython-input-25-99da4e5d8fd9>:160: UserWarning: p-value capped: true value larger than 0.25\n",
      "  AD1S, AD2S, AD3S = stats.anderson_ksamp([MIN_DISTANCE_HOT_DEG,\n"
     ]
    },
    {
     "name": "stdout",
     "output_type": "stream",
     "text": [
      "Random 101 out of 1000\n"
     ]
    },
    {
     "name": "stderr",
     "output_type": "stream",
     "text": [
      "<ipython-input-25-99da4e5d8fd9>:160: UserWarning: p-value floored: true value smaller than 0.001\n",
      "  AD1S, AD2S, AD3S = stats.anderson_ksamp([MIN_DISTANCE_HOT_DEG,\n",
      "<ipython-input-25-99da4e5d8fd9>:160: UserWarning: p-value capped: true value larger than 0.25\n",
      "  AD1S, AD2S, AD3S = stats.anderson_ksamp([MIN_DISTANCE_HOT_DEG,\n",
      "<ipython-input-25-99da4e5d8fd9>:160: UserWarning: p-value floored: true value smaller than 0.001\n",
      "  AD1S, AD2S, AD3S = stats.anderson_ksamp([MIN_DISTANCE_HOT_DEG,\n"
     ]
    },
    {
     "name": "stdout",
     "output_type": "stream",
     "text": [
      "Random 111 out of 1000\n",
      "MUTATION!\n"
     ]
    },
    {
     "name": "stderr",
     "output_type": "stream",
     "text": [
      "<ipython-input-25-99da4e5d8fd9>:160: UserWarning: p-value floored: true value smaller than 0.001\n",
      "  AD1S, AD2S, AD3S = stats.anderson_ksamp([MIN_DISTANCE_HOT_DEG,\n",
      "<ipython-input-25-99da4e5d8fd9>:160: UserWarning: p-value capped: true value larger than 0.25\n",
      "  AD1S, AD2S, AD3S = stats.anderson_ksamp([MIN_DISTANCE_HOT_DEG,\n"
     ]
    },
    {
     "name": "stdout",
     "output_type": "stream",
     "text": [
      "Random 121 out of 1000\n"
     ]
    },
    {
     "name": "stderr",
     "output_type": "stream",
     "text": [
      "<ipython-input-25-99da4e5d8fd9>:160: UserWarning: p-value floored: true value smaller than 0.001\n",
      "  AD1S, AD2S, AD3S = stats.anderson_ksamp([MIN_DISTANCE_HOT_DEG,\n"
     ]
    },
    {
     "name": "stdout",
     "output_type": "stream",
     "text": [
      "MUTATION!\n"
     ]
    },
    {
     "name": "stderr",
     "output_type": "stream",
     "text": [
      "<ipython-input-25-99da4e5d8fd9>:160: UserWarning: p-value floored: true value smaller than 0.001\n",
      "  AD1S, AD2S, AD3S = stats.anderson_ksamp([MIN_DISTANCE_HOT_DEG,\n"
     ]
    },
    {
     "name": "stdout",
     "output_type": "stream",
     "text": [
      "Random 131 out of 1000\n"
     ]
    },
    {
     "name": "stderr",
     "output_type": "stream",
     "text": [
      "<ipython-input-25-99da4e5d8fd9>:160: UserWarning: p-value capped: true value larger than 0.25\n",
      "  AD1S, AD2S, AD3S = stats.anderson_ksamp([MIN_DISTANCE_HOT_DEG,\n",
      "<ipython-input-25-99da4e5d8fd9>:160: UserWarning: p-value floored: true value smaller than 0.001\n",
      "  AD1S, AD2S, AD3S = stats.anderson_ksamp([MIN_DISTANCE_HOT_DEG,\n"
     ]
    },
    {
     "name": "stdout",
     "output_type": "stream",
     "text": [
      "Random 141 out of 1000\n"
     ]
    },
    {
     "name": "stderr",
     "output_type": "stream",
     "text": [
      "<ipython-input-25-99da4e5d8fd9>:160: UserWarning: p-value floored: true value smaller than 0.001\n",
      "  AD1S, AD2S, AD3S = stats.anderson_ksamp([MIN_DISTANCE_HOT_DEG,\n",
      "<ipython-input-25-99da4e5d8fd9>:160: UserWarning: p-value floored: true value smaller than 0.001\n",
      "  AD1S, AD2S, AD3S = stats.anderson_ksamp([MIN_DISTANCE_HOT_DEG,\n"
     ]
    },
    {
     "name": "stdout",
     "output_type": "stream",
     "text": [
      "Random 151 out of 1000\n"
     ]
    },
    {
     "name": "stderr",
     "output_type": "stream",
     "text": [
      "<ipython-input-25-99da4e5d8fd9>:160: UserWarning: p-value floored: true value smaller than 0.001\n",
      "  AD1S, AD2S, AD3S = stats.anderson_ksamp([MIN_DISTANCE_HOT_DEG,\n",
      "<ipython-input-25-99da4e5d8fd9>:160: UserWarning: p-value floored: true value smaller than 0.001\n",
      "  AD1S, AD2S, AD3S = stats.anderson_ksamp([MIN_DISTANCE_HOT_DEG,\n",
      "<ipython-input-25-99da4e5d8fd9>:160: UserWarning: p-value floored: true value smaller than 0.001\n",
      "  AD1S, AD2S, AD3S = stats.anderson_ksamp([MIN_DISTANCE_HOT_DEG,\n"
     ]
    },
    {
     "name": "stdout",
     "output_type": "stream",
     "text": [
      "MUTATION!\n",
      "Random 161 out of 1000\n"
     ]
    },
    {
     "name": "stderr",
     "output_type": "stream",
     "text": [
      "<ipython-input-25-99da4e5d8fd9>:160: UserWarning: p-value floored: true value smaller than 0.001\n",
      "  AD1S, AD2S, AD3S = stats.anderson_ksamp([MIN_DISTANCE_HOT_DEG,\n",
      "<ipython-input-25-99da4e5d8fd9>:160: UserWarning: p-value floored: true value smaller than 0.001\n",
      "  AD1S, AD2S, AD3S = stats.anderson_ksamp([MIN_DISTANCE_HOT_DEG,\n"
     ]
    },
    {
     "name": "stdout",
     "output_type": "stream",
     "text": [
      "Random 171 out of 1000\n"
     ]
    },
    {
     "name": "stderr",
     "output_type": "stream",
     "text": [
      "<ipython-input-25-99da4e5d8fd9>:160: UserWarning: p-value capped: true value larger than 0.25\n",
      "  AD1S, AD2S, AD3S = stats.anderson_ksamp([MIN_DISTANCE_HOT_DEG,\n",
      "<ipython-input-25-99da4e5d8fd9>:160: UserWarning: p-value floored: true value smaller than 0.001\n",
      "  AD1S, AD2S, AD3S = stats.anderson_ksamp([MIN_DISTANCE_HOT_DEG,\n",
      "<ipython-input-25-99da4e5d8fd9>:160: UserWarning: p-value floored: true value smaller than 0.001\n",
      "  AD1S, AD2S, AD3S = stats.anderson_ksamp([MIN_DISTANCE_HOT_DEG,\n"
     ]
    },
    {
     "name": "stdout",
     "output_type": "stream",
     "text": [
      "Random 181 out of 1000\n"
     ]
    },
    {
     "name": "stderr",
     "output_type": "stream",
     "text": [
      "<ipython-input-25-99da4e5d8fd9>:160: UserWarning: p-value floored: true value smaller than 0.001\n",
      "  AD1S, AD2S, AD3S = stats.anderson_ksamp([MIN_DISTANCE_HOT_DEG,\n",
      "<ipython-input-25-99da4e5d8fd9>:160: UserWarning: p-value floored: true value smaller than 0.001\n",
      "  AD1S, AD2S, AD3S = stats.anderson_ksamp([MIN_DISTANCE_HOT_DEG,\n"
     ]
    },
    {
     "name": "stdout",
     "output_type": "stream",
     "text": [
      "Random 191 out of 1000\n"
     ]
    },
    {
     "name": "stderr",
     "output_type": "stream",
     "text": [
      "<ipython-input-25-99da4e5d8fd9>:160: UserWarning: p-value floored: true value smaller than 0.001\n",
      "  AD1S, AD2S, AD3S = stats.anderson_ksamp([MIN_DISTANCE_HOT_DEG,\n",
      "<ipython-input-25-99da4e5d8fd9>:160: UserWarning: p-value floored: true value smaller than 0.001\n",
      "  AD1S, AD2S, AD3S = stats.anderson_ksamp([MIN_DISTANCE_HOT_DEG,\n",
      "<ipython-input-25-99da4e5d8fd9>:160: UserWarning: p-value floored: true value smaller than 0.001\n",
      "  AD1S, AD2S, AD3S = stats.anderson_ksamp([MIN_DISTANCE_HOT_DEG,\n",
      "<ipython-input-25-99da4e5d8fd9>:160: UserWarning: p-value floored: true value smaller than 0.001\n",
      "  AD1S, AD2S, AD3S = stats.anderson_ksamp([MIN_DISTANCE_HOT_DEG,\n"
     ]
    },
    {
     "name": "stdout",
     "output_type": "stream",
     "text": [
      "Random 201 out of 1000\n"
     ]
    },
    {
     "name": "stderr",
     "output_type": "stream",
     "text": [
      "<ipython-input-25-99da4e5d8fd9>:160: UserWarning: p-value floored: true value smaller than 0.001\n",
      "  AD1S, AD2S, AD3S = stats.anderson_ksamp([MIN_DISTANCE_HOT_DEG,\n",
      "<ipython-input-25-99da4e5d8fd9>:160: UserWarning: p-value floored: true value smaller than 0.001\n",
      "  AD1S, AD2S, AD3S = stats.anderson_ksamp([MIN_DISTANCE_HOT_DEG,\n",
      "<ipython-input-25-99da4e5d8fd9>:160: UserWarning: p-value floored: true value smaller than 0.001\n",
      "  AD1S, AD2S, AD3S = stats.anderson_ksamp([MIN_DISTANCE_HOT_DEG,\n"
     ]
    },
    {
     "name": "stdout",
     "output_type": "stream",
     "text": [
      "Random 211 out of 1000\n",
      "MUTATION!\n",
      "Random 221 out of 1000\n"
     ]
    },
    {
     "name": "stderr",
     "output_type": "stream",
     "text": [
      "<ipython-input-25-99da4e5d8fd9>:160: UserWarning: p-value floored: true value smaller than 0.001\n",
      "  AD1S, AD2S, AD3S = stats.anderson_ksamp([MIN_DISTANCE_HOT_DEG,\n",
      "<ipython-input-25-99da4e5d8fd9>:160: UserWarning: p-value floored: true value smaller than 0.001\n",
      "  AD1S, AD2S, AD3S = stats.anderson_ksamp([MIN_DISTANCE_HOT_DEG,\n",
      "<ipython-input-25-99da4e5d8fd9>:160: UserWarning: p-value floored: true value smaller than 0.001\n",
      "  AD1S, AD2S, AD3S = stats.anderson_ksamp([MIN_DISTANCE_HOT_DEG,\n",
      "<ipython-input-25-99da4e5d8fd9>:160: UserWarning: p-value floored: true value smaller than 0.001\n",
      "  AD1S, AD2S, AD3S = stats.anderson_ksamp([MIN_DISTANCE_HOT_DEG,\n",
      "<ipython-input-25-99da4e5d8fd9>:160: UserWarning: p-value floored: true value smaller than 0.001\n",
      "  AD1S, AD2S, AD3S = stats.anderson_ksamp([MIN_DISTANCE_HOT_DEG,\n",
      "<ipython-input-25-99da4e5d8fd9>:160: UserWarning: p-value floored: true value smaller than 0.001\n",
      "  AD1S, AD2S, AD3S = stats.anderson_ksamp([MIN_DISTANCE_HOT_DEG,\n"
     ]
    },
    {
     "name": "stdout",
     "output_type": "stream",
     "text": [
      "Random 231 out of 1000\n"
     ]
    },
    {
     "name": "stderr",
     "output_type": "stream",
     "text": [
      "<ipython-input-25-99da4e5d8fd9>:160: UserWarning: p-value floored: true value smaller than 0.001\n",
      "  AD1S, AD2S, AD3S = stats.anderson_ksamp([MIN_DISTANCE_HOT_DEG,\n"
     ]
    },
    {
     "name": "stdout",
     "output_type": "stream",
     "text": [
      "Random 241 out of 1000\n"
     ]
    },
    {
     "name": "stderr",
     "output_type": "stream",
     "text": [
      "<ipython-input-25-99da4e5d8fd9>:160: UserWarning: p-value floored: true value smaller than 0.001\n",
      "  AD1S, AD2S, AD3S = stats.anderson_ksamp([MIN_DISTANCE_HOT_DEG,\n",
      "<ipython-input-25-99da4e5d8fd9>:160: UserWarning: p-value floored: true value smaller than 0.001\n",
      "  AD1S, AD2S, AD3S = stats.anderson_ksamp([MIN_DISTANCE_HOT_DEG,\n",
      "<ipython-input-25-99da4e5d8fd9>:160: UserWarning: p-value capped: true value larger than 0.25\n",
      "  AD1S, AD2S, AD3S = stats.anderson_ksamp([MIN_DISTANCE_HOT_DEG,\n"
     ]
    },
    {
     "name": "stdout",
     "output_type": "stream",
     "text": [
      "Random 251 out of 1000\n"
     ]
    },
    {
     "name": "stderr",
     "output_type": "stream",
     "text": [
      "<ipython-input-25-99da4e5d8fd9>:160: UserWarning: p-value floored: true value smaller than 0.001\n",
      "  AD1S, AD2S, AD3S = stats.anderson_ksamp([MIN_DISTANCE_HOT_DEG,\n",
      "<ipython-input-25-99da4e5d8fd9>:160: UserWarning: p-value floored: true value smaller than 0.001\n",
      "  AD1S, AD2S, AD3S = stats.anderson_ksamp([MIN_DISTANCE_HOT_DEG,\n",
      "<ipython-input-25-99da4e5d8fd9>:160: UserWarning: p-value floored: true value smaller than 0.001\n",
      "  AD1S, AD2S, AD3S = stats.anderson_ksamp([MIN_DISTANCE_HOT_DEG,\n"
     ]
    },
    {
     "name": "stdout",
     "output_type": "stream",
     "text": [
      "Random 261 out of 1000\n"
     ]
    },
    {
     "name": "stderr",
     "output_type": "stream",
     "text": [
      "<ipython-input-25-99da4e5d8fd9>:160: UserWarning: p-value floored: true value smaller than 0.001\n",
      "  AD1S, AD2S, AD3S = stats.anderson_ksamp([MIN_DISTANCE_HOT_DEG,\n",
      "<ipython-input-25-99da4e5d8fd9>:160: UserWarning: p-value floored: true value smaller than 0.001\n",
      "  AD1S, AD2S, AD3S = stats.anderson_ksamp([MIN_DISTANCE_HOT_DEG,\n",
      "<ipython-input-25-99da4e5d8fd9>:160: UserWarning: p-value floored: true value smaller than 0.001\n",
      "  AD1S, AD2S, AD3S = stats.anderson_ksamp([MIN_DISTANCE_HOT_DEG,\n"
     ]
    },
    {
     "name": "stdout",
     "output_type": "stream",
     "text": [
      "Random 271 out of 1000\n"
     ]
    },
    {
     "name": "stderr",
     "output_type": "stream",
     "text": [
      "<ipython-input-25-99da4e5d8fd9>:160: UserWarning: p-value capped: true value larger than 0.25\n",
      "  AD1S, AD2S, AD3S = stats.anderson_ksamp([MIN_DISTANCE_HOT_DEG,\n",
      "<ipython-input-25-99da4e5d8fd9>:160: UserWarning: p-value floored: true value smaller than 0.001\n",
      "  AD1S, AD2S, AD3S = stats.anderson_ksamp([MIN_DISTANCE_HOT_DEG,\n",
      "<ipython-input-25-99da4e5d8fd9>:160: UserWarning: p-value floored: true value smaller than 0.001\n",
      "  AD1S, AD2S, AD3S = stats.anderson_ksamp([MIN_DISTANCE_HOT_DEG,\n"
     ]
    },
    {
     "name": "stdout",
     "output_type": "stream",
     "text": [
      "Random 281 out of 1000\n"
     ]
    },
    {
     "name": "stderr",
     "output_type": "stream",
     "text": [
      "<ipython-input-25-99da4e5d8fd9>:160: UserWarning: p-value floored: true value smaller than 0.001\n",
      "  AD1S, AD2S, AD3S = stats.anderson_ksamp([MIN_DISTANCE_HOT_DEG,\n",
      "<ipython-input-25-99da4e5d8fd9>:160: UserWarning: p-value floored: true value smaller than 0.001\n",
      "  AD1S, AD2S, AD3S = stats.anderson_ksamp([MIN_DISTANCE_HOT_DEG,\n"
     ]
    },
    {
     "name": "stdout",
     "output_type": "stream",
     "text": [
      "Random 291 out of 1000\n",
      "MUTATION!\n"
     ]
    },
    {
     "name": "stderr",
     "output_type": "stream",
     "text": [
      "<ipython-input-25-99da4e5d8fd9>:160: UserWarning: p-value floored: true value smaller than 0.001\n",
      "  AD1S, AD2S, AD3S = stats.anderson_ksamp([MIN_DISTANCE_HOT_DEG,\n",
      "<ipython-input-25-99da4e5d8fd9>:160: UserWarning: p-value floored: true value smaller than 0.001\n",
      "  AD1S, AD2S, AD3S = stats.anderson_ksamp([MIN_DISTANCE_HOT_DEG,\n"
     ]
    },
    {
     "name": "stdout",
     "output_type": "stream",
     "text": [
      "Random 301 out of 1000\n"
     ]
    },
    {
     "name": "stderr",
     "output_type": "stream",
     "text": [
      "<ipython-input-25-99da4e5d8fd9>:160: UserWarning: p-value floored: true value smaller than 0.001\n",
      "  AD1S, AD2S, AD3S = stats.anderson_ksamp([MIN_DISTANCE_HOT_DEG,\n",
      "<ipython-input-25-99da4e5d8fd9>:160: UserWarning: p-value floored: true value smaller than 0.001\n",
      "  AD1S, AD2S, AD3S = stats.anderson_ksamp([MIN_DISTANCE_HOT_DEG,\n",
      "<ipython-input-25-99da4e5d8fd9>:160: UserWarning: p-value floored: true value smaller than 0.001\n",
      "  AD1S, AD2S, AD3S = stats.anderson_ksamp([MIN_DISTANCE_HOT_DEG,\n"
     ]
    },
    {
     "name": "stdout",
     "output_type": "stream",
     "text": [
      "Random 311 out of 1000\n",
      "MUTATION!\n"
     ]
    },
    {
     "name": "stderr",
     "output_type": "stream",
     "text": [
      "<ipython-input-25-99da4e5d8fd9>:160: UserWarning: p-value capped: true value larger than 0.25\n",
      "  AD1S, AD2S, AD3S = stats.anderson_ksamp([MIN_DISTANCE_HOT_DEG,\n"
     ]
    },
    {
     "name": "stdout",
     "output_type": "stream",
     "text": [
      "Random 321 out of 1000\n"
     ]
    },
    {
     "name": "stderr",
     "output_type": "stream",
     "text": [
      "<ipython-input-25-99da4e5d8fd9>:160: UserWarning: p-value floored: true value smaller than 0.001\n",
      "  AD1S, AD2S, AD3S = stats.anderson_ksamp([MIN_DISTANCE_HOT_DEG,\n",
      "<ipython-input-25-99da4e5d8fd9>:160: UserWarning: p-value floored: true value smaller than 0.001\n",
      "  AD1S, AD2S, AD3S = stats.anderson_ksamp([MIN_DISTANCE_HOT_DEG,\n",
      "<ipython-input-25-99da4e5d8fd9>:160: UserWarning: p-value floored: true value smaller than 0.001\n",
      "  AD1S, AD2S, AD3S = stats.anderson_ksamp([MIN_DISTANCE_HOT_DEG,\n",
      "<ipython-input-25-99da4e5d8fd9>:160: UserWarning: p-value floored: true value smaller than 0.001\n",
      "  AD1S, AD2S, AD3S = stats.anderson_ksamp([MIN_DISTANCE_HOT_DEG,\n",
      "<ipython-input-25-99da4e5d8fd9>:160: UserWarning: p-value floored: true value smaller than 0.001\n",
      "  AD1S, AD2S, AD3S = stats.anderson_ksamp([MIN_DISTANCE_HOT_DEG,\n",
      "<ipython-input-25-99da4e5d8fd9>:160: UserWarning: p-value floored: true value smaller than 0.001\n",
      "  AD1S, AD2S, AD3S = stats.anderson_ksamp([MIN_DISTANCE_HOT_DEG,\n"
     ]
    },
    {
     "name": "stdout",
     "output_type": "stream",
     "text": [
      "Random 331 out of 1000\n",
      "Random 341 out of 1000\n"
     ]
    },
    {
     "name": "stderr",
     "output_type": "stream",
     "text": [
      "<ipython-input-25-99da4e5d8fd9>:160: UserWarning: p-value floored: true value smaller than 0.001\n",
      "  AD1S, AD2S, AD3S = stats.anderson_ksamp([MIN_DISTANCE_HOT_DEG,\n"
     ]
    },
    {
     "name": "stdout",
     "output_type": "stream",
     "text": [
      "Random 351 out of 1000\n"
     ]
    },
    {
     "name": "stderr",
     "output_type": "stream",
     "text": [
      "<ipython-input-25-99da4e5d8fd9>:160: UserWarning: p-value floored: true value smaller than 0.001\n",
      "  AD1S, AD2S, AD3S = stats.anderson_ksamp([MIN_DISTANCE_HOT_DEG,\n",
      "<ipython-input-25-99da4e5d8fd9>:160: UserWarning: p-value floored: true value smaller than 0.001\n",
      "  AD1S, AD2S, AD3S = stats.anderson_ksamp([MIN_DISTANCE_HOT_DEG,\n"
     ]
    },
    {
     "name": "stdout",
     "output_type": "stream",
     "text": [
      "Random 361 out of 1000\n"
     ]
    },
    {
     "name": "stderr",
     "output_type": "stream",
     "text": [
      "<ipython-input-25-99da4e5d8fd9>:160: UserWarning: p-value floored: true value smaller than 0.001\n",
      "  AD1S, AD2S, AD3S = stats.anderson_ksamp([MIN_DISTANCE_HOT_DEG,\n"
     ]
    },
    {
     "name": "stdout",
     "output_type": "stream",
     "text": [
      "Random 371 out of 1000\n"
     ]
    },
    {
     "name": "stderr",
     "output_type": "stream",
     "text": [
      "<ipython-input-25-99da4e5d8fd9>:160: UserWarning: p-value floored: true value smaller than 0.001\n",
      "  AD1S, AD2S, AD3S = stats.anderson_ksamp([MIN_DISTANCE_HOT_DEG,\n",
      "<ipython-input-25-99da4e5d8fd9>:160: UserWarning: p-value floored: true value smaller than 0.001\n",
      "  AD1S, AD2S, AD3S = stats.anderson_ksamp([MIN_DISTANCE_HOT_DEG,\n",
      "<ipython-input-25-99da4e5d8fd9>:160: UserWarning: p-value floored: true value smaller than 0.001\n",
      "  AD1S, AD2S, AD3S = stats.anderson_ksamp([MIN_DISTANCE_HOT_DEG,\n"
     ]
    },
    {
     "name": "stdout",
     "output_type": "stream",
     "text": [
      "Random 381 out of 1000\n"
     ]
    },
    {
     "name": "stderr",
     "output_type": "stream",
     "text": [
      "<ipython-input-25-99da4e5d8fd9>:160: UserWarning: p-value floored: true value smaller than 0.001\n",
      "  AD1S, AD2S, AD3S = stats.anderson_ksamp([MIN_DISTANCE_HOT_DEG,\n",
      "<ipython-input-25-99da4e5d8fd9>:160: UserWarning: p-value floored: true value smaller than 0.001\n",
      "  AD1S, AD2S, AD3S = stats.anderson_ksamp([MIN_DISTANCE_HOT_DEG,\n",
      "<ipython-input-25-99da4e5d8fd9>:160: UserWarning: p-value floored: true value smaller than 0.001\n",
      "  AD1S, AD2S, AD3S = stats.anderson_ksamp([MIN_DISTANCE_HOT_DEG,\n"
     ]
    },
    {
     "name": "stdout",
     "output_type": "stream",
     "text": [
      "Random 391 out of 1000\n"
     ]
    },
    {
     "name": "stderr",
     "output_type": "stream",
     "text": [
      "<ipython-input-25-99da4e5d8fd9>:160: UserWarning: p-value floored: true value smaller than 0.001\n",
      "  AD1S, AD2S, AD3S = stats.anderson_ksamp([MIN_DISTANCE_HOT_DEG,\n",
      "<ipython-input-25-99da4e5d8fd9>:160: UserWarning: p-value floored: true value smaller than 0.001\n",
      "  AD1S, AD2S, AD3S = stats.anderson_ksamp([MIN_DISTANCE_HOT_DEG,\n"
     ]
    },
    {
     "name": "stdout",
     "output_type": "stream",
     "text": [
      "Random 401 out of 1000\n"
     ]
    },
    {
     "name": "stderr",
     "output_type": "stream",
     "text": [
      "<ipython-input-25-99da4e5d8fd9>:160: UserWarning: p-value floored: true value smaller than 0.001\n",
      "  AD1S, AD2S, AD3S = stats.anderson_ksamp([MIN_DISTANCE_HOT_DEG,\n"
     ]
    },
    {
     "name": "stdout",
     "output_type": "stream",
     "text": [
      "Random 411 out of 1000\n"
     ]
    },
    {
     "name": "stderr",
     "output_type": "stream",
     "text": [
      "<ipython-input-25-99da4e5d8fd9>:160: UserWarning: p-value capped: true value larger than 0.25\n",
      "  AD1S, AD2S, AD3S = stats.anderson_ksamp([MIN_DISTANCE_HOT_DEG,\n"
     ]
    },
    {
     "name": "stdout",
     "output_type": "stream",
     "text": [
      "Random 421 out of 1000\n"
     ]
    },
    {
     "name": "stderr",
     "output_type": "stream",
     "text": [
      "<ipython-input-25-99da4e5d8fd9>:160: UserWarning: p-value floored: true value smaller than 0.001\n",
      "  AD1S, AD2S, AD3S = stats.anderson_ksamp([MIN_DISTANCE_HOT_DEG,\n",
      "<ipython-input-25-99da4e5d8fd9>:160: UserWarning: p-value floored: true value smaller than 0.001\n",
      "  AD1S, AD2S, AD3S = stats.anderson_ksamp([MIN_DISTANCE_HOT_DEG,\n"
     ]
    },
    {
     "name": "stdout",
     "output_type": "stream",
     "text": [
      "Random 431 out of 1000\n"
     ]
    },
    {
     "name": "stderr",
     "output_type": "stream",
     "text": [
      "<ipython-input-25-99da4e5d8fd9>:160: UserWarning: p-value floored: true value smaller than 0.001\n",
      "  AD1S, AD2S, AD3S = stats.anderson_ksamp([MIN_DISTANCE_HOT_DEG,\n"
     ]
    },
    {
     "name": "stdout",
     "output_type": "stream",
     "text": [
      "Random 441 out of 1000\n",
      "Random 451 out of 1000\n",
      "MUTATION!\n"
     ]
    },
    {
     "name": "stderr",
     "output_type": "stream",
     "text": [
      "<ipython-input-25-99da4e5d8fd9>:160: UserWarning: p-value floored: true value smaller than 0.001\n",
      "  AD1S, AD2S, AD3S = stats.anderson_ksamp([MIN_DISTANCE_HOT_DEG,\n"
     ]
    },
    {
     "name": "stdout",
     "output_type": "stream",
     "text": [
      "Random 461 out of 1000\n",
      "Random 471 out of 1000\n",
      "Random 481 out of 1000\n"
     ]
    },
    {
     "name": "stderr",
     "output_type": "stream",
     "text": [
      "<ipython-input-25-99da4e5d8fd9>:160: UserWarning: p-value floored: true value smaller than 0.001\n",
      "  AD1S, AD2S, AD3S = stats.anderson_ksamp([MIN_DISTANCE_HOT_DEG,\n",
      "<ipython-input-25-99da4e5d8fd9>:160: UserWarning: p-value floored: true value smaller than 0.001\n",
      "  AD1S, AD2S, AD3S = stats.anderson_ksamp([MIN_DISTANCE_HOT_DEG,\n"
     ]
    },
    {
     "name": "stdout",
     "output_type": "stream",
     "text": [
      "Random 491 out of 1000\n"
     ]
    },
    {
     "name": "stderr",
     "output_type": "stream",
     "text": [
      "<ipython-input-25-99da4e5d8fd9>:160: UserWarning: p-value floored: true value smaller than 0.001\n",
      "  AD1S, AD2S, AD3S = stats.anderson_ksamp([MIN_DISTANCE_HOT_DEG,\n"
     ]
    },
    {
     "name": "stdout",
     "output_type": "stream",
     "text": [
      "Random 501 out of 1000\n"
     ]
    },
    {
     "name": "stderr",
     "output_type": "stream",
     "text": [
      "<ipython-input-25-99da4e5d8fd9>:160: UserWarning: p-value floored: true value smaller than 0.001\n",
      "  AD1S, AD2S, AD3S = stats.anderson_ksamp([MIN_DISTANCE_HOT_DEG,\n",
      "<ipython-input-25-99da4e5d8fd9>:160: UserWarning: p-value capped: true value larger than 0.25\n",
      "  AD1S, AD2S, AD3S = stats.anderson_ksamp([MIN_DISTANCE_HOT_DEG,\n"
     ]
    },
    {
     "name": "stdout",
     "output_type": "stream",
     "text": [
      "Random 511 out of 1000\n"
     ]
    },
    {
     "name": "stderr",
     "output_type": "stream",
     "text": [
      "<ipython-input-25-99da4e5d8fd9>:160: UserWarning: p-value floored: true value smaller than 0.001\n",
      "  AD1S, AD2S, AD3S = stats.anderson_ksamp([MIN_DISTANCE_HOT_DEG,\n",
      "<ipython-input-25-99da4e5d8fd9>:160: UserWarning: p-value floored: true value smaller than 0.001\n",
      "  AD1S, AD2S, AD3S = stats.anderson_ksamp([MIN_DISTANCE_HOT_DEG,\n",
      "<ipython-input-25-99da4e5d8fd9>:160: UserWarning: p-value floored: true value smaller than 0.001\n",
      "  AD1S, AD2S, AD3S = stats.anderson_ksamp([MIN_DISTANCE_HOT_DEG,\n"
     ]
    },
    {
     "name": "stdout",
     "output_type": "stream",
     "text": [
      "Random 521 out of 1000\n"
     ]
    },
    {
     "name": "stderr",
     "output_type": "stream",
     "text": [
      "<ipython-input-25-99da4e5d8fd9>:160: UserWarning: p-value floored: true value smaller than 0.001\n",
      "  AD1S, AD2S, AD3S = stats.anderson_ksamp([MIN_DISTANCE_HOT_DEG,\n",
      "<ipython-input-25-99da4e5d8fd9>:160: UserWarning: p-value floored: true value smaller than 0.001\n",
      "  AD1S, AD2S, AD3S = stats.anderson_ksamp([MIN_DISTANCE_HOT_DEG,\n",
      "<ipython-input-25-99da4e5d8fd9>:160: UserWarning: p-value floored: true value smaller than 0.001\n",
      "  AD1S, AD2S, AD3S = stats.anderson_ksamp([MIN_DISTANCE_HOT_DEG,\n"
     ]
    },
    {
     "name": "stdout",
     "output_type": "stream",
     "text": [
      "Random 531 out of 1000\n"
     ]
    },
    {
     "name": "stderr",
     "output_type": "stream",
     "text": [
      "<ipython-input-25-99da4e5d8fd9>:160: UserWarning: p-value floored: true value smaller than 0.001\n",
      "  AD1S, AD2S, AD3S = stats.anderson_ksamp([MIN_DISTANCE_HOT_DEG,\n",
      "<ipython-input-25-99da4e5d8fd9>:160: UserWarning: p-value floored: true value smaller than 0.001\n",
      "  AD1S, AD2S, AD3S = stats.anderson_ksamp([MIN_DISTANCE_HOT_DEG,\n"
     ]
    },
    {
     "name": "stdout",
     "output_type": "stream",
     "text": [
      "Random 541 out of 1000\n"
     ]
    },
    {
     "name": "stderr",
     "output_type": "stream",
     "text": [
      "<ipython-input-25-99da4e5d8fd9>:160: UserWarning: p-value floored: true value smaller than 0.001\n",
      "  AD1S, AD2S, AD3S = stats.anderson_ksamp([MIN_DISTANCE_HOT_DEG,\n",
      "<ipython-input-25-99da4e5d8fd9>:160: UserWarning: p-value floored: true value smaller than 0.001\n",
      "  AD1S, AD2S, AD3S = stats.anderson_ksamp([MIN_DISTANCE_HOT_DEG,\n",
      "<ipython-input-25-99da4e5d8fd9>:160: UserWarning: p-value floored: true value smaller than 0.001\n",
      "  AD1S, AD2S, AD3S = stats.anderson_ksamp([MIN_DISTANCE_HOT_DEG,\n",
      "<ipython-input-25-99da4e5d8fd9>:160: UserWarning: p-value floored: true value smaller than 0.001\n",
      "  AD1S, AD2S, AD3S = stats.anderson_ksamp([MIN_DISTANCE_HOT_DEG,\n"
     ]
    },
    {
     "name": "stdout",
     "output_type": "stream",
     "text": [
      "Random 551 out of 1000\n",
      "MUTATION!\n"
     ]
    },
    {
     "name": "stderr",
     "output_type": "stream",
     "text": [
      "<ipython-input-25-99da4e5d8fd9>:160: UserWarning: p-value floored: true value smaller than 0.001\n",
      "  AD1S, AD2S, AD3S = stats.anderson_ksamp([MIN_DISTANCE_HOT_DEG,\n",
      "<ipython-input-25-99da4e5d8fd9>:160: UserWarning: p-value floored: true value smaller than 0.001\n",
      "  AD1S, AD2S, AD3S = stats.anderson_ksamp([MIN_DISTANCE_HOT_DEG,\n"
     ]
    },
    {
     "name": "stdout",
     "output_type": "stream",
     "text": [
      "Random 561 out of 1000\n"
     ]
    },
    {
     "name": "stderr",
     "output_type": "stream",
     "text": [
      "<ipython-input-25-99da4e5d8fd9>:160: UserWarning: p-value floored: true value smaller than 0.001\n",
      "  AD1S, AD2S, AD3S = stats.anderson_ksamp([MIN_DISTANCE_HOT_DEG,\n",
      "<ipython-input-25-99da4e5d8fd9>:160: UserWarning: p-value floored: true value smaller than 0.001\n",
      "  AD1S, AD2S, AD3S = stats.anderson_ksamp([MIN_DISTANCE_HOT_DEG,\n",
      "<ipython-input-25-99da4e5d8fd9>:160: UserWarning: p-value floored: true value smaller than 0.001\n",
      "  AD1S, AD2S, AD3S = stats.anderson_ksamp([MIN_DISTANCE_HOT_DEG,\n"
     ]
    },
    {
     "name": "stdout",
     "output_type": "stream",
     "text": [
      "Random 571 out of 1000\n"
     ]
    },
    {
     "name": "stderr",
     "output_type": "stream",
     "text": [
      "<ipython-input-25-99da4e5d8fd9>:160: UserWarning: p-value floored: true value smaller than 0.001\n",
      "  AD1S, AD2S, AD3S = stats.anderson_ksamp([MIN_DISTANCE_HOT_DEG,\n",
      "<ipython-input-25-99da4e5d8fd9>:160: UserWarning: p-value floored: true value smaller than 0.001\n",
      "  AD1S, AD2S, AD3S = stats.anderson_ksamp([MIN_DISTANCE_HOT_DEG,\n",
      "<ipython-input-25-99da4e5d8fd9>:160: UserWarning: p-value floored: true value smaller than 0.001\n",
      "  AD1S, AD2S, AD3S = stats.anderson_ksamp([MIN_DISTANCE_HOT_DEG,\n"
     ]
    },
    {
     "name": "stdout",
     "output_type": "stream",
     "text": [
      "Random 581 out of 1000\n",
      "MUTATION!\n"
     ]
    },
    {
     "name": "stderr",
     "output_type": "stream",
     "text": [
      "<ipython-input-25-99da4e5d8fd9>:160: UserWarning: p-value floored: true value smaller than 0.001\n",
      "  AD1S, AD2S, AD3S = stats.anderson_ksamp([MIN_DISTANCE_HOT_DEG,\n",
      "<ipython-input-25-99da4e5d8fd9>:160: UserWarning: p-value floored: true value smaller than 0.001\n",
      "  AD1S, AD2S, AD3S = stats.anderson_ksamp([MIN_DISTANCE_HOT_DEG,\n",
      "<ipython-input-25-99da4e5d8fd9>:160: UserWarning: p-value floored: true value smaller than 0.001\n",
      "  AD1S, AD2S, AD3S = stats.anderson_ksamp([MIN_DISTANCE_HOT_DEG,\n"
     ]
    },
    {
     "name": "stdout",
     "output_type": "stream",
     "text": [
      "Random 591 out of 1000\n"
     ]
    },
    {
     "name": "stderr",
     "output_type": "stream",
     "text": [
      "<ipython-input-25-99da4e5d8fd9>:160: UserWarning: p-value floored: true value smaller than 0.001\n",
      "  AD1S, AD2S, AD3S = stats.anderson_ksamp([MIN_DISTANCE_HOT_DEG,\n",
      "<ipython-input-25-99da4e5d8fd9>:160: UserWarning: p-value floored: true value smaller than 0.001\n",
      "  AD1S, AD2S, AD3S = stats.anderson_ksamp([MIN_DISTANCE_HOT_DEG,\n",
      "<ipython-input-25-99da4e5d8fd9>:160: UserWarning: p-value floored: true value smaller than 0.001\n",
      "  AD1S, AD2S, AD3S = stats.anderson_ksamp([MIN_DISTANCE_HOT_DEG,\n",
      "<ipython-input-25-99da4e5d8fd9>:160: UserWarning: p-value floored: true value smaller than 0.001\n",
      "  AD1S, AD2S, AD3S = stats.anderson_ksamp([MIN_DISTANCE_HOT_DEG,\n"
     ]
    },
    {
     "name": "stdout",
     "output_type": "stream",
     "text": [
      "Random 601 out of 1000\n"
     ]
    },
    {
     "name": "stderr",
     "output_type": "stream",
     "text": [
      "<ipython-input-25-99da4e5d8fd9>:160: UserWarning: p-value floored: true value smaller than 0.001\n",
      "  AD1S, AD2S, AD3S = stats.anderson_ksamp([MIN_DISTANCE_HOT_DEG,\n"
     ]
    },
    {
     "name": "stdout",
     "output_type": "stream",
     "text": [
      "Random 611 out of 1000\n"
     ]
    },
    {
     "name": "stderr",
     "output_type": "stream",
     "text": [
      "<ipython-input-25-99da4e5d8fd9>:160: UserWarning: p-value floored: true value smaller than 0.001\n",
      "  AD1S, AD2S, AD3S = stats.anderson_ksamp([MIN_DISTANCE_HOT_DEG,\n",
      "<ipython-input-25-99da4e5d8fd9>:160: UserWarning: p-value floored: true value smaller than 0.001\n",
      "  AD1S, AD2S, AD3S = stats.anderson_ksamp([MIN_DISTANCE_HOT_DEG,\n",
      "<ipython-input-25-99da4e5d8fd9>:160: UserWarning: p-value floored: true value smaller than 0.001\n",
      "  AD1S, AD2S, AD3S = stats.anderson_ksamp([MIN_DISTANCE_HOT_DEG,\n",
      "<ipython-input-25-99da4e5d8fd9>:160: UserWarning: p-value floored: true value smaller than 0.001\n",
      "  AD1S, AD2S, AD3S = stats.anderson_ksamp([MIN_DISTANCE_HOT_DEG,\n",
      "<ipython-input-25-99da4e5d8fd9>:160: UserWarning: p-value floored: true value smaller than 0.001\n",
      "  AD1S, AD2S, AD3S = stats.anderson_ksamp([MIN_DISTANCE_HOT_DEG,\n",
      "<ipython-input-25-99da4e5d8fd9>:160: UserWarning: p-value floored: true value smaller than 0.001\n",
      "  AD1S, AD2S, AD3S = stats.anderson_ksamp([MIN_DISTANCE_HOT_DEG,\n"
     ]
    },
    {
     "name": "stdout",
     "output_type": "stream",
     "text": [
      "Random 621 out of 1000\n"
     ]
    },
    {
     "name": "stderr",
     "output_type": "stream",
     "text": [
      "<ipython-input-25-99da4e5d8fd9>:160: UserWarning: p-value floored: true value smaller than 0.001\n",
      "  AD1S, AD2S, AD3S = stats.anderson_ksamp([MIN_DISTANCE_HOT_DEG,\n",
      "<ipython-input-25-99da4e5d8fd9>:160: UserWarning: p-value floored: true value smaller than 0.001\n",
      "  AD1S, AD2S, AD3S = stats.anderson_ksamp([MIN_DISTANCE_HOT_DEG,\n",
      "<ipython-input-25-99da4e5d8fd9>:160: UserWarning: p-value floored: true value smaller than 0.001\n",
      "  AD1S, AD2S, AD3S = stats.anderson_ksamp([MIN_DISTANCE_HOT_DEG,\n"
     ]
    },
    {
     "name": "stdout",
     "output_type": "stream",
     "text": [
      "Random 631 out of 1000\n"
     ]
    },
    {
     "name": "stderr",
     "output_type": "stream",
     "text": [
      "<ipython-input-25-99da4e5d8fd9>:160: UserWarning: p-value floored: true value smaller than 0.001\n",
      "  AD1S, AD2S, AD3S = stats.anderson_ksamp([MIN_DISTANCE_HOT_DEG,\n",
      "<ipython-input-25-99da4e5d8fd9>:160: UserWarning: p-value floored: true value smaller than 0.001\n",
      "  AD1S, AD2S, AD3S = stats.anderson_ksamp([MIN_DISTANCE_HOT_DEG,\n",
      "<ipython-input-25-99da4e5d8fd9>:160: UserWarning: p-value floored: true value smaller than 0.001\n",
      "  AD1S, AD2S, AD3S = stats.anderson_ksamp([MIN_DISTANCE_HOT_DEG,\n",
      "<ipython-input-25-99da4e5d8fd9>:160: UserWarning: p-value floored: true value smaller than 0.001\n",
      "  AD1S, AD2S, AD3S = stats.anderson_ksamp([MIN_DISTANCE_HOT_DEG,\n"
     ]
    },
    {
     "name": "stdout",
     "output_type": "stream",
     "text": [
      "Random 641 out of 1000\n"
     ]
    },
    {
     "name": "stderr",
     "output_type": "stream",
     "text": [
      "<ipython-input-25-99da4e5d8fd9>:160: UserWarning: p-value floored: true value smaller than 0.001\n",
      "  AD1S, AD2S, AD3S = stats.anderson_ksamp([MIN_DISTANCE_HOT_DEG,\n",
      "<ipython-input-25-99da4e5d8fd9>:160: UserWarning: p-value floored: true value smaller than 0.001\n",
      "  AD1S, AD2S, AD3S = stats.anderson_ksamp([MIN_DISTANCE_HOT_DEG,\n",
      "<ipython-input-25-99da4e5d8fd9>:160: UserWarning: p-value floored: true value smaller than 0.001\n",
      "  AD1S, AD2S, AD3S = stats.anderson_ksamp([MIN_DISTANCE_HOT_DEG,\n",
      "<ipython-input-25-99da4e5d8fd9>:160: UserWarning: p-value floored: true value smaller than 0.001\n",
      "  AD1S, AD2S, AD3S = stats.anderson_ksamp([MIN_DISTANCE_HOT_DEG,\n"
     ]
    },
    {
     "name": "stdout",
     "output_type": "stream",
     "text": [
      "Random 651 out of 1000\n"
     ]
    },
    {
     "name": "stderr",
     "output_type": "stream",
     "text": [
      "<ipython-input-25-99da4e5d8fd9>:160: UserWarning: p-value floored: true value smaller than 0.001\n",
      "  AD1S, AD2S, AD3S = stats.anderson_ksamp([MIN_DISTANCE_HOT_DEG,\n"
     ]
    },
    {
     "name": "stdout",
     "output_type": "stream",
     "text": [
      "Random 661 out of 1000\n"
     ]
    },
    {
     "name": "stderr",
     "output_type": "stream",
     "text": [
      "<ipython-input-25-99da4e5d8fd9>:160: UserWarning: p-value floored: true value smaller than 0.001\n",
      "  AD1S, AD2S, AD3S = stats.anderson_ksamp([MIN_DISTANCE_HOT_DEG,\n"
     ]
    },
    {
     "name": "stdout",
     "output_type": "stream",
     "text": [
      "Random 671 out of 1000\n"
     ]
    },
    {
     "name": "stderr",
     "output_type": "stream",
     "text": [
      "<ipython-input-25-99da4e5d8fd9>:160: UserWarning: p-value floored: true value smaller than 0.001\n",
      "  AD1S, AD2S, AD3S = stats.anderson_ksamp([MIN_DISTANCE_HOT_DEG,\n"
     ]
    },
    {
     "name": "stdout",
     "output_type": "stream",
     "text": [
      "Random 681 out of 1000\n"
     ]
    },
    {
     "name": "stderr",
     "output_type": "stream",
     "text": [
      "<ipython-input-25-99da4e5d8fd9>:160: UserWarning: p-value floored: true value smaller than 0.001\n",
      "  AD1S, AD2S, AD3S = stats.anderson_ksamp([MIN_DISTANCE_HOT_DEG,\n",
      "<ipython-input-25-99da4e5d8fd9>:160: UserWarning: p-value floored: true value smaller than 0.001\n",
      "  AD1S, AD2S, AD3S = stats.anderson_ksamp([MIN_DISTANCE_HOT_DEG,\n"
     ]
    },
    {
     "name": "stdout",
     "output_type": "stream",
     "text": [
      "Random 691 out of 1000\n"
     ]
    },
    {
     "name": "stderr",
     "output_type": "stream",
     "text": [
      "<ipython-input-25-99da4e5d8fd9>:160: UserWarning: p-value capped: true value larger than 0.25\n",
      "  AD1S, AD2S, AD3S = stats.anderson_ksamp([MIN_DISTANCE_HOT_DEG,\n",
      "<ipython-input-25-99da4e5d8fd9>:160: UserWarning: p-value floored: true value smaller than 0.001\n",
      "  AD1S, AD2S, AD3S = stats.anderson_ksamp([MIN_DISTANCE_HOT_DEG,\n",
      "<ipython-input-25-99da4e5d8fd9>:160: UserWarning: p-value floored: true value smaller than 0.001\n",
      "  AD1S, AD2S, AD3S = stats.anderson_ksamp([MIN_DISTANCE_HOT_DEG,\n",
      "<ipython-input-25-99da4e5d8fd9>:160: UserWarning: p-value floored: true value smaller than 0.001\n",
      "  AD1S, AD2S, AD3S = stats.anderson_ksamp([MIN_DISTANCE_HOT_DEG,\n"
     ]
    },
    {
     "name": "stdout",
     "output_type": "stream",
     "text": [
      "Random 701 out of 1000\n"
     ]
    },
    {
     "name": "stderr",
     "output_type": "stream",
     "text": [
      "<ipython-input-25-99da4e5d8fd9>:160: UserWarning: p-value floored: true value smaller than 0.001\n",
      "  AD1S, AD2S, AD3S = stats.anderson_ksamp([MIN_DISTANCE_HOT_DEG,\n",
      "<ipython-input-25-99da4e5d8fd9>:160: UserWarning: p-value floored: true value smaller than 0.001\n",
      "  AD1S, AD2S, AD3S = stats.anderson_ksamp([MIN_DISTANCE_HOT_DEG,\n",
      "<ipython-input-25-99da4e5d8fd9>:160: UserWarning: p-value floored: true value smaller than 0.001\n",
      "  AD1S, AD2S, AD3S = stats.anderson_ksamp([MIN_DISTANCE_HOT_DEG,\n"
     ]
    },
    {
     "name": "stdout",
     "output_type": "stream",
     "text": [
      "Random 711 out of 1000\n"
     ]
    },
    {
     "name": "stderr",
     "output_type": "stream",
     "text": [
      "<ipython-input-25-99da4e5d8fd9>:160: UserWarning: p-value floored: true value smaller than 0.001\n",
      "  AD1S, AD2S, AD3S = stats.anderson_ksamp([MIN_DISTANCE_HOT_DEG,\n",
      "<ipython-input-25-99da4e5d8fd9>:160: UserWarning: p-value floored: true value smaller than 0.001\n",
      "  AD1S, AD2S, AD3S = stats.anderson_ksamp([MIN_DISTANCE_HOT_DEG,\n"
     ]
    },
    {
     "name": "stdout",
     "output_type": "stream",
     "text": [
      "Random 721 out of 1000\n"
     ]
    },
    {
     "name": "stderr",
     "output_type": "stream",
     "text": [
      "<ipython-input-25-99da4e5d8fd9>:160: UserWarning: p-value floored: true value smaller than 0.001\n",
      "  AD1S, AD2S, AD3S = stats.anderson_ksamp([MIN_DISTANCE_HOT_DEG,\n"
     ]
    },
    {
     "name": "stdout",
     "output_type": "stream",
     "text": [
      "MUTATION!\n"
     ]
    },
    {
     "name": "stderr",
     "output_type": "stream",
     "text": [
      "<ipython-input-25-99da4e5d8fd9>:160: UserWarning: p-value floored: true value smaller than 0.001\n",
      "  AD1S, AD2S, AD3S = stats.anderson_ksamp([MIN_DISTANCE_HOT_DEG,\n",
      "<ipython-input-25-99da4e5d8fd9>:160: UserWarning: p-value floored: true value smaller than 0.001\n",
      "  AD1S, AD2S, AD3S = stats.anderson_ksamp([MIN_DISTANCE_HOT_DEG,\n"
     ]
    },
    {
     "name": "stdout",
     "output_type": "stream",
     "text": [
      "Random 731 out of 1000\n"
     ]
    },
    {
     "name": "stderr",
     "output_type": "stream",
     "text": [
      "<ipython-input-25-99da4e5d8fd9>:160: UserWarning: p-value capped: true value larger than 0.25\n",
      "  AD1S, AD2S, AD3S = stats.anderson_ksamp([MIN_DISTANCE_HOT_DEG,\n",
      "<ipython-input-25-99da4e5d8fd9>:160: UserWarning: p-value floored: true value smaller than 0.001\n",
      "  AD1S, AD2S, AD3S = stats.anderson_ksamp([MIN_DISTANCE_HOT_DEG,\n"
     ]
    },
    {
     "name": "stdout",
     "output_type": "stream",
     "text": [
      "Random 741 out of 1000\n"
     ]
    },
    {
     "name": "stderr",
     "output_type": "stream",
     "text": [
      "<ipython-input-25-99da4e5d8fd9>:160: UserWarning: p-value floored: true value smaller than 0.001\n",
      "  AD1S, AD2S, AD3S = stats.anderson_ksamp([MIN_DISTANCE_HOT_DEG,\n",
      "<ipython-input-25-99da4e5d8fd9>:160: UserWarning: p-value floored: true value smaller than 0.001\n",
      "  AD1S, AD2S, AD3S = stats.anderson_ksamp([MIN_DISTANCE_HOT_DEG,\n"
     ]
    },
    {
     "name": "stdout",
     "output_type": "stream",
     "text": [
      "MUTATION!\n"
     ]
    },
    {
     "name": "stderr",
     "output_type": "stream",
     "text": [
      "<ipython-input-25-99da4e5d8fd9>:160: UserWarning: p-value floored: true value smaller than 0.001\n",
      "  AD1S, AD2S, AD3S = stats.anderson_ksamp([MIN_DISTANCE_HOT_DEG,\n",
      "<ipython-input-25-99da4e5d8fd9>:160: UserWarning: p-value floored: true value smaller than 0.001\n",
      "  AD1S, AD2S, AD3S = stats.anderson_ksamp([MIN_DISTANCE_HOT_DEG,\n",
      "<ipython-input-25-99da4e5d8fd9>:160: UserWarning: p-value floored: true value smaller than 0.001\n",
      "  AD1S, AD2S, AD3S = stats.anderson_ksamp([MIN_DISTANCE_HOT_DEG,\n"
     ]
    },
    {
     "name": "stdout",
     "output_type": "stream",
     "text": [
      "Random 751 out of 1000\n"
     ]
    },
    {
     "name": "stderr",
     "output_type": "stream",
     "text": [
      "<ipython-input-25-99da4e5d8fd9>:160: UserWarning: p-value floored: true value smaller than 0.001\n",
      "  AD1S, AD2S, AD3S = stats.anderson_ksamp([MIN_DISTANCE_HOT_DEG,\n"
     ]
    },
    {
     "name": "stdout",
     "output_type": "stream",
     "text": [
      "Random 761 out of 1000\n"
     ]
    },
    {
     "name": "stderr",
     "output_type": "stream",
     "text": [
      "<ipython-input-25-99da4e5d8fd9>:160: UserWarning: p-value floored: true value smaller than 0.001\n",
      "  AD1S, AD2S, AD3S = stats.anderson_ksamp([MIN_DISTANCE_HOT_DEG,\n",
      "<ipython-input-25-99da4e5d8fd9>:160: UserWarning: p-value floored: true value smaller than 0.001\n",
      "  AD1S, AD2S, AD3S = stats.anderson_ksamp([MIN_DISTANCE_HOT_DEG,\n",
      "<ipython-input-25-99da4e5d8fd9>:160: UserWarning: p-value floored: true value smaller than 0.001\n",
      "  AD1S, AD2S, AD3S = stats.anderson_ksamp([MIN_DISTANCE_HOT_DEG,\n"
     ]
    },
    {
     "name": "stdout",
     "output_type": "stream",
     "text": [
      "Random 771 out of 1000\n"
     ]
    },
    {
     "name": "stderr",
     "output_type": "stream",
     "text": [
      "<ipython-input-25-99da4e5d8fd9>:160: UserWarning: p-value floored: true value smaller than 0.001\n",
      "  AD1S, AD2S, AD3S = stats.anderson_ksamp([MIN_DISTANCE_HOT_DEG,\n",
      "<ipython-input-25-99da4e5d8fd9>:160: UserWarning: p-value floored: true value smaller than 0.001\n",
      "  AD1S, AD2S, AD3S = stats.anderson_ksamp([MIN_DISTANCE_HOT_DEG,\n"
     ]
    },
    {
     "name": "stdout",
     "output_type": "stream",
     "text": [
      "Random 781 out of 1000\n"
     ]
    },
    {
     "name": "stderr",
     "output_type": "stream",
     "text": [
      "<ipython-input-25-99da4e5d8fd9>:160: UserWarning: p-value floored: true value smaller than 0.001\n",
      "  AD1S, AD2S, AD3S = stats.anderson_ksamp([MIN_DISTANCE_HOT_DEG,\n"
     ]
    },
    {
     "name": "stdout",
     "output_type": "stream",
     "text": [
      "Random 791 out of 1000\n"
     ]
    },
    {
     "name": "stderr",
     "output_type": "stream",
     "text": [
      "<ipython-input-25-99da4e5d8fd9>:160: UserWarning: p-value floored: true value smaller than 0.001\n",
      "  AD1S, AD2S, AD3S = stats.anderson_ksamp([MIN_DISTANCE_HOT_DEG,\n"
     ]
    },
    {
     "name": "stdout",
     "output_type": "stream",
     "text": [
      "Random 801 out of 1000\n"
     ]
    },
    {
     "name": "stderr",
     "output_type": "stream",
     "text": [
      "<ipython-input-25-99da4e5d8fd9>:160: UserWarning: p-value floored: true value smaller than 0.001\n",
      "  AD1S, AD2S, AD3S = stats.anderson_ksamp([MIN_DISTANCE_HOT_DEG,\n",
      "<ipython-input-25-99da4e5d8fd9>:160: UserWarning: p-value floored: true value smaller than 0.001\n",
      "  AD1S, AD2S, AD3S = stats.anderson_ksamp([MIN_DISTANCE_HOT_DEG,\n"
     ]
    },
    {
     "name": "stdout",
     "output_type": "stream",
     "text": [
      "Random 811 out of 1000\n"
     ]
    },
    {
     "name": "stderr",
     "output_type": "stream",
     "text": [
      "<ipython-input-25-99da4e5d8fd9>:160: UserWarning: p-value floored: true value smaller than 0.001\n",
      "  AD1S, AD2S, AD3S = stats.anderson_ksamp([MIN_DISTANCE_HOT_DEG,\n",
      "<ipython-input-25-99da4e5d8fd9>:160: UserWarning: p-value floored: true value smaller than 0.001\n",
      "  AD1S, AD2S, AD3S = stats.anderson_ksamp([MIN_DISTANCE_HOT_DEG,\n"
     ]
    },
    {
     "name": "stdout",
     "output_type": "stream",
     "text": [
      "MUTATION!\n"
     ]
    },
    {
     "name": "stderr",
     "output_type": "stream",
     "text": [
      "<ipython-input-25-99da4e5d8fd9>:160: UserWarning: p-value floored: true value smaller than 0.001\n",
      "  AD1S, AD2S, AD3S = stats.anderson_ksamp([MIN_DISTANCE_HOT_DEG,\n"
     ]
    },
    {
     "name": "stdout",
     "output_type": "stream",
     "text": [
      "Random 821 out of 1000\n"
     ]
    },
    {
     "name": "stderr",
     "output_type": "stream",
     "text": [
      "<ipython-input-25-99da4e5d8fd9>:160: UserWarning: p-value floored: true value smaller than 0.001\n",
      "  AD1S, AD2S, AD3S = stats.anderson_ksamp([MIN_DISTANCE_HOT_DEG,\n",
      "<ipython-input-25-99da4e5d8fd9>:160: UserWarning: p-value floored: true value smaller than 0.001\n",
      "  AD1S, AD2S, AD3S = stats.anderson_ksamp([MIN_DISTANCE_HOT_DEG,\n"
     ]
    },
    {
     "name": "stdout",
     "output_type": "stream",
     "text": [
      "Random 831 out of 1000\n"
     ]
    },
    {
     "name": "stderr",
     "output_type": "stream",
     "text": [
      "<ipython-input-25-99da4e5d8fd9>:160: UserWarning: p-value floored: true value smaller than 0.001\n",
      "  AD1S, AD2S, AD3S = stats.anderson_ksamp([MIN_DISTANCE_HOT_DEG,\n",
      "<ipython-input-25-99da4e5d8fd9>:160: UserWarning: p-value floored: true value smaller than 0.001\n",
      "  AD1S, AD2S, AD3S = stats.anderson_ksamp([MIN_DISTANCE_HOT_DEG,\n"
     ]
    },
    {
     "name": "stdout",
     "output_type": "stream",
     "text": [
      "Random 841 out of 1000\n"
     ]
    },
    {
     "name": "stderr",
     "output_type": "stream",
     "text": [
      "<ipython-input-25-99da4e5d8fd9>:160: UserWarning: p-value floored: true value smaller than 0.001\n",
      "  AD1S, AD2S, AD3S = stats.anderson_ksamp([MIN_DISTANCE_HOT_DEG,\n"
     ]
    },
    {
     "name": "stdout",
     "output_type": "stream",
     "text": [
      "Random 851 out of 1000\n"
     ]
    },
    {
     "name": "stderr",
     "output_type": "stream",
     "text": [
      "<ipython-input-25-99da4e5d8fd9>:160: UserWarning: p-value floored: true value smaller than 0.001\n",
      "  AD1S, AD2S, AD3S = stats.anderson_ksamp([MIN_DISTANCE_HOT_DEG,\n",
      "<ipython-input-25-99da4e5d8fd9>:160: UserWarning: p-value floored: true value smaller than 0.001\n",
      "  AD1S, AD2S, AD3S = stats.anderson_ksamp([MIN_DISTANCE_HOT_DEG,\n",
      "<ipython-input-25-99da4e5d8fd9>:160: UserWarning: p-value floored: true value smaller than 0.001\n",
      "  AD1S, AD2S, AD3S = stats.anderson_ksamp([MIN_DISTANCE_HOT_DEG,\n",
      "<ipython-input-25-99da4e5d8fd9>:160: UserWarning: p-value floored: true value smaller than 0.001\n",
      "  AD1S, AD2S, AD3S = stats.anderson_ksamp([MIN_DISTANCE_HOT_DEG,\n",
      "<ipython-input-25-99da4e5d8fd9>:160: UserWarning: p-value floored: true value smaller than 0.001\n",
      "  AD1S, AD2S, AD3S = stats.anderson_ksamp([MIN_DISTANCE_HOT_DEG,\n"
     ]
    },
    {
     "name": "stdout",
     "output_type": "stream",
     "text": [
      "Random 861 out of 1000\n"
     ]
    },
    {
     "name": "stderr",
     "output_type": "stream",
     "text": [
      "<ipython-input-25-99da4e5d8fd9>:160: UserWarning: p-value floored: true value smaller than 0.001\n",
      "  AD1S, AD2S, AD3S = stats.anderson_ksamp([MIN_DISTANCE_HOT_DEG,\n"
     ]
    },
    {
     "name": "stdout",
     "output_type": "stream",
     "text": [
      "Random 871 out of 1000\n"
     ]
    },
    {
     "name": "stderr",
     "output_type": "stream",
     "text": [
      "<ipython-input-25-99da4e5d8fd9>:160: UserWarning: p-value floored: true value smaller than 0.001\n",
      "  AD1S, AD2S, AD3S = stats.anderson_ksamp([MIN_DISTANCE_HOT_DEG,\n",
      "<ipython-input-25-99da4e5d8fd9>:160: UserWarning: p-value floored: true value smaller than 0.001\n",
      "  AD1S, AD2S, AD3S = stats.anderson_ksamp([MIN_DISTANCE_HOT_DEG,\n",
      "<ipython-input-25-99da4e5d8fd9>:160: UserWarning: p-value floored: true value smaller than 0.001\n",
      "  AD1S, AD2S, AD3S = stats.anderson_ksamp([MIN_DISTANCE_HOT_DEG,\n",
      "<ipython-input-25-99da4e5d8fd9>:160: UserWarning: p-value floored: true value smaller than 0.001\n",
      "  AD1S, AD2S, AD3S = stats.anderson_ksamp([MIN_DISTANCE_HOT_DEG,\n"
     ]
    },
    {
     "name": "stdout",
     "output_type": "stream",
     "text": [
      "Random 881 out of 1000\n"
     ]
    },
    {
     "name": "stderr",
     "output_type": "stream",
     "text": [
      "<ipython-input-25-99da4e5d8fd9>:160: UserWarning: p-value floored: true value smaller than 0.001\n",
      "  AD1S, AD2S, AD3S = stats.anderson_ksamp([MIN_DISTANCE_HOT_DEG,\n",
      "<ipython-input-25-99da4e5d8fd9>:160: UserWarning: p-value floored: true value smaller than 0.001\n",
      "  AD1S, AD2S, AD3S = stats.anderson_ksamp([MIN_DISTANCE_HOT_DEG,\n"
     ]
    },
    {
     "name": "stdout",
     "output_type": "stream",
     "text": [
      "Random 891 out of 1000\n"
     ]
    },
    {
     "name": "stderr",
     "output_type": "stream",
     "text": [
      "<ipython-input-25-99da4e5d8fd9>:160: UserWarning: p-value floored: true value smaller than 0.001\n",
      "  AD1S, AD2S, AD3S = stats.anderson_ksamp([MIN_DISTANCE_HOT_DEG,\n",
      "<ipython-input-25-99da4e5d8fd9>:160: UserWarning: p-value floored: true value smaller than 0.001\n",
      "  AD1S, AD2S, AD3S = stats.anderson_ksamp([MIN_DISTANCE_HOT_DEG,\n",
      "<ipython-input-25-99da4e5d8fd9>:160: UserWarning: p-value floored: true value smaller than 0.001\n",
      "  AD1S, AD2S, AD3S = stats.anderson_ksamp([MIN_DISTANCE_HOT_DEG,\n"
     ]
    },
    {
     "name": "stdout",
     "output_type": "stream",
     "text": [
      "Random 901 out of 1000\n"
     ]
    },
    {
     "name": "stderr",
     "output_type": "stream",
     "text": [
      "<ipython-input-25-99da4e5d8fd9>:160: UserWarning: p-value capped: true value larger than 0.25\n",
      "  AD1S, AD2S, AD3S = stats.anderson_ksamp([MIN_DISTANCE_HOT_DEG,\n"
     ]
    },
    {
     "name": "stdout",
     "output_type": "stream",
     "text": [
      "Random 911 out of 1000\n"
     ]
    },
    {
     "name": "stderr",
     "output_type": "stream",
     "text": [
      "<ipython-input-25-99da4e5d8fd9>:160: UserWarning: p-value capped: true value larger than 0.25\n",
      "  AD1S, AD2S, AD3S = stats.anderson_ksamp([MIN_DISTANCE_HOT_DEG,\n",
      "<ipython-input-25-99da4e5d8fd9>:160: UserWarning: p-value floored: true value smaller than 0.001\n",
      "  AD1S, AD2S, AD3S = stats.anderson_ksamp([MIN_DISTANCE_HOT_DEG,\n",
      "<ipython-input-25-99da4e5d8fd9>:160: UserWarning: p-value floored: true value smaller than 0.001\n",
      "  AD1S, AD2S, AD3S = stats.anderson_ksamp([MIN_DISTANCE_HOT_DEG,\n",
      "<ipython-input-25-99da4e5d8fd9>:160: UserWarning: p-value floored: true value smaller than 0.001\n",
      "  AD1S, AD2S, AD3S = stats.anderson_ksamp([MIN_DISTANCE_HOT_DEG,\n"
     ]
    },
    {
     "name": "stdout",
     "output_type": "stream",
     "text": [
      "Random 921 out of 1000\n"
     ]
    },
    {
     "name": "stderr",
     "output_type": "stream",
     "text": [
      "<ipython-input-25-99da4e5d8fd9>:160: UserWarning: p-value capped: true value larger than 0.25\n",
      "  AD1S, AD2S, AD3S = stats.anderson_ksamp([MIN_DISTANCE_HOT_DEG,\n",
      "<ipython-input-25-99da4e5d8fd9>:160: UserWarning: p-value floored: true value smaller than 0.001\n",
      "  AD1S, AD2S, AD3S = stats.anderson_ksamp([MIN_DISTANCE_HOT_DEG,\n"
     ]
    },
    {
     "name": "stdout",
     "output_type": "stream",
     "text": [
      "Random 931 out of 1000\n"
     ]
    },
    {
     "name": "stderr",
     "output_type": "stream",
     "text": [
      "<ipython-input-25-99da4e5d8fd9>:160: UserWarning: p-value floored: true value smaller than 0.001\n",
      "  AD1S, AD2S, AD3S = stats.anderson_ksamp([MIN_DISTANCE_HOT_DEG,\n",
      "<ipython-input-25-99da4e5d8fd9>:160: UserWarning: p-value floored: true value smaller than 0.001\n",
      "  AD1S, AD2S, AD3S = stats.anderson_ksamp([MIN_DISTANCE_HOT_DEG,\n",
      "<ipython-input-25-99da4e5d8fd9>:160: UserWarning: p-value floored: true value smaller than 0.001\n",
      "  AD1S, AD2S, AD3S = stats.anderson_ksamp([MIN_DISTANCE_HOT_DEG,\n",
      "<ipython-input-25-99da4e5d8fd9>:160: UserWarning: p-value capped: true value larger than 0.25\n",
      "  AD1S, AD2S, AD3S = stats.anderson_ksamp([MIN_DISTANCE_HOT_DEG,\n"
     ]
    },
    {
     "name": "stdout",
     "output_type": "stream",
     "text": [
      "Random 941 out of 1000\n"
     ]
    },
    {
     "name": "stderr",
     "output_type": "stream",
     "text": [
      "<ipython-input-25-99da4e5d8fd9>:160: UserWarning: p-value floored: true value smaller than 0.001\n",
      "  AD1S, AD2S, AD3S = stats.anderson_ksamp([MIN_DISTANCE_HOT_DEG,\n",
      "<ipython-input-25-99da4e5d8fd9>:160: UserWarning: p-value floored: true value smaller than 0.001\n",
      "  AD1S, AD2S, AD3S = stats.anderson_ksamp([MIN_DISTANCE_HOT_DEG,\n",
      "<ipython-input-25-99da4e5d8fd9>:160: UserWarning: p-value floored: true value smaller than 0.001\n",
      "  AD1S, AD2S, AD3S = stats.anderson_ksamp([MIN_DISTANCE_HOT_DEG,\n"
     ]
    },
    {
     "name": "stdout",
     "output_type": "stream",
     "text": [
      "Random 951 out of 1000\n"
     ]
    },
    {
     "name": "stderr",
     "output_type": "stream",
     "text": [
      "<ipython-input-25-99da4e5d8fd9>:160: UserWarning: p-value floored: true value smaller than 0.001\n",
      "  AD1S, AD2S, AD3S = stats.anderson_ksamp([MIN_DISTANCE_HOT_DEG,\n"
     ]
    },
    {
     "name": "stdout",
     "output_type": "stream",
     "text": [
      "Random 961 out of 1000\n"
     ]
    },
    {
     "name": "stderr",
     "output_type": "stream",
     "text": [
      "<ipython-input-25-99da4e5d8fd9>:160: UserWarning: p-value floored: true value smaller than 0.001\n",
      "  AD1S, AD2S, AD3S = stats.anderson_ksamp([MIN_DISTANCE_HOT_DEG,\n",
      "<ipython-input-25-99da4e5d8fd9>:160: UserWarning: p-value floored: true value smaller than 0.001\n",
      "  AD1S, AD2S, AD3S = stats.anderson_ksamp([MIN_DISTANCE_HOT_DEG,\n",
      "<ipython-input-25-99da4e5d8fd9>:160: UserWarning: p-value floored: true value smaller than 0.001\n",
      "  AD1S, AD2S, AD3S = stats.anderson_ksamp([MIN_DISTANCE_HOT_DEG,\n"
     ]
    },
    {
     "name": "stdout",
     "output_type": "stream",
     "text": [
      "Random 971 out of 1000\n"
     ]
    },
    {
     "name": "stderr",
     "output_type": "stream",
     "text": [
      "<ipython-input-25-99da4e5d8fd9>:160: UserWarning: p-value floored: true value smaller than 0.001\n",
      "  AD1S, AD2S, AD3S = stats.anderson_ksamp([MIN_DISTANCE_HOT_DEG,\n",
      "<ipython-input-25-99da4e5d8fd9>:160: UserWarning: p-value floored: true value smaller than 0.001\n",
      "  AD1S, AD2S, AD3S = stats.anderson_ksamp([MIN_DISTANCE_HOT_DEG,\n",
      "<ipython-input-25-99da4e5d8fd9>:160: UserWarning: p-value floored: true value smaller than 0.001\n",
      "  AD1S, AD2S, AD3S = stats.anderson_ksamp([MIN_DISTANCE_HOT_DEG,\n"
     ]
    },
    {
     "name": "stdout",
     "output_type": "stream",
     "text": [
      "Random 981 out of 1000\n"
     ]
    },
    {
     "name": "stderr",
     "output_type": "stream",
     "text": [
      "<ipython-input-25-99da4e5d8fd9>:160: UserWarning: p-value floored: true value smaller than 0.001\n",
      "  AD1S, AD2S, AD3S = stats.anderson_ksamp([MIN_DISTANCE_HOT_DEG,\n",
      "<ipython-input-25-99da4e5d8fd9>:160: UserWarning: p-value floored: true value smaller than 0.001\n",
      "  AD1S, AD2S, AD3S = stats.anderson_ksamp([MIN_DISTANCE_HOT_DEG,\n"
     ]
    },
    {
     "name": "stdout",
     "output_type": "stream",
     "text": [
      "Random 991 out of 1000\n",
      "MUTATION!\n"
     ]
    },
    {
     "name": "stderr",
     "output_type": "stream",
     "text": [
      "<ipython-input-25-99da4e5d8fd9>:160: UserWarning: p-value capped: true value larger than 0.25\n",
      "  AD1S, AD2S, AD3S = stats.anderson_ksamp([MIN_DISTANCE_HOT_DEG,\n"
     ]
    },
    {
     "name": "stdout",
     "output_type": "stream",
     "text": [
      "0.834 0.983  are ADFS_conf and ADFS_conf_0_25\n",
      "n=19\n",
      "180 Ma\n",
      "1.8697375199379411 is the mean of the sample\n",
      "50.0 % of the points are on Hot Structures\n",
      "34\n",
      "Random 1 out of 1000\n"
     ]
    },
    {
     "name": "stderr",
     "output_type": "stream",
     "text": [
      "<ipython-input-25-99da4e5d8fd9>:160: UserWarning: p-value floored: true value smaller than 0.001\n",
      "  AD1S, AD2S, AD3S = stats.anderson_ksamp([MIN_DISTANCE_HOT_DEG,\n",
      "<ipython-input-25-99da4e5d8fd9>:160: UserWarning: p-value floored: true value smaller than 0.001\n",
      "  AD1S, AD2S, AD3S = stats.anderson_ksamp([MIN_DISTANCE_HOT_DEG,\n",
      "<ipython-input-25-99da4e5d8fd9>:160: UserWarning: p-value floored: true value smaller than 0.001\n",
      "  AD1S, AD2S, AD3S = stats.anderson_ksamp([MIN_DISTANCE_HOT_DEG,\n",
      "<ipython-input-25-99da4e5d8fd9>:160: UserWarning: p-value floored: true value smaller than 0.001\n",
      "  AD1S, AD2S, AD3S = stats.anderson_ksamp([MIN_DISTANCE_HOT_DEG,\n",
      "<ipython-input-25-99da4e5d8fd9>:160: UserWarning: p-value floored: true value smaller than 0.001\n",
      "  AD1S, AD2S, AD3S = stats.anderson_ksamp([MIN_DISTANCE_HOT_DEG,\n",
      "<ipython-input-25-99da4e5d8fd9>:160: UserWarning: p-value floored: true value smaller than 0.001\n",
      "  AD1S, AD2S, AD3S = stats.anderson_ksamp([MIN_DISTANCE_HOT_DEG,\n",
      "<ipython-input-25-99da4e5d8fd9>:160: UserWarning: p-value floored: true value smaller than 0.001\n",
      "  AD1S, AD2S, AD3S = stats.anderson_ksamp([MIN_DISTANCE_HOT_DEG,\n"
     ]
    },
    {
     "name": "stdout",
     "output_type": "stream",
     "text": [
      "Random 11 out of 1000\n"
     ]
    },
    {
     "name": "stderr",
     "output_type": "stream",
     "text": [
      "<ipython-input-25-99da4e5d8fd9>:160: UserWarning: p-value floored: true value smaller than 0.001\n",
      "  AD1S, AD2S, AD3S = stats.anderson_ksamp([MIN_DISTANCE_HOT_DEG,\n",
      "<ipython-input-25-99da4e5d8fd9>:160: UserWarning: p-value floored: true value smaller than 0.001\n",
      "  AD1S, AD2S, AD3S = stats.anderson_ksamp([MIN_DISTANCE_HOT_DEG,\n",
      "<ipython-input-25-99da4e5d8fd9>:160: UserWarning: p-value floored: true value smaller than 0.001\n",
      "  AD1S, AD2S, AD3S = stats.anderson_ksamp([MIN_DISTANCE_HOT_DEG,\n",
      "<ipython-input-25-99da4e5d8fd9>:160: UserWarning: p-value floored: true value smaller than 0.001\n",
      "  AD1S, AD2S, AD3S = stats.anderson_ksamp([MIN_DISTANCE_HOT_DEG,\n"
     ]
    },
    {
     "name": "stdout",
     "output_type": "stream",
     "text": [
      "Random 21 out of 1000\n"
     ]
    },
    {
     "name": "stderr",
     "output_type": "stream",
     "text": [
      "<ipython-input-25-99da4e5d8fd9>:160: UserWarning: p-value floored: true value smaller than 0.001\n",
      "  AD1S, AD2S, AD3S = stats.anderson_ksamp([MIN_DISTANCE_HOT_DEG,\n",
      "<ipython-input-25-99da4e5d8fd9>:160: UserWarning: p-value floored: true value smaller than 0.001\n",
      "  AD1S, AD2S, AD3S = stats.anderson_ksamp([MIN_DISTANCE_HOT_DEG,\n",
      "<ipython-input-25-99da4e5d8fd9>:160: UserWarning: p-value floored: true value smaller than 0.001\n",
      "  AD1S, AD2S, AD3S = stats.anderson_ksamp([MIN_DISTANCE_HOT_DEG,\n",
      "<ipython-input-25-99da4e5d8fd9>:160: UserWarning: p-value floored: true value smaller than 0.001\n",
      "  AD1S, AD2S, AD3S = stats.anderson_ksamp([MIN_DISTANCE_HOT_DEG,\n",
      "<ipython-input-25-99da4e5d8fd9>:160: UserWarning: p-value floored: true value smaller than 0.001\n",
      "  AD1S, AD2S, AD3S = stats.anderson_ksamp([MIN_DISTANCE_HOT_DEG,\n",
      "<ipython-input-25-99da4e5d8fd9>:160: UserWarning: p-value floored: true value smaller than 0.001\n",
      "  AD1S, AD2S, AD3S = stats.anderson_ksamp([MIN_DISTANCE_HOT_DEG,\n",
      "<ipython-input-25-99da4e5d8fd9>:160: UserWarning: p-value floored: true value smaller than 0.001\n",
      "  AD1S, AD2S, AD3S = stats.anderson_ksamp([MIN_DISTANCE_HOT_DEG,\n"
     ]
    },
    {
     "name": "stdout",
     "output_type": "stream",
     "text": [
      "Random 31 out of 1000\n"
     ]
    },
    {
     "name": "stderr",
     "output_type": "stream",
     "text": [
      "<ipython-input-25-99da4e5d8fd9>:160: UserWarning: p-value floored: true value smaller than 0.001\n",
      "  AD1S, AD2S, AD3S = stats.anderson_ksamp([MIN_DISTANCE_HOT_DEG,\n",
      "<ipython-input-25-99da4e5d8fd9>:160: UserWarning: p-value floored: true value smaller than 0.001\n",
      "  AD1S, AD2S, AD3S = stats.anderson_ksamp([MIN_DISTANCE_HOT_DEG,\n",
      "<ipython-input-25-99da4e5d8fd9>:160: UserWarning: p-value floored: true value smaller than 0.001\n",
      "  AD1S, AD2S, AD3S = stats.anderson_ksamp([MIN_DISTANCE_HOT_DEG,\n",
      "<ipython-input-25-99da4e5d8fd9>:160: UserWarning: p-value floored: true value smaller than 0.001\n",
      "  AD1S, AD2S, AD3S = stats.anderson_ksamp([MIN_DISTANCE_HOT_DEG,\n",
      "<ipython-input-25-99da4e5d8fd9>:160: UserWarning: p-value floored: true value smaller than 0.001\n",
      "  AD1S, AD2S, AD3S = stats.anderson_ksamp([MIN_DISTANCE_HOT_DEG,\n",
      "<ipython-input-25-99da4e5d8fd9>:160: UserWarning: p-value floored: true value smaller than 0.001\n",
      "  AD1S, AD2S, AD3S = stats.anderson_ksamp([MIN_DISTANCE_HOT_DEG,\n"
     ]
    },
    {
     "name": "stdout",
     "output_type": "stream",
     "text": [
      "Random 41 out of 1000\n"
     ]
    },
    {
     "name": "stderr",
     "output_type": "stream",
     "text": [
      "<ipython-input-25-99da4e5d8fd9>:160: UserWarning: p-value floored: true value smaller than 0.001\n",
      "  AD1S, AD2S, AD3S = stats.anderson_ksamp([MIN_DISTANCE_HOT_DEG,\n",
      "<ipython-input-25-99da4e5d8fd9>:160: UserWarning: p-value floored: true value smaller than 0.001\n",
      "  AD1S, AD2S, AD3S = stats.anderson_ksamp([MIN_DISTANCE_HOT_DEG,\n",
      "<ipython-input-25-99da4e5d8fd9>:160: UserWarning: p-value floored: true value smaller than 0.001\n",
      "  AD1S, AD2S, AD3S = stats.anderson_ksamp([MIN_DISTANCE_HOT_DEG,\n",
      "<ipython-input-25-99da4e5d8fd9>:160: UserWarning: p-value floored: true value smaller than 0.001\n",
      "  AD1S, AD2S, AD3S = stats.anderson_ksamp([MIN_DISTANCE_HOT_DEG,\n",
      "<ipython-input-25-99da4e5d8fd9>:160: UserWarning: p-value floored: true value smaller than 0.001\n",
      "  AD1S, AD2S, AD3S = stats.anderson_ksamp([MIN_DISTANCE_HOT_DEG,\n",
      "<ipython-input-25-99da4e5d8fd9>:160: UserWarning: p-value floored: true value smaller than 0.001\n",
      "  AD1S, AD2S, AD3S = stats.anderson_ksamp([MIN_DISTANCE_HOT_DEG,\n"
     ]
    },
    {
     "name": "stdout",
     "output_type": "stream",
     "text": [
      "Random 51 out of 1000\n"
     ]
    },
    {
     "name": "stderr",
     "output_type": "stream",
     "text": [
      "<ipython-input-25-99da4e5d8fd9>:160: UserWarning: p-value floored: true value smaller than 0.001\n",
      "  AD1S, AD2S, AD3S = stats.anderson_ksamp([MIN_DISTANCE_HOT_DEG,\n",
      "<ipython-input-25-99da4e5d8fd9>:160: UserWarning: p-value floored: true value smaller than 0.001\n",
      "  AD1S, AD2S, AD3S = stats.anderson_ksamp([MIN_DISTANCE_HOT_DEG,\n",
      "<ipython-input-25-99da4e5d8fd9>:160: UserWarning: p-value floored: true value smaller than 0.001\n",
      "  AD1S, AD2S, AD3S = stats.anderson_ksamp([MIN_DISTANCE_HOT_DEG,\n",
      "<ipython-input-25-99da4e5d8fd9>:160: UserWarning: p-value floored: true value smaller than 0.001\n",
      "  AD1S, AD2S, AD3S = stats.anderson_ksamp([MIN_DISTANCE_HOT_DEG,\n",
      "<ipython-input-25-99da4e5d8fd9>:160: UserWarning: p-value floored: true value smaller than 0.001\n",
      "  AD1S, AD2S, AD3S = stats.anderson_ksamp([MIN_DISTANCE_HOT_DEG,\n",
      "<ipython-input-25-99da4e5d8fd9>:160: UserWarning: p-value floored: true value smaller than 0.001\n",
      "  AD1S, AD2S, AD3S = stats.anderson_ksamp([MIN_DISTANCE_HOT_DEG,\n",
      "<ipython-input-25-99da4e5d8fd9>:160: UserWarning: p-value floored: true value smaller than 0.001\n",
      "  AD1S, AD2S, AD3S = stats.anderson_ksamp([MIN_DISTANCE_HOT_DEG,\n"
     ]
    },
    {
     "name": "stdout",
     "output_type": "stream",
     "text": [
      "Random 61 out of 1000\n"
     ]
    },
    {
     "name": "stderr",
     "output_type": "stream",
     "text": [
      "<ipython-input-25-99da4e5d8fd9>:160: UserWarning: p-value floored: true value smaller than 0.001\n",
      "  AD1S, AD2S, AD3S = stats.anderson_ksamp([MIN_DISTANCE_HOT_DEG,\n",
      "<ipython-input-25-99da4e5d8fd9>:160: UserWarning: p-value floored: true value smaller than 0.001\n",
      "  AD1S, AD2S, AD3S = stats.anderson_ksamp([MIN_DISTANCE_HOT_DEG,\n",
      "<ipython-input-25-99da4e5d8fd9>:160: UserWarning: p-value floored: true value smaller than 0.001\n",
      "  AD1S, AD2S, AD3S = stats.anderson_ksamp([MIN_DISTANCE_HOT_DEG,\n",
      "<ipython-input-25-99da4e5d8fd9>:160: UserWarning: p-value floored: true value smaller than 0.001\n",
      "  AD1S, AD2S, AD3S = stats.anderson_ksamp([MIN_DISTANCE_HOT_DEG,\n",
      "<ipython-input-25-99da4e5d8fd9>:160: UserWarning: p-value floored: true value smaller than 0.001\n",
      "  AD1S, AD2S, AD3S = stats.anderson_ksamp([MIN_DISTANCE_HOT_DEG,\n"
     ]
    },
    {
     "name": "stdout",
     "output_type": "stream",
     "text": [
      "Random 71 out of 1000\n"
     ]
    },
    {
     "name": "stderr",
     "output_type": "stream",
     "text": [
      "<ipython-input-25-99da4e5d8fd9>:160: UserWarning: p-value floored: true value smaller than 0.001\n",
      "  AD1S, AD2S, AD3S = stats.anderson_ksamp([MIN_DISTANCE_HOT_DEG,\n",
      "<ipython-input-25-99da4e5d8fd9>:160: UserWarning: p-value floored: true value smaller than 0.001\n",
      "  AD1S, AD2S, AD3S = stats.anderson_ksamp([MIN_DISTANCE_HOT_DEG,\n",
      "<ipython-input-25-99da4e5d8fd9>:160: UserWarning: p-value floored: true value smaller than 0.001\n",
      "  AD1S, AD2S, AD3S = stats.anderson_ksamp([MIN_DISTANCE_HOT_DEG,\n",
      "<ipython-input-25-99da4e5d8fd9>:160: UserWarning: p-value floored: true value smaller than 0.001\n",
      "  AD1S, AD2S, AD3S = stats.anderson_ksamp([MIN_DISTANCE_HOT_DEG,\n",
      "<ipython-input-25-99da4e5d8fd9>:160: UserWarning: p-value floored: true value smaller than 0.001\n",
      "  AD1S, AD2S, AD3S = stats.anderson_ksamp([MIN_DISTANCE_HOT_DEG,\n",
      "<ipython-input-25-99da4e5d8fd9>:160: UserWarning: p-value floored: true value smaller than 0.001\n",
      "  AD1S, AD2S, AD3S = stats.anderson_ksamp([MIN_DISTANCE_HOT_DEG,\n"
     ]
    },
    {
     "name": "stdout",
     "output_type": "stream",
     "text": [
      "Random 81 out of 1000\n"
     ]
    },
    {
     "name": "stderr",
     "output_type": "stream",
     "text": [
      "<ipython-input-25-99da4e5d8fd9>:160: UserWarning: p-value floored: true value smaller than 0.001\n",
      "  AD1S, AD2S, AD3S = stats.anderson_ksamp([MIN_DISTANCE_HOT_DEG,\n",
      "<ipython-input-25-99da4e5d8fd9>:160: UserWarning: p-value floored: true value smaller than 0.001\n",
      "  AD1S, AD2S, AD3S = stats.anderson_ksamp([MIN_DISTANCE_HOT_DEG,\n",
      "<ipython-input-25-99da4e5d8fd9>:160: UserWarning: p-value floored: true value smaller than 0.001\n",
      "  AD1S, AD2S, AD3S = stats.anderson_ksamp([MIN_DISTANCE_HOT_DEG,\n",
      "<ipython-input-25-99da4e5d8fd9>:160: UserWarning: p-value floored: true value smaller than 0.001\n",
      "  AD1S, AD2S, AD3S = stats.anderson_ksamp([MIN_DISTANCE_HOT_DEG,\n",
      "<ipython-input-25-99da4e5d8fd9>:160: UserWarning: p-value floored: true value smaller than 0.001\n",
      "  AD1S, AD2S, AD3S = stats.anderson_ksamp([MIN_DISTANCE_HOT_DEG,\n",
      "<ipython-input-25-99da4e5d8fd9>:160: UserWarning: p-value floored: true value smaller than 0.001\n",
      "  AD1S, AD2S, AD3S = stats.anderson_ksamp([MIN_DISTANCE_HOT_DEG,\n"
     ]
    },
    {
     "name": "stdout",
     "output_type": "stream",
     "text": [
      "Random 91 out of 1000\n"
     ]
    },
    {
     "name": "stderr",
     "output_type": "stream",
     "text": [
      "<ipython-input-25-99da4e5d8fd9>:160: UserWarning: p-value floored: true value smaller than 0.001\n",
      "  AD1S, AD2S, AD3S = stats.anderson_ksamp([MIN_DISTANCE_HOT_DEG,\n",
      "<ipython-input-25-99da4e5d8fd9>:160: UserWarning: p-value floored: true value smaller than 0.001\n",
      "  AD1S, AD2S, AD3S = stats.anderson_ksamp([MIN_DISTANCE_HOT_DEG,\n",
      "<ipython-input-25-99da4e5d8fd9>:160: UserWarning: p-value floored: true value smaller than 0.001\n",
      "  AD1S, AD2S, AD3S = stats.anderson_ksamp([MIN_DISTANCE_HOT_DEG,\n",
      "<ipython-input-25-99da4e5d8fd9>:160: UserWarning: p-value floored: true value smaller than 0.001\n",
      "  AD1S, AD2S, AD3S = stats.anderson_ksamp([MIN_DISTANCE_HOT_DEG,\n",
      "<ipython-input-25-99da4e5d8fd9>:160: UserWarning: p-value floored: true value smaller than 0.001\n",
      "  AD1S, AD2S, AD3S = stats.anderson_ksamp([MIN_DISTANCE_HOT_DEG,\n",
      "<ipython-input-25-99da4e5d8fd9>:160: UserWarning: p-value floored: true value smaller than 0.001\n",
      "  AD1S, AD2S, AD3S = stats.anderson_ksamp([MIN_DISTANCE_HOT_DEG,\n",
      "<ipython-input-25-99da4e5d8fd9>:160: UserWarning: p-value floored: true value smaller than 0.001\n",
      "  AD1S, AD2S, AD3S = stats.anderson_ksamp([MIN_DISTANCE_HOT_DEG,\n"
     ]
    },
    {
     "name": "stdout",
     "output_type": "stream",
     "text": [
      "Random 101 out of 1000\n"
     ]
    },
    {
     "name": "stderr",
     "output_type": "stream",
     "text": [
      "<ipython-input-25-99da4e5d8fd9>:160: UserWarning: p-value floored: true value smaller than 0.001\n",
      "  AD1S, AD2S, AD3S = stats.anderson_ksamp([MIN_DISTANCE_HOT_DEG,\n",
      "<ipython-input-25-99da4e5d8fd9>:160: UserWarning: p-value floored: true value smaller than 0.001\n",
      "  AD1S, AD2S, AD3S = stats.anderson_ksamp([MIN_DISTANCE_HOT_DEG,\n",
      "<ipython-input-25-99da4e5d8fd9>:160: UserWarning: p-value floored: true value smaller than 0.001\n",
      "  AD1S, AD2S, AD3S = stats.anderson_ksamp([MIN_DISTANCE_HOT_DEG,\n",
      "<ipython-input-25-99da4e5d8fd9>:160: UserWarning: p-value floored: true value smaller than 0.001\n",
      "  AD1S, AD2S, AD3S = stats.anderson_ksamp([MIN_DISTANCE_HOT_DEG,\n",
      "<ipython-input-25-99da4e5d8fd9>:160: UserWarning: p-value floored: true value smaller than 0.001\n",
      "  AD1S, AD2S, AD3S = stats.anderson_ksamp([MIN_DISTANCE_HOT_DEG,\n",
      "<ipython-input-25-99da4e5d8fd9>:160: UserWarning: p-value floored: true value smaller than 0.001\n",
      "  AD1S, AD2S, AD3S = stats.anderson_ksamp([MIN_DISTANCE_HOT_DEG,\n",
      "<ipython-input-25-99da4e5d8fd9>:160: UserWarning: p-value floored: true value smaller than 0.001\n",
      "  AD1S, AD2S, AD3S = stats.anderson_ksamp([MIN_DISTANCE_HOT_DEG,\n"
     ]
    },
    {
     "name": "stdout",
     "output_type": "stream",
     "text": [
      "Random 111 out of 1000\n"
     ]
    },
    {
     "name": "stderr",
     "output_type": "stream",
     "text": [
      "<ipython-input-25-99da4e5d8fd9>:160: UserWarning: p-value floored: true value smaller than 0.001\n",
      "  AD1S, AD2S, AD3S = stats.anderson_ksamp([MIN_DISTANCE_HOT_DEG,\n",
      "<ipython-input-25-99da4e5d8fd9>:160: UserWarning: p-value floored: true value smaller than 0.001\n",
      "  AD1S, AD2S, AD3S = stats.anderson_ksamp([MIN_DISTANCE_HOT_DEG,\n",
      "<ipython-input-25-99da4e5d8fd9>:160: UserWarning: p-value floored: true value smaller than 0.001\n",
      "  AD1S, AD2S, AD3S = stats.anderson_ksamp([MIN_DISTANCE_HOT_DEG,\n",
      "<ipython-input-25-99da4e5d8fd9>:160: UserWarning: p-value floored: true value smaller than 0.001\n",
      "  AD1S, AD2S, AD3S = stats.anderson_ksamp([MIN_DISTANCE_HOT_DEG,\n",
      "<ipython-input-25-99da4e5d8fd9>:160: UserWarning: p-value floored: true value smaller than 0.001\n",
      "  AD1S, AD2S, AD3S = stats.anderson_ksamp([MIN_DISTANCE_HOT_DEG,\n",
      "<ipython-input-25-99da4e5d8fd9>:160: UserWarning: p-value floored: true value smaller than 0.001\n",
      "  AD1S, AD2S, AD3S = stats.anderson_ksamp([MIN_DISTANCE_HOT_DEG,\n",
      "<ipython-input-25-99da4e5d8fd9>:160: UserWarning: p-value floored: true value smaller than 0.001\n",
      "  AD1S, AD2S, AD3S = stats.anderson_ksamp([MIN_DISTANCE_HOT_DEG,\n",
      "<ipython-input-25-99da4e5d8fd9>:160: UserWarning: p-value floored: true value smaller than 0.001\n",
      "  AD1S, AD2S, AD3S = stats.anderson_ksamp([MIN_DISTANCE_HOT_DEG,\n"
     ]
    },
    {
     "name": "stdout",
     "output_type": "stream",
     "text": [
      "Random 121 out of 1000\n"
     ]
    },
    {
     "name": "stderr",
     "output_type": "stream",
     "text": [
      "<ipython-input-25-99da4e5d8fd9>:160: UserWarning: p-value floored: true value smaller than 0.001\n",
      "  AD1S, AD2S, AD3S = stats.anderson_ksamp([MIN_DISTANCE_HOT_DEG,\n",
      "<ipython-input-25-99da4e5d8fd9>:160: UserWarning: p-value floored: true value smaller than 0.001\n",
      "  AD1S, AD2S, AD3S = stats.anderson_ksamp([MIN_DISTANCE_HOT_DEG,\n",
      "<ipython-input-25-99da4e5d8fd9>:160: UserWarning: p-value floored: true value smaller than 0.001\n",
      "  AD1S, AD2S, AD3S = stats.anderson_ksamp([MIN_DISTANCE_HOT_DEG,\n",
      "<ipython-input-25-99da4e5d8fd9>:160: UserWarning: p-value floored: true value smaller than 0.001\n",
      "  AD1S, AD2S, AD3S = stats.anderson_ksamp([MIN_DISTANCE_HOT_DEG,\n",
      "<ipython-input-25-99da4e5d8fd9>:160: UserWarning: p-value floored: true value smaller than 0.001\n",
      "  AD1S, AD2S, AD3S = stats.anderson_ksamp([MIN_DISTANCE_HOT_DEG,\n",
      "<ipython-input-25-99da4e5d8fd9>:160: UserWarning: p-value floored: true value smaller than 0.001\n",
      "  AD1S, AD2S, AD3S = stats.anderson_ksamp([MIN_DISTANCE_HOT_DEG,\n",
      "<ipython-input-25-99da4e5d8fd9>:160: UserWarning: p-value floored: true value smaller than 0.001\n",
      "  AD1S, AD2S, AD3S = stats.anderson_ksamp([MIN_DISTANCE_HOT_DEG,\n",
      "<ipython-input-25-99da4e5d8fd9>:160: UserWarning: p-value floored: true value smaller than 0.001\n",
      "  AD1S, AD2S, AD3S = stats.anderson_ksamp([MIN_DISTANCE_HOT_DEG,\n"
     ]
    },
    {
     "name": "stdout",
     "output_type": "stream",
     "text": [
      "Random 131 out of 1000\n"
     ]
    },
    {
     "name": "stderr",
     "output_type": "stream",
     "text": [
      "<ipython-input-25-99da4e5d8fd9>:160: UserWarning: p-value floored: true value smaller than 0.001\n",
      "  AD1S, AD2S, AD3S = stats.anderson_ksamp([MIN_DISTANCE_HOT_DEG,\n",
      "<ipython-input-25-99da4e5d8fd9>:160: UserWarning: p-value floored: true value smaller than 0.001\n",
      "  AD1S, AD2S, AD3S = stats.anderson_ksamp([MIN_DISTANCE_HOT_DEG,\n",
      "<ipython-input-25-99da4e5d8fd9>:160: UserWarning: p-value floored: true value smaller than 0.001\n",
      "  AD1S, AD2S, AD3S = stats.anderson_ksamp([MIN_DISTANCE_HOT_DEG,\n",
      "<ipython-input-25-99da4e5d8fd9>:160: UserWarning: p-value floored: true value smaller than 0.001\n",
      "  AD1S, AD2S, AD3S = stats.anderson_ksamp([MIN_DISTANCE_HOT_DEG,\n",
      "<ipython-input-25-99da4e5d8fd9>:160: UserWarning: p-value floored: true value smaller than 0.001\n",
      "  AD1S, AD2S, AD3S = stats.anderson_ksamp([MIN_DISTANCE_HOT_DEG,\n",
      "<ipython-input-25-99da4e5d8fd9>:160: UserWarning: p-value floored: true value smaller than 0.001\n",
      "  AD1S, AD2S, AD3S = stats.anderson_ksamp([MIN_DISTANCE_HOT_DEG,\n",
      "<ipython-input-25-99da4e5d8fd9>:160: UserWarning: p-value floored: true value smaller than 0.001\n",
      "  AD1S, AD2S, AD3S = stats.anderson_ksamp([MIN_DISTANCE_HOT_DEG,\n"
     ]
    },
    {
     "name": "stdout",
     "output_type": "stream",
     "text": [
      "Random 141 out of 1000\n"
     ]
    },
    {
     "name": "stderr",
     "output_type": "stream",
     "text": [
      "<ipython-input-25-99da4e5d8fd9>:160: UserWarning: p-value floored: true value smaller than 0.001\n",
      "  AD1S, AD2S, AD3S = stats.anderson_ksamp([MIN_DISTANCE_HOT_DEG,\n",
      "<ipython-input-25-99da4e5d8fd9>:160: UserWarning: p-value floored: true value smaller than 0.001\n",
      "  AD1S, AD2S, AD3S = stats.anderson_ksamp([MIN_DISTANCE_HOT_DEG,\n",
      "<ipython-input-25-99da4e5d8fd9>:160: UserWarning: p-value floored: true value smaller than 0.001\n",
      "  AD1S, AD2S, AD3S = stats.anderson_ksamp([MIN_DISTANCE_HOT_DEG,\n",
      "<ipython-input-25-99da4e5d8fd9>:160: UserWarning: p-value floored: true value smaller than 0.001\n",
      "  AD1S, AD2S, AD3S = stats.anderson_ksamp([MIN_DISTANCE_HOT_DEG,\n",
      "<ipython-input-25-99da4e5d8fd9>:160: UserWarning: p-value floored: true value smaller than 0.001\n",
      "  AD1S, AD2S, AD3S = stats.anderson_ksamp([MIN_DISTANCE_HOT_DEG,\n",
      "<ipython-input-25-99da4e5d8fd9>:160: UserWarning: p-value floored: true value smaller than 0.001\n",
      "  AD1S, AD2S, AD3S = stats.anderson_ksamp([MIN_DISTANCE_HOT_DEG,\n"
     ]
    },
    {
     "name": "stdout",
     "output_type": "stream",
     "text": [
      "Random 151 out of 1000\n"
     ]
    },
    {
     "name": "stderr",
     "output_type": "stream",
     "text": [
      "<ipython-input-25-99da4e5d8fd9>:160: UserWarning: p-value floored: true value smaller than 0.001\n",
      "  AD1S, AD2S, AD3S = stats.anderson_ksamp([MIN_DISTANCE_HOT_DEG,\n",
      "<ipython-input-25-99da4e5d8fd9>:160: UserWarning: p-value floored: true value smaller than 0.001\n",
      "  AD1S, AD2S, AD3S = stats.anderson_ksamp([MIN_DISTANCE_HOT_DEG,\n",
      "<ipython-input-25-99da4e5d8fd9>:160: UserWarning: p-value floored: true value smaller than 0.001\n",
      "  AD1S, AD2S, AD3S = stats.anderson_ksamp([MIN_DISTANCE_HOT_DEG,\n",
      "<ipython-input-25-99da4e5d8fd9>:160: UserWarning: p-value floored: true value smaller than 0.001\n",
      "  AD1S, AD2S, AD3S = stats.anderson_ksamp([MIN_DISTANCE_HOT_DEG,\n",
      "<ipython-input-25-99da4e5d8fd9>:160: UserWarning: p-value floored: true value smaller than 0.001\n",
      "  AD1S, AD2S, AD3S = stats.anderson_ksamp([MIN_DISTANCE_HOT_DEG,\n",
      "<ipython-input-25-99da4e5d8fd9>:160: UserWarning: p-value floored: true value smaller than 0.001\n",
      "  AD1S, AD2S, AD3S = stats.anderson_ksamp([MIN_DISTANCE_HOT_DEG,\n",
      "<ipython-input-25-99da4e5d8fd9>:160: UserWarning: p-value floored: true value smaller than 0.001\n",
      "  AD1S, AD2S, AD3S = stats.anderson_ksamp([MIN_DISTANCE_HOT_DEG,\n",
      "<ipython-input-25-99da4e5d8fd9>:160: UserWarning: p-value floored: true value smaller than 0.001\n",
      "  AD1S, AD2S, AD3S = stats.anderson_ksamp([MIN_DISTANCE_HOT_DEG,\n"
     ]
    },
    {
     "name": "stdout",
     "output_type": "stream",
     "text": [
      "Random 161 out of 1000\n"
     ]
    },
    {
     "name": "stderr",
     "output_type": "stream",
     "text": [
      "<ipython-input-25-99da4e5d8fd9>:160: UserWarning: p-value floored: true value smaller than 0.001\n",
      "  AD1S, AD2S, AD3S = stats.anderson_ksamp([MIN_DISTANCE_HOT_DEG,\n",
      "<ipython-input-25-99da4e5d8fd9>:160: UserWarning: p-value floored: true value smaller than 0.001\n",
      "  AD1S, AD2S, AD3S = stats.anderson_ksamp([MIN_DISTANCE_HOT_DEG,\n",
      "<ipython-input-25-99da4e5d8fd9>:160: UserWarning: p-value floored: true value smaller than 0.001\n",
      "  AD1S, AD2S, AD3S = stats.anderson_ksamp([MIN_DISTANCE_HOT_DEG,\n",
      "<ipython-input-25-99da4e5d8fd9>:160: UserWarning: p-value floored: true value smaller than 0.001\n",
      "  AD1S, AD2S, AD3S = stats.anderson_ksamp([MIN_DISTANCE_HOT_DEG,\n",
      "<ipython-input-25-99da4e5d8fd9>:160: UserWarning: p-value floored: true value smaller than 0.001\n",
      "  AD1S, AD2S, AD3S = stats.anderson_ksamp([MIN_DISTANCE_HOT_DEG,\n"
     ]
    },
    {
     "name": "stdout",
     "output_type": "stream",
     "text": [
      "Random 171 out of 1000\n"
     ]
    },
    {
     "name": "stderr",
     "output_type": "stream",
     "text": [
      "<ipython-input-25-99da4e5d8fd9>:160: UserWarning: p-value floored: true value smaller than 0.001\n",
      "  AD1S, AD2S, AD3S = stats.anderson_ksamp([MIN_DISTANCE_HOT_DEG,\n",
      "<ipython-input-25-99da4e5d8fd9>:160: UserWarning: p-value floored: true value smaller than 0.001\n",
      "  AD1S, AD2S, AD3S = stats.anderson_ksamp([MIN_DISTANCE_HOT_DEG,\n",
      "<ipython-input-25-99da4e5d8fd9>:160: UserWarning: p-value floored: true value smaller than 0.001\n",
      "  AD1S, AD2S, AD3S = stats.anderson_ksamp([MIN_DISTANCE_HOT_DEG,\n"
     ]
    },
    {
     "name": "stdout",
     "output_type": "stream",
     "text": [
      "Random 181 out of 1000\n"
     ]
    },
    {
     "name": "stderr",
     "output_type": "stream",
     "text": [
      "<ipython-input-25-99da4e5d8fd9>:160: UserWarning: p-value floored: true value smaller than 0.001\n",
      "  AD1S, AD2S, AD3S = stats.anderson_ksamp([MIN_DISTANCE_HOT_DEG,\n",
      "<ipython-input-25-99da4e5d8fd9>:160: UserWarning: p-value floored: true value smaller than 0.001\n",
      "  AD1S, AD2S, AD3S = stats.anderson_ksamp([MIN_DISTANCE_HOT_DEG,\n",
      "<ipython-input-25-99da4e5d8fd9>:160: UserWarning: p-value floored: true value smaller than 0.001\n",
      "  AD1S, AD2S, AD3S = stats.anderson_ksamp([MIN_DISTANCE_HOT_DEG,\n",
      "<ipython-input-25-99da4e5d8fd9>:160: UserWarning: p-value floored: true value smaller than 0.001\n",
      "  AD1S, AD2S, AD3S = stats.anderson_ksamp([MIN_DISTANCE_HOT_DEG,\n",
      "<ipython-input-25-99da4e5d8fd9>:160: UserWarning: p-value floored: true value smaller than 0.001\n",
      "  AD1S, AD2S, AD3S = stats.anderson_ksamp([MIN_DISTANCE_HOT_DEG,\n",
      "<ipython-input-25-99da4e5d8fd9>:160: UserWarning: p-value floored: true value smaller than 0.001\n",
      "  AD1S, AD2S, AD3S = stats.anderson_ksamp([MIN_DISTANCE_HOT_DEG,\n",
      "<ipython-input-25-99da4e5d8fd9>:160: UserWarning: p-value floored: true value smaller than 0.001\n",
      "  AD1S, AD2S, AD3S = stats.anderson_ksamp([MIN_DISTANCE_HOT_DEG,\n"
     ]
    },
    {
     "name": "stdout",
     "output_type": "stream",
     "text": [
      "Random 191 out of 1000\n"
     ]
    },
    {
     "name": "stderr",
     "output_type": "stream",
     "text": [
      "<ipython-input-25-99da4e5d8fd9>:160: UserWarning: p-value floored: true value smaller than 0.001\n",
      "  AD1S, AD2S, AD3S = stats.anderson_ksamp([MIN_DISTANCE_HOT_DEG,\n",
      "<ipython-input-25-99da4e5d8fd9>:160: UserWarning: p-value floored: true value smaller than 0.001\n",
      "  AD1S, AD2S, AD3S = stats.anderson_ksamp([MIN_DISTANCE_HOT_DEG,\n",
      "<ipython-input-25-99da4e5d8fd9>:160: UserWarning: p-value floored: true value smaller than 0.001\n",
      "  AD1S, AD2S, AD3S = stats.anderson_ksamp([MIN_DISTANCE_HOT_DEG,\n",
      "<ipython-input-25-99da4e5d8fd9>:160: UserWarning: p-value floored: true value smaller than 0.001\n",
      "  AD1S, AD2S, AD3S = stats.anderson_ksamp([MIN_DISTANCE_HOT_DEG,\n",
      "<ipython-input-25-99da4e5d8fd9>:160: UserWarning: p-value floored: true value smaller than 0.001\n",
      "  AD1S, AD2S, AD3S = stats.anderson_ksamp([MIN_DISTANCE_HOT_DEG,\n",
      "<ipython-input-25-99da4e5d8fd9>:160: UserWarning: p-value floored: true value smaller than 0.001\n",
      "  AD1S, AD2S, AD3S = stats.anderson_ksamp([MIN_DISTANCE_HOT_DEG,\n"
     ]
    },
    {
     "name": "stdout",
     "output_type": "stream",
     "text": [
      "Random 201 out of 1000\n"
     ]
    },
    {
     "name": "stderr",
     "output_type": "stream",
     "text": [
      "<ipython-input-25-99da4e5d8fd9>:160: UserWarning: p-value floored: true value smaller than 0.001\n",
      "  AD1S, AD2S, AD3S = stats.anderson_ksamp([MIN_DISTANCE_HOT_DEG,\n",
      "<ipython-input-25-99da4e5d8fd9>:160: UserWarning: p-value floored: true value smaller than 0.001\n",
      "  AD1S, AD2S, AD3S = stats.anderson_ksamp([MIN_DISTANCE_HOT_DEG,\n",
      "<ipython-input-25-99da4e5d8fd9>:160: UserWarning: p-value floored: true value smaller than 0.001\n",
      "  AD1S, AD2S, AD3S = stats.anderson_ksamp([MIN_DISTANCE_HOT_DEG,\n",
      "<ipython-input-25-99da4e5d8fd9>:160: UserWarning: p-value floored: true value smaller than 0.001\n",
      "  AD1S, AD2S, AD3S = stats.anderson_ksamp([MIN_DISTANCE_HOT_DEG,\n",
      "<ipython-input-25-99da4e5d8fd9>:160: UserWarning: p-value floored: true value smaller than 0.001\n",
      "  AD1S, AD2S, AD3S = stats.anderson_ksamp([MIN_DISTANCE_HOT_DEG,\n"
     ]
    },
    {
     "name": "stdout",
     "output_type": "stream",
     "text": [
      "Random 211 out of 1000\n"
     ]
    },
    {
     "name": "stderr",
     "output_type": "stream",
     "text": [
      "<ipython-input-25-99da4e5d8fd9>:160: UserWarning: p-value floored: true value smaller than 0.001\n",
      "  AD1S, AD2S, AD3S = stats.anderson_ksamp([MIN_DISTANCE_HOT_DEG,\n"
     ]
    },
    {
     "name": "stdout",
     "output_type": "stream",
     "text": [
      "MUTATION!\n"
     ]
    },
    {
     "name": "stderr",
     "output_type": "stream",
     "text": [
      "<ipython-input-25-99da4e5d8fd9>:160: UserWarning: p-value floored: true value smaller than 0.001\n",
      "  AD1S, AD2S, AD3S = stats.anderson_ksamp([MIN_DISTANCE_HOT_DEG,\n",
      "<ipython-input-25-99da4e5d8fd9>:160: UserWarning: p-value floored: true value smaller than 0.001\n",
      "  AD1S, AD2S, AD3S = stats.anderson_ksamp([MIN_DISTANCE_HOT_DEG,\n",
      "<ipython-input-25-99da4e5d8fd9>:160: UserWarning: p-value floored: true value smaller than 0.001\n",
      "  AD1S, AD2S, AD3S = stats.anderson_ksamp([MIN_DISTANCE_HOT_DEG,\n",
      "<ipython-input-25-99da4e5d8fd9>:160: UserWarning: p-value floored: true value smaller than 0.001\n",
      "  AD1S, AD2S, AD3S = stats.anderson_ksamp([MIN_DISTANCE_HOT_DEG,\n",
      "<ipython-input-25-99da4e5d8fd9>:160: UserWarning: p-value floored: true value smaller than 0.001\n",
      "  AD1S, AD2S, AD3S = stats.anderson_ksamp([MIN_DISTANCE_HOT_DEG,\n"
     ]
    },
    {
     "name": "stdout",
     "output_type": "stream",
     "text": [
      "Random 221 out of 1000\n"
     ]
    },
    {
     "name": "stderr",
     "output_type": "stream",
     "text": [
      "<ipython-input-25-99da4e5d8fd9>:160: UserWarning: p-value floored: true value smaller than 0.001\n",
      "  AD1S, AD2S, AD3S = stats.anderson_ksamp([MIN_DISTANCE_HOT_DEG,\n",
      "<ipython-input-25-99da4e5d8fd9>:160: UserWarning: p-value floored: true value smaller than 0.001\n",
      "  AD1S, AD2S, AD3S = stats.anderson_ksamp([MIN_DISTANCE_HOT_DEG,\n",
      "<ipython-input-25-99da4e5d8fd9>:160: UserWarning: p-value floored: true value smaller than 0.001\n",
      "  AD1S, AD2S, AD3S = stats.anderson_ksamp([MIN_DISTANCE_HOT_DEG,\n",
      "<ipython-input-25-99da4e5d8fd9>:160: UserWarning: p-value floored: true value smaller than 0.001\n",
      "  AD1S, AD2S, AD3S = stats.anderson_ksamp([MIN_DISTANCE_HOT_DEG,\n",
      "<ipython-input-25-99da4e5d8fd9>:160: UserWarning: p-value floored: true value smaller than 0.001\n",
      "  AD1S, AD2S, AD3S = stats.anderson_ksamp([MIN_DISTANCE_HOT_DEG,\n",
      "<ipython-input-25-99da4e5d8fd9>:160: UserWarning: p-value floored: true value smaller than 0.001\n",
      "  AD1S, AD2S, AD3S = stats.anderson_ksamp([MIN_DISTANCE_HOT_DEG,\n",
      "<ipython-input-25-99da4e5d8fd9>:160: UserWarning: p-value floored: true value smaller than 0.001\n",
      "  AD1S, AD2S, AD3S = stats.anderson_ksamp([MIN_DISTANCE_HOT_DEG,\n"
     ]
    },
    {
     "name": "stdout",
     "output_type": "stream",
     "text": [
      "Random 231 out of 1000\n"
     ]
    },
    {
     "name": "stderr",
     "output_type": "stream",
     "text": [
      "<ipython-input-25-99da4e5d8fd9>:160: UserWarning: p-value floored: true value smaller than 0.001\n",
      "  AD1S, AD2S, AD3S = stats.anderson_ksamp([MIN_DISTANCE_HOT_DEG,\n",
      "<ipython-input-25-99da4e5d8fd9>:160: UserWarning: p-value floored: true value smaller than 0.001\n",
      "  AD1S, AD2S, AD3S = stats.anderson_ksamp([MIN_DISTANCE_HOT_DEG,\n",
      "<ipython-input-25-99da4e5d8fd9>:160: UserWarning: p-value floored: true value smaller than 0.001\n",
      "  AD1S, AD2S, AD3S = stats.anderson_ksamp([MIN_DISTANCE_HOT_DEG,\n",
      "<ipython-input-25-99da4e5d8fd9>:160: UserWarning: p-value floored: true value smaller than 0.001\n",
      "  AD1S, AD2S, AD3S = stats.anderson_ksamp([MIN_DISTANCE_HOT_DEG,\n"
     ]
    },
    {
     "name": "stdout",
     "output_type": "stream",
     "text": [
      "Random 241 out of 1000\n"
     ]
    },
    {
     "name": "stderr",
     "output_type": "stream",
     "text": [
      "<ipython-input-25-99da4e5d8fd9>:160: UserWarning: p-value floored: true value smaller than 0.001\n",
      "  AD1S, AD2S, AD3S = stats.anderson_ksamp([MIN_DISTANCE_HOT_DEG,\n"
     ]
    },
    {
     "name": "stdout",
     "output_type": "stream",
     "text": [
      "MUTATION!\n"
     ]
    },
    {
     "name": "stderr",
     "output_type": "stream",
     "text": [
      "<ipython-input-25-99da4e5d8fd9>:160: UserWarning: p-value floored: true value smaller than 0.001\n",
      "  AD1S, AD2S, AD3S = stats.anderson_ksamp([MIN_DISTANCE_HOT_DEG,\n",
      "<ipython-input-25-99da4e5d8fd9>:160: UserWarning: p-value floored: true value smaller than 0.001\n",
      "  AD1S, AD2S, AD3S = stats.anderson_ksamp([MIN_DISTANCE_HOT_DEG,\n",
      "<ipython-input-25-99da4e5d8fd9>:160: UserWarning: p-value floored: true value smaller than 0.001\n",
      "  AD1S, AD2S, AD3S = stats.anderson_ksamp([MIN_DISTANCE_HOT_DEG,\n",
      "<ipython-input-25-99da4e5d8fd9>:160: UserWarning: p-value floored: true value smaller than 0.001\n",
      "  AD1S, AD2S, AD3S = stats.anderson_ksamp([MIN_DISTANCE_HOT_DEG,\n"
     ]
    },
    {
     "name": "stdout",
     "output_type": "stream",
     "text": [
      "MUTATION!\n",
      "Random 251 out of 1000\n"
     ]
    },
    {
     "name": "stderr",
     "output_type": "stream",
     "text": [
      "<ipython-input-25-99da4e5d8fd9>:160: UserWarning: p-value floored: true value smaller than 0.001\n",
      "  AD1S, AD2S, AD3S = stats.anderson_ksamp([MIN_DISTANCE_HOT_DEG,\n",
      "<ipython-input-25-99da4e5d8fd9>:160: UserWarning: p-value floored: true value smaller than 0.001\n",
      "  AD1S, AD2S, AD3S = stats.anderson_ksamp([MIN_DISTANCE_HOT_DEG,\n",
      "<ipython-input-25-99da4e5d8fd9>:160: UserWarning: p-value floored: true value smaller than 0.001\n",
      "  AD1S, AD2S, AD3S = stats.anderson_ksamp([MIN_DISTANCE_HOT_DEG,\n",
      "<ipython-input-25-99da4e5d8fd9>:160: UserWarning: p-value floored: true value smaller than 0.001\n",
      "  AD1S, AD2S, AD3S = stats.anderson_ksamp([MIN_DISTANCE_HOT_DEG,\n",
      "<ipython-input-25-99da4e5d8fd9>:160: UserWarning: p-value floored: true value smaller than 0.001\n",
      "  AD1S, AD2S, AD3S = stats.anderson_ksamp([MIN_DISTANCE_HOT_DEG,\n"
     ]
    },
    {
     "name": "stdout",
     "output_type": "stream",
     "text": [
      "Random 261 out of 1000\n"
     ]
    },
    {
     "name": "stderr",
     "output_type": "stream",
     "text": [
      "<ipython-input-25-99da4e5d8fd9>:160: UserWarning: p-value floored: true value smaller than 0.001\n",
      "  AD1S, AD2S, AD3S = stats.anderson_ksamp([MIN_DISTANCE_HOT_DEG,\n",
      "<ipython-input-25-99da4e5d8fd9>:160: UserWarning: p-value floored: true value smaller than 0.001\n",
      "  AD1S, AD2S, AD3S = stats.anderson_ksamp([MIN_DISTANCE_HOT_DEG,\n",
      "<ipython-input-25-99da4e5d8fd9>:160: UserWarning: p-value floored: true value smaller than 0.001\n",
      "  AD1S, AD2S, AD3S = stats.anderson_ksamp([MIN_DISTANCE_HOT_DEG,\n",
      "<ipython-input-25-99da4e5d8fd9>:160: UserWarning: p-value floored: true value smaller than 0.001\n",
      "  AD1S, AD2S, AD3S = stats.anderson_ksamp([MIN_DISTANCE_HOT_DEG,\n",
      "<ipython-input-25-99da4e5d8fd9>:160: UserWarning: p-value floored: true value smaller than 0.001\n",
      "  AD1S, AD2S, AD3S = stats.anderson_ksamp([MIN_DISTANCE_HOT_DEG,\n",
      "<ipython-input-25-99da4e5d8fd9>:160: UserWarning: p-value floored: true value smaller than 0.001\n",
      "  AD1S, AD2S, AD3S = stats.anderson_ksamp([MIN_DISTANCE_HOT_DEG,\n",
      "<ipython-input-25-99da4e5d8fd9>:160: UserWarning: p-value floored: true value smaller than 0.001\n",
      "  AD1S, AD2S, AD3S = stats.anderson_ksamp([MIN_DISTANCE_HOT_DEG,\n"
     ]
    },
    {
     "name": "stdout",
     "output_type": "stream",
     "text": [
      "Random 271 out of 1000\n"
     ]
    },
    {
     "name": "stderr",
     "output_type": "stream",
     "text": [
      "<ipython-input-25-99da4e5d8fd9>:160: UserWarning: p-value floored: true value smaller than 0.001\n",
      "  AD1S, AD2S, AD3S = stats.anderson_ksamp([MIN_DISTANCE_HOT_DEG,\n",
      "<ipython-input-25-99da4e5d8fd9>:160: UserWarning: p-value floored: true value smaller than 0.001\n",
      "  AD1S, AD2S, AD3S = stats.anderson_ksamp([MIN_DISTANCE_HOT_DEG,\n",
      "<ipython-input-25-99da4e5d8fd9>:160: UserWarning: p-value floored: true value smaller than 0.001\n",
      "  AD1S, AD2S, AD3S = stats.anderson_ksamp([MIN_DISTANCE_HOT_DEG,\n",
      "<ipython-input-25-99da4e5d8fd9>:160: UserWarning: p-value floored: true value smaller than 0.001\n",
      "  AD1S, AD2S, AD3S = stats.anderson_ksamp([MIN_DISTANCE_HOT_DEG,\n",
      "<ipython-input-25-99da4e5d8fd9>:160: UserWarning: p-value floored: true value smaller than 0.001\n",
      "  AD1S, AD2S, AD3S = stats.anderson_ksamp([MIN_DISTANCE_HOT_DEG,\n"
     ]
    },
    {
     "name": "stdout",
     "output_type": "stream",
     "text": [
      "Random 281 out of 1000\n"
     ]
    },
    {
     "name": "stderr",
     "output_type": "stream",
     "text": [
      "<ipython-input-25-99da4e5d8fd9>:160: UserWarning: p-value floored: true value smaller than 0.001\n",
      "  AD1S, AD2S, AD3S = stats.anderson_ksamp([MIN_DISTANCE_HOT_DEG,\n",
      "<ipython-input-25-99da4e5d8fd9>:160: UserWarning: p-value floored: true value smaller than 0.001\n",
      "  AD1S, AD2S, AD3S = stats.anderson_ksamp([MIN_DISTANCE_HOT_DEG,\n",
      "<ipython-input-25-99da4e5d8fd9>:160: UserWarning: p-value floored: true value smaller than 0.001\n",
      "  AD1S, AD2S, AD3S = stats.anderson_ksamp([MIN_DISTANCE_HOT_DEG,\n",
      "<ipython-input-25-99da4e5d8fd9>:160: UserWarning: p-value floored: true value smaller than 0.001\n",
      "  AD1S, AD2S, AD3S = stats.anderson_ksamp([MIN_DISTANCE_HOT_DEG,\n",
      "<ipython-input-25-99da4e5d8fd9>:160: UserWarning: p-value floored: true value smaller than 0.001\n",
      "  AD1S, AD2S, AD3S = stats.anderson_ksamp([MIN_DISTANCE_HOT_DEG,\n",
      "<ipython-input-25-99da4e5d8fd9>:160: UserWarning: p-value floored: true value smaller than 0.001\n",
      "  AD1S, AD2S, AD3S = stats.anderson_ksamp([MIN_DISTANCE_HOT_DEG,\n"
     ]
    },
    {
     "name": "stdout",
     "output_type": "stream",
     "text": [
      "Random 291 out of 1000\n"
     ]
    },
    {
     "name": "stderr",
     "output_type": "stream",
     "text": [
      "<ipython-input-25-99da4e5d8fd9>:160: UserWarning: p-value floored: true value smaller than 0.001\n",
      "  AD1S, AD2S, AD3S = stats.anderson_ksamp([MIN_DISTANCE_HOT_DEG,\n",
      "<ipython-input-25-99da4e5d8fd9>:160: UserWarning: p-value floored: true value smaller than 0.001\n",
      "  AD1S, AD2S, AD3S = stats.anderson_ksamp([MIN_DISTANCE_HOT_DEG,\n",
      "<ipython-input-25-99da4e5d8fd9>:160: UserWarning: p-value floored: true value smaller than 0.001\n",
      "  AD1S, AD2S, AD3S = stats.anderson_ksamp([MIN_DISTANCE_HOT_DEG,\n",
      "<ipython-input-25-99da4e5d8fd9>:160: UserWarning: p-value floored: true value smaller than 0.001\n",
      "  AD1S, AD2S, AD3S = stats.anderson_ksamp([MIN_DISTANCE_HOT_DEG,\n",
      "<ipython-input-25-99da4e5d8fd9>:160: UserWarning: p-value floored: true value smaller than 0.001\n",
      "  AD1S, AD2S, AD3S = stats.anderson_ksamp([MIN_DISTANCE_HOT_DEG,\n"
     ]
    },
    {
     "name": "stdout",
     "output_type": "stream",
     "text": [
      "Random 301 out of 1000\n"
     ]
    },
    {
     "name": "stderr",
     "output_type": "stream",
     "text": [
      "<ipython-input-25-99da4e5d8fd9>:160: UserWarning: p-value floored: true value smaller than 0.001\n",
      "  AD1S, AD2S, AD3S = stats.anderson_ksamp([MIN_DISTANCE_HOT_DEG,\n",
      "<ipython-input-25-99da4e5d8fd9>:160: UserWarning: p-value floored: true value smaller than 0.001\n",
      "  AD1S, AD2S, AD3S = stats.anderson_ksamp([MIN_DISTANCE_HOT_DEG,\n",
      "<ipython-input-25-99da4e5d8fd9>:160: UserWarning: p-value floored: true value smaller than 0.001\n",
      "  AD1S, AD2S, AD3S = stats.anderson_ksamp([MIN_DISTANCE_HOT_DEG,\n",
      "<ipython-input-25-99da4e5d8fd9>:160: UserWarning: p-value floored: true value smaller than 0.001\n",
      "  AD1S, AD2S, AD3S = stats.anderson_ksamp([MIN_DISTANCE_HOT_DEG,\n",
      "<ipython-input-25-99da4e5d8fd9>:160: UserWarning: p-value floored: true value smaller than 0.001\n",
      "  AD1S, AD2S, AD3S = stats.anderson_ksamp([MIN_DISTANCE_HOT_DEG,\n",
      "<ipython-input-25-99da4e5d8fd9>:160: UserWarning: p-value floored: true value smaller than 0.001\n",
      "  AD1S, AD2S, AD3S = stats.anderson_ksamp([MIN_DISTANCE_HOT_DEG,\n",
      "<ipython-input-25-99da4e5d8fd9>:160: UserWarning: p-value floored: true value smaller than 0.001\n",
      "  AD1S, AD2S, AD3S = stats.anderson_ksamp([MIN_DISTANCE_HOT_DEG,\n",
      "<ipython-input-25-99da4e5d8fd9>:160: UserWarning: p-value floored: true value smaller than 0.001\n",
      "  AD1S, AD2S, AD3S = stats.anderson_ksamp([MIN_DISTANCE_HOT_DEG,\n"
     ]
    },
    {
     "name": "stdout",
     "output_type": "stream",
     "text": [
      "Random 311 out of 1000\n",
      "MUTATION!\n"
     ]
    },
    {
     "name": "stderr",
     "output_type": "stream",
     "text": [
      "<ipython-input-25-99da4e5d8fd9>:160: UserWarning: p-value floored: true value smaller than 0.001\n",
      "  AD1S, AD2S, AD3S = stats.anderson_ksamp([MIN_DISTANCE_HOT_DEG,\n",
      "<ipython-input-25-99da4e5d8fd9>:160: UserWarning: p-value floored: true value smaller than 0.001\n",
      "  AD1S, AD2S, AD3S = stats.anderson_ksamp([MIN_DISTANCE_HOT_DEG,\n",
      "<ipython-input-25-99da4e5d8fd9>:160: UserWarning: p-value floored: true value smaller than 0.001\n",
      "  AD1S, AD2S, AD3S = stats.anderson_ksamp([MIN_DISTANCE_HOT_DEG,\n",
      "<ipython-input-25-99da4e5d8fd9>:160: UserWarning: p-value floored: true value smaller than 0.001\n",
      "  AD1S, AD2S, AD3S = stats.anderson_ksamp([MIN_DISTANCE_HOT_DEG,\n",
      "<ipython-input-25-99da4e5d8fd9>:160: UserWarning: p-value floored: true value smaller than 0.001\n",
      "  AD1S, AD2S, AD3S = stats.anderson_ksamp([MIN_DISTANCE_HOT_DEG,\n",
      "<ipython-input-25-99da4e5d8fd9>:160: UserWarning: p-value floored: true value smaller than 0.001\n",
      "  AD1S, AD2S, AD3S = stats.anderson_ksamp([MIN_DISTANCE_HOT_DEG,\n"
     ]
    },
    {
     "name": "stdout",
     "output_type": "stream",
     "text": [
      "Random 321 out of 1000\n"
     ]
    },
    {
     "name": "stderr",
     "output_type": "stream",
     "text": [
      "<ipython-input-25-99da4e5d8fd9>:160: UserWarning: p-value floored: true value smaller than 0.001\n",
      "  AD1S, AD2S, AD3S = stats.anderson_ksamp([MIN_DISTANCE_HOT_DEG,\n",
      "<ipython-input-25-99da4e5d8fd9>:160: UserWarning: p-value floored: true value smaller than 0.001\n",
      "  AD1S, AD2S, AD3S = stats.anderson_ksamp([MIN_DISTANCE_HOT_DEG,\n",
      "<ipython-input-25-99da4e5d8fd9>:160: UserWarning: p-value floored: true value smaller than 0.001\n",
      "  AD1S, AD2S, AD3S = stats.anderson_ksamp([MIN_DISTANCE_HOT_DEG,\n",
      "<ipython-input-25-99da4e5d8fd9>:160: UserWarning: p-value floored: true value smaller than 0.001\n",
      "  AD1S, AD2S, AD3S = stats.anderson_ksamp([MIN_DISTANCE_HOT_DEG,\n",
      "<ipython-input-25-99da4e5d8fd9>:160: UserWarning: p-value floored: true value smaller than 0.001\n",
      "  AD1S, AD2S, AD3S = stats.anderson_ksamp([MIN_DISTANCE_HOT_DEG,\n",
      "<ipython-input-25-99da4e5d8fd9>:160: UserWarning: p-value floored: true value smaller than 0.001\n",
      "  AD1S, AD2S, AD3S = stats.anderson_ksamp([MIN_DISTANCE_HOT_DEG,\n",
      "<ipython-input-25-99da4e5d8fd9>:160: UserWarning: p-value floored: true value smaller than 0.001\n",
      "  AD1S, AD2S, AD3S = stats.anderson_ksamp([MIN_DISTANCE_HOT_DEG,\n",
      "<ipython-input-25-99da4e5d8fd9>:160: UserWarning: p-value floored: true value smaller than 0.001\n",
      "  AD1S, AD2S, AD3S = stats.anderson_ksamp([MIN_DISTANCE_HOT_DEG,\n"
     ]
    },
    {
     "name": "stdout",
     "output_type": "stream",
     "text": [
      "Random 331 out of 1000\n"
     ]
    },
    {
     "name": "stderr",
     "output_type": "stream",
     "text": [
      "<ipython-input-25-99da4e5d8fd9>:160: UserWarning: p-value floored: true value smaller than 0.001\n",
      "  AD1S, AD2S, AD3S = stats.anderson_ksamp([MIN_DISTANCE_HOT_DEG,\n",
      "<ipython-input-25-99da4e5d8fd9>:160: UserWarning: p-value floored: true value smaller than 0.001\n",
      "  AD1S, AD2S, AD3S = stats.anderson_ksamp([MIN_DISTANCE_HOT_DEG,\n",
      "<ipython-input-25-99da4e5d8fd9>:160: UserWarning: p-value floored: true value smaller than 0.001\n",
      "  AD1S, AD2S, AD3S = stats.anderson_ksamp([MIN_DISTANCE_HOT_DEG,\n",
      "<ipython-input-25-99da4e5d8fd9>:160: UserWarning: p-value floored: true value smaller than 0.001\n",
      "  AD1S, AD2S, AD3S = stats.anderson_ksamp([MIN_DISTANCE_HOT_DEG,\n",
      "<ipython-input-25-99da4e5d8fd9>:160: UserWarning: p-value floored: true value smaller than 0.001\n",
      "  AD1S, AD2S, AD3S = stats.anderson_ksamp([MIN_DISTANCE_HOT_DEG,\n"
     ]
    },
    {
     "name": "stdout",
     "output_type": "stream",
     "text": [
      "Random 341 out of 1000\n"
     ]
    },
    {
     "name": "stderr",
     "output_type": "stream",
     "text": [
      "<ipython-input-25-99da4e5d8fd9>:160: UserWarning: p-value floored: true value smaller than 0.001\n",
      "  AD1S, AD2S, AD3S = stats.anderson_ksamp([MIN_DISTANCE_HOT_DEG,\n",
      "<ipython-input-25-99da4e5d8fd9>:160: UserWarning: p-value floored: true value smaller than 0.001\n",
      "  AD1S, AD2S, AD3S = stats.anderson_ksamp([MIN_DISTANCE_HOT_DEG,\n",
      "<ipython-input-25-99da4e5d8fd9>:160: UserWarning: p-value floored: true value smaller than 0.001\n",
      "  AD1S, AD2S, AD3S = stats.anderson_ksamp([MIN_DISTANCE_HOT_DEG,\n",
      "<ipython-input-25-99da4e5d8fd9>:160: UserWarning: p-value floored: true value smaller than 0.001\n",
      "  AD1S, AD2S, AD3S = stats.anderson_ksamp([MIN_DISTANCE_HOT_DEG,\n",
      "<ipython-input-25-99da4e5d8fd9>:160: UserWarning: p-value floored: true value smaller than 0.001\n",
      "  AD1S, AD2S, AD3S = stats.anderson_ksamp([MIN_DISTANCE_HOT_DEG,\n",
      "<ipython-input-25-99da4e5d8fd9>:160: UserWarning: p-value floored: true value smaller than 0.001\n",
      "  AD1S, AD2S, AD3S = stats.anderson_ksamp([MIN_DISTANCE_HOT_DEG,\n"
     ]
    },
    {
     "name": "stdout",
     "output_type": "stream",
     "text": [
      "Random 351 out of 1000\n"
     ]
    },
    {
     "name": "stderr",
     "output_type": "stream",
     "text": [
      "<ipython-input-25-99da4e5d8fd9>:160: UserWarning: p-value floored: true value smaller than 0.001\n",
      "  AD1S, AD2S, AD3S = stats.anderson_ksamp([MIN_DISTANCE_HOT_DEG,\n",
      "<ipython-input-25-99da4e5d8fd9>:160: UserWarning: p-value floored: true value smaller than 0.001\n",
      "  AD1S, AD2S, AD3S = stats.anderson_ksamp([MIN_DISTANCE_HOT_DEG,\n",
      "<ipython-input-25-99da4e5d8fd9>:160: UserWarning: p-value floored: true value smaller than 0.001\n",
      "  AD1S, AD2S, AD3S = stats.anderson_ksamp([MIN_DISTANCE_HOT_DEG,\n",
      "<ipython-input-25-99da4e5d8fd9>:160: UserWarning: p-value floored: true value smaller than 0.001\n",
      "  AD1S, AD2S, AD3S = stats.anderson_ksamp([MIN_DISTANCE_HOT_DEG,\n",
      "<ipython-input-25-99da4e5d8fd9>:160: UserWarning: p-value floored: true value smaller than 0.001\n",
      "  AD1S, AD2S, AD3S = stats.anderson_ksamp([MIN_DISTANCE_HOT_DEG,\n"
     ]
    },
    {
     "name": "stdout",
     "output_type": "stream",
     "text": [
      "Random 361 out of 1000\n"
     ]
    },
    {
     "name": "stderr",
     "output_type": "stream",
     "text": [
      "<ipython-input-25-99da4e5d8fd9>:160: UserWarning: p-value floored: true value smaller than 0.001\n",
      "  AD1S, AD2S, AD3S = stats.anderson_ksamp([MIN_DISTANCE_HOT_DEG,\n",
      "<ipython-input-25-99da4e5d8fd9>:160: UserWarning: p-value floored: true value smaller than 0.001\n",
      "  AD1S, AD2S, AD3S = stats.anderson_ksamp([MIN_DISTANCE_HOT_DEG,\n",
      "<ipython-input-25-99da4e5d8fd9>:160: UserWarning: p-value floored: true value smaller than 0.001\n",
      "  AD1S, AD2S, AD3S = stats.anderson_ksamp([MIN_DISTANCE_HOT_DEG,\n",
      "<ipython-input-25-99da4e5d8fd9>:160: UserWarning: p-value floored: true value smaller than 0.001\n",
      "  AD1S, AD2S, AD3S = stats.anderson_ksamp([MIN_DISTANCE_HOT_DEG,\n",
      "<ipython-input-25-99da4e5d8fd9>:160: UserWarning: p-value floored: true value smaller than 0.001\n",
      "  AD1S, AD2S, AD3S = stats.anderson_ksamp([MIN_DISTANCE_HOT_DEG,\n",
      "<ipython-input-25-99da4e5d8fd9>:160: UserWarning: p-value floored: true value smaller than 0.001\n",
      "  AD1S, AD2S, AD3S = stats.anderson_ksamp([MIN_DISTANCE_HOT_DEG,\n",
      "<ipython-input-25-99da4e5d8fd9>:160: UserWarning: p-value floored: true value smaller than 0.001\n",
      "  AD1S, AD2S, AD3S = stats.anderson_ksamp([MIN_DISTANCE_HOT_DEG,\n",
      "<ipython-input-25-99da4e5d8fd9>:160: UserWarning: p-value floored: true value smaller than 0.001\n",
      "  AD1S, AD2S, AD3S = stats.anderson_ksamp([MIN_DISTANCE_HOT_DEG,\n"
     ]
    },
    {
     "name": "stdout",
     "output_type": "stream",
     "text": [
      "Random 371 out of 1000\n"
     ]
    },
    {
     "name": "stderr",
     "output_type": "stream",
     "text": [
      "<ipython-input-25-99da4e5d8fd9>:160: UserWarning: p-value floored: true value smaller than 0.001\n",
      "  AD1S, AD2S, AD3S = stats.anderson_ksamp([MIN_DISTANCE_HOT_DEG,\n",
      "<ipython-input-25-99da4e5d8fd9>:160: UserWarning: p-value floored: true value smaller than 0.001\n",
      "  AD1S, AD2S, AD3S = stats.anderson_ksamp([MIN_DISTANCE_HOT_DEG,\n",
      "<ipython-input-25-99da4e5d8fd9>:160: UserWarning: p-value floored: true value smaller than 0.001\n",
      "  AD1S, AD2S, AD3S = stats.anderson_ksamp([MIN_DISTANCE_HOT_DEG,\n",
      "<ipython-input-25-99da4e5d8fd9>:160: UserWarning: p-value floored: true value smaller than 0.001\n",
      "  AD1S, AD2S, AD3S = stats.anderson_ksamp([MIN_DISTANCE_HOT_DEG,\n",
      "<ipython-input-25-99da4e5d8fd9>:160: UserWarning: p-value floored: true value smaller than 0.001\n",
      "  AD1S, AD2S, AD3S = stats.anderson_ksamp([MIN_DISTANCE_HOT_DEG,\n",
      "<ipython-input-25-99da4e5d8fd9>:160: UserWarning: p-value floored: true value smaller than 0.001\n",
      "  AD1S, AD2S, AD3S = stats.anderson_ksamp([MIN_DISTANCE_HOT_DEG,\n"
     ]
    },
    {
     "name": "stdout",
     "output_type": "stream",
     "text": [
      "Random 381 out of 1000\n"
     ]
    },
    {
     "name": "stderr",
     "output_type": "stream",
     "text": [
      "<ipython-input-25-99da4e5d8fd9>:160: UserWarning: p-value floored: true value smaller than 0.001\n",
      "  AD1S, AD2S, AD3S = stats.anderson_ksamp([MIN_DISTANCE_HOT_DEG,\n",
      "<ipython-input-25-99da4e5d8fd9>:160: UserWarning: p-value floored: true value smaller than 0.001\n",
      "  AD1S, AD2S, AD3S = stats.anderson_ksamp([MIN_DISTANCE_HOT_DEG,\n",
      "<ipython-input-25-99da4e5d8fd9>:160: UserWarning: p-value floored: true value smaller than 0.001\n",
      "  AD1S, AD2S, AD3S = stats.anderson_ksamp([MIN_DISTANCE_HOT_DEG,\n",
      "<ipython-input-25-99da4e5d8fd9>:160: UserWarning: p-value floored: true value smaller than 0.001\n",
      "  AD1S, AD2S, AD3S = stats.anderson_ksamp([MIN_DISTANCE_HOT_DEG,\n",
      "<ipython-input-25-99da4e5d8fd9>:160: UserWarning: p-value floored: true value smaller than 0.001\n",
      "  AD1S, AD2S, AD3S = stats.anderson_ksamp([MIN_DISTANCE_HOT_DEG,\n",
      "<ipython-input-25-99da4e5d8fd9>:160: UserWarning: p-value floored: true value smaller than 0.001\n",
      "  AD1S, AD2S, AD3S = stats.anderson_ksamp([MIN_DISTANCE_HOT_DEG,\n",
      "<ipython-input-25-99da4e5d8fd9>:160: UserWarning: p-value floored: true value smaller than 0.001\n",
      "  AD1S, AD2S, AD3S = stats.anderson_ksamp([MIN_DISTANCE_HOT_DEG,\n"
     ]
    },
    {
     "name": "stdout",
     "output_type": "stream",
     "text": [
      "Random 391 out of 1000\n"
     ]
    },
    {
     "name": "stderr",
     "output_type": "stream",
     "text": [
      "<ipython-input-25-99da4e5d8fd9>:160: UserWarning: p-value floored: true value smaller than 0.001\n",
      "  AD1S, AD2S, AD3S = stats.anderson_ksamp([MIN_DISTANCE_HOT_DEG,\n",
      "<ipython-input-25-99da4e5d8fd9>:160: UserWarning: p-value floored: true value smaller than 0.001\n",
      "  AD1S, AD2S, AD3S = stats.anderson_ksamp([MIN_DISTANCE_HOT_DEG,\n"
     ]
    },
    {
     "name": "stdout",
     "output_type": "stream",
     "text": [
      "MUTATION!\n"
     ]
    },
    {
     "name": "stderr",
     "output_type": "stream",
     "text": [
      "<ipython-input-25-99da4e5d8fd9>:160: UserWarning: p-value floored: true value smaller than 0.001\n",
      "  AD1S, AD2S, AD3S = stats.anderson_ksamp([MIN_DISTANCE_HOT_DEG,\n"
     ]
    },
    {
     "name": "stdout",
     "output_type": "stream",
     "text": [
      "MUTATION!\n"
     ]
    },
    {
     "name": "stderr",
     "output_type": "stream",
     "text": [
      "<ipython-input-25-99da4e5d8fd9>:160: UserWarning: p-value floored: true value smaller than 0.001\n",
      "  AD1S, AD2S, AD3S = stats.anderson_ksamp([MIN_DISTANCE_HOT_DEG,\n",
      "<ipython-input-25-99da4e5d8fd9>:160: UserWarning: p-value floored: true value smaller than 0.001\n",
      "  AD1S, AD2S, AD3S = stats.anderson_ksamp([MIN_DISTANCE_HOT_DEG,\n",
      "<ipython-input-25-99da4e5d8fd9>:160: UserWarning: p-value floored: true value smaller than 0.001\n",
      "  AD1S, AD2S, AD3S = stats.anderson_ksamp([MIN_DISTANCE_HOT_DEG,\n"
     ]
    },
    {
     "name": "stdout",
     "output_type": "stream",
     "text": [
      "Random 401 out of 1000\n"
     ]
    },
    {
     "name": "stderr",
     "output_type": "stream",
     "text": [
      "<ipython-input-25-99da4e5d8fd9>:160: UserWarning: p-value floored: true value smaller than 0.001\n",
      "  AD1S, AD2S, AD3S = stats.anderson_ksamp([MIN_DISTANCE_HOT_DEG,\n",
      "<ipython-input-25-99da4e5d8fd9>:160: UserWarning: p-value floored: true value smaller than 0.001\n",
      "  AD1S, AD2S, AD3S = stats.anderson_ksamp([MIN_DISTANCE_HOT_DEG,\n",
      "<ipython-input-25-99da4e5d8fd9>:160: UserWarning: p-value floored: true value smaller than 0.001\n",
      "  AD1S, AD2S, AD3S = stats.anderson_ksamp([MIN_DISTANCE_HOT_DEG,\n",
      "<ipython-input-25-99da4e5d8fd9>:160: UserWarning: p-value floored: true value smaller than 0.001\n",
      "  AD1S, AD2S, AD3S = stats.anderson_ksamp([MIN_DISTANCE_HOT_DEG,\n",
      "<ipython-input-25-99da4e5d8fd9>:160: UserWarning: p-value floored: true value smaller than 0.001\n",
      "  AD1S, AD2S, AD3S = stats.anderson_ksamp([MIN_DISTANCE_HOT_DEG,\n",
      "<ipython-input-25-99da4e5d8fd9>:160: UserWarning: p-value floored: true value smaller than 0.001\n",
      "  AD1S, AD2S, AD3S = stats.anderson_ksamp([MIN_DISTANCE_HOT_DEG,\n"
     ]
    },
    {
     "name": "stdout",
     "output_type": "stream",
     "text": [
      "Random 411 out of 1000\n"
     ]
    },
    {
     "name": "stderr",
     "output_type": "stream",
     "text": [
      "<ipython-input-25-99da4e5d8fd9>:160: UserWarning: p-value floored: true value smaller than 0.001\n",
      "  AD1S, AD2S, AD3S = stats.anderson_ksamp([MIN_DISTANCE_HOT_DEG,\n",
      "<ipython-input-25-99da4e5d8fd9>:160: UserWarning: p-value floored: true value smaller than 0.001\n",
      "  AD1S, AD2S, AD3S = stats.anderson_ksamp([MIN_DISTANCE_HOT_DEG,\n",
      "<ipython-input-25-99da4e5d8fd9>:160: UserWarning: p-value floored: true value smaller than 0.001\n",
      "  AD1S, AD2S, AD3S = stats.anderson_ksamp([MIN_DISTANCE_HOT_DEG,\n",
      "<ipython-input-25-99da4e5d8fd9>:160: UserWarning: p-value floored: true value smaller than 0.001\n",
      "  AD1S, AD2S, AD3S = stats.anderson_ksamp([MIN_DISTANCE_HOT_DEG,\n",
      "<ipython-input-25-99da4e5d8fd9>:160: UserWarning: p-value floored: true value smaller than 0.001\n",
      "  AD1S, AD2S, AD3S = stats.anderson_ksamp([MIN_DISTANCE_HOT_DEG,\n",
      "<ipython-input-25-99da4e5d8fd9>:160: UserWarning: p-value floored: true value smaller than 0.001\n",
      "  AD1S, AD2S, AD3S = stats.anderson_ksamp([MIN_DISTANCE_HOT_DEG,\n"
     ]
    },
    {
     "name": "stdout",
     "output_type": "stream",
     "text": [
      "Random 421 out of 1000\n"
     ]
    },
    {
     "name": "stderr",
     "output_type": "stream",
     "text": [
      "<ipython-input-25-99da4e5d8fd9>:160: UserWarning: p-value floored: true value smaller than 0.001\n",
      "  AD1S, AD2S, AD3S = stats.anderson_ksamp([MIN_DISTANCE_HOT_DEG,\n",
      "<ipython-input-25-99da4e5d8fd9>:160: UserWarning: p-value floored: true value smaller than 0.001\n",
      "  AD1S, AD2S, AD3S = stats.anderson_ksamp([MIN_DISTANCE_HOT_DEG,\n",
      "<ipython-input-25-99da4e5d8fd9>:160: UserWarning: p-value floored: true value smaller than 0.001\n",
      "  AD1S, AD2S, AD3S = stats.anderson_ksamp([MIN_DISTANCE_HOT_DEG,\n",
      "<ipython-input-25-99da4e5d8fd9>:160: UserWarning: p-value floored: true value smaller than 0.001\n",
      "  AD1S, AD2S, AD3S = stats.anderson_ksamp([MIN_DISTANCE_HOT_DEG,\n",
      "<ipython-input-25-99da4e5d8fd9>:160: UserWarning: p-value floored: true value smaller than 0.001\n",
      "  AD1S, AD2S, AD3S = stats.anderson_ksamp([MIN_DISTANCE_HOT_DEG,\n",
      "<ipython-input-25-99da4e5d8fd9>:160: UserWarning: p-value floored: true value smaller than 0.001\n",
      "  AD1S, AD2S, AD3S = stats.anderson_ksamp([MIN_DISTANCE_HOT_DEG,\n"
     ]
    },
    {
     "name": "stdout",
     "output_type": "stream",
     "text": [
      "Random 431 out of 1000\n"
     ]
    },
    {
     "name": "stderr",
     "output_type": "stream",
     "text": [
      "<ipython-input-25-99da4e5d8fd9>:160: UserWarning: p-value floored: true value smaller than 0.001\n",
      "  AD1S, AD2S, AD3S = stats.anderson_ksamp([MIN_DISTANCE_HOT_DEG,\n",
      "<ipython-input-25-99da4e5d8fd9>:160: UserWarning: p-value floored: true value smaller than 0.001\n",
      "  AD1S, AD2S, AD3S = stats.anderson_ksamp([MIN_DISTANCE_HOT_DEG,\n",
      "<ipython-input-25-99da4e5d8fd9>:160: UserWarning: p-value floored: true value smaller than 0.001\n",
      "  AD1S, AD2S, AD3S = stats.anderson_ksamp([MIN_DISTANCE_HOT_DEG,\n",
      "<ipython-input-25-99da4e5d8fd9>:160: UserWarning: p-value floored: true value smaller than 0.001\n",
      "  AD1S, AD2S, AD3S = stats.anderson_ksamp([MIN_DISTANCE_HOT_DEG,\n",
      "<ipython-input-25-99da4e5d8fd9>:160: UserWarning: p-value floored: true value smaller than 0.001\n",
      "  AD1S, AD2S, AD3S = stats.anderson_ksamp([MIN_DISTANCE_HOT_DEG,\n",
      "<ipython-input-25-99da4e5d8fd9>:160: UserWarning: p-value floored: true value smaller than 0.001\n",
      "  AD1S, AD2S, AD3S = stats.anderson_ksamp([MIN_DISTANCE_HOT_DEG,\n"
     ]
    },
    {
     "name": "stdout",
     "output_type": "stream",
     "text": [
      "Random 441 out of 1000\n"
     ]
    },
    {
     "name": "stderr",
     "output_type": "stream",
     "text": [
      "<ipython-input-25-99da4e5d8fd9>:160: UserWarning: p-value floored: true value smaller than 0.001\n",
      "  AD1S, AD2S, AD3S = stats.anderson_ksamp([MIN_DISTANCE_HOT_DEG,\n",
      "<ipython-input-25-99da4e5d8fd9>:160: UserWarning: p-value floored: true value smaller than 0.001\n",
      "  AD1S, AD2S, AD3S = stats.anderson_ksamp([MIN_DISTANCE_HOT_DEG,\n",
      "<ipython-input-25-99da4e5d8fd9>:160: UserWarning: p-value floored: true value smaller than 0.001\n",
      "  AD1S, AD2S, AD3S = stats.anderson_ksamp([MIN_DISTANCE_HOT_DEG,\n",
      "<ipython-input-25-99da4e5d8fd9>:160: UserWarning: p-value floored: true value smaller than 0.001\n",
      "  AD1S, AD2S, AD3S = stats.anderson_ksamp([MIN_DISTANCE_HOT_DEG,\n",
      "<ipython-input-25-99da4e5d8fd9>:160: UserWarning: p-value floored: true value smaller than 0.001\n",
      "  AD1S, AD2S, AD3S = stats.anderson_ksamp([MIN_DISTANCE_HOT_DEG,\n"
     ]
    },
    {
     "name": "stdout",
     "output_type": "stream",
     "text": [
      "Random 451 out of 1000\n"
     ]
    },
    {
     "name": "stderr",
     "output_type": "stream",
     "text": [
      "<ipython-input-25-99da4e5d8fd9>:160: UserWarning: p-value floored: true value smaller than 0.001\n",
      "  AD1S, AD2S, AD3S = stats.anderson_ksamp([MIN_DISTANCE_HOT_DEG,\n",
      "<ipython-input-25-99da4e5d8fd9>:160: UserWarning: p-value floored: true value smaller than 0.001\n",
      "  AD1S, AD2S, AD3S = stats.anderson_ksamp([MIN_DISTANCE_HOT_DEG,\n",
      "<ipython-input-25-99da4e5d8fd9>:160: UserWarning: p-value floored: true value smaller than 0.001\n",
      "  AD1S, AD2S, AD3S = stats.anderson_ksamp([MIN_DISTANCE_HOT_DEG,\n",
      "<ipython-input-25-99da4e5d8fd9>:160: UserWarning: p-value floored: true value smaller than 0.001\n",
      "  AD1S, AD2S, AD3S = stats.anderson_ksamp([MIN_DISTANCE_HOT_DEG,\n",
      "<ipython-input-25-99da4e5d8fd9>:160: UserWarning: p-value floored: true value smaller than 0.001\n",
      "  AD1S, AD2S, AD3S = stats.anderson_ksamp([MIN_DISTANCE_HOT_DEG,\n",
      "<ipython-input-25-99da4e5d8fd9>:160: UserWarning: p-value floored: true value smaller than 0.001\n",
      "  AD1S, AD2S, AD3S = stats.anderson_ksamp([MIN_DISTANCE_HOT_DEG,\n",
      "<ipython-input-25-99da4e5d8fd9>:160: UserWarning: p-value floored: true value smaller than 0.001\n",
      "  AD1S, AD2S, AD3S = stats.anderson_ksamp([MIN_DISTANCE_HOT_DEG,\n",
      "<ipython-input-25-99da4e5d8fd9>:160: UserWarning: p-value floored: true value smaller than 0.001\n",
      "  AD1S, AD2S, AD3S = stats.anderson_ksamp([MIN_DISTANCE_HOT_DEG,\n"
     ]
    },
    {
     "name": "stdout",
     "output_type": "stream",
     "text": [
      "Random 461 out of 1000\n"
     ]
    },
    {
     "name": "stderr",
     "output_type": "stream",
     "text": [
      "<ipython-input-25-99da4e5d8fd9>:160: UserWarning: p-value floored: true value smaller than 0.001\n",
      "  AD1S, AD2S, AD3S = stats.anderson_ksamp([MIN_DISTANCE_HOT_DEG,\n",
      "<ipython-input-25-99da4e5d8fd9>:160: UserWarning: p-value floored: true value smaller than 0.001\n",
      "  AD1S, AD2S, AD3S = stats.anderson_ksamp([MIN_DISTANCE_HOT_DEG,\n",
      "<ipython-input-25-99da4e5d8fd9>:160: UserWarning: p-value floored: true value smaller than 0.001\n",
      "  AD1S, AD2S, AD3S = stats.anderson_ksamp([MIN_DISTANCE_HOT_DEG,\n",
      "<ipython-input-25-99da4e5d8fd9>:160: UserWarning: p-value floored: true value smaller than 0.001\n",
      "  AD1S, AD2S, AD3S = stats.anderson_ksamp([MIN_DISTANCE_HOT_DEG,\n",
      "<ipython-input-25-99da4e5d8fd9>:160: UserWarning: p-value floored: true value smaller than 0.001\n",
      "  AD1S, AD2S, AD3S = stats.anderson_ksamp([MIN_DISTANCE_HOT_DEG,\n",
      "<ipython-input-25-99da4e5d8fd9>:160: UserWarning: p-value floored: true value smaller than 0.001\n",
      "  AD1S, AD2S, AD3S = stats.anderson_ksamp([MIN_DISTANCE_HOT_DEG,\n"
     ]
    },
    {
     "name": "stdout",
     "output_type": "stream",
     "text": [
      "Random 471 out of 1000\n"
     ]
    },
    {
     "name": "stderr",
     "output_type": "stream",
     "text": [
      "<ipython-input-25-99da4e5d8fd9>:160: UserWarning: p-value floored: true value smaller than 0.001\n",
      "  AD1S, AD2S, AD3S = stats.anderson_ksamp([MIN_DISTANCE_HOT_DEG,\n",
      "<ipython-input-25-99da4e5d8fd9>:160: UserWarning: p-value floored: true value smaller than 0.001\n",
      "  AD1S, AD2S, AD3S = stats.anderson_ksamp([MIN_DISTANCE_HOT_DEG,\n",
      "<ipython-input-25-99da4e5d8fd9>:160: UserWarning: p-value floored: true value smaller than 0.001\n",
      "  AD1S, AD2S, AD3S = stats.anderson_ksamp([MIN_DISTANCE_HOT_DEG,\n",
      "<ipython-input-25-99da4e5d8fd9>:160: UserWarning: p-value floored: true value smaller than 0.001\n",
      "  AD1S, AD2S, AD3S = stats.anderson_ksamp([MIN_DISTANCE_HOT_DEG,\n",
      "<ipython-input-25-99da4e5d8fd9>:160: UserWarning: p-value floored: true value smaller than 0.001\n",
      "  AD1S, AD2S, AD3S = stats.anderson_ksamp([MIN_DISTANCE_HOT_DEG,\n",
      "<ipython-input-25-99da4e5d8fd9>:160: UserWarning: p-value floored: true value smaller than 0.001\n",
      "  AD1S, AD2S, AD3S = stats.anderson_ksamp([MIN_DISTANCE_HOT_DEG,\n",
      "<ipython-input-25-99da4e5d8fd9>:160: UserWarning: p-value floored: true value smaller than 0.001\n",
      "  AD1S, AD2S, AD3S = stats.anderson_ksamp([MIN_DISTANCE_HOT_DEG,\n"
     ]
    },
    {
     "name": "stdout",
     "output_type": "stream",
     "text": [
      "Random 481 out of 1000\n"
     ]
    },
    {
     "name": "stderr",
     "output_type": "stream",
     "text": [
      "<ipython-input-25-99da4e5d8fd9>:160: UserWarning: p-value floored: true value smaller than 0.001\n",
      "  AD1S, AD2S, AD3S = stats.anderson_ksamp([MIN_DISTANCE_HOT_DEG,\n",
      "<ipython-input-25-99da4e5d8fd9>:160: UserWarning: p-value floored: true value smaller than 0.001\n",
      "  AD1S, AD2S, AD3S = stats.anderson_ksamp([MIN_DISTANCE_HOT_DEG,\n",
      "<ipython-input-25-99da4e5d8fd9>:160: UserWarning: p-value floored: true value smaller than 0.001\n",
      "  AD1S, AD2S, AD3S = stats.anderson_ksamp([MIN_DISTANCE_HOT_DEG,\n",
      "<ipython-input-25-99da4e5d8fd9>:160: UserWarning: p-value floored: true value smaller than 0.001\n",
      "  AD1S, AD2S, AD3S = stats.anderson_ksamp([MIN_DISTANCE_HOT_DEG,\n",
      "<ipython-input-25-99da4e5d8fd9>:160: UserWarning: p-value floored: true value smaller than 0.001\n",
      "  AD1S, AD2S, AD3S = stats.anderson_ksamp([MIN_DISTANCE_HOT_DEG,\n",
      "<ipython-input-25-99da4e5d8fd9>:160: UserWarning: p-value floored: true value smaller than 0.001\n",
      "  AD1S, AD2S, AD3S = stats.anderson_ksamp([MIN_DISTANCE_HOT_DEG,\n",
      "<ipython-input-25-99da4e5d8fd9>:160: UserWarning: p-value floored: true value smaller than 0.001\n",
      "  AD1S, AD2S, AD3S = stats.anderson_ksamp([MIN_DISTANCE_HOT_DEG,\n",
      "<ipython-input-25-99da4e5d8fd9>:160: UserWarning: p-value floored: true value smaller than 0.001\n",
      "  AD1S, AD2S, AD3S = stats.anderson_ksamp([MIN_DISTANCE_HOT_DEG,\n",
      "<ipython-input-25-99da4e5d8fd9>:160: UserWarning: p-value floored: true value smaller than 0.001\n",
      "  AD1S, AD2S, AD3S = stats.anderson_ksamp([MIN_DISTANCE_HOT_DEG,\n"
     ]
    },
    {
     "name": "stdout",
     "output_type": "stream",
     "text": [
      "Random 491 out of 1000\n"
     ]
    },
    {
     "name": "stderr",
     "output_type": "stream",
     "text": [
      "<ipython-input-25-99da4e5d8fd9>:160: UserWarning: p-value floored: true value smaller than 0.001\n",
      "  AD1S, AD2S, AD3S = stats.anderson_ksamp([MIN_DISTANCE_HOT_DEG,\n",
      "<ipython-input-25-99da4e5d8fd9>:160: UserWarning: p-value floored: true value smaller than 0.001\n",
      "  AD1S, AD2S, AD3S = stats.anderson_ksamp([MIN_DISTANCE_HOT_DEG,\n",
      "<ipython-input-25-99da4e5d8fd9>:160: UserWarning: p-value floored: true value smaller than 0.001\n",
      "  AD1S, AD2S, AD3S = stats.anderson_ksamp([MIN_DISTANCE_HOT_DEG,\n",
      "<ipython-input-25-99da4e5d8fd9>:160: UserWarning: p-value floored: true value smaller than 0.001\n",
      "  AD1S, AD2S, AD3S = stats.anderson_ksamp([MIN_DISTANCE_HOT_DEG,\n",
      "<ipython-input-25-99da4e5d8fd9>:160: UserWarning: p-value floored: true value smaller than 0.001\n",
      "  AD1S, AD2S, AD3S = stats.anderson_ksamp([MIN_DISTANCE_HOT_DEG,\n",
      "<ipython-input-25-99da4e5d8fd9>:160: UserWarning: p-value floored: true value smaller than 0.001\n",
      "  AD1S, AD2S, AD3S = stats.anderson_ksamp([MIN_DISTANCE_HOT_DEG,\n",
      "<ipython-input-25-99da4e5d8fd9>:160: UserWarning: p-value floored: true value smaller than 0.001\n",
      "  AD1S, AD2S, AD3S = stats.anderson_ksamp([MIN_DISTANCE_HOT_DEG,\n",
      "<ipython-input-25-99da4e5d8fd9>:160: UserWarning: p-value floored: true value smaller than 0.001\n",
      "  AD1S, AD2S, AD3S = stats.anderson_ksamp([MIN_DISTANCE_HOT_DEG,\n",
      "<ipython-input-25-99da4e5d8fd9>:160: UserWarning: p-value floored: true value smaller than 0.001\n",
      "  AD1S, AD2S, AD3S = stats.anderson_ksamp([MIN_DISTANCE_HOT_DEG,\n"
     ]
    },
    {
     "name": "stdout",
     "output_type": "stream",
     "text": [
      "Random 501 out of 1000\n"
     ]
    },
    {
     "name": "stderr",
     "output_type": "stream",
     "text": [
      "<ipython-input-25-99da4e5d8fd9>:160: UserWarning: p-value floored: true value smaller than 0.001\n",
      "  AD1S, AD2S, AD3S = stats.anderson_ksamp([MIN_DISTANCE_HOT_DEG,\n",
      "<ipython-input-25-99da4e5d8fd9>:160: UserWarning: p-value floored: true value smaller than 0.001\n",
      "  AD1S, AD2S, AD3S = stats.anderson_ksamp([MIN_DISTANCE_HOT_DEG,\n",
      "<ipython-input-25-99da4e5d8fd9>:160: UserWarning: p-value floored: true value smaller than 0.001\n",
      "  AD1S, AD2S, AD3S = stats.anderson_ksamp([MIN_DISTANCE_HOT_DEG,\n",
      "<ipython-input-25-99da4e5d8fd9>:160: UserWarning: p-value floored: true value smaller than 0.001\n",
      "  AD1S, AD2S, AD3S = stats.anderson_ksamp([MIN_DISTANCE_HOT_DEG,\n",
      "<ipython-input-25-99da4e5d8fd9>:160: UserWarning: p-value floored: true value smaller than 0.001\n",
      "  AD1S, AD2S, AD3S = stats.anderson_ksamp([MIN_DISTANCE_HOT_DEG,\n",
      "<ipython-input-25-99da4e5d8fd9>:160: UserWarning: p-value floored: true value smaller than 0.001\n",
      "  AD1S, AD2S, AD3S = stats.anderson_ksamp([MIN_DISTANCE_HOT_DEG,\n",
      "<ipython-input-25-99da4e5d8fd9>:160: UserWarning: p-value floored: true value smaller than 0.001\n",
      "  AD1S, AD2S, AD3S = stats.anderson_ksamp([MIN_DISTANCE_HOT_DEG,\n"
     ]
    },
    {
     "name": "stdout",
     "output_type": "stream",
     "text": [
      "Random 511 out of 1000\n"
     ]
    },
    {
     "name": "stderr",
     "output_type": "stream",
     "text": [
      "<ipython-input-25-99da4e5d8fd9>:160: UserWarning: p-value floored: true value smaller than 0.001\n",
      "  AD1S, AD2S, AD3S = stats.anderson_ksamp([MIN_DISTANCE_HOT_DEG,\n",
      "<ipython-input-25-99da4e5d8fd9>:160: UserWarning: p-value floored: true value smaller than 0.001\n",
      "  AD1S, AD2S, AD3S = stats.anderson_ksamp([MIN_DISTANCE_HOT_DEG,\n",
      "<ipython-input-25-99da4e5d8fd9>:160: UserWarning: p-value floored: true value smaller than 0.001\n",
      "  AD1S, AD2S, AD3S = stats.anderson_ksamp([MIN_DISTANCE_HOT_DEG,\n",
      "<ipython-input-25-99da4e5d8fd9>:160: UserWarning: p-value floored: true value smaller than 0.001\n",
      "  AD1S, AD2S, AD3S = stats.anderson_ksamp([MIN_DISTANCE_HOT_DEG,\n",
      "<ipython-input-25-99da4e5d8fd9>:160: UserWarning: p-value floored: true value smaller than 0.001\n",
      "  AD1S, AD2S, AD3S = stats.anderson_ksamp([MIN_DISTANCE_HOT_DEG,\n",
      "<ipython-input-25-99da4e5d8fd9>:160: UserWarning: p-value floored: true value smaller than 0.001\n",
      "  AD1S, AD2S, AD3S = stats.anderson_ksamp([MIN_DISTANCE_HOT_DEG,\n",
      "<ipython-input-25-99da4e5d8fd9>:160: UserWarning: p-value floored: true value smaller than 0.001\n",
      "  AD1S, AD2S, AD3S = stats.anderson_ksamp([MIN_DISTANCE_HOT_DEG,\n",
      "<ipython-input-25-99da4e5d8fd9>:160: UserWarning: p-value floored: true value smaller than 0.001\n",
      "  AD1S, AD2S, AD3S = stats.anderson_ksamp([MIN_DISTANCE_HOT_DEG,\n"
     ]
    },
    {
     "name": "stdout",
     "output_type": "stream",
     "text": [
      "Random 521 out of 1000\n"
     ]
    },
    {
     "name": "stderr",
     "output_type": "stream",
     "text": [
      "<ipython-input-25-99da4e5d8fd9>:160: UserWarning: p-value floored: true value smaller than 0.001\n",
      "  AD1S, AD2S, AD3S = stats.anderson_ksamp([MIN_DISTANCE_HOT_DEG,\n",
      "<ipython-input-25-99da4e5d8fd9>:160: UserWarning: p-value floored: true value smaller than 0.001\n",
      "  AD1S, AD2S, AD3S = stats.anderson_ksamp([MIN_DISTANCE_HOT_DEG,\n",
      "<ipython-input-25-99da4e5d8fd9>:160: UserWarning: p-value floored: true value smaller than 0.001\n",
      "  AD1S, AD2S, AD3S = stats.anderson_ksamp([MIN_DISTANCE_HOT_DEG,\n",
      "<ipython-input-25-99da4e5d8fd9>:160: UserWarning: p-value floored: true value smaller than 0.001\n",
      "  AD1S, AD2S, AD3S = stats.anderson_ksamp([MIN_DISTANCE_HOT_DEG,\n",
      "<ipython-input-25-99da4e5d8fd9>:160: UserWarning: p-value floored: true value smaller than 0.001\n",
      "  AD1S, AD2S, AD3S = stats.anderson_ksamp([MIN_DISTANCE_HOT_DEG,\n",
      "<ipython-input-25-99da4e5d8fd9>:160: UserWarning: p-value floored: true value smaller than 0.001\n",
      "  AD1S, AD2S, AD3S = stats.anderson_ksamp([MIN_DISTANCE_HOT_DEG,\n",
      "<ipython-input-25-99da4e5d8fd9>:160: UserWarning: p-value floored: true value smaller than 0.001\n",
      "  AD1S, AD2S, AD3S = stats.anderson_ksamp([MIN_DISTANCE_HOT_DEG,\n"
     ]
    },
    {
     "name": "stdout",
     "output_type": "stream",
     "text": [
      "Random 531 out of 1000\n"
     ]
    },
    {
     "name": "stderr",
     "output_type": "stream",
     "text": [
      "<ipython-input-25-99da4e5d8fd9>:160: UserWarning: p-value floored: true value smaller than 0.001\n",
      "  AD1S, AD2S, AD3S = stats.anderson_ksamp([MIN_DISTANCE_HOT_DEG,\n",
      "<ipython-input-25-99da4e5d8fd9>:160: UserWarning: p-value floored: true value smaller than 0.001\n",
      "  AD1S, AD2S, AD3S = stats.anderson_ksamp([MIN_DISTANCE_HOT_DEG,\n",
      "<ipython-input-25-99da4e5d8fd9>:160: UserWarning: p-value floored: true value smaller than 0.001\n",
      "  AD1S, AD2S, AD3S = stats.anderson_ksamp([MIN_DISTANCE_HOT_DEG,\n",
      "<ipython-input-25-99da4e5d8fd9>:160: UserWarning: p-value floored: true value smaller than 0.001\n",
      "  AD1S, AD2S, AD3S = stats.anderson_ksamp([MIN_DISTANCE_HOT_DEG,\n",
      "<ipython-input-25-99da4e5d8fd9>:160: UserWarning: p-value floored: true value smaller than 0.001\n",
      "  AD1S, AD2S, AD3S = stats.anderson_ksamp([MIN_DISTANCE_HOT_DEG,\n"
     ]
    },
    {
     "name": "stdout",
     "output_type": "stream",
     "text": [
      "Random 541 out of 1000\n"
     ]
    },
    {
     "name": "stderr",
     "output_type": "stream",
     "text": [
      "<ipython-input-25-99da4e5d8fd9>:160: UserWarning: p-value floored: true value smaller than 0.001\n",
      "  AD1S, AD2S, AD3S = stats.anderson_ksamp([MIN_DISTANCE_HOT_DEG,\n",
      "<ipython-input-25-99da4e5d8fd9>:160: UserWarning: p-value floored: true value smaller than 0.001\n",
      "  AD1S, AD2S, AD3S = stats.anderson_ksamp([MIN_DISTANCE_HOT_DEG,\n",
      "<ipython-input-25-99da4e5d8fd9>:160: UserWarning: p-value floored: true value smaller than 0.001\n",
      "  AD1S, AD2S, AD3S = stats.anderson_ksamp([MIN_DISTANCE_HOT_DEG,\n",
      "<ipython-input-25-99da4e5d8fd9>:160: UserWarning: p-value floored: true value smaller than 0.001\n",
      "  AD1S, AD2S, AD3S = stats.anderson_ksamp([MIN_DISTANCE_HOT_DEG,\n",
      "<ipython-input-25-99da4e5d8fd9>:160: UserWarning: p-value floored: true value smaller than 0.001\n",
      "  AD1S, AD2S, AD3S = stats.anderson_ksamp([MIN_DISTANCE_HOT_DEG,\n",
      "<ipython-input-25-99da4e5d8fd9>:160: UserWarning: p-value floored: true value smaller than 0.001\n",
      "  AD1S, AD2S, AD3S = stats.anderson_ksamp([MIN_DISTANCE_HOT_DEG,\n",
      "<ipython-input-25-99da4e5d8fd9>:160: UserWarning: p-value floored: true value smaller than 0.001\n",
      "  AD1S, AD2S, AD3S = stats.anderson_ksamp([MIN_DISTANCE_HOT_DEG,\n"
     ]
    },
    {
     "name": "stdout",
     "output_type": "stream",
     "text": [
      "Random 551 out of 1000\n"
     ]
    },
    {
     "name": "stderr",
     "output_type": "stream",
     "text": [
      "<ipython-input-25-99da4e5d8fd9>:160: UserWarning: p-value floored: true value smaller than 0.001\n",
      "  AD1S, AD2S, AD3S = stats.anderson_ksamp([MIN_DISTANCE_HOT_DEG,\n",
      "<ipython-input-25-99da4e5d8fd9>:160: UserWarning: p-value floored: true value smaller than 0.001\n",
      "  AD1S, AD2S, AD3S = stats.anderson_ksamp([MIN_DISTANCE_HOT_DEG,\n",
      "<ipython-input-25-99da4e5d8fd9>:160: UserWarning: p-value floored: true value smaller than 0.001\n",
      "  AD1S, AD2S, AD3S = stats.anderson_ksamp([MIN_DISTANCE_HOT_DEG,\n",
      "<ipython-input-25-99da4e5d8fd9>:160: UserWarning: p-value floored: true value smaller than 0.001\n",
      "  AD1S, AD2S, AD3S = stats.anderson_ksamp([MIN_DISTANCE_HOT_DEG,\n",
      "<ipython-input-25-99da4e5d8fd9>:160: UserWarning: p-value floored: true value smaller than 0.001\n",
      "  AD1S, AD2S, AD3S = stats.anderson_ksamp([MIN_DISTANCE_HOT_DEG,\n",
      "<ipython-input-25-99da4e5d8fd9>:160: UserWarning: p-value floored: true value smaller than 0.001\n",
      "  AD1S, AD2S, AD3S = stats.anderson_ksamp([MIN_DISTANCE_HOT_DEG,\n",
      "<ipython-input-25-99da4e5d8fd9>:160: UserWarning: p-value floored: true value smaller than 0.001\n",
      "  AD1S, AD2S, AD3S = stats.anderson_ksamp([MIN_DISTANCE_HOT_DEG,\n",
      "<ipython-input-25-99da4e5d8fd9>:160: UserWarning: p-value floored: true value smaller than 0.001\n",
      "  AD1S, AD2S, AD3S = stats.anderson_ksamp([MIN_DISTANCE_HOT_DEG,\n"
     ]
    },
    {
     "name": "stdout",
     "output_type": "stream",
     "text": [
      "Random 561 out of 1000\n"
     ]
    },
    {
     "name": "stderr",
     "output_type": "stream",
     "text": [
      "<ipython-input-25-99da4e5d8fd9>:160: UserWarning: p-value floored: true value smaller than 0.001\n",
      "  AD1S, AD2S, AD3S = stats.anderson_ksamp([MIN_DISTANCE_HOT_DEG,\n",
      "<ipython-input-25-99da4e5d8fd9>:160: UserWarning: p-value floored: true value smaller than 0.001\n",
      "  AD1S, AD2S, AD3S = stats.anderson_ksamp([MIN_DISTANCE_HOT_DEG,\n",
      "<ipython-input-25-99da4e5d8fd9>:160: UserWarning: p-value floored: true value smaller than 0.001\n",
      "  AD1S, AD2S, AD3S = stats.anderson_ksamp([MIN_DISTANCE_HOT_DEG,\n",
      "<ipython-input-25-99da4e5d8fd9>:160: UserWarning: p-value floored: true value smaller than 0.001\n",
      "  AD1S, AD2S, AD3S = stats.anderson_ksamp([MIN_DISTANCE_HOT_DEG,\n",
      "<ipython-input-25-99da4e5d8fd9>:160: UserWarning: p-value floored: true value smaller than 0.001\n",
      "  AD1S, AD2S, AD3S = stats.anderson_ksamp([MIN_DISTANCE_HOT_DEG,\n",
      "<ipython-input-25-99da4e5d8fd9>:160: UserWarning: p-value floored: true value smaller than 0.001\n",
      "  AD1S, AD2S, AD3S = stats.anderson_ksamp([MIN_DISTANCE_HOT_DEG,\n",
      "<ipython-input-25-99da4e5d8fd9>:160: UserWarning: p-value floored: true value smaller than 0.001\n",
      "  AD1S, AD2S, AD3S = stats.anderson_ksamp([MIN_DISTANCE_HOT_DEG,\n"
     ]
    },
    {
     "name": "stdout",
     "output_type": "stream",
     "text": [
      "Random 571 out of 1000\n"
     ]
    },
    {
     "name": "stderr",
     "output_type": "stream",
     "text": [
      "<ipython-input-25-99da4e5d8fd9>:160: UserWarning: p-value floored: true value smaller than 0.001\n",
      "  AD1S, AD2S, AD3S = stats.anderson_ksamp([MIN_DISTANCE_HOT_DEG,\n",
      "<ipython-input-25-99da4e5d8fd9>:160: UserWarning: p-value floored: true value smaller than 0.001\n",
      "  AD1S, AD2S, AD3S = stats.anderson_ksamp([MIN_DISTANCE_HOT_DEG,\n",
      "<ipython-input-25-99da4e5d8fd9>:160: UserWarning: p-value floored: true value smaller than 0.001\n",
      "  AD1S, AD2S, AD3S = stats.anderson_ksamp([MIN_DISTANCE_HOT_DEG,\n",
      "<ipython-input-25-99da4e5d8fd9>:160: UserWarning: p-value floored: true value smaller than 0.001\n",
      "  AD1S, AD2S, AD3S = stats.anderson_ksamp([MIN_DISTANCE_HOT_DEG,\n",
      "<ipython-input-25-99da4e5d8fd9>:160: UserWarning: p-value floored: true value smaller than 0.001\n",
      "  AD1S, AD2S, AD3S = stats.anderson_ksamp([MIN_DISTANCE_HOT_DEG,\n",
      "<ipython-input-25-99da4e5d8fd9>:160: UserWarning: p-value floored: true value smaller than 0.001\n",
      "  AD1S, AD2S, AD3S = stats.anderson_ksamp([MIN_DISTANCE_HOT_DEG,\n",
      "<ipython-input-25-99da4e5d8fd9>:160: UserWarning: p-value floored: true value smaller than 0.001\n",
      "  AD1S, AD2S, AD3S = stats.anderson_ksamp([MIN_DISTANCE_HOT_DEG,\n"
     ]
    },
    {
     "name": "stdout",
     "output_type": "stream",
     "text": [
      "Random 581 out of 1000\n"
     ]
    },
    {
     "name": "stderr",
     "output_type": "stream",
     "text": [
      "<ipython-input-25-99da4e5d8fd9>:160: UserWarning: p-value floored: true value smaller than 0.001\n",
      "  AD1S, AD2S, AD3S = stats.anderson_ksamp([MIN_DISTANCE_HOT_DEG,\n",
      "<ipython-input-25-99da4e5d8fd9>:160: UserWarning: p-value floored: true value smaller than 0.001\n",
      "  AD1S, AD2S, AD3S = stats.anderson_ksamp([MIN_DISTANCE_HOT_DEG,\n",
      "<ipython-input-25-99da4e5d8fd9>:160: UserWarning: p-value floored: true value smaller than 0.001\n",
      "  AD1S, AD2S, AD3S = stats.anderson_ksamp([MIN_DISTANCE_HOT_DEG,\n",
      "<ipython-input-25-99da4e5d8fd9>:160: UserWarning: p-value floored: true value smaller than 0.001\n",
      "  AD1S, AD2S, AD3S = stats.anderson_ksamp([MIN_DISTANCE_HOT_DEG,\n",
      "<ipython-input-25-99da4e5d8fd9>:160: UserWarning: p-value floored: true value smaller than 0.001\n",
      "  AD1S, AD2S, AD3S = stats.anderson_ksamp([MIN_DISTANCE_HOT_DEG,\n"
     ]
    },
    {
     "name": "stdout",
     "output_type": "stream",
     "text": [
      "Random 591 out of 1000\n"
     ]
    },
    {
     "name": "stderr",
     "output_type": "stream",
     "text": [
      "<ipython-input-25-99da4e5d8fd9>:160: UserWarning: p-value floored: true value smaller than 0.001\n",
      "  AD1S, AD2S, AD3S = stats.anderson_ksamp([MIN_DISTANCE_HOT_DEG,\n",
      "<ipython-input-25-99da4e5d8fd9>:160: UserWarning: p-value floored: true value smaller than 0.001\n",
      "  AD1S, AD2S, AD3S = stats.anderson_ksamp([MIN_DISTANCE_HOT_DEG,\n",
      "<ipython-input-25-99da4e5d8fd9>:160: UserWarning: p-value floored: true value smaller than 0.001\n",
      "  AD1S, AD2S, AD3S = stats.anderson_ksamp([MIN_DISTANCE_HOT_DEG,\n",
      "<ipython-input-25-99da4e5d8fd9>:160: UserWarning: p-value floored: true value smaller than 0.001\n",
      "  AD1S, AD2S, AD3S = stats.anderson_ksamp([MIN_DISTANCE_HOT_DEG,\n",
      "<ipython-input-25-99da4e5d8fd9>:160: UserWarning: p-value floored: true value smaller than 0.001\n",
      "  AD1S, AD2S, AD3S = stats.anderson_ksamp([MIN_DISTANCE_HOT_DEG,\n",
      "<ipython-input-25-99da4e5d8fd9>:160: UserWarning: p-value floored: true value smaller than 0.001\n",
      "  AD1S, AD2S, AD3S = stats.anderson_ksamp([MIN_DISTANCE_HOT_DEG,\n",
      "<ipython-input-25-99da4e5d8fd9>:160: UserWarning: p-value floored: true value smaller than 0.001\n",
      "  AD1S, AD2S, AD3S = stats.anderson_ksamp([MIN_DISTANCE_HOT_DEG,\n"
     ]
    },
    {
     "name": "stdout",
     "output_type": "stream",
     "text": [
      "Random 601 out of 1000\n"
     ]
    },
    {
     "name": "stderr",
     "output_type": "stream",
     "text": [
      "<ipython-input-25-99da4e5d8fd9>:160: UserWarning: p-value floored: true value smaller than 0.001\n",
      "  AD1S, AD2S, AD3S = stats.anderson_ksamp([MIN_DISTANCE_HOT_DEG,\n",
      "<ipython-input-25-99da4e5d8fd9>:160: UserWarning: p-value floored: true value smaller than 0.001\n",
      "  AD1S, AD2S, AD3S = stats.anderson_ksamp([MIN_DISTANCE_HOT_DEG,\n",
      "<ipython-input-25-99da4e5d8fd9>:160: UserWarning: p-value floored: true value smaller than 0.001\n",
      "  AD1S, AD2S, AD3S = stats.anderson_ksamp([MIN_DISTANCE_HOT_DEG,\n",
      "<ipython-input-25-99da4e5d8fd9>:160: UserWarning: p-value floored: true value smaller than 0.001\n",
      "  AD1S, AD2S, AD3S = stats.anderson_ksamp([MIN_DISTANCE_HOT_DEG,\n",
      "<ipython-input-25-99da4e5d8fd9>:160: UserWarning: p-value floored: true value smaller than 0.001\n",
      "  AD1S, AD2S, AD3S = stats.anderson_ksamp([MIN_DISTANCE_HOT_DEG,\n"
     ]
    },
    {
     "name": "stdout",
     "output_type": "stream",
     "text": [
      "Random 611 out of 1000\n"
     ]
    },
    {
     "name": "stderr",
     "output_type": "stream",
     "text": [
      "<ipython-input-25-99da4e5d8fd9>:160: UserWarning: p-value floored: true value smaller than 0.001\n",
      "  AD1S, AD2S, AD3S = stats.anderson_ksamp([MIN_DISTANCE_HOT_DEG,\n",
      "<ipython-input-25-99da4e5d8fd9>:160: UserWarning: p-value floored: true value smaller than 0.001\n",
      "  AD1S, AD2S, AD3S = stats.anderson_ksamp([MIN_DISTANCE_HOT_DEG,\n",
      "<ipython-input-25-99da4e5d8fd9>:160: UserWarning: p-value floored: true value smaller than 0.001\n",
      "  AD1S, AD2S, AD3S = stats.anderson_ksamp([MIN_DISTANCE_HOT_DEG,\n",
      "<ipython-input-25-99da4e5d8fd9>:160: UserWarning: p-value floored: true value smaller than 0.001\n",
      "  AD1S, AD2S, AD3S = stats.anderson_ksamp([MIN_DISTANCE_HOT_DEG,\n",
      "<ipython-input-25-99da4e5d8fd9>:160: UserWarning: p-value floored: true value smaller than 0.001\n",
      "  AD1S, AD2S, AD3S = stats.anderson_ksamp([MIN_DISTANCE_HOT_DEG,\n",
      "<ipython-input-25-99da4e5d8fd9>:160: UserWarning: p-value floored: true value smaller than 0.001\n",
      "  AD1S, AD2S, AD3S = stats.anderson_ksamp([MIN_DISTANCE_HOT_DEG,\n",
      "<ipython-input-25-99da4e5d8fd9>:160: UserWarning: p-value floored: true value smaller than 0.001\n",
      "  AD1S, AD2S, AD3S = stats.anderson_ksamp([MIN_DISTANCE_HOT_DEG,\n",
      "<ipython-input-25-99da4e5d8fd9>:160: UserWarning: p-value floored: true value smaller than 0.001\n",
      "  AD1S, AD2S, AD3S = stats.anderson_ksamp([MIN_DISTANCE_HOT_DEG,\n",
      "<ipython-input-25-99da4e5d8fd9>:160: UserWarning: p-value floored: true value smaller than 0.001\n",
      "  AD1S, AD2S, AD3S = stats.anderson_ksamp([MIN_DISTANCE_HOT_DEG,\n"
     ]
    },
    {
     "name": "stdout",
     "output_type": "stream",
     "text": [
      "Random 621 out of 1000\n"
     ]
    },
    {
     "name": "stderr",
     "output_type": "stream",
     "text": [
      "<ipython-input-25-99da4e5d8fd9>:160: UserWarning: p-value floored: true value smaller than 0.001\n",
      "  AD1S, AD2S, AD3S = stats.anderson_ksamp([MIN_DISTANCE_HOT_DEG,\n",
      "<ipython-input-25-99da4e5d8fd9>:160: UserWarning: p-value floored: true value smaller than 0.001\n",
      "  AD1S, AD2S, AD3S = stats.anderson_ksamp([MIN_DISTANCE_HOT_DEG,\n",
      "<ipython-input-25-99da4e5d8fd9>:160: UserWarning: p-value floored: true value smaller than 0.001\n",
      "  AD1S, AD2S, AD3S = stats.anderson_ksamp([MIN_DISTANCE_HOT_DEG,\n",
      "<ipython-input-25-99da4e5d8fd9>:160: UserWarning: p-value floored: true value smaller than 0.001\n",
      "  AD1S, AD2S, AD3S = stats.anderson_ksamp([MIN_DISTANCE_HOT_DEG,\n"
     ]
    },
    {
     "name": "stdout",
     "output_type": "stream",
     "text": [
      "Random 631 out of 1000\n"
     ]
    },
    {
     "name": "stderr",
     "output_type": "stream",
     "text": [
      "<ipython-input-25-99da4e5d8fd9>:160: UserWarning: p-value floored: true value smaller than 0.001\n",
      "  AD1S, AD2S, AD3S = stats.anderson_ksamp([MIN_DISTANCE_HOT_DEG,\n",
      "<ipython-input-25-99da4e5d8fd9>:160: UserWarning: p-value floored: true value smaller than 0.001\n",
      "  AD1S, AD2S, AD3S = stats.anderson_ksamp([MIN_DISTANCE_HOT_DEG,\n",
      "<ipython-input-25-99da4e5d8fd9>:160: UserWarning: p-value floored: true value smaller than 0.001\n",
      "  AD1S, AD2S, AD3S = stats.anderson_ksamp([MIN_DISTANCE_HOT_DEG,\n"
     ]
    },
    {
     "name": "stdout",
     "output_type": "stream",
     "text": [
      "Random 641 out of 1000\n"
     ]
    },
    {
     "name": "stderr",
     "output_type": "stream",
     "text": [
      "<ipython-input-25-99da4e5d8fd9>:160: UserWarning: p-value floored: true value smaller than 0.001\n",
      "  AD1S, AD2S, AD3S = stats.anderson_ksamp([MIN_DISTANCE_HOT_DEG,\n",
      "<ipython-input-25-99da4e5d8fd9>:160: UserWarning: p-value floored: true value smaller than 0.001\n",
      "  AD1S, AD2S, AD3S = stats.anderson_ksamp([MIN_DISTANCE_HOT_DEG,\n",
      "<ipython-input-25-99da4e5d8fd9>:160: UserWarning: p-value floored: true value smaller than 0.001\n",
      "  AD1S, AD2S, AD3S = stats.anderson_ksamp([MIN_DISTANCE_HOT_DEG,\n",
      "<ipython-input-25-99da4e5d8fd9>:160: UserWarning: p-value floored: true value smaller than 0.001\n",
      "  AD1S, AD2S, AD3S = stats.anderson_ksamp([MIN_DISTANCE_HOT_DEG,\n",
      "<ipython-input-25-99da4e5d8fd9>:160: UserWarning: p-value floored: true value smaller than 0.001\n",
      "  AD1S, AD2S, AD3S = stats.anderson_ksamp([MIN_DISTANCE_HOT_DEG,\n",
      "<ipython-input-25-99da4e5d8fd9>:160: UserWarning: p-value floored: true value smaller than 0.001\n",
      "  AD1S, AD2S, AD3S = stats.anderson_ksamp([MIN_DISTANCE_HOT_DEG,\n",
      "<ipython-input-25-99da4e5d8fd9>:160: UserWarning: p-value floored: true value smaller than 0.001\n",
      "  AD1S, AD2S, AD3S = stats.anderson_ksamp([MIN_DISTANCE_HOT_DEG,\n"
     ]
    },
    {
     "name": "stdout",
     "output_type": "stream",
     "text": [
      "Random 651 out of 1000\n"
     ]
    },
    {
     "name": "stderr",
     "output_type": "stream",
     "text": [
      "<ipython-input-25-99da4e5d8fd9>:160: UserWarning: p-value floored: true value smaller than 0.001\n",
      "  AD1S, AD2S, AD3S = stats.anderson_ksamp([MIN_DISTANCE_HOT_DEG,\n",
      "<ipython-input-25-99da4e5d8fd9>:160: UserWarning: p-value floored: true value smaller than 0.001\n",
      "  AD1S, AD2S, AD3S = stats.anderson_ksamp([MIN_DISTANCE_HOT_DEG,\n",
      "<ipython-input-25-99da4e5d8fd9>:160: UserWarning: p-value floored: true value smaller than 0.001\n",
      "  AD1S, AD2S, AD3S = stats.anderson_ksamp([MIN_DISTANCE_HOT_DEG,\n",
      "<ipython-input-25-99da4e5d8fd9>:160: UserWarning: p-value floored: true value smaller than 0.001\n",
      "  AD1S, AD2S, AD3S = stats.anderson_ksamp([MIN_DISTANCE_HOT_DEG,\n",
      "<ipython-input-25-99da4e5d8fd9>:160: UserWarning: p-value floored: true value smaller than 0.001\n",
      "  AD1S, AD2S, AD3S = stats.anderson_ksamp([MIN_DISTANCE_HOT_DEG,\n",
      "<ipython-input-25-99da4e5d8fd9>:160: UserWarning: p-value floored: true value smaller than 0.001\n",
      "  AD1S, AD2S, AD3S = stats.anderson_ksamp([MIN_DISTANCE_HOT_DEG,\n"
     ]
    },
    {
     "name": "stdout",
     "output_type": "stream",
     "text": [
      "Random 661 out of 1000\n"
     ]
    },
    {
     "name": "stderr",
     "output_type": "stream",
     "text": [
      "<ipython-input-25-99da4e5d8fd9>:160: UserWarning: p-value floored: true value smaller than 0.001\n",
      "  AD1S, AD2S, AD3S = stats.anderson_ksamp([MIN_DISTANCE_HOT_DEG,\n"
     ]
    },
    {
     "name": "stdout",
     "output_type": "stream",
     "text": [
      "MUTATION!\n"
     ]
    },
    {
     "name": "stderr",
     "output_type": "stream",
     "text": [
      "<ipython-input-25-99da4e5d8fd9>:160: UserWarning: p-value floored: true value smaller than 0.001\n",
      "  AD1S, AD2S, AD3S = stats.anderson_ksamp([MIN_DISTANCE_HOT_DEG,\n",
      "<ipython-input-25-99da4e5d8fd9>:160: UserWarning: p-value floored: true value smaller than 0.001\n",
      "  AD1S, AD2S, AD3S = stats.anderson_ksamp([MIN_DISTANCE_HOT_DEG,\n",
      "<ipython-input-25-99da4e5d8fd9>:160: UserWarning: p-value floored: true value smaller than 0.001\n",
      "  AD1S, AD2S, AD3S = stats.anderson_ksamp([MIN_DISTANCE_HOT_DEG,\n",
      "<ipython-input-25-99da4e5d8fd9>:160: UserWarning: p-value floored: true value smaller than 0.001\n",
      "  AD1S, AD2S, AD3S = stats.anderson_ksamp([MIN_DISTANCE_HOT_DEG,\n",
      "<ipython-input-25-99da4e5d8fd9>:160: UserWarning: p-value floored: true value smaller than 0.001\n",
      "  AD1S, AD2S, AD3S = stats.anderson_ksamp([MIN_DISTANCE_HOT_DEG,\n"
     ]
    },
    {
     "name": "stdout",
     "output_type": "stream",
     "text": [
      "Random 671 out of 1000\n"
     ]
    },
    {
     "name": "stderr",
     "output_type": "stream",
     "text": [
      "<ipython-input-25-99da4e5d8fd9>:160: UserWarning: p-value floored: true value smaller than 0.001\n",
      "  AD1S, AD2S, AD3S = stats.anderson_ksamp([MIN_DISTANCE_HOT_DEG,\n",
      "<ipython-input-25-99da4e5d8fd9>:160: UserWarning: p-value floored: true value smaller than 0.001\n",
      "  AD1S, AD2S, AD3S = stats.anderson_ksamp([MIN_DISTANCE_HOT_DEG,\n",
      "<ipython-input-25-99da4e5d8fd9>:160: UserWarning: p-value floored: true value smaller than 0.001\n",
      "  AD1S, AD2S, AD3S = stats.anderson_ksamp([MIN_DISTANCE_HOT_DEG,\n"
     ]
    },
    {
     "name": "stdout",
     "output_type": "stream",
     "text": [
      "MUTATION!\n"
     ]
    },
    {
     "name": "stderr",
     "output_type": "stream",
     "text": [
      "<ipython-input-25-99da4e5d8fd9>:160: UserWarning: p-value floored: true value smaller than 0.001\n",
      "  AD1S, AD2S, AD3S = stats.anderson_ksamp([MIN_DISTANCE_HOT_DEG,\n",
      "<ipython-input-25-99da4e5d8fd9>:160: UserWarning: p-value floored: true value smaller than 0.001\n",
      "  AD1S, AD2S, AD3S = stats.anderson_ksamp([MIN_DISTANCE_HOT_DEG,\n"
     ]
    },
    {
     "name": "stdout",
     "output_type": "stream",
     "text": [
      "Random 681 out of 1000\n"
     ]
    },
    {
     "name": "stderr",
     "output_type": "stream",
     "text": [
      "<ipython-input-25-99da4e5d8fd9>:160: UserWarning: p-value floored: true value smaller than 0.001\n",
      "  AD1S, AD2S, AD3S = stats.anderson_ksamp([MIN_DISTANCE_HOT_DEG,\n",
      "<ipython-input-25-99da4e5d8fd9>:160: UserWarning: p-value floored: true value smaller than 0.001\n",
      "  AD1S, AD2S, AD3S = stats.anderson_ksamp([MIN_DISTANCE_HOT_DEG,\n",
      "<ipython-input-25-99da4e5d8fd9>:160: UserWarning: p-value floored: true value smaller than 0.001\n",
      "  AD1S, AD2S, AD3S = stats.anderson_ksamp([MIN_DISTANCE_HOT_DEG,\n",
      "<ipython-input-25-99da4e5d8fd9>:160: UserWarning: p-value floored: true value smaller than 0.001\n",
      "  AD1S, AD2S, AD3S = stats.anderson_ksamp([MIN_DISTANCE_HOT_DEG,\n"
     ]
    },
    {
     "name": "stdout",
     "output_type": "stream",
     "text": [
      "MUTATION!\n"
     ]
    },
    {
     "name": "stderr",
     "output_type": "stream",
     "text": [
      "<ipython-input-25-99da4e5d8fd9>:160: UserWarning: p-value floored: true value smaller than 0.001\n",
      "  AD1S, AD2S, AD3S = stats.anderson_ksamp([MIN_DISTANCE_HOT_DEG,\n",
      "<ipython-input-25-99da4e5d8fd9>:160: UserWarning: p-value floored: true value smaller than 0.001\n",
      "  AD1S, AD2S, AD3S = stats.anderson_ksamp([MIN_DISTANCE_HOT_DEG,\n"
     ]
    },
    {
     "name": "stdout",
     "output_type": "stream",
     "text": [
      "MUTATION!\n",
      "Random 691 out of 1000\n"
     ]
    },
    {
     "name": "stderr",
     "output_type": "stream",
     "text": [
      "<ipython-input-25-99da4e5d8fd9>:160: UserWarning: p-value floored: true value smaller than 0.001\n",
      "  AD1S, AD2S, AD3S = stats.anderson_ksamp([MIN_DISTANCE_HOT_DEG,\n",
      "<ipython-input-25-99da4e5d8fd9>:160: UserWarning: p-value floored: true value smaller than 0.001\n",
      "  AD1S, AD2S, AD3S = stats.anderson_ksamp([MIN_DISTANCE_HOT_DEG,\n",
      "<ipython-input-25-99da4e5d8fd9>:160: UserWarning: p-value floored: true value smaller than 0.001\n",
      "  AD1S, AD2S, AD3S = stats.anderson_ksamp([MIN_DISTANCE_HOT_DEG,\n"
     ]
    },
    {
     "name": "stdout",
     "output_type": "stream",
     "text": [
      "Random 701 out of 1000\n"
     ]
    },
    {
     "name": "stderr",
     "output_type": "stream",
     "text": [
      "<ipython-input-25-99da4e5d8fd9>:160: UserWarning: p-value floored: true value smaller than 0.001\n",
      "  AD1S, AD2S, AD3S = stats.anderson_ksamp([MIN_DISTANCE_HOT_DEG,\n",
      "<ipython-input-25-99da4e5d8fd9>:160: UserWarning: p-value floored: true value smaller than 0.001\n",
      "  AD1S, AD2S, AD3S = stats.anderson_ksamp([MIN_DISTANCE_HOT_DEG,\n",
      "<ipython-input-25-99da4e5d8fd9>:160: UserWarning: p-value floored: true value smaller than 0.001\n",
      "  AD1S, AD2S, AD3S = stats.anderson_ksamp([MIN_DISTANCE_HOT_DEG,\n",
      "<ipython-input-25-99da4e5d8fd9>:160: UserWarning: p-value floored: true value smaller than 0.001\n",
      "  AD1S, AD2S, AD3S = stats.anderson_ksamp([MIN_DISTANCE_HOT_DEG,\n",
      "<ipython-input-25-99da4e5d8fd9>:160: UserWarning: p-value floored: true value smaller than 0.001\n",
      "  AD1S, AD2S, AD3S = stats.anderson_ksamp([MIN_DISTANCE_HOT_DEG,\n",
      "<ipython-input-25-99da4e5d8fd9>:160: UserWarning: p-value floored: true value smaller than 0.001\n",
      "  AD1S, AD2S, AD3S = stats.anderson_ksamp([MIN_DISTANCE_HOT_DEG,\n",
      "<ipython-input-25-99da4e5d8fd9>:160: UserWarning: p-value floored: true value smaller than 0.001\n",
      "  AD1S, AD2S, AD3S = stats.anderson_ksamp([MIN_DISTANCE_HOT_DEG,\n",
      "<ipython-input-25-99da4e5d8fd9>:160: UserWarning: p-value floored: true value smaller than 0.001\n",
      "  AD1S, AD2S, AD3S = stats.anderson_ksamp([MIN_DISTANCE_HOT_DEG,\n"
     ]
    },
    {
     "name": "stdout",
     "output_type": "stream",
     "text": [
      "Random 711 out of 1000\n"
     ]
    },
    {
     "name": "stderr",
     "output_type": "stream",
     "text": [
      "<ipython-input-25-99da4e5d8fd9>:160: UserWarning: p-value floored: true value smaller than 0.001\n",
      "  AD1S, AD2S, AD3S = stats.anderson_ksamp([MIN_DISTANCE_HOT_DEG,\n",
      "<ipython-input-25-99da4e5d8fd9>:160: UserWarning: p-value floored: true value smaller than 0.001\n",
      "  AD1S, AD2S, AD3S = stats.anderson_ksamp([MIN_DISTANCE_HOT_DEG,\n",
      "<ipython-input-25-99da4e5d8fd9>:160: UserWarning: p-value floored: true value smaller than 0.001\n",
      "  AD1S, AD2S, AD3S = stats.anderson_ksamp([MIN_DISTANCE_HOT_DEG,\n",
      "<ipython-input-25-99da4e5d8fd9>:160: UserWarning: p-value floored: true value smaller than 0.001\n",
      "  AD1S, AD2S, AD3S = stats.anderson_ksamp([MIN_DISTANCE_HOT_DEG,\n",
      "<ipython-input-25-99da4e5d8fd9>:160: UserWarning: p-value floored: true value smaller than 0.001\n",
      "  AD1S, AD2S, AD3S = stats.anderson_ksamp([MIN_DISTANCE_HOT_DEG,\n",
      "<ipython-input-25-99da4e5d8fd9>:160: UserWarning: p-value floored: true value smaller than 0.001\n",
      "  AD1S, AD2S, AD3S = stats.anderson_ksamp([MIN_DISTANCE_HOT_DEG,\n",
      "<ipython-input-25-99da4e5d8fd9>:160: UserWarning: p-value floored: true value smaller than 0.001\n",
      "  AD1S, AD2S, AD3S = stats.anderson_ksamp([MIN_DISTANCE_HOT_DEG,\n",
      "<ipython-input-25-99da4e5d8fd9>:160: UserWarning: p-value floored: true value smaller than 0.001\n",
      "  AD1S, AD2S, AD3S = stats.anderson_ksamp([MIN_DISTANCE_HOT_DEG,\n"
     ]
    },
    {
     "name": "stdout",
     "output_type": "stream",
     "text": [
      "Random 721 out of 1000\n",
      "MUTATION!\n"
     ]
    },
    {
     "name": "stderr",
     "output_type": "stream",
     "text": [
      "<ipython-input-25-99da4e5d8fd9>:160: UserWarning: p-value floored: true value smaller than 0.001\n",
      "  AD1S, AD2S, AD3S = stats.anderson_ksamp([MIN_DISTANCE_HOT_DEG,\n",
      "<ipython-input-25-99da4e5d8fd9>:160: UserWarning: p-value floored: true value smaller than 0.001\n",
      "  AD1S, AD2S, AD3S = stats.anderson_ksamp([MIN_DISTANCE_HOT_DEG,\n",
      "<ipython-input-25-99da4e5d8fd9>:160: UserWarning: p-value floored: true value smaller than 0.001\n",
      "  AD1S, AD2S, AD3S = stats.anderson_ksamp([MIN_DISTANCE_HOT_DEG,\n"
     ]
    },
    {
     "name": "stdout",
     "output_type": "stream",
     "text": [
      "Random 731 out of 1000\n"
     ]
    },
    {
     "name": "stderr",
     "output_type": "stream",
     "text": [
      "<ipython-input-25-99da4e5d8fd9>:160: UserWarning: p-value floored: true value smaller than 0.001\n",
      "  AD1S, AD2S, AD3S = stats.anderson_ksamp([MIN_DISTANCE_HOT_DEG,\n",
      "<ipython-input-25-99da4e5d8fd9>:160: UserWarning: p-value floored: true value smaller than 0.001\n",
      "  AD1S, AD2S, AD3S = stats.anderson_ksamp([MIN_DISTANCE_HOT_DEG,\n",
      "<ipython-input-25-99da4e5d8fd9>:160: UserWarning: p-value floored: true value smaller than 0.001\n",
      "  AD1S, AD2S, AD3S = stats.anderson_ksamp([MIN_DISTANCE_HOT_DEG,\n",
      "<ipython-input-25-99da4e5d8fd9>:160: UserWarning: p-value floored: true value smaller than 0.001\n",
      "  AD1S, AD2S, AD3S = stats.anderson_ksamp([MIN_DISTANCE_HOT_DEG,\n"
     ]
    },
    {
     "name": "stdout",
     "output_type": "stream",
     "text": [
      "Random 741 out of 1000\n"
     ]
    },
    {
     "name": "stderr",
     "output_type": "stream",
     "text": [
      "<ipython-input-25-99da4e5d8fd9>:160: UserWarning: p-value floored: true value smaller than 0.001\n",
      "  AD1S, AD2S, AD3S = stats.anderson_ksamp([MIN_DISTANCE_HOT_DEG,\n",
      "<ipython-input-25-99da4e5d8fd9>:160: UserWarning: p-value floored: true value smaller than 0.001\n",
      "  AD1S, AD2S, AD3S = stats.anderson_ksamp([MIN_DISTANCE_HOT_DEG,\n",
      "<ipython-input-25-99da4e5d8fd9>:160: UserWarning: p-value floored: true value smaller than 0.001\n",
      "  AD1S, AD2S, AD3S = stats.anderson_ksamp([MIN_DISTANCE_HOT_DEG,\n",
      "<ipython-input-25-99da4e5d8fd9>:160: UserWarning: p-value floored: true value smaller than 0.001\n",
      "  AD1S, AD2S, AD3S = stats.anderson_ksamp([MIN_DISTANCE_HOT_DEG,\n",
      "<ipython-input-25-99da4e5d8fd9>:160: UserWarning: p-value floored: true value smaller than 0.001\n",
      "  AD1S, AD2S, AD3S = stats.anderson_ksamp([MIN_DISTANCE_HOT_DEG,\n",
      "<ipython-input-25-99da4e5d8fd9>:160: UserWarning: p-value floored: true value smaller than 0.001\n",
      "  AD1S, AD2S, AD3S = stats.anderson_ksamp([MIN_DISTANCE_HOT_DEG,\n"
     ]
    },
    {
     "name": "stdout",
     "output_type": "stream",
     "text": [
      "Random 751 out of 1000\n"
     ]
    },
    {
     "name": "stderr",
     "output_type": "stream",
     "text": [
      "<ipython-input-25-99da4e5d8fd9>:160: UserWarning: p-value floored: true value smaller than 0.001\n",
      "  AD1S, AD2S, AD3S = stats.anderson_ksamp([MIN_DISTANCE_HOT_DEG,\n",
      "<ipython-input-25-99da4e5d8fd9>:160: UserWarning: p-value floored: true value smaller than 0.001\n",
      "  AD1S, AD2S, AD3S = stats.anderson_ksamp([MIN_DISTANCE_HOT_DEG,\n",
      "<ipython-input-25-99da4e5d8fd9>:160: UserWarning: p-value floored: true value smaller than 0.001\n",
      "  AD1S, AD2S, AD3S = stats.anderson_ksamp([MIN_DISTANCE_HOT_DEG,\n",
      "<ipython-input-25-99da4e5d8fd9>:160: UserWarning: p-value floored: true value smaller than 0.001\n",
      "  AD1S, AD2S, AD3S = stats.anderson_ksamp([MIN_DISTANCE_HOT_DEG,\n"
     ]
    },
    {
     "name": "stdout",
     "output_type": "stream",
     "text": [
      "Random 761 out of 1000\n"
     ]
    },
    {
     "name": "stderr",
     "output_type": "stream",
     "text": [
      "<ipython-input-25-99da4e5d8fd9>:160: UserWarning: p-value floored: true value smaller than 0.001\n",
      "  AD1S, AD2S, AD3S = stats.anderson_ksamp([MIN_DISTANCE_HOT_DEG,\n",
      "<ipython-input-25-99da4e5d8fd9>:160: UserWarning: p-value floored: true value smaller than 0.001\n",
      "  AD1S, AD2S, AD3S = stats.anderson_ksamp([MIN_DISTANCE_HOT_DEG,\n",
      "<ipython-input-25-99da4e5d8fd9>:160: UserWarning: p-value floored: true value smaller than 0.001\n",
      "  AD1S, AD2S, AD3S = stats.anderson_ksamp([MIN_DISTANCE_HOT_DEG,\n",
      "<ipython-input-25-99da4e5d8fd9>:160: UserWarning: p-value floored: true value smaller than 0.001\n",
      "  AD1S, AD2S, AD3S = stats.anderson_ksamp([MIN_DISTANCE_HOT_DEG,\n"
     ]
    },
    {
     "name": "stdout",
     "output_type": "stream",
     "text": [
      "Random 771 out of 1000\n"
     ]
    },
    {
     "name": "stderr",
     "output_type": "stream",
     "text": [
      "<ipython-input-25-99da4e5d8fd9>:160: UserWarning: p-value floored: true value smaller than 0.001\n",
      "  AD1S, AD2S, AD3S = stats.anderson_ksamp([MIN_DISTANCE_HOT_DEG,\n",
      "<ipython-input-25-99da4e5d8fd9>:160: UserWarning: p-value floored: true value smaller than 0.001\n",
      "  AD1S, AD2S, AD3S = stats.anderson_ksamp([MIN_DISTANCE_HOT_DEG,\n",
      "<ipython-input-25-99da4e5d8fd9>:160: UserWarning: p-value floored: true value smaller than 0.001\n",
      "  AD1S, AD2S, AD3S = stats.anderson_ksamp([MIN_DISTANCE_HOT_DEG,\n",
      "<ipython-input-25-99da4e5d8fd9>:160: UserWarning: p-value floored: true value smaller than 0.001\n",
      "  AD1S, AD2S, AD3S = stats.anderson_ksamp([MIN_DISTANCE_HOT_DEG,\n",
      "<ipython-input-25-99da4e5d8fd9>:160: UserWarning: p-value floored: true value smaller than 0.001\n",
      "  AD1S, AD2S, AD3S = stats.anderson_ksamp([MIN_DISTANCE_HOT_DEG,\n",
      "<ipython-input-25-99da4e5d8fd9>:160: UserWarning: p-value floored: true value smaller than 0.001\n",
      "  AD1S, AD2S, AD3S = stats.anderson_ksamp([MIN_DISTANCE_HOT_DEG,\n",
      "<ipython-input-25-99da4e5d8fd9>:160: UserWarning: p-value floored: true value smaller than 0.001\n",
      "  AD1S, AD2S, AD3S = stats.anderson_ksamp([MIN_DISTANCE_HOT_DEG,\n"
     ]
    },
    {
     "name": "stdout",
     "output_type": "stream",
     "text": [
      "Random 781 out of 1000\n"
     ]
    },
    {
     "name": "stderr",
     "output_type": "stream",
     "text": [
      "<ipython-input-25-99da4e5d8fd9>:160: UserWarning: p-value floored: true value smaller than 0.001\n",
      "  AD1S, AD2S, AD3S = stats.anderson_ksamp([MIN_DISTANCE_HOT_DEG,\n",
      "<ipython-input-25-99da4e5d8fd9>:160: UserWarning: p-value floored: true value smaller than 0.001\n",
      "  AD1S, AD2S, AD3S = stats.anderson_ksamp([MIN_DISTANCE_HOT_DEG,\n",
      "<ipython-input-25-99da4e5d8fd9>:160: UserWarning: p-value floored: true value smaller than 0.001\n",
      "  AD1S, AD2S, AD3S = stats.anderson_ksamp([MIN_DISTANCE_HOT_DEG,\n",
      "<ipython-input-25-99da4e5d8fd9>:160: UserWarning: p-value floored: true value smaller than 0.001\n",
      "  AD1S, AD2S, AD3S = stats.anderson_ksamp([MIN_DISTANCE_HOT_DEG,\n",
      "<ipython-input-25-99da4e5d8fd9>:160: UserWarning: p-value floored: true value smaller than 0.001\n",
      "  AD1S, AD2S, AD3S = stats.anderson_ksamp([MIN_DISTANCE_HOT_DEG,\n",
      "<ipython-input-25-99da4e5d8fd9>:160: UserWarning: p-value floored: true value smaller than 0.001\n",
      "  AD1S, AD2S, AD3S = stats.anderson_ksamp([MIN_DISTANCE_HOT_DEG,\n"
     ]
    },
    {
     "name": "stdout",
     "output_type": "stream",
     "text": [
      "Random 791 out of 1000\n"
     ]
    },
    {
     "name": "stderr",
     "output_type": "stream",
     "text": [
      "<ipython-input-25-99da4e5d8fd9>:160: UserWarning: p-value floored: true value smaller than 0.001\n",
      "  AD1S, AD2S, AD3S = stats.anderson_ksamp([MIN_DISTANCE_HOT_DEG,\n",
      "<ipython-input-25-99da4e5d8fd9>:160: UserWarning: p-value floored: true value smaller than 0.001\n",
      "  AD1S, AD2S, AD3S = stats.anderson_ksamp([MIN_DISTANCE_HOT_DEG,\n",
      "<ipython-input-25-99da4e5d8fd9>:160: UserWarning: p-value floored: true value smaller than 0.001\n",
      "  AD1S, AD2S, AD3S = stats.anderson_ksamp([MIN_DISTANCE_HOT_DEG,\n",
      "<ipython-input-25-99da4e5d8fd9>:160: UserWarning: p-value floored: true value smaller than 0.001\n",
      "  AD1S, AD2S, AD3S = stats.anderson_ksamp([MIN_DISTANCE_HOT_DEG,\n",
      "<ipython-input-25-99da4e5d8fd9>:160: UserWarning: p-value floored: true value smaller than 0.001\n",
      "  AD1S, AD2S, AD3S = stats.anderson_ksamp([MIN_DISTANCE_HOT_DEG,\n",
      "<ipython-input-25-99da4e5d8fd9>:160: UserWarning: p-value floored: true value smaller than 0.001\n",
      "  AD1S, AD2S, AD3S = stats.anderson_ksamp([MIN_DISTANCE_HOT_DEG,\n",
      "<ipython-input-25-99da4e5d8fd9>:160: UserWarning: p-value floored: true value smaller than 0.001\n",
      "  AD1S, AD2S, AD3S = stats.anderson_ksamp([MIN_DISTANCE_HOT_DEG,\n",
      "<ipython-input-25-99da4e5d8fd9>:160: UserWarning: p-value floored: true value smaller than 0.001\n",
      "  AD1S, AD2S, AD3S = stats.anderson_ksamp([MIN_DISTANCE_HOT_DEG,\n",
      "<ipython-input-25-99da4e5d8fd9>:160: UserWarning: p-value floored: true value smaller than 0.001\n",
      "  AD1S, AD2S, AD3S = stats.anderson_ksamp([MIN_DISTANCE_HOT_DEG,\n"
     ]
    },
    {
     "name": "stdout",
     "output_type": "stream",
     "text": [
      "Random 801 out of 1000\n"
     ]
    },
    {
     "name": "stderr",
     "output_type": "stream",
     "text": [
      "<ipython-input-25-99da4e5d8fd9>:160: UserWarning: p-value floored: true value smaller than 0.001\n",
      "  AD1S, AD2S, AD3S = stats.anderson_ksamp([MIN_DISTANCE_HOT_DEG,\n",
      "<ipython-input-25-99da4e5d8fd9>:160: UserWarning: p-value floored: true value smaller than 0.001\n",
      "  AD1S, AD2S, AD3S = stats.anderson_ksamp([MIN_DISTANCE_HOT_DEG,\n",
      "<ipython-input-25-99da4e5d8fd9>:160: UserWarning: p-value floored: true value smaller than 0.001\n",
      "  AD1S, AD2S, AD3S = stats.anderson_ksamp([MIN_DISTANCE_HOT_DEG,\n",
      "<ipython-input-25-99da4e5d8fd9>:160: UserWarning: p-value floored: true value smaller than 0.001\n",
      "  AD1S, AD2S, AD3S = stats.anderson_ksamp([MIN_DISTANCE_HOT_DEG,\n",
      "<ipython-input-25-99da4e5d8fd9>:160: UserWarning: p-value floored: true value smaller than 0.001\n",
      "  AD1S, AD2S, AD3S = stats.anderson_ksamp([MIN_DISTANCE_HOT_DEG,\n"
     ]
    },
    {
     "name": "stdout",
     "output_type": "stream",
     "text": [
      "Random 811 out of 1000\n"
     ]
    },
    {
     "name": "stderr",
     "output_type": "stream",
     "text": [
      "<ipython-input-25-99da4e5d8fd9>:160: UserWarning: p-value floored: true value smaller than 0.001\n",
      "  AD1S, AD2S, AD3S = stats.anderson_ksamp([MIN_DISTANCE_HOT_DEG,\n",
      "<ipython-input-25-99da4e5d8fd9>:160: UserWarning: p-value floored: true value smaller than 0.001\n",
      "  AD1S, AD2S, AD3S = stats.anderson_ksamp([MIN_DISTANCE_HOT_DEG,\n",
      "<ipython-input-25-99da4e5d8fd9>:160: UserWarning: p-value floored: true value smaller than 0.001\n",
      "  AD1S, AD2S, AD3S = stats.anderson_ksamp([MIN_DISTANCE_HOT_DEG,\n",
      "<ipython-input-25-99da4e5d8fd9>:160: UserWarning: p-value floored: true value smaller than 0.001\n",
      "  AD1S, AD2S, AD3S = stats.anderson_ksamp([MIN_DISTANCE_HOT_DEG,\n",
      "<ipython-input-25-99da4e5d8fd9>:160: UserWarning: p-value floored: true value smaller than 0.001\n",
      "  AD1S, AD2S, AD3S = stats.anderson_ksamp([MIN_DISTANCE_HOT_DEG,\n",
      "<ipython-input-25-99da4e5d8fd9>:160: UserWarning: p-value floored: true value smaller than 0.001\n",
      "  AD1S, AD2S, AD3S = stats.anderson_ksamp([MIN_DISTANCE_HOT_DEG,\n",
      "<ipython-input-25-99da4e5d8fd9>:160: UserWarning: p-value floored: true value smaller than 0.001\n",
      "  AD1S, AD2S, AD3S = stats.anderson_ksamp([MIN_DISTANCE_HOT_DEG,\n",
      "<ipython-input-25-99da4e5d8fd9>:160: UserWarning: p-value floored: true value smaller than 0.001\n",
      "  AD1S, AD2S, AD3S = stats.anderson_ksamp([MIN_DISTANCE_HOT_DEG,\n",
      "<ipython-input-25-99da4e5d8fd9>:160: UserWarning: p-value floored: true value smaller than 0.001\n",
      "  AD1S, AD2S, AD3S = stats.anderson_ksamp([MIN_DISTANCE_HOT_DEG,\n",
      "<ipython-input-25-99da4e5d8fd9>:160: UserWarning: p-value floored: true value smaller than 0.001\n",
      "  AD1S, AD2S, AD3S = stats.anderson_ksamp([MIN_DISTANCE_HOT_DEG,\n"
     ]
    },
    {
     "name": "stdout",
     "output_type": "stream",
     "text": [
      "Random 821 out of 1000\n"
     ]
    },
    {
     "name": "stderr",
     "output_type": "stream",
     "text": [
      "<ipython-input-25-99da4e5d8fd9>:160: UserWarning: p-value floored: true value smaller than 0.001\n",
      "  AD1S, AD2S, AD3S = stats.anderson_ksamp([MIN_DISTANCE_HOT_DEG,\n",
      "<ipython-input-25-99da4e5d8fd9>:160: UserWarning: p-value floored: true value smaller than 0.001\n",
      "  AD1S, AD2S, AD3S = stats.anderson_ksamp([MIN_DISTANCE_HOT_DEG,\n",
      "<ipython-input-25-99da4e5d8fd9>:160: UserWarning: p-value floored: true value smaller than 0.001\n",
      "  AD1S, AD2S, AD3S = stats.anderson_ksamp([MIN_DISTANCE_HOT_DEG,\n",
      "<ipython-input-25-99da4e5d8fd9>:160: UserWarning: p-value floored: true value smaller than 0.001\n",
      "  AD1S, AD2S, AD3S = stats.anderson_ksamp([MIN_DISTANCE_HOT_DEG,\n",
      "<ipython-input-25-99da4e5d8fd9>:160: UserWarning: p-value floored: true value smaller than 0.001\n",
      "  AD1S, AD2S, AD3S = stats.anderson_ksamp([MIN_DISTANCE_HOT_DEG,\n",
      "<ipython-input-25-99da4e5d8fd9>:160: UserWarning: p-value floored: true value smaller than 0.001\n",
      "  AD1S, AD2S, AD3S = stats.anderson_ksamp([MIN_DISTANCE_HOT_DEG,\n"
     ]
    },
    {
     "name": "stdout",
     "output_type": "stream",
     "text": [
      "Random 831 out of 1000\n"
     ]
    },
    {
     "name": "stderr",
     "output_type": "stream",
     "text": [
      "<ipython-input-25-99da4e5d8fd9>:160: UserWarning: p-value floored: true value smaller than 0.001\n",
      "  AD1S, AD2S, AD3S = stats.anderson_ksamp([MIN_DISTANCE_HOT_DEG,\n",
      "<ipython-input-25-99da4e5d8fd9>:160: UserWarning: p-value floored: true value smaller than 0.001\n",
      "  AD1S, AD2S, AD3S = stats.anderson_ksamp([MIN_DISTANCE_HOT_DEG,\n",
      "<ipython-input-25-99da4e5d8fd9>:160: UserWarning: p-value floored: true value smaller than 0.001\n",
      "  AD1S, AD2S, AD3S = stats.anderson_ksamp([MIN_DISTANCE_HOT_DEG,\n",
      "<ipython-input-25-99da4e5d8fd9>:160: UserWarning: p-value floored: true value smaller than 0.001\n",
      "  AD1S, AD2S, AD3S = stats.anderson_ksamp([MIN_DISTANCE_HOT_DEG,\n",
      "<ipython-input-25-99da4e5d8fd9>:160: UserWarning: p-value floored: true value smaller than 0.001\n",
      "  AD1S, AD2S, AD3S = stats.anderson_ksamp([MIN_DISTANCE_HOT_DEG,\n"
     ]
    },
    {
     "name": "stdout",
     "output_type": "stream",
     "text": [
      "Random 841 out of 1000\n"
     ]
    },
    {
     "name": "stderr",
     "output_type": "stream",
     "text": [
      "<ipython-input-25-99da4e5d8fd9>:160: UserWarning: p-value floored: true value smaller than 0.001\n",
      "  AD1S, AD2S, AD3S = stats.anderson_ksamp([MIN_DISTANCE_HOT_DEG,\n",
      "<ipython-input-25-99da4e5d8fd9>:160: UserWarning: p-value floored: true value smaller than 0.001\n",
      "  AD1S, AD2S, AD3S = stats.anderson_ksamp([MIN_DISTANCE_HOT_DEG,\n",
      "<ipython-input-25-99da4e5d8fd9>:160: UserWarning: p-value floored: true value smaller than 0.001\n",
      "  AD1S, AD2S, AD3S = stats.anderson_ksamp([MIN_DISTANCE_HOT_DEG,\n",
      "<ipython-input-25-99da4e5d8fd9>:160: UserWarning: p-value floored: true value smaller than 0.001\n",
      "  AD1S, AD2S, AD3S = stats.anderson_ksamp([MIN_DISTANCE_HOT_DEG,\n",
      "<ipython-input-25-99da4e5d8fd9>:160: UserWarning: p-value floored: true value smaller than 0.001\n",
      "  AD1S, AD2S, AD3S = stats.anderson_ksamp([MIN_DISTANCE_HOT_DEG,\n",
      "<ipython-input-25-99da4e5d8fd9>:160: UserWarning: p-value floored: true value smaller than 0.001\n",
      "  AD1S, AD2S, AD3S = stats.anderson_ksamp([MIN_DISTANCE_HOT_DEG,\n"
     ]
    },
    {
     "name": "stdout",
     "output_type": "stream",
     "text": [
      "Random 851 out of 1000\n"
     ]
    },
    {
     "name": "stderr",
     "output_type": "stream",
     "text": [
      "<ipython-input-25-99da4e5d8fd9>:160: UserWarning: p-value floored: true value smaller than 0.001\n",
      "  AD1S, AD2S, AD3S = stats.anderson_ksamp([MIN_DISTANCE_HOT_DEG,\n",
      "<ipython-input-25-99da4e5d8fd9>:160: UserWarning: p-value floored: true value smaller than 0.001\n",
      "  AD1S, AD2S, AD3S = stats.anderson_ksamp([MIN_DISTANCE_HOT_DEG,\n",
      "<ipython-input-25-99da4e5d8fd9>:160: UserWarning: p-value floored: true value smaller than 0.001\n",
      "  AD1S, AD2S, AD3S = stats.anderson_ksamp([MIN_DISTANCE_HOT_DEG,\n",
      "<ipython-input-25-99da4e5d8fd9>:160: UserWarning: p-value floored: true value smaller than 0.001\n",
      "  AD1S, AD2S, AD3S = stats.anderson_ksamp([MIN_DISTANCE_HOT_DEG,\n",
      "<ipython-input-25-99da4e5d8fd9>:160: UserWarning: p-value floored: true value smaller than 0.001\n",
      "  AD1S, AD2S, AD3S = stats.anderson_ksamp([MIN_DISTANCE_HOT_DEG,\n"
     ]
    },
    {
     "name": "stdout",
     "output_type": "stream",
     "text": [
      "Random 861 out of 1000\n"
     ]
    },
    {
     "name": "stderr",
     "output_type": "stream",
     "text": [
      "<ipython-input-25-99da4e5d8fd9>:160: UserWarning: p-value floored: true value smaller than 0.001\n",
      "  AD1S, AD2S, AD3S = stats.anderson_ksamp([MIN_DISTANCE_HOT_DEG,\n",
      "<ipython-input-25-99da4e5d8fd9>:160: UserWarning: p-value floored: true value smaller than 0.001\n",
      "  AD1S, AD2S, AD3S = stats.anderson_ksamp([MIN_DISTANCE_HOT_DEG,\n",
      "<ipython-input-25-99da4e5d8fd9>:160: UserWarning: p-value floored: true value smaller than 0.001\n",
      "  AD1S, AD2S, AD3S = stats.anderson_ksamp([MIN_DISTANCE_HOT_DEG,\n",
      "<ipython-input-25-99da4e5d8fd9>:160: UserWarning: p-value floored: true value smaller than 0.001\n",
      "  AD1S, AD2S, AD3S = stats.anderson_ksamp([MIN_DISTANCE_HOT_DEG,\n",
      "<ipython-input-25-99da4e5d8fd9>:160: UserWarning: p-value floored: true value smaller than 0.001\n",
      "  AD1S, AD2S, AD3S = stats.anderson_ksamp([MIN_DISTANCE_HOT_DEG,\n",
      "<ipython-input-25-99da4e5d8fd9>:160: UserWarning: p-value floored: true value smaller than 0.001\n",
      "  AD1S, AD2S, AD3S = stats.anderson_ksamp([MIN_DISTANCE_HOT_DEG,\n"
     ]
    },
    {
     "name": "stdout",
     "output_type": "stream",
     "text": [
      "Random 871 out of 1000\n"
     ]
    },
    {
     "name": "stderr",
     "output_type": "stream",
     "text": [
      "<ipython-input-25-99da4e5d8fd9>:160: UserWarning: p-value floored: true value smaller than 0.001\n",
      "  AD1S, AD2S, AD3S = stats.anderson_ksamp([MIN_DISTANCE_HOT_DEG,\n",
      "<ipython-input-25-99da4e5d8fd9>:160: UserWarning: p-value floored: true value smaller than 0.001\n",
      "  AD1S, AD2S, AD3S = stats.anderson_ksamp([MIN_DISTANCE_HOT_DEG,\n"
     ]
    },
    {
     "name": "stdout",
     "output_type": "stream",
     "text": [
      "MUTATION!\n"
     ]
    },
    {
     "name": "stderr",
     "output_type": "stream",
     "text": [
      "<ipython-input-25-99da4e5d8fd9>:160: UserWarning: p-value floored: true value smaller than 0.001\n",
      "  AD1S, AD2S, AD3S = stats.anderson_ksamp([MIN_DISTANCE_HOT_DEG,\n",
      "<ipython-input-25-99da4e5d8fd9>:160: UserWarning: p-value floored: true value smaller than 0.001\n",
      "  AD1S, AD2S, AD3S = stats.anderson_ksamp([MIN_DISTANCE_HOT_DEG,\n",
      "<ipython-input-25-99da4e5d8fd9>:160: UserWarning: p-value floored: true value smaller than 0.001\n",
      "  AD1S, AD2S, AD3S = stats.anderson_ksamp([MIN_DISTANCE_HOT_DEG,\n"
     ]
    },
    {
     "name": "stdout",
     "output_type": "stream",
     "text": [
      "Random 881 out of 1000\n"
     ]
    },
    {
     "name": "stderr",
     "output_type": "stream",
     "text": [
      "<ipython-input-25-99da4e5d8fd9>:160: UserWarning: p-value floored: true value smaller than 0.001\n",
      "  AD1S, AD2S, AD3S = stats.anderson_ksamp([MIN_DISTANCE_HOT_DEG,\n",
      "<ipython-input-25-99da4e5d8fd9>:160: UserWarning: p-value floored: true value smaller than 0.001\n",
      "  AD1S, AD2S, AD3S = stats.anderson_ksamp([MIN_DISTANCE_HOT_DEG,\n",
      "<ipython-input-25-99da4e5d8fd9>:160: UserWarning: p-value floored: true value smaller than 0.001\n",
      "  AD1S, AD2S, AD3S = stats.anderson_ksamp([MIN_DISTANCE_HOT_DEG,\n",
      "<ipython-input-25-99da4e5d8fd9>:160: UserWarning: p-value floored: true value smaller than 0.001\n",
      "  AD1S, AD2S, AD3S = stats.anderson_ksamp([MIN_DISTANCE_HOT_DEG,\n",
      "<ipython-input-25-99da4e5d8fd9>:160: UserWarning: p-value floored: true value smaller than 0.001\n",
      "  AD1S, AD2S, AD3S = stats.anderson_ksamp([MIN_DISTANCE_HOT_DEG,\n"
     ]
    },
    {
     "name": "stdout",
     "output_type": "stream",
     "text": [
      "Random 891 out of 1000\n"
     ]
    },
    {
     "name": "stderr",
     "output_type": "stream",
     "text": [
      "<ipython-input-25-99da4e5d8fd9>:160: UserWarning: p-value floored: true value smaller than 0.001\n",
      "  AD1S, AD2S, AD3S = stats.anderson_ksamp([MIN_DISTANCE_HOT_DEG,\n",
      "<ipython-input-25-99da4e5d8fd9>:160: UserWarning: p-value floored: true value smaller than 0.001\n",
      "  AD1S, AD2S, AD3S = stats.anderson_ksamp([MIN_DISTANCE_HOT_DEG,\n",
      "<ipython-input-25-99da4e5d8fd9>:160: UserWarning: p-value floored: true value smaller than 0.001\n",
      "  AD1S, AD2S, AD3S = stats.anderson_ksamp([MIN_DISTANCE_HOT_DEG,\n",
      "<ipython-input-25-99da4e5d8fd9>:160: UserWarning: p-value floored: true value smaller than 0.001\n",
      "  AD1S, AD2S, AD3S = stats.anderson_ksamp([MIN_DISTANCE_HOT_DEG,\n",
      "<ipython-input-25-99da4e5d8fd9>:160: UserWarning: p-value floored: true value smaller than 0.001\n",
      "  AD1S, AD2S, AD3S = stats.anderson_ksamp([MIN_DISTANCE_HOT_DEG,\n",
      "<ipython-input-25-99da4e5d8fd9>:160: UserWarning: p-value floored: true value smaller than 0.001\n",
      "  AD1S, AD2S, AD3S = stats.anderson_ksamp([MIN_DISTANCE_HOT_DEG,\n",
      "<ipython-input-25-99da4e5d8fd9>:160: UserWarning: p-value floored: true value smaller than 0.001\n",
      "  AD1S, AD2S, AD3S = stats.anderson_ksamp([MIN_DISTANCE_HOT_DEG,\n",
      "<ipython-input-25-99da4e5d8fd9>:160: UserWarning: p-value floored: true value smaller than 0.001\n",
      "  AD1S, AD2S, AD3S = stats.anderson_ksamp([MIN_DISTANCE_HOT_DEG,\n"
     ]
    },
    {
     "name": "stdout",
     "output_type": "stream",
     "text": [
      "Random 901 out of 1000\n"
     ]
    },
    {
     "name": "stderr",
     "output_type": "stream",
     "text": [
      "<ipython-input-25-99da4e5d8fd9>:160: UserWarning: p-value floored: true value smaller than 0.001\n",
      "  AD1S, AD2S, AD3S = stats.anderson_ksamp([MIN_DISTANCE_HOT_DEG,\n",
      "<ipython-input-25-99da4e5d8fd9>:160: UserWarning: p-value floored: true value smaller than 0.001\n",
      "  AD1S, AD2S, AD3S = stats.anderson_ksamp([MIN_DISTANCE_HOT_DEG,\n",
      "<ipython-input-25-99da4e5d8fd9>:160: UserWarning: p-value floored: true value smaller than 0.001\n",
      "  AD1S, AD2S, AD3S = stats.anderson_ksamp([MIN_DISTANCE_HOT_DEG,\n",
      "<ipython-input-25-99da4e5d8fd9>:160: UserWarning: p-value floored: true value smaller than 0.001\n",
      "  AD1S, AD2S, AD3S = stats.anderson_ksamp([MIN_DISTANCE_HOT_DEG,\n",
      "<ipython-input-25-99da4e5d8fd9>:160: UserWarning: p-value floored: true value smaller than 0.001\n",
      "  AD1S, AD2S, AD3S = stats.anderson_ksamp([MIN_DISTANCE_HOT_DEG,\n",
      "<ipython-input-25-99da4e5d8fd9>:160: UserWarning: p-value floored: true value smaller than 0.001\n",
      "  AD1S, AD2S, AD3S = stats.anderson_ksamp([MIN_DISTANCE_HOT_DEG,\n",
      "<ipython-input-25-99da4e5d8fd9>:160: UserWarning: p-value floored: true value smaller than 0.001\n",
      "  AD1S, AD2S, AD3S = stats.anderson_ksamp([MIN_DISTANCE_HOT_DEG,\n"
     ]
    },
    {
     "name": "stdout",
     "output_type": "stream",
     "text": [
      "Random 911 out of 1000\n"
     ]
    },
    {
     "name": "stderr",
     "output_type": "stream",
     "text": [
      "<ipython-input-25-99da4e5d8fd9>:160: UserWarning: p-value floored: true value smaller than 0.001\n",
      "  AD1S, AD2S, AD3S = stats.anderson_ksamp([MIN_DISTANCE_HOT_DEG,\n",
      "<ipython-input-25-99da4e5d8fd9>:160: UserWarning: p-value floored: true value smaller than 0.001\n",
      "  AD1S, AD2S, AD3S = stats.anderson_ksamp([MIN_DISTANCE_HOT_DEG,\n",
      "<ipython-input-25-99da4e5d8fd9>:160: UserWarning: p-value floored: true value smaller than 0.001\n",
      "  AD1S, AD2S, AD3S = stats.anderson_ksamp([MIN_DISTANCE_HOT_DEG,\n",
      "<ipython-input-25-99da4e5d8fd9>:160: UserWarning: p-value floored: true value smaller than 0.001\n",
      "  AD1S, AD2S, AD3S = stats.anderson_ksamp([MIN_DISTANCE_HOT_DEG,\n",
      "<ipython-input-25-99da4e5d8fd9>:160: UserWarning: p-value floored: true value smaller than 0.001\n",
      "  AD1S, AD2S, AD3S = stats.anderson_ksamp([MIN_DISTANCE_HOT_DEG,\n",
      "<ipython-input-25-99da4e5d8fd9>:160: UserWarning: p-value floored: true value smaller than 0.001\n",
      "  AD1S, AD2S, AD3S = stats.anderson_ksamp([MIN_DISTANCE_HOT_DEG,\n",
      "<ipython-input-25-99da4e5d8fd9>:160: UserWarning: p-value floored: true value smaller than 0.001\n",
      "  AD1S, AD2S, AD3S = stats.anderson_ksamp([MIN_DISTANCE_HOT_DEG,\n",
      "<ipython-input-25-99da4e5d8fd9>:160: UserWarning: p-value floored: true value smaller than 0.001\n",
      "  AD1S, AD2S, AD3S = stats.anderson_ksamp([MIN_DISTANCE_HOT_DEG,\n",
      "<ipython-input-25-99da4e5d8fd9>:160: UserWarning: p-value floored: true value smaller than 0.001\n",
      "  AD1S, AD2S, AD3S = stats.anderson_ksamp([MIN_DISTANCE_HOT_DEG,\n",
      "<ipython-input-25-99da4e5d8fd9>:160: UserWarning: p-value floored: true value smaller than 0.001\n",
      "  AD1S, AD2S, AD3S = stats.anderson_ksamp([MIN_DISTANCE_HOT_DEG,\n"
     ]
    },
    {
     "name": "stdout",
     "output_type": "stream",
     "text": [
      "Random 921 out of 1000\n"
     ]
    },
    {
     "name": "stderr",
     "output_type": "stream",
     "text": [
      "<ipython-input-25-99da4e5d8fd9>:160: UserWarning: p-value floored: true value smaller than 0.001\n",
      "  AD1S, AD2S, AD3S = stats.anderson_ksamp([MIN_DISTANCE_HOT_DEG,\n",
      "<ipython-input-25-99da4e5d8fd9>:160: UserWarning: p-value floored: true value smaller than 0.001\n",
      "  AD1S, AD2S, AD3S = stats.anderson_ksamp([MIN_DISTANCE_HOT_DEG,\n",
      "<ipython-input-25-99da4e5d8fd9>:160: UserWarning: p-value floored: true value smaller than 0.001\n",
      "  AD1S, AD2S, AD3S = stats.anderson_ksamp([MIN_DISTANCE_HOT_DEG,\n",
      "<ipython-input-25-99da4e5d8fd9>:160: UserWarning: p-value floored: true value smaller than 0.001\n",
      "  AD1S, AD2S, AD3S = stats.anderson_ksamp([MIN_DISTANCE_HOT_DEG,\n",
      "<ipython-input-25-99da4e5d8fd9>:160: UserWarning: p-value floored: true value smaller than 0.001\n",
      "  AD1S, AD2S, AD3S = stats.anderson_ksamp([MIN_DISTANCE_HOT_DEG,\n",
      "<ipython-input-25-99da4e5d8fd9>:160: UserWarning: p-value floored: true value smaller than 0.001\n",
      "  AD1S, AD2S, AD3S = stats.anderson_ksamp([MIN_DISTANCE_HOT_DEG,\n"
     ]
    },
    {
     "name": "stdout",
     "output_type": "stream",
     "text": [
      "Random 931 out of 1000\n"
     ]
    },
    {
     "name": "stderr",
     "output_type": "stream",
     "text": [
      "<ipython-input-25-99da4e5d8fd9>:160: UserWarning: p-value floored: true value smaller than 0.001\n",
      "  AD1S, AD2S, AD3S = stats.anderson_ksamp([MIN_DISTANCE_HOT_DEG,\n",
      "<ipython-input-25-99da4e5d8fd9>:160: UserWarning: p-value floored: true value smaller than 0.001\n",
      "  AD1S, AD2S, AD3S = stats.anderson_ksamp([MIN_DISTANCE_HOT_DEG,\n",
      "<ipython-input-25-99da4e5d8fd9>:160: UserWarning: p-value floored: true value smaller than 0.001\n",
      "  AD1S, AD2S, AD3S = stats.anderson_ksamp([MIN_DISTANCE_HOT_DEG,\n",
      "<ipython-input-25-99da4e5d8fd9>:160: UserWarning: p-value floored: true value smaller than 0.001\n",
      "  AD1S, AD2S, AD3S = stats.anderson_ksamp([MIN_DISTANCE_HOT_DEG,\n",
      "<ipython-input-25-99da4e5d8fd9>:160: UserWarning: p-value floored: true value smaller than 0.001\n",
      "  AD1S, AD2S, AD3S = stats.anderson_ksamp([MIN_DISTANCE_HOT_DEG,\n"
     ]
    },
    {
     "name": "stdout",
     "output_type": "stream",
     "text": [
      "Random 941 out of 1000\n"
     ]
    },
    {
     "name": "stderr",
     "output_type": "stream",
     "text": [
      "<ipython-input-25-99da4e5d8fd9>:160: UserWarning: p-value floored: true value smaller than 0.001\n",
      "  AD1S, AD2S, AD3S = stats.anderson_ksamp([MIN_DISTANCE_HOT_DEG,\n",
      "<ipython-input-25-99da4e5d8fd9>:160: UserWarning: p-value floored: true value smaller than 0.001\n",
      "  AD1S, AD2S, AD3S = stats.anderson_ksamp([MIN_DISTANCE_HOT_DEG,\n",
      "<ipython-input-25-99da4e5d8fd9>:160: UserWarning: p-value floored: true value smaller than 0.001\n",
      "  AD1S, AD2S, AD3S = stats.anderson_ksamp([MIN_DISTANCE_HOT_DEG,\n",
      "<ipython-input-25-99da4e5d8fd9>:160: UserWarning: p-value floored: true value smaller than 0.001\n",
      "  AD1S, AD2S, AD3S = stats.anderson_ksamp([MIN_DISTANCE_HOT_DEG,\n",
      "<ipython-input-25-99da4e5d8fd9>:160: UserWarning: p-value floored: true value smaller than 0.001\n",
      "  AD1S, AD2S, AD3S = stats.anderson_ksamp([MIN_DISTANCE_HOT_DEG,\n",
      "<ipython-input-25-99da4e5d8fd9>:160: UserWarning: p-value floored: true value smaller than 0.001\n",
      "  AD1S, AD2S, AD3S = stats.anderson_ksamp([MIN_DISTANCE_HOT_DEG,\n"
     ]
    },
    {
     "name": "stdout",
     "output_type": "stream",
     "text": [
      "Random 951 out of 1000\n"
     ]
    },
    {
     "name": "stderr",
     "output_type": "stream",
     "text": [
      "<ipython-input-25-99da4e5d8fd9>:160: UserWarning: p-value floored: true value smaller than 0.001\n",
      "  AD1S, AD2S, AD3S = stats.anderson_ksamp([MIN_DISTANCE_HOT_DEG,\n",
      "<ipython-input-25-99da4e5d8fd9>:160: UserWarning: p-value floored: true value smaller than 0.001\n",
      "  AD1S, AD2S, AD3S = stats.anderson_ksamp([MIN_DISTANCE_HOT_DEG,\n",
      "<ipython-input-25-99da4e5d8fd9>:160: UserWarning: p-value floored: true value smaller than 0.001\n",
      "  AD1S, AD2S, AD3S = stats.anderson_ksamp([MIN_DISTANCE_HOT_DEG,\n",
      "<ipython-input-25-99da4e5d8fd9>:160: UserWarning: p-value floored: true value smaller than 0.001\n",
      "  AD1S, AD2S, AD3S = stats.anderson_ksamp([MIN_DISTANCE_HOT_DEG,\n",
      "<ipython-input-25-99da4e5d8fd9>:160: UserWarning: p-value floored: true value smaller than 0.001\n",
      "  AD1S, AD2S, AD3S = stats.anderson_ksamp([MIN_DISTANCE_HOT_DEG,\n"
     ]
    },
    {
     "name": "stdout",
     "output_type": "stream",
     "text": [
      "MUTATION!\n"
     ]
    },
    {
     "name": "stderr",
     "output_type": "stream",
     "text": [
      "<ipython-input-25-99da4e5d8fd9>:160: UserWarning: p-value floored: true value smaller than 0.001\n",
      "  AD1S, AD2S, AD3S = stats.anderson_ksamp([MIN_DISTANCE_HOT_DEG,\n",
      "<ipython-input-25-99da4e5d8fd9>:160: UserWarning: p-value floored: true value smaller than 0.001\n",
      "  AD1S, AD2S, AD3S = stats.anderson_ksamp([MIN_DISTANCE_HOT_DEG,\n",
      "<ipython-input-25-99da4e5d8fd9>:160: UserWarning: p-value floored: true value smaller than 0.001\n",
      "  AD1S, AD2S, AD3S = stats.anderson_ksamp([MIN_DISTANCE_HOT_DEG,\n"
     ]
    },
    {
     "name": "stdout",
     "output_type": "stream",
     "text": [
      "Random 961 out of 1000\n"
     ]
    },
    {
     "name": "stderr",
     "output_type": "stream",
     "text": [
      "<ipython-input-25-99da4e5d8fd9>:160: UserWarning: p-value floored: true value smaller than 0.001\n",
      "  AD1S, AD2S, AD3S = stats.anderson_ksamp([MIN_DISTANCE_HOT_DEG,\n",
      "<ipython-input-25-99da4e5d8fd9>:160: UserWarning: p-value floored: true value smaller than 0.001\n",
      "  AD1S, AD2S, AD3S = stats.anderson_ksamp([MIN_DISTANCE_HOT_DEG,\n",
      "<ipython-input-25-99da4e5d8fd9>:160: UserWarning: p-value floored: true value smaller than 0.001\n",
      "  AD1S, AD2S, AD3S = stats.anderson_ksamp([MIN_DISTANCE_HOT_DEG,\n",
      "<ipython-input-25-99da4e5d8fd9>:160: UserWarning: p-value floored: true value smaller than 0.001\n",
      "  AD1S, AD2S, AD3S = stats.anderson_ksamp([MIN_DISTANCE_HOT_DEG,\n",
      "<ipython-input-25-99da4e5d8fd9>:160: UserWarning: p-value floored: true value smaller than 0.001\n",
      "  AD1S, AD2S, AD3S = stats.anderson_ksamp([MIN_DISTANCE_HOT_DEG,\n",
      "<ipython-input-25-99da4e5d8fd9>:160: UserWarning: p-value floored: true value smaller than 0.001\n",
      "  AD1S, AD2S, AD3S = stats.anderson_ksamp([MIN_DISTANCE_HOT_DEG,\n",
      "<ipython-input-25-99da4e5d8fd9>:160: UserWarning: p-value floored: true value smaller than 0.001\n",
      "  AD1S, AD2S, AD3S = stats.anderson_ksamp([MIN_DISTANCE_HOT_DEG,\n"
     ]
    },
    {
     "name": "stdout",
     "output_type": "stream",
     "text": [
      "Random 971 out of 1000\n"
     ]
    },
    {
     "name": "stderr",
     "output_type": "stream",
     "text": [
      "<ipython-input-25-99da4e5d8fd9>:160: UserWarning: p-value floored: true value smaller than 0.001\n",
      "  AD1S, AD2S, AD3S = stats.anderson_ksamp([MIN_DISTANCE_HOT_DEG,\n",
      "<ipython-input-25-99da4e5d8fd9>:160: UserWarning: p-value floored: true value smaller than 0.001\n",
      "  AD1S, AD2S, AD3S = stats.anderson_ksamp([MIN_DISTANCE_HOT_DEG,\n",
      "<ipython-input-25-99da4e5d8fd9>:160: UserWarning: p-value floored: true value smaller than 0.001\n",
      "  AD1S, AD2S, AD3S = stats.anderson_ksamp([MIN_DISTANCE_HOT_DEG,\n",
      "<ipython-input-25-99da4e5d8fd9>:160: UserWarning: p-value floored: true value smaller than 0.001\n",
      "  AD1S, AD2S, AD3S = stats.anderson_ksamp([MIN_DISTANCE_HOT_DEG,\n",
      "<ipython-input-25-99da4e5d8fd9>:160: UserWarning: p-value floored: true value smaller than 0.001\n",
      "  AD1S, AD2S, AD3S = stats.anderson_ksamp([MIN_DISTANCE_HOT_DEG,\n",
      "<ipython-input-25-99da4e5d8fd9>:160: UserWarning: p-value floored: true value smaller than 0.001\n",
      "  AD1S, AD2S, AD3S = stats.anderson_ksamp([MIN_DISTANCE_HOT_DEG,\n",
      "<ipython-input-25-99da4e5d8fd9>:160: UserWarning: p-value floored: true value smaller than 0.001\n",
      "  AD1S, AD2S, AD3S = stats.anderson_ksamp([MIN_DISTANCE_HOT_DEG,\n",
      "<ipython-input-25-99da4e5d8fd9>:160: UserWarning: p-value floored: true value smaller than 0.001\n",
      "  AD1S, AD2S, AD3S = stats.anderson_ksamp([MIN_DISTANCE_HOT_DEG,\n",
      "<ipython-input-25-99da4e5d8fd9>:160: UserWarning: p-value floored: true value smaller than 0.001\n",
      "  AD1S, AD2S, AD3S = stats.anderson_ksamp([MIN_DISTANCE_HOT_DEG,\n"
     ]
    },
    {
     "name": "stdout",
     "output_type": "stream",
     "text": [
      "Random 981 out of 1000\n"
     ]
    },
    {
     "name": "stderr",
     "output_type": "stream",
     "text": [
      "<ipython-input-25-99da4e5d8fd9>:160: UserWarning: p-value floored: true value smaller than 0.001\n",
      "  AD1S, AD2S, AD3S = stats.anderson_ksamp([MIN_DISTANCE_HOT_DEG,\n",
      "<ipython-input-25-99da4e5d8fd9>:160: UserWarning: p-value floored: true value smaller than 0.001\n",
      "  AD1S, AD2S, AD3S = stats.anderson_ksamp([MIN_DISTANCE_HOT_DEG,\n",
      "<ipython-input-25-99da4e5d8fd9>:160: UserWarning: p-value floored: true value smaller than 0.001\n",
      "  AD1S, AD2S, AD3S = stats.anderson_ksamp([MIN_DISTANCE_HOT_DEG,\n",
      "<ipython-input-25-99da4e5d8fd9>:160: UserWarning: p-value floored: true value smaller than 0.001\n",
      "  AD1S, AD2S, AD3S = stats.anderson_ksamp([MIN_DISTANCE_HOT_DEG,\n",
      "<ipython-input-25-99da4e5d8fd9>:160: UserWarning: p-value floored: true value smaller than 0.001\n",
      "  AD1S, AD2S, AD3S = stats.anderson_ksamp([MIN_DISTANCE_HOT_DEG,\n",
      "<ipython-input-25-99da4e5d8fd9>:160: UserWarning: p-value floored: true value smaller than 0.001\n",
      "  AD1S, AD2S, AD3S = stats.anderson_ksamp([MIN_DISTANCE_HOT_DEG,\n"
     ]
    },
    {
     "name": "stdout",
     "output_type": "stream",
     "text": [
      "Random 991 out of 1000\n"
     ]
    },
    {
     "name": "stderr",
     "output_type": "stream",
     "text": [
      "<ipython-input-25-99da4e5d8fd9>:160: UserWarning: p-value floored: true value smaller than 0.001\n",
      "  AD1S, AD2S, AD3S = stats.anderson_ksamp([MIN_DISTANCE_HOT_DEG,\n",
      "<ipython-input-25-99da4e5d8fd9>:160: UserWarning: p-value floored: true value smaller than 0.001\n",
      "  AD1S, AD2S, AD3S = stats.anderson_ksamp([MIN_DISTANCE_HOT_DEG,\n",
      "<ipython-input-25-99da4e5d8fd9>:160: UserWarning: p-value floored: true value smaller than 0.001\n",
      "  AD1S, AD2S, AD3S = stats.anderson_ksamp([MIN_DISTANCE_HOT_DEG,\n",
      "<ipython-input-25-99da4e5d8fd9>:160: UserWarning: p-value floored: true value smaller than 0.001\n",
      "  AD1S, AD2S, AD3S = stats.anderson_ksamp([MIN_DISTANCE_HOT_DEG,\n",
      "<ipython-input-25-99da4e5d8fd9>:160: UserWarning: p-value floored: true value smaller than 0.001\n",
      "  AD1S, AD2S, AD3S = stats.anderson_ksamp([MIN_DISTANCE_HOT_DEG,\n",
      "<ipython-input-25-99da4e5d8fd9>:160: UserWarning: p-value floored: true value smaller than 0.001\n",
      "  AD1S, AD2S, AD3S = stats.anderson_ksamp([MIN_DISTANCE_HOT_DEG,\n",
      "<ipython-input-25-99da4e5d8fd9>:160: UserWarning: p-value floored: true value smaller than 0.001\n",
      "  AD1S, AD2S, AD3S = stats.anderson_ksamp([MIN_DISTANCE_HOT_DEG,\n",
      "<ipython-input-25-99da4e5d8fd9>:160: UserWarning: p-value floored: true value smaller than 0.001\n",
      "  AD1S, AD2S, AD3S = stats.anderson_ksamp([MIN_DISTANCE_HOT_DEG,\n"
     ]
    },
    {
     "name": "stdout",
     "output_type": "stream",
     "text": [
      "0.985 1.0  are ADFS_conf and ADFS_conf_0_25\n",
      "n>30\n",
      "160 Ma\n",
      "2.1164758116460294 is the mean of the sample\n",
      "46.26865671641791 % of the points are on Hot Structures\n",
      "67\n",
      "Random 1 out of 1000\n"
     ]
    },
    {
     "name": "stderr",
     "output_type": "stream",
     "text": [
      "<ipython-input-25-99da4e5d8fd9>:160: UserWarning: p-value floored: true value smaller than 0.001\n",
      "  AD1S, AD2S, AD3S = stats.anderson_ksamp([MIN_DISTANCE_HOT_DEG,\n",
      "<ipython-input-25-99da4e5d8fd9>:160: UserWarning: p-value floored: true value smaller than 0.001\n",
      "  AD1S, AD2S, AD3S = stats.anderson_ksamp([MIN_DISTANCE_HOT_DEG,\n",
      "<ipython-input-25-99da4e5d8fd9>:160: UserWarning: p-value floored: true value smaller than 0.001\n",
      "  AD1S, AD2S, AD3S = stats.anderson_ksamp([MIN_DISTANCE_HOT_DEG,\n",
      "<ipython-input-25-99da4e5d8fd9>:160: UserWarning: p-value floored: true value smaller than 0.001\n",
      "  AD1S, AD2S, AD3S = stats.anderson_ksamp([MIN_DISTANCE_HOT_DEG,\n",
      "<ipython-input-25-99da4e5d8fd9>:160: UserWarning: p-value floored: true value smaller than 0.001\n",
      "  AD1S, AD2S, AD3S = stats.anderson_ksamp([MIN_DISTANCE_HOT_DEG,\n",
      "<ipython-input-25-99da4e5d8fd9>:160: UserWarning: p-value floored: true value smaller than 0.001\n",
      "  AD1S, AD2S, AD3S = stats.anderson_ksamp([MIN_DISTANCE_HOT_DEG,\n",
      "<ipython-input-25-99da4e5d8fd9>:160: UserWarning: p-value floored: true value smaller than 0.001\n",
      "  AD1S, AD2S, AD3S = stats.anderson_ksamp([MIN_DISTANCE_HOT_DEG,\n",
      "<ipython-input-25-99da4e5d8fd9>:160: UserWarning: p-value floored: true value smaller than 0.001\n",
      "  AD1S, AD2S, AD3S = stats.anderson_ksamp([MIN_DISTANCE_HOT_DEG,\n",
      "<ipython-input-25-99da4e5d8fd9>:160: UserWarning: p-value floored: true value smaller than 0.001\n",
      "  AD1S, AD2S, AD3S = stats.anderson_ksamp([MIN_DISTANCE_HOT_DEG,\n",
      "<ipython-input-25-99da4e5d8fd9>:160: UserWarning: p-value floored: true value smaller than 0.001\n",
      "  AD1S, AD2S, AD3S = stats.anderson_ksamp([MIN_DISTANCE_HOT_DEG,\n"
     ]
    },
    {
     "name": "stdout",
     "output_type": "stream",
     "text": [
      "Random 11 out of 1000\n"
     ]
    },
    {
     "name": "stderr",
     "output_type": "stream",
     "text": [
      "<ipython-input-25-99da4e5d8fd9>:160: UserWarning: p-value floored: true value smaller than 0.001\n",
      "  AD1S, AD2S, AD3S = stats.anderson_ksamp([MIN_DISTANCE_HOT_DEG,\n",
      "<ipython-input-25-99da4e5d8fd9>:160: UserWarning: p-value floored: true value smaller than 0.001\n",
      "  AD1S, AD2S, AD3S = stats.anderson_ksamp([MIN_DISTANCE_HOT_DEG,\n",
      "<ipython-input-25-99da4e5d8fd9>:160: UserWarning: p-value floored: true value smaller than 0.001\n",
      "  AD1S, AD2S, AD3S = stats.anderson_ksamp([MIN_DISTANCE_HOT_DEG,\n",
      "<ipython-input-25-99da4e5d8fd9>:160: UserWarning: p-value floored: true value smaller than 0.001\n",
      "  AD1S, AD2S, AD3S = stats.anderson_ksamp([MIN_DISTANCE_HOT_DEG,\n",
      "<ipython-input-25-99da4e5d8fd9>:160: UserWarning: p-value floored: true value smaller than 0.001\n",
      "  AD1S, AD2S, AD3S = stats.anderson_ksamp([MIN_DISTANCE_HOT_DEG,\n",
      "<ipython-input-25-99da4e5d8fd9>:160: UserWarning: p-value floored: true value smaller than 0.001\n",
      "  AD1S, AD2S, AD3S = stats.anderson_ksamp([MIN_DISTANCE_HOT_DEG,\n",
      "<ipython-input-25-99da4e5d8fd9>:160: UserWarning: p-value floored: true value smaller than 0.001\n",
      "  AD1S, AD2S, AD3S = stats.anderson_ksamp([MIN_DISTANCE_HOT_DEG,\n",
      "<ipython-input-25-99da4e5d8fd9>:160: UserWarning: p-value floored: true value smaller than 0.001\n",
      "  AD1S, AD2S, AD3S = stats.anderson_ksamp([MIN_DISTANCE_HOT_DEG,\n",
      "<ipython-input-25-99da4e5d8fd9>:160: UserWarning: p-value floored: true value smaller than 0.001\n",
      "  AD1S, AD2S, AD3S = stats.anderson_ksamp([MIN_DISTANCE_HOT_DEG,\n"
     ]
    },
    {
     "name": "stdout",
     "output_type": "stream",
     "text": [
      "Random 21 out of 1000\n"
     ]
    },
    {
     "name": "stderr",
     "output_type": "stream",
     "text": [
      "<ipython-input-25-99da4e5d8fd9>:160: UserWarning: p-value floored: true value smaller than 0.001\n",
      "  AD1S, AD2S, AD3S = stats.anderson_ksamp([MIN_DISTANCE_HOT_DEG,\n",
      "<ipython-input-25-99da4e5d8fd9>:160: UserWarning: p-value floored: true value smaller than 0.001\n",
      "  AD1S, AD2S, AD3S = stats.anderson_ksamp([MIN_DISTANCE_HOT_DEG,\n",
      "<ipython-input-25-99da4e5d8fd9>:160: UserWarning: p-value floored: true value smaller than 0.001\n",
      "  AD1S, AD2S, AD3S = stats.anderson_ksamp([MIN_DISTANCE_HOT_DEG,\n",
      "<ipython-input-25-99da4e5d8fd9>:160: UserWarning: p-value floored: true value smaller than 0.001\n",
      "  AD1S, AD2S, AD3S = stats.anderson_ksamp([MIN_DISTANCE_HOT_DEG,\n",
      "<ipython-input-25-99da4e5d8fd9>:160: UserWarning: p-value floored: true value smaller than 0.001\n",
      "  AD1S, AD2S, AD3S = stats.anderson_ksamp([MIN_DISTANCE_HOT_DEG,\n",
      "<ipython-input-25-99da4e5d8fd9>:160: UserWarning: p-value floored: true value smaller than 0.001\n",
      "  AD1S, AD2S, AD3S = stats.anderson_ksamp([MIN_DISTANCE_HOT_DEG,\n",
      "<ipython-input-25-99da4e5d8fd9>:160: UserWarning: p-value floored: true value smaller than 0.001\n",
      "  AD1S, AD2S, AD3S = stats.anderson_ksamp([MIN_DISTANCE_HOT_DEG,\n",
      "<ipython-input-25-99da4e5d8fd9>:160: UserWarning: p-value floored: true value smaller than 0.001\n",
      "  AD1S, AD2S, AD3S = stats.anderson_ksamp([MIN_DISTANCE_HOT_DEG,\n",
      "<ipython-input-25-99da4e5d8fd9>:160: UserWarning: p-value floored: true value smaller than 0.001\n",
      "  AD1S, AD2S, AD3S = stats.anderson_ksamp([MIN_DISTANCE_HOT_DEG,\n"
     ]
    },
    {
     "name": "stdout",
     "output_type": "stream",
     "text": [
      "Random 31 out of 1000\n"
     ]
    },
    {
     "name": "stderr",
     "output_type": "stream",
     "text": [
      "<ipython-input-25-99da4e5d8fd9>:160: UserWarning: p-value floored: true value smaller than 0.001\n",
      "  AD1S, AD2S, AD3S = stats.anderson_ksamp([MIN_DISTANCE_HOT_DEG,\n",
      "<ipython-input-25-99da4e5d8fd9>:160: UserWarning: p-value floored: true value smaller than 0.001\n",
      "  AD1S, AD2S, AD3S = stats.anderson_ksamp([MIN_DISTANCE_HOT_DEG,\n",
      "<ipython-input-25-99da4e5d8fd9>:160: UserWarning: p-value floored: true value smaller than 0.001\n",
      "  AD1S, AD2S, AD3S = stats.anderson_ksamp([MIN_DISTANCE_HOT_DEG,\n",
      "<ipython-input-25-99da4e5d8fd9>:160: UserWarning: p-value floored: true value smaller than 0.001\n",
      "  AD1S, AD2S, AD3S = stats.anderson_ksamp([MIN_DISTANCE_HOT_DEG,\n",
      "<ipython-input-25-99da4e5d8fd9>:160: UserWarning: p-value floored: true value smaller than 0.001\n",
      "  AD1S, AD2S, AD3S = stats.anderson_ksamp([MIN_DISTANCE_HOT_DEG,\n",
      "<ipython-input-25-99da4e5d8fd9>:160: UserWarning: p-value floored: true value smaller than 0.001\n",
      "  AD1S, AD2S, AD3S = stats.anderson_ksamp([MIN_DISTANCE_HOT_DEG,\n",
      "<ipython-input-25-99da4e5d8fd9>:160: UserWarning: p-value floored: true value smaller than 0.001\n",
      "  AD1S, AD2S, AD3S = stats.anderson_ksamp([MIN_DISTANCE_HOT_DEG,\n",
      "<ipython-input-25-99da4e5d8fd9>:160: UserWarning: p-value floored: true value smaller than 0.001\n",
      "  AD1S, AD2S, AD3S = stats.anderson_ksamp([MIN_DISTANCE_HOT_DEG,\n",
      "<ipython-input-25-99da4e5d8fd9>:160: UserWarning: p-value floored: true value smaller than 0.001\n",
      "  AD1S, AD2S, AD3S = stats.anderson_ksamp([MIN_DISTANCE_HOT_DEG,\n",
      "<ipython-input-25-99da4e5d8fd9>:160: UserWarning: p-value floored: true value smaller than 0.001\n",
      "  AD1S, AD2S, AD3S = stats.anderson_ksamp([MIN_DISTANCE_HOT_DEG,\n"
     ]
    },
    {
     "name": "stdout",
     "output_type": "stream",
     "text": [
      "Random 41 out of 1000\n"
     ]
    },
    {
     "name": "stderr",
     "output_type": "stream",
     "text": [
      "<ipython-input-25-99da4e5d8fd9>:160: UserWarning: p-value floored: true value smaller than 0.001\n",
      "  AD1S, AD2S, AD3S = stats.anderson_ksamp([MIN_DISTANCE_HOT_DEG,\n",
      "<ipython-input-25-99da4e5d8fd9>:160: UserWarning: p-value floored: true value smaller than 0.001\n",
      "  AD1S, AD2S, AD3S = stats.anderson_ksamp([MIN_DISTANCE_HOT_DEG,\n"
     ]
    },
    {
     "name": "stdout",
     "output_type": "stream",
     "text": [
      "MUTATION!\n"
     ]
    },
    {
     "name": "stderr",
     "output_type": "stream",
     "text": [
      "<ipython-input-25-99da4e5d8fd9>:160: UserWarning: p-value floored: true value smaller than 0.001\n",
      "  AD1S, AD2S, AD3S = stats.anderson_ksamp([MIN_DISTANCE_HOT_DEG,\n",
      "<ipython-input-25-99da4e5d8fd9>:160: UserWarning: p-value floored: true value smaller than 0.001\n",
      "  AD1S, AD2S, AD3S = stats.anderson_ksamp([MIN_DISTANCE_HOT_DEG,\n",
      "<ipython-input-25-99da4e5d8fd9>:160: UserWarning: p-value floored: true value smaller than 0.001\n",
      "  AD1S, AD2S, AD3S = stats.anderson_ksamp([MIN_DISTANCE_HOT_DEG,\n",
      "<ipython-input-25-99da4e5d8fd9>:160: UserWarning: p-value floored: true value smaller than 0.001\n",
      "  AD1S, AD2S, AD3S = stats.anderson_ksamp([MIN_DISTANCE_HOT_DEG,\n",
      "<ipython-input-25-99da4e5d8fd9>:160: UserWarning: p-value floored: true value smaller than 0.001\n",
      "  AD1S, AD2S, AD3S = stats.anderson_ksamp([MIN_DISTANCE_HOT_DEG,\n",
      "<ipython-input-25-99da4e5d8fd9>:160: UserWarning: p-value floored: true value smaller than 0.001\n",
      "  AD1S, AD2S, AD3S = stats.anderson_ksamp([MIN_DISTANCE_HOT_DEG,\n",
      "<ipython-input-25-99da4e5d8fd9>:160: UserWarning: p-value floored: true value smaller than 0.001\n",
      "  AD1S, AD2S, AD3S = stats.anderson_ksamp([MIN_DISTANCE_HOT_DEG,\n"
     ]
    },
    {
     "name": "stdout",
     "output_type": "stream",
     "text": [
      "Random 51 out of 1000\n"
     ]
    },
    {
     "name": "stderr",
     "output_type": "stream",
     "text": [
      "<ipython-input-25-99da4e5d8fd9>:160: UserWarning: p-value floored: true value smaller than 0.001\n",
      "  AD1S, AD2S, AD3S = stats.anderson_ksamp([MIN_DISTANCE_HOT_DEG,\n",
      "<ipython-input-25-99da4e5d8fd9>:160: UserWarning: p-value floored: true value smaller than 0.001\n",
      "  AD1S, AD2S, AD3S = stats.anderson_ksamp([MIN_DISTANCE_HOT_DEG,\n",
      "<ipython-input-25-99da4e5d8fd9>:160: UserWarning: p-value floored: true value smaller than 0.001\n",
      "  AD1S, AD2S, AD3S = stats.anderson_ksamp([MIN_DISTANCE_HOT_DEG,\n",
      "<ipython-input-25-99da4e5d8fd9>:160: UserWarning: p-value floored: true value smaller than 0.001\n",
      "  AD1S, AD2S, AD3S = stats.anderson_ksamp([MIN_DISTANCE_HOT_DEG,\n",
      "<ipython-input-25-99da4e5d8fd9>:160: UserWarning: p-value floored: true value smaller than 0.001\n",
      "  AD1S, AD2S, AD3S = stats.anderson_ksamp([MIN_DISTANCE_HOT_DEG,\n",
      "<ipython-input-25-99da4e5d8fd9>:160: UserWarning: p-value floored: true value smaller than 0.001\n",
      "  AD1S, AD2S, AD3S = stats.anderson_ksamp([MIN_DISTANCE_HOT_DEG,\n",
      "<ipython-input-25-99da4e5d8fd9>:160: UserWarning: p-value floored: true value smaller than 0.001\n",
      "  AD1S, AD2S, AD3S = stats.anderson_ksamp([MIN_DISTANCE_HOT_DEG,\n"
     ]
    },
    {
     "name": "stdout",
     "output_type": "stream",
     "text": [
      "Random 61 out of 1000\n"
     ]
    },
    {
     "name": "stderr",
     "output_type": "stream",
     "text": [
      "<ipython-input-25-99da4e5d8fd9>:160: UserWarning: p-value floored: true value smaller than 0.001\n",
      "  AD1S, AD2S, AD3S = stats.anderson_ksamp([MIN_DISTANCE_HOT_DEG,\n",
      "<ipython-input-25-99da4e5d8fd9>:160: UserWarning: p-value floored: true value smaller than 0.001\n",
      "  AD1S, AD2S, AD3S = stats.anderson_ksamp([MIN_DISTANCE_HOT_DEG,\n",
      "<ipython-input-25-99da4e5d8fd9>:160: UserWarning: p-value floored: true value smaller than 0.001\n",
      "  AD1S, AD2S, AD3S = stats.anderson_ksamp([MIN_DISTANCE_HOT_DEG,\n",
      "<ipython-input-25-99da4e5d8fd9>:160: UserWarning: p-value floored: true value smaller than 0.001\n",
      "  AD1S, AD2S, AD3S = stats.anderson_ksamp([MIN_DISTANCE_HOT_DEG,\n",
      "<ipython-input-25-99da4e5d8fd9>:160: UserWarning: p-value floored: true value smaller than 0.001\n",
      "  AD1S, AD2S, AD3S = stats.anderson_ksamp([MIN_DISTANCE_HOT_DEG,\n",
      "<ipython-input-25-99da4e5d8fd9>:160: UserWarning: p-value floored: true value smaller than 0.001\n",
      "  AD1S, AD2S, AD3S = stats.anderson_ksamp([MIN_DISTANCE_HOT_DEG,\n",
      "<ipython-input-25-99da4e5d8fd9>:160: UserWarning: p-value floored: true value smaller than 0.001\n",
      "  AD1S, AD2S, AD3S = stats.anderson_ksamp([MIN_DISTANCE_HOT_DEG,\n",
      "<ipython-input-25-99da4e5d8fd9>:160: UserWarning: p-value floored: true value smaller than 0.001\n",
      "  AD1S, AD2S, AD3S = stats.anderson_ksamp([MIN_DISTANCE_HOT_DEG,\n",
      "<ipython-input-25-99da4e5d8fd9>:160: UserWarning: p-value floored: true value smaller than 0.001\n",
      "  AD1S, AD2S, AD3S = stats.anderson_ksamp([MIN_DISTANCE_HOT_DEG,\n",
      "<ipython-input-25-99da4e5d8fd9>:160: UserWarning: p-value floored: true value smaller than 0.001\n",
      "  AD1S, AD2S, AD3S = stats.anderson_ksamp([MIN_DISTANCE_HOT_DEG,\n"
     ]
    },
    {
     "name": "stdout",
     "output_type": "stream",
     "text": [
      "Random 71 out of 1000\n"
     ]
    },
    {
     "name": "stderr",
     "output_type": "stream",
     "text": [
      "<ipython-input-25-99da4e5d8fd9>:160: UserWarning: p-value floored: true value smaller than 0.001\n",
      "  AD1S, AD2S, AD3S = stats.anderson_ksamp([MIN_DISTANCE_HOT_DEG,\n",
      "<ipython-input-25-99da4e5d8fd9>:160: UserWarning: p-value floored: true value smaller than 0.001\n",
      "  AD1S, AD2S, AD3S = stats.anderson_ksamp([MIN_DISTANCE_HOT_DEG,\n",
      "<ipython-input-25-99da4e5d8fd9>:160: UserWarning: p-value floored: true value smaller than 0.001\n",
      "  AD1S, AD2S, AD3S = stats.anderson_ksamp([MIN_DISTANCE_HOT_DEG,\n",
      "<ipython-input-25-99da4e5d8fd9>:160: UserWarning: p-value floored: true value smaller than 0.001\n",
      "  AD1S, AD2S, AD3S = stats.anderson_ksamp([MIN_DISTANCE_HOT_DEG,\n",
      "<ipython-input-25-99da4e5d8fd9>:160: UserWarning: p-value floored: true value smaller than 0.001\n",
      "  AD1S, AD2S, AD3S = stats.anderson_ksamp([MIN_DISTANCE_HOT_DEG,\n",
      "<ipython-input-25-99da4e5d8fd9>:160: UserWarning: p-value floored: true value smaller than 0.001\n",
      "  AD1S, AD2S, AD3S = stats.anderson_ksamp([MIN_DISTANCE_HOT_DEG,\n",
      "<ipython-input-25-99da4e5d8fd9>:160: UserWarning: p-value floored: true value smaller than 0.001\n",
      "  AD1S, AD2S, AD3S = stats.anderson_ksamp([MIN_DISTANCE_HOT_DEG,\n",
      "<ipython-input-25-99da4e5d8fd9>:160: UserWarning: p-value floored: true value smaller than 0.001\n",
      "  AD1S, AD2S, AD3S = stats.anderson_ksamp([MIN_DISTANCE_HOT_DEG,\n",
      "<ipython-input-25-99da4e5d8fd9>:160: UserWarning: p-value floored: true value smaller than 0.001\n",
      "  AD1S, AD2S, AD3S = stats.anderson_ksamp([MIN_DISTANCE_HOT_DEG,\n"
     ]
    },
    {
     "name": "stdout",
     "output_type": "stream",
     "text": [
      "Random 81 out of 1000\n"
     ]
    },
    {
     "name": "stderr",
     "output_type": "stream",
     "text": [
      "<ipython-input-25-99da4e5d8fd9>:160: UserWarning: p-value floored: true value smaller than 0.001\n",
      "  AD1S, AD2S, AD3S = stats.anderson_ksamp([MIN_DISTANCE_HOT_DEG,\n",
      "<ipython-input-25-99da4e5d8fd9>:160: UserWarning: p-value floored: true value smaller than 0.001\n",
      "  AD1S, AD2S, AD3S = stats.anderson_ksamp([MIN_DISTANCE_HOT_DEG,\n",
      "<ipython-input-25-99da4e5d8fd9>:160: UserWarning: p-value floored: true value smaller than 0.001\n",
      "  AD1S, AD2S, AD3S = stats.anderson_ksamp([MIN_DISTANCE_HOT_DEG,\n",
      "<ipython-input-25-99da4e5d8fd9>:160: UserWarning: p-value floored: true value smaller than 0.001\n",
      "  AD1S, AD2S, AD3S = stats.anderson_ksamp([MIN_DISTANCE_HOT_DEG,\n",
      "<ipython-input-25-99da4e5d8fd9>:160: UserWarning: p-value floored: true value smaller than 0.001\n",
      "  AD1S, AD2S, AD3S = stats.anderson_ksamp([MIN_DISTANCE_HOT_DEG,\n",
      "<ipython-input-25-99da4e5d8fd9>:160: UserWarning: p-value floored: true value smaller than 0.001\n",
      "  AD1S, AD2S, AD3S = stats.anderson_ksamp([MIN_DISTANCE_HOT_DEG,\n",
      "<ipython-input-25-99da4e5d8fd9>:160: UserWarning: p-value floored: true value smaller than 0.001\n",
      "  AD1S, AD2S, AD3S = stats.anderson_ksamp([MIN_DISTANCE_HOT_DEG,\n",
      "<ipython-input-25-99da4e5d8fd9>:160: UserWarning: p-value floored: true value smaller than 0.001\n",
      "  AD1S, AD2S, AD3S = stats.anderson_ksamp([MIN_DISTANCE_HOT_DEG,\n",
      "<ipython-input-25-99da4e5d8fd9>:160: UserWarning: p-value floored: true value smaller than 0.001\n",
      "  AD1S, AD2S, AD3S = stats.anderson_ksamp([MIN_DISTANCE_HOT_DEG,\n",
      "<ipython-input-25-99da4e5d8fd9>:160: UserWarning: p-value floored: true value smaller than 0.001\n",
      "  AD1S, AD2S, AD3S = stats.anderson_ksamp([MIN_DISTANCE_HOT_DEG,\n"
     ]
    },
    {
     "name": "stdout",
     "output_type": "stream",
     "text": [
      "Random 91 out of 1000\n"
     ]
    },
    {
     "name": "stderr",
     "output_type": "stream",
     "text": [
      "<ipython-input-25-99da4e5d8fd9>:160: UserWarning: p-value floored: true value smaller than 0.001\n",
      "  AD1S, AD2S, AD3S = stats.anderson_ksamp([MIN_DISTANCE_HOT_DEG,\n",
      "<ipython-input-25-99da4e5d8fd9>:160: UserWarning: p-value floored: true value smaller than 0.001\n",
      "  AD1S, AD2S, AD3S = stats.anderson_ksamp([MIN_DISTANCE_HOT_DEG,\n",
      "<ipython-input-25-99da4e5d8fd9>:160: UserWarning: p-value floored: true value smaller than 0.001\n",
      "  AD1S, AD2S, AD3S = stats.anderson_ksamp([MIN_DISTANCE_HOT_DEG,\n",
      "<ipython-input-25-99da4e5d8fd9>:160: UserWarning: p-value floored: true value smaller than 0.001\n",
      "  AD1S, AD2S, AD3S = stats.anderson_ksamp([MIN_DISTANCE_HOT_DEG,\n",
      "<ipython-input-25-99da4e5d8fd9>:160: UserWarning: p-value floored: true value smaller than 0.001\n",
      "  AD1S, AD2S, AD3S = stats.anderson_ksamp([MIN_DISTANCE_HOT_DEG,\n",
      "<ipython-input-25-99da4e5d8fd9>:160: UserWarning: p-value floored: true value smaller than 0.001\n",
      "  AD1S, AD2S, AD3S = stats.anderson_ksamp([MIN_DISTANCE_HOT_DEG,\n",
      "<ipython-input-25-99da4e5d8fd9>:160: UserWarning: p-value floored: true value smaller than 0.001\n",
      "  AD1S, AD2S, AD3S = stats.anderson_ksamp([MIN_DISTANCE_HOT_DEG,\n",
      "<ipython-input-25-99da4e5d8fd9>:160: UserWarning: p-value floored: true value smaller than 0.001\n",
      "  AD1S, AD2S, AD3S = stats.anderson_ksamp([MIN_DISTANCE_HOT_DEG,\n",
      "<ipython-input-25-99da4e5d8fd9>:160: UserWarning: p-value floored: true value smaller than 0.001\n",
      "  AD1S, AD2S, AD3S = stats.anderson_ksamp([MIN_DISTANCE_HOT_DEG,\n"
     ]
    },
    {
     "name": "stdout",
     "output_type": "stream",
     "text": [
      "Random 101 out of 1000\n"
     ]
    },
    {
     "name": "stderr",
     "output_type": "stream",
     "text": [
      "<ipython-input-25-99da4e5d8fd9>:160: UserWarning: p-value floored: true value smaller than 0.001\n",
      "  AD1S, AD2S, AD3S = stats.anderson_ksamp([MIN_DISTANCE_HOT_DEG,\n",
      "<ipython-input-25-99da4e5d8fd9>:160: UserWarning: p-value floored: true value smaller than 0.001\n",
      "  AD1S, AD2S, AD3S = stats.anderson_ksamp([MIN_DISTANCE_HOT_DEG,\n",
      "<ipython-input-25-99da4e5d8fd9>:160: UserWarning: p-value floored: true value smaller than 0.001\n",
      "  AD1S, AD2S, AD3S = stats.anderson_ksamp([MIN_DISTANCE_HOT_DEG,\n",
      "<ipython-input-25-99da4e5d8fd9>:160: UserWarning: p-value floored: true value smaller than 0.001\n",
      "  AD1S, AD2S, AD3S = stats.anderson_ksamp([MIN_DISTANCE_HOT_DEG,\n",
      "<ipython-input-25-99da4e5d8fd9>:160: UserWarning: p-value floored: true value smaller than 0.001\n",
      "  AD1S, AD2S, AD3S = stats.anderson_ksamp([MIN_DISTANCE_HOT_DEG,\n",
      "<ipython-input-25-99da4e5d8fd9>:160: UserWarning: p-value floored: true value smaller than 0.001\n",
      "  AD1S, AD2S, AD3S = stats.anderson_ksamp([MIN_DISTANCE_HOT_DEG,\n",
      "<ipython-input-25-99da4e5d8fd9>:160: UserWarning: p-value floored: true value smaller than 0.001\n",
      "  AD1S, AD2S, AD3S = stats.anderson_ksamp([MIN_DISTANCE_HOT_DEG,\n",
      "<ipython-input-25-99da4e5d8fd9>:160: UserWarning: p-value floored: true value smaller than 0.001\n",
      "  AD1S, AD2S, AD3S = stats.anderson_ksamp([MIN_DISTANCE_HOT_DEG,\n",
      "<ipython-input-25-99da4e5d8fd9>:160: UserWarning: p-value floored: true value smaller than 0.001\n",
      "  AD1S, AD2S, AD3S = stats.anderson_ksamp([MIN_DISTANCE_HOT_DEG,\n"
     ]
    },
    {
     "name": "stdout",
     "output_type": "stream",
     "text": [
      "Random 111 out of 1000\n"
     ]
    },
    {
     "name": "stderr",
     "output_type": "stream",
     "text": [
      "<ipython-input-25-99da4e5d8fd9>:160: UserWarning: p-value floored: true value smaller than 0.001\n",
      "  AD1S, AD2S, AD3S = stats.anderson_ksamp([MIN_DISTANCE_HOT_DEG,\n",
      "<ipython-input-25-99da4e5d8fd9>:160: UserWarning: p-value floored: true value smaller than 0.001\n",
      "  AD1S, AD2S, AD3S = stats.anderson_ksamp([MIN_DISTANCE_HOT_DEG,\n",
      "<ipython-input-25-99da4e5d8fd9>:160: UserWarning: p-value floored: true value smaller than 0.001\n",
      "  AD1S, AD2S, AD3S = stats.anderson_ksamp([MIN_DISTANCE_HOT_DEG,\n"
     ]
    },
    {
     "name": "stdout",
     "output_type": "stream",
     "text": [
      "MUTATION!\n"
     ]
    },
    {
     "name": "stderr",
     "output_type": "stream",
     "text": [
      "<ipython-input-25-99da4e5d8fd9>:160: UserWarning: p-value floored: true value smaller than 0.001\n",
      "  AD1S, AD2S, AD3S = stats.anderson_ksamp([MIN_DISTANCE_HOT_DEG,\n",
      "<ipython-input-25-99da4e5d8fd9>:160: UserWarning: p-value floored: true value smaller than 0.001\n",
      "  AD1S, AD2S, AD3S = stats.anderson_ksamp([MIN_DISTANCE_HOT_DEG,\n",
      "<ipython-input-25-99da4e5d8fd9>:160: UserWarning: p-value floored: true value smaller than 0.001\n",
      "  AD1S, AD2S, AD3S = stats.anderson_ksamp([MIN_DISTANCE_HOT_DEG,\n",
      "<ipython-input-25-99da4e5d8fd9>:160: UserWarning: p-value floored: true value smaller than 0.001\n",
      "  AD1S, AD2S, AD3S = stats.anderson_ksamp([MIN_DISTANCE_HOT_DEG,\n",
      "<ipython-input-25-99da4e5d8fd9>:160: UserWarning: p-value floored: true value smaller than 0.001\n",
      "  AD1S, AD2S, AD3S = stats.anderson_ksamp([MIN_DISTANCE_HOT_DEG,\n",
      "<ipython-input-25-99da4e5d8fd9>:160: UserWarning: p-value floored: true value smaller than 0.001\n",
      "  AD1S, AD2S, AD3S = stats.anderson_ksamp([MIN_DISTANCE_HOT_DEG,\n"
     ]
    },
    {
     "name": "stdout",
     "output_type": "stream",
     "text": [
      "Random 121 out of 1000\n"
     ]
    },
    {
     "name": "stderr",
     "output_type": "stream",
     "text": [
      "<ipython-input-25-99da4e5d8fd9>:160: UserWarning: p-value floored: true value smaller than 0.001\n",
      "  AD1S, AD2S, AD3S = stats.anderson_ksamp([MIN_DISTANCE_HOT_DEG,\n",
      "<ipython-input-25-99da4e5d8fd9>:160: UserWarning: p-value floored: true value smaller than 0.001\n",
      "  AD1S, AD2S, AD3S = stats.anderson_ksamp([MIN_DISTANCE_HOT_DEG,\n",
      "<ipython-input-25-99da4e5d8fd9>:160: UserWarning: p-value floored: true value smaller than 0.001\n",
      "  AD1S, AD2S, AD3S = stats.anderson_ksamp([MIN_DISTANCE_HOT_DEG,\n",
      "<ipython-input-25-99da4e5d8fd9>:160: UserWarning: p-value floored: true value smaller than 0.001\n",
      "  AD1S, AD2S, AD3S = stats.anderson_ksamp([MIN_DISTANCE_HOT_DEG,\n",
      "<ipython-input-25-99da4e5d8fd9>:160: UserWarning: p-value floored: true value smaller than 0.001\n",
      "  AD1S, AD2S, AD3S = stats.anderson_ksamp([MIN_DISTANCE_HOT_DEG,\n",
      "<ipython-input-25-99da4e5d8fd9>:160: UserWarning: p-value floored: true value smaller than 0.001\n",
      "  AD1S, AD2S, AD3S = stats.anderson_ksamp([MIN_DISTANCE_HOT_DEG,\n",
      "<ipython-input-25-99da4e5d8fd9>:160: UserWarning: p-value floored: true value smaller than 0.001\n",
      "  AD1S, AD2S, AD3S = stats.anderson_ksamp([MIN_DISTANCE_HOT_DEG,\n",
      "<ipython-input-25-99da4e5d8fd9>:160: UserWarning: p-value floored: true value smaller than 0.001\n",
      "  AD1S, AD2S, AD3S = stats.anderson_ksamp([MIN_DISTANCE_HOT_DEG,\n",
      "<ipython-input-25-99da4e5d8fd9>:160: UserWarning: p-value floored: true value smaller than 0.001\n",
      "  AD1S, AD2S, AD3S = stats.anderson_ksamp([MIN_DISTANCE_HOT_DEG,\n"
     ]
    },
    {
     "name": "stdout",
     "output_type": "stream",
     "text": [
      "Random 131 out of 1000\n"
     ]
    },
    {
     "name": "stderr",
     "output_type": "stream",
     "text": [
      "<ipython-input-25-99da4e5d8fd9>:160: UserWarning: p-value floored: true value smaller than 0.001\n",
      "  AD1S, AD2S, AD3S = stats.anderson_ksamp([MIN_DISTANCE_HOT_DEG,\n",
      "<ipython-input-25-99da4e5d8fd9>:160: UserWarning: p-value floored: true value smaller than 0.001\n",
      "  AD1S, AD2S, AD3S = stats.anderson_ksamp([MIN_DISTANCE_HOT_DEG,\n",
      "<ipython-input-25-99da4e5d8fd9>:160: UserWarning: p-value floored: true value smaller than 0.001\n",
      "  AD1S, AD2S, AD3S = stats.anderson_ksamp([MIN_DISTANCE_HOT_DEG,\n",
      "<ipython-input-25-99da4e5d8fd9>:160: UserWarning: p-value floored: true value smaller than 0.001\n",
      "  AD1S, AD2S, AD3S = stats.anderson_ksamp([MIN_DISTANCE_HOT_DEG,\n",
      "<ipython-input-25-99da4e5d8fd9>:160: UserWarning: p-value floored: true value smaller than 0.001\n",
      "  AD1S, AD2S, AD3S = stats.anderson_ksamp([MIN_DISTANCE_HOT_DEG,\n",
      "<ipython-input-25-99da4e5d8fd9>:160: UserWarning: p-value floored: true value smaller than 0.001\n",
      "  AD1S, AD2S, AD3S = stats.anderson_ksamp([MIN_DISTANCE_HOT_DEG,\n",
      "<ipython-input-25-99da4e5d8fd9>:160: UserWarning: p-value floored: true value smaller than 0.001\n",
      "  AD1S, AD2S, AD3S = stats.anderson_ksamp([MIN_DISTANCE_HOT_DEG,\n",
      "<ipython-input-25-99da4e5d8fd9>:160: UserWarning: p-value floored: true value smaller than 0.001\n",
      "  AD1S, AD2S, AD3S = stats.anderson_ksamp([MIN_DISTANCE_HOT_DEG,\n",
      "<ipython-input-25-99da4e5d8fd9>:160: UserWarning: p-value floored: true value smaller than 0.001\n",
      "  AD1S, AD2S, AD3S = stats.anderson_ksamp([MIN_DISTANCE_HOT_DEG,\n"
     ]
    },
    {
     "name": "stdout",
     "output_type": "stream",
     "text": [
      "Random 141 out of 1000\n"
     ]
    },
    {
     "name": "stderr",
     "output_type": "stream",
     "text": [
      "<ipython-input-25-99da4e5d8fd9>:160: UserWarning: p-value floored: true value smaller than 0.001\n",
      "  AD1S, AD2S, AD3S = stats.anderson_ksamp([MIN_DISTANCE_HOT_DEG,\n",
      "<ipython-input-25-99da4e5d8fd9>:160: UserWarning: p-value floored: true value smaller than 0.001\n",
      "  AD1S, AD2S, AD3S = stats.anderson_ksamp([MIN_DISTANCE_HOT_DEG,\n",
      "<ipython-input-25-99da4e5d8fd9>:160: UserWarning: p-value floored: true value smaller than 0.001\n",
      "  AD1S, AD2S, AD3S = stats.anderson_ksamp([MIN_DISTANCE_HOT_DEG,\n",
      "<ipython-input-25-99da4e5d8fd9>:160: UserWarning: p-value floored: true value smaller than 0.001\n",
      "  AD1S, AD2S, AD3S = stats.anderson_ksamp([MIN_DISTANCE_HOT_DEG,\n",
      "<ipython-input-25-99da4e5d8fd9>:160: UserWarning: p-value floored: true value smaller than 0.001\n",
      "  AD1S, AD2S, AD3S = stats.anderson_ksamp([MIN_DISTANCE_HOT_DEG,\n",
      "<ipython-input-25-99da4e5d8fd9>:160: UserWarning: p-value floored: true value smaller than 0.001\n",
      "  AD1S, AD2S, AD3S = stats.anderson_ksamp([MIN_DISTANCE_HOT_DEG,\n",
      "<ipython-input-25-99da4e5d8fd9>:160: UserWarning: p-value floored: true value smaller than 0.001\n",
      "  AD1S, AD2S, AD3S = stats.anderson_ksamp([MIN_DISTANCE_HOT_DEG,\n",
      "<ipython-input-25-99da4e5d8fd9>:160: UserWarning: p-value floored: true value smaller than 0.001\n",
      "  AD1S, AD2S, AD3S = stats.anderson_ksamp([MIN_DISTANCE_HOT_DEG,\n",
      "<ipython-input-25-99da4e5d8fd9>:160: UserWarning: p-value floored: true value smaller than 0.001\n",
      "  AD1S, AD2S, AD3S = stats.anderson_ksamp([MIN_DISTANCE_HOT_DEG,\n",
      "<ipython-input-25-99da4e5d8fd9>:160: UserWarning: p-value floored: true value smaller than 0.001\n",
      "  AD1S, AD2S, AD3S = stats.anderson_ksamp([MIN_DISTANCE_HOT_DEG,\n"
     ]
    },
    {
     "name": "stdout",
     "output_type": "stream",
     "text": [
      "Random 151 out of 1000\n"
     ]
    },
    {
     "name": "stderr",
     "output_type": "stream",
     "text": [
      "<ipython-input-25-99da4e5d8fd9>:160: UserWarning: p-value floored: true value smaller than 0.001\n",
      "  AD1S, AD2S, AD3S = stats.anderson_ksamp([MIN_DISTANCE_HOT_DEG,\n"
     ]
    },
    {
     "name": "stdout",
     "output_type": "stream",
     "text": [
      "MUTATION!\n"
     ]
    },
    {
     "name": "stderr",
     "output_type": "stream",
     "text": [
      "<ipython-input-25-99da4e5d8fd9>:160: UserWarning: p-value floored: true value smaller than 0.001\n",
      "  AD1S, AD2S, AD3S = stats.anderson_ksamp([MIN_DISTANCE_HOT_DEG,\n",
      "<ipython-input-25-99da4e5d8fd9>:160: UserWarning: p-value floored: true value smaller than 0.001\n",
      "  AD1S, AD2S, AD3S = stats.anderson_ksamp([MIN_DISTANCE_HOT_DEG,\n",
      "<ipython-input-25-99da4e5d8fd9>:160: UserWarning: p-value floored: true value smaller than 0.001\n",
      "  AD1S, AD2S, AD3S = stats.anderson_ksamp([MIN_DISTANCE_HOT_DEG,\n",
      "<ipython-input-25-99da4e5d8fd9>:160: UserWarning: p-value floored: true value smaller than 0.001\n",
      "  AD1S, AD2S, AD3S = stats.anderson_ksamp([MIN_DISTANCE_HOT_DEG,\n",
      "<ipython-input-25-99da4e5d8fd9>:160: UserWarning: p-value floored: true value smaller than 0.001\n",
      "  AD1S, AD2S, AD3S = stats.anderson_ksamp([MIN_DISTANCE_HOT_DEG,\n",
      "<ipython-input-25-99da4e5d8fd9>:160: UserWarning: p-value floored: true value smaller than 0.001\n",
      "  AD1S, AD2S, AD3S = stats.anderson_ksamp([MIN_DISTANCE_HOT_DEG,\n",
      "<ipython-input-25-99da4e5d8fd9>:160: UserWarning: p-value floored: true value smaller than 0.001\n",
      "  AD1S, AD2S, AD3S = stats.anderson_ksamp([MIN_DISTANCE_HOT_DEG,\n",
      "<ipython-input-25-99da4e5d8fd9>:160: UserWarning: p-value floored: true value smaller than 0.001\n",
      "  AD1S, AD2S, AD3S = stats.anderson_ksamp([MIN_DISTANCE_HOT_DEG,\n",
      "<ipython-input-25-99da4e5d8fd9>:160: UserWarning: p-value floored: true value smaller than 0.001\n",
      "  AD1S, AD2S, AD3S = stats.anderson_ksamp([MIN_DISTANCE_HOT_DEG,\n"
     ]
    },
    {
     "name": "stdout",
     "output_type": "stream",
     "text": [
      "Random 161 out of 1000\n"
     ]
    },
    {
     "name": "stderr",
     "output_type": "stream",
     "text": [
      "<ipython-input-25-99da4e5d8fd9>:160: UserWarning: p-value floored: true value smaller than 0.001\n",
      "  AD1S, AD2S, AD3S = stats.anderson_ksamp([MIN_DISTANCE_HOT_DEG,\n",
      "<ipython-input-25-99da4e5d8fd9>:160: UserWarning: p-value floored: true value smaller than 0.001\n",
      "  AD1S, AD2S, AD3S = stats.anderson_ksamp([MIN_DISTANCE_HOT_DEG,\n",
      "<ipython-input-25-99da4e5d8fd9>:160: UserWarning: p-value floored: true value smaller than 0.001\n",
      "  AD1S, AD2S, AD3S = stats.anderson_ksamp([MIN_DISTANCE_HOT_DEG,\n",
      "<ipython-input-25-99da4e5d8fd9>:160: UserWarning: p-value floored: true value smaller than 0.001\n",
      "  AD1S, AD2S, AD3S = stats.anderson_ksamp([MIN_DISTANCE_HOT_DEG,\n",
      "<ipython-input-25-99da4e5d8fd9>:160: UserWarning: p-value floored: true value smaller than 0.001\n",
      "  AD1S, AD2S, AD3S = stats.anderson_ksamp([MIN_DISTANCE_HOT_DEG,\n",
      "<ipython-input-25-99da4e5d8fd9>:160: UserWarning: p-value floored: true value smaller than 0.001\n",
      "  AD1S, AD2S, AD3S = stats.anderson_ksamp([MIN_DISTANCE_HOT_DEG,\n",
      "<ipython-input-25-99da4e5d8fd9>:160: UserWarning: p-value floored: true value smaller than 0.001\n",
      "  AD1S, AD2S, AD3S = stats.anderson_ksamp([MIN_DISTANCE_HOT_DEG,\n",
      "<ipython-input-25-99da4e5d8fd9>:160: UserWarning: p-value floored: true value smaller than 0.001\n",
      "  AD1S, AD2S, AD3S = stats.anderson_ksamp([MIN_DISTANCE_HOT_DEG,\n"
     ]
    },
    {
     "name": "stdout",
     "output_type": "stream",
     "text": [
      "Random 171 out of 1000\n"
     ]
    },
    {
     "name": "stderr",
     "output_type": "stream",
     "text": [
      "<ipython-input-25-99da4e5d8fd9>:160: UserWarning: p-value floored: true value smaller than 0.001\n",
      "  AD1S, AD2S, AD3S = stats.anderson_ksamp([MIN_DISTANCE_HOT_DEG,\n"
     ]
    },
    {
     "name": "stdout",
     "output_type": "stream",
     "text": [
      "MUTATION!\n"
     ]
    },
    {
     "name": "stderr",
     "output_type": "stream",
     "text": [
      "<ipython-input-25-99da4e5d8fd9>:160: UserWarning: p-value floored: true value smaller than 0.001\n",
      "  AD1S, AD2S, AD3S = stats.anderson_ksamp([MIN_DISTANCE_HOT_DEG,\n",
      "<ipython-input-25-99da4e5d8fd9>:160: UserWarning: p-value floored: true value smaller than 0.001\n",
      "  AD1S, AD2S, AD3S = stats.anderson_ksamp([MIN_DISTANCE_HOT_DEG,\n",
      "<ipython-input-25-99da4e5d8fd9>:160: UserWarning: p-value floored: true value smaller than 0.001\n",
      "  AD1S, AD2S, AD3S = stats.anderson_ksamp([MIN_DISTANCE_HOT_DEG,\n",
      "<ipython-input-25-99da4e5d8fd9>:160: UserWarning: p-value floored: true value smaller than 0.001\n",
      "  AD1S, AD2S, AD3S = stats.anderson_ksamp([MIN_DISTANCE_HOT_DEG,\n",
      "<ipython-input-25-99da4e5d8fd9>:160: UserWarning: p-value floored: true value smaller than 0.001\n",
      "  AD1S, AD2S, AD3S = stats.anderson_ksamp([MIN_DISTANCE_HOT_DEG,\n",
      "<ipython-input-25-99da4e5d8fd9>:160: UserWarning: p-value floored: true value smaller than 0.001\n",
      "  AD1S, AD2S, AD3S = stats.anderson_ksamp([MIN_DISTANCE_HOT_DEG,\n",
      "<ipython-input-25-99da4e5d8fd9>:160: UserWarning: p-value floored: true value smaller than 0.001\n",
      "  AD1S, AD2S, AD3S = stats.anderson_ksamp([MIN_DISTANCE_HOT_DEG,\n"
     ]
    },
    {
     "name": "stdout",
     "output_type": "stream",
     "text": [
      "Random 181 out of 1000\n"
     ]
    },
    {
     "name": "stderr",
     "output_type": "stream",
     "text": [
      "<ipython-input-25-99da4e5d8fd9>:160: UserWarning: p-value floored: true value smaller than 0.001\n",
      "  AD1S, AD2S, AD3S = stats.anderson_ksamp([MIN_DISTANCE_HOT_DEG,\n",
      "<ipython-input-25-99da4e5d8fd9>:160: UserWarning: p-value floored: true value smaller than 0.001\n",
      "  AD1S, AD2S, AD3S = stats.anderson_ksamp([MIN_DISTANCE_HOT_DEG,\n",
      "<ipython-input-25-99da4e5d8fd9>:160: UserWarning: p-value floored: true value smaller than 0.001\n",
      "  AD1S, AD2S, AD3S = stats.anderson_ksamp([MIN_DISTANCE_HOT_DEG,\n",
      "<ipython-input-25-99da4e5d8fd9>:160: UserWarning: p-value floored: true value smaller than 0.001\n",
      "  AD1S, AD2S, AD3S = stats.anderson_ksamp([MIN_DISTANCE_HOT_DEG,\n",
      "<ipython-input-25-99da4e5d8fd9>:160: UserWarning: p-value floored: true value smaller than 0.001\n",
      "  AD1S, AD2S, AD3S = stats.anderson_ksamp([MIN_DISTANCE_HOT_DEG,\n",
      "<ipython-input-25-99da4e5d8fd9>:160: UserWarning: p-value floored: true value smaller than 0.001\n",
      "  AD1S, AD2S, AD3S = stats.anderson_ksamp([MIN_DISTANCE_HOT_DEG,\n",
      "<ipython-input-25-99da4e5d8fd9>:160: UserWarning: p-value floored: true value smaller than 0.001\n",
      "  AD1S, AD2S, AD3S = stats.anderson_ksamp([MIN_DISTANCE_HOT_DEG,\n",
      "<ipython-input-25-99da4e5d8fd9>:160: UserWarning: p-value floored: true value smaller than 0.001\n",
      "  AD1S, AD2S, AD3S = stats.anderson_ksamp([MIN_DISTANCE_HOT_DEG,\n",
      "<ipython-input-25-99da4e5d8fd9>:160: UserWarning: p-value floored: true value smaller than 0.001\n",
      "  AD1S, AD2S, AD3S = stats.anderson_ksamp([MIN_DISTANCE_HOT_DEG,\n"
     ]
    },
    {
     "name": "stdout",
     "output_type": "stream",
     "text": [
      "Random 191 out of 1000\n"
     ]
    },
    {
     "name": "stderr",
     "output_type": "stream",
     "text": [
      "<ipython-input-25-99da4e5d8fd9>:160: UserWarning: p-value floored: true value smaller than 0.001\n",
      "  AD1S, AD2S, AD3S = stats.anderson_ksamp([MIN_DISTANCE_HOT_DEG,\n",
      "<ipython-input-25-99da4e5d8fd9>:160: UserWarning: p-value floored: true value smaller than 0.001\n",
      "  AD1S, AD2S, AD3S = stats.anderson_ksamp([MIN_DISTANCE_HOT_DEG,\n",
      "<ipython-input-25-99da4e5d8fd9>:160: UserWarning: p-value floored: true value smaller than 0.001\n",
      "  AD1S, AD2S, AD3S = stats.anderson_ksamp([MIN_DISTANCE_HOT_DEG,\n",
      "<ipython-input-25-99da4e5d8fd9>:160: UserWarning: p-value floored: true value smaller than 0.001\n",
      "  AD1S, AD2S, AD3S = stats.anderson_ksamp([MIN_DISTANCE_HOT_DEG,\n",
      "<ipython-input-25-99da4e5d8fd9>:160: UserWarning: p-value floored: true value smaller than 0.001\n",
      "  AD1S, AD2S, AD3S = stats.anderson_ksamp([MIN_DISTANCE_HOT_DEG,\n",
      "<ipython-input-25-99da4e5d8fd9>:160: UserWarning: p-value floored: true value smaller than 0.001\n",
      "  AD1S, AD2S, AD3S = stats.anderson_ksamp([MIN_DISTANCE_HOT_DEG,\n",
      "<ipython-input-25-99da4e5d8fd9>:160: UserWarning: p-value floored: true value smaller than 0.001\n",
      "  AD1S, AD2S, AD3S = stats.anderson_ksamp([MIN_DISTANCE_HOT_DEG,\n",
      "<ipython-input-25-99da4e5d8fd9>:160: UserWarning: p-value floored: true value smaller than 0.001\n",
      "  AD1S, AD2S, AD3S = stats.anderson_ksamp([MIN_DISTANCE_HOT_DEG,\n",
      "<ipython-input-25-99da4e5d8fd9>:160: UserWarning: p-value floored: true value smaller than 0.001\n",
      "  AD1S, AD2S, AD3S = stats.anderson_ksamp([MIN_DISTANCE_HOT_DEG,\n",
      "<ipython-input-25-99da4e5d8fd9>:160: UserWarning: p-value floored: true value smaller than 0.001\n",
      "  AD1S, AD2S, AD3S = stats.anderson_ksamp([MIN_DISTANCE_HOT_DEG,\n"
     ]
    },
    {
     "name": "stdout",
     "output_type": "stream",
     "text": [
      "Random 201 out of 1000\n"
     ]
    },
    {
     "name": "stderr",
     "output_type": "stream",
     "text": [
      "<ipython-input-25-99da4e5d8fd9>:160: UserWarning: p-value floored: true value smaller than 0.001\n",
      "  AD1S, AD2S, AD3S = stats.anderson_ksamp([MIN_DISTANCE_HOT_DEG,\n",
      "<ipython-input-25-99da4e5d8fd9>:160: UserWarning: p-value floored: true value smaller than 0.001\n",
      "  AD1S, AD2S, AD3S = stats.anderson_ksamp([MIN_DISTANCE_HOT_DEG,\n",
      "<ipython-input-25-99da4e5d8fd9>:160: UserWarning: p-value floored: true value smaller than 0.001\n",
      "  AD1S, AD2S, AD3S = stats.anderson_ksamp([MIN_DISTANCE_HOT_DEG,\n"
     ]
    },
    {
     "name": "stdout",
     "output_type": "stream",
     "text": [
      "MUTATION!\n"
     ]
    },
    {
     "name": "stderr",
     "output_type": "stream",
     "text": [
      "<ipython-input-25-99da4e5d8fd9>:160: UserWarning: p-value floored: true value smaller than 0.001\n",
      "  AD1S, AD2S, AD3S = stats.anderson_ksamp([MIN_DISTANCE_HOT_DEG,\n",
      "<ipython-input-25-99da4e5d8fd9>:160: UserWarning: p-value floored: true value smaller than 0.001\n",
      "  AD1S, AD2S, AD3S = stats.anderson_ksamp([MIN_DISTANCE_HOT_DEG,\n",
      "<ipython-input-25-99da4e5d8fd9>:160: UserWarning: p-value floored: true value smaller than 0.001\n",
      "  AD1S, AD2S, AD3S = stats.anderson_ksamp([MIN_DISTANCE_HOT_DEG,\n",
      "<ipython-input-25-99da4e5d8fd9>:160: UserWarning: p-value floored: true value smaller than 0.001\n",
      "  AD1S, AD2S, AD3S = stats.anderson_ksamp([MIN_DISTANCE_HOT_DEG,\n",
      "<ipython-input-25-99da4e5d8fd9>:160: UserWarning: p-value floored: true value smaller than 0.001\n",
      "  AD1S, AD2S, AD3S = stats.anderson_ksamp([MIN_DISTANCE_HOT_DEG,\n"
     ]
    },
    {
     "name": "stdout",
     "output_type": "stream",
     "text": [
      "Random 211 out of 1000\n"
     ]
    },
    {
     "name": "stderr",
     "output_type": "stream",
     "text": [
      "<ipython-input-25-99da4e5d8fd9>:160: UserWarning: p-value floored: true value smaller than 0.001\n",
      "  AD1S, AD2S, AD3S = stats.anderson_ksamp([MIN_DISTANCE_HOT_DEG,\n",
      "<ipython-input-25-99da4e5d8fd9>:160: UserWarning: p-value floored: true value smaller than 0.001\n",
      "  AD1S, AD2S, AD3S = stats.anderson_ksamp([MIN_DISTANCE_HOT_DEG,\n",
      "<ipython-input-25-99da4e5d8fd9>:160: UserWarning: p-value floored: true value smaller than 0.001\n",
      "  AD1S, AD2S, AD3S = stats.anderson_ksamp([MIN_DISTANCE_HOT_DEG,\n",
      "<ipython-input-25-99da4e5d8fd9>:160: UserWarning: p-value floored: true value smaller than 0.001\n",
      "  AD1S, AD2S, AD3S = stats.anderson_ksamp([MIN_DISTANCE_HOT_DEG,\n",
      "<ipython-input-25-99da4e5d8fd9>:160: UserWarning: p-value floored: true value smaller than 0.001\n",
      "  AD1S, AD2S, AD3S = stats.anderson_ksamp([MIN_DISTANCE_HOT_DEG,\n",
      "<ipython-input-25-99da4e5d8fd9>:160: UserWarning: p-value floored: true value smaller than 0.001\n",
      "  AD1S, AD2S, AD3S = stats.anderson_ksamp([MIN_DISTANCE_HOT_DEG,\n",
      "<ipython-input-25-99da4e5d8fd9>:160: UserWarning: p-value floored: true value smaller than 0.001\n",
      "  AD1S, AD2S, AD3S = stats.anderson_ksamp([MIN_DISTANCE_HOT_DEG,\n",
      "<ipython-input-25-99da4e5d8fd9>:160: UserWarning: p-value floored: true value smaller than 0.001\n",
      "  AD1S, AD2S, AD3S = stats.anderson_ksamp([MIN_DISTANCE_HOT_DEG,\n",
      "<ipython-input-25-99da4e5d8fd9>:160: UserWarning: p-value floored: true value smaller than 0.001\n",
      "  AD1S, AD2S, AD3S = stats.anderson_ksamp([MIN_DISTANCE_HOT_DEG,\n"
     ]
    },
    {
     "name": "stdout",
     "output_type": "stream",
     "text": [
      "Random 221 out of 1000\n"
     ]
    },
    {
     "name": "stderr",
     "output_type": "stream",
     "text": [
      "<ipython-input-25-99da4e5d8fd9>:160: UserWarning: p-value floored: true value smaller than 0.001\n",
      "  AD1S, AD2S, AD3S = stats.anderson_ksamp([MIN_DISTANCE_HOT_DEG,\n",
      "<ipython-input-25-99da4e5d8fd9>:160: UserWarning: p-value floored: true value smaller than 0.001\n",
      "  AD1S, AD2S, AD3S = stats.anderson_ksamp([MIN_DISTANCE_HOT_DEG,\n",
      "<ipython-input-25-99da4e5d8fd9>:160: UserWarning: p-value floored: true value smaller than 0.001\n",
      "  AD1S, AD2S, AD3S = stats.anderson_ksamp([MIN_DISTANCE_HOT_DEG,\n",
      "<ipython-input-25-99da4e5d8fd9>:160: UserWarning: p-value floored: true value smaller than 0.001\n",
      "  AD1S, AD2S, AD3S = stats.anderson_ksamp([MIN_DISTANCE_HOT_DEG,\n",
      "<ipython-input-25-99da4e5d8fd9>:160: UserWarning: p-value floored: true value smaller than 0.001\n",
      "  AD1S, AD2S, AD3S = stats.anderson_ksamp([MIN_DISTANCE_HOT_DEG,\n",
      "<ipython-input-25-99da4e5d8fd9>:160: UserWarning: p-value floored: true value smaller than 0.001\n",
      "  AD1S, AD2S, AD3S = stats.anderson_ksamp([MIN_DISTANCE_HOT_DEG,\n",
      "<ipython-input-25-99da4e5d8fd9>:160: UserWarning: p-value floored: true value smaller than 0.001\n",
      "  AD1S, AD2S, AD3S = stats.anderson_ksamp([MIN_DISTANCE_HOT_DEG,\n",
      "<ipython-input-25-99da4e5d8fd9>:160: UserWarning: p-value floored: true value smaller than 0.001\n",
      "  AD1S, AD2S, AD3S = stats.anderson_ksamp([MIN_DISTANCE_HOT_DEG,\n",
      "<ipython-input-25-99da4e5d8fd9>:160: UserWarning: p-value floored: true value smaller than 0.001\n",
      "  AD1S, AD2S, AD3S = stats.anderson_ksamp([MIN_DISTANCE_HOT_DEG,\n"
     ]
    },
    {
     "name": "stdout",
     "output_type": "stream",
     "text": [
      "Random 231 out of 1000\n"
     ]
    },
    {
     "name": "stderr",
     "output_type": "stream",
     "text": [
      "<ipython-input-25-99da4e5d8fd9>:160: UserWarning: p-value floored: true value smaller than 0.001\n",
      "  AD1S, AD2S, AD3S = stats.anderson_ksamp([MIN_DISTANCE_HOT_DEG,\n",
      "<ipython-input-25-99da4e5d8fd9>:160: UserWarning: p-value floored: true value smaller than 0.001\n",
      "  AD1S, AD2S, AD3S = stats.anderson_ksamp([MIN_DISTANCE_HOT_DEG,\n",
      "<ipython-input-25-99da4e5d8fd9>:160: UserWarning: p-value floored: true value smaller than 0.001\n",
      "  AD1S, AD2S, AD3S = stats.anderson_ksamp([MIN_DISTANCE_HOT_DEG,\n",
      "<ipython-input-25-99da4e5d8fd9>:160: UserWarning: p-value floored: true value smaller than 0.001\n",
      "  AD1S, AD2S, AD3S = stats.anderson_ksamp([MIN_DISTANCE_HOT_DEG,\n",
      "<ipython-input-25-99da4e5d8fd9>:160: UserWarning: p-value floored: true value smaller than 0.001\n",
      "  AD1S, AD2S, AD3S = stats.anderson_ksamp([MIN_DISTANCE_HOT_DEG,\n",
      "<ipython-input-25-99da4e5d8fd9>:160: UserWarning: p-value floored: true value smaller than 0.001\n",
      "  AD1S, AD2S, AD3S = stats.anderson_ksamp([MIN_DISTANCE_HOT_DEG,\n",
      "<ipython-input-25-99da4e5d8fd9>:160: UserWarning: p-value floored: true value smaller than 0.001\n",
      "  AD1S, AD2S, AD3S = stats.anderson_ksamp([MIN_DISTANCE_HOT_DEG,\n",
      "<ipython-input-25-99da4e5d8fd9>:160: UserWarning: p-value floored: true value smaller than 0.001\n",
      "  AD1S, AD2S, AD3S = stats.anderson_ksamp([MIN_DISTANCE_HOT_DEG,\n",
      "<ipython-input-25-99da4e5d8fd9>:160: UserWarning: p-value floored: true value smaller than 0.001\n",
      "  AD1S, AD2S, AD3S = stats.anderson_ksamp([MIN_DISTANCE_HOT_DEG,\n",
      "<ipython-input-25-99da4e5d8fd9>:160: UserWarning: p-value floored: true value smaller than 0.001\n",
      "  AD1S, AD2S, AD3S = stats.anderson_ksamp([MIN_DISTANCE_HOT_DEG,\n"
     ]
    },
    {
     "name": "stdout",
     "output_type": "stream",
     "text": [
      "Random 241 out of 1000\n"
     ]
    },
    {
     "name": "stderr",
     "output_type": "stream",
     "text": [
      "<ipython-input-25-99da4e5d8fd9>:160: UserWarning: p-value floored: true value smaller than 0.001\n",
      "  AD1S, AD2S, AD3S = stats.anderson_ksamp([MIN_DISTANCE_HOT_DEG,\n",
      "<ipython-input-25-99da4e5d8fd9>:160: UserWarning: p-value floored: true value smaller than 0.001\n",
      "  AD1S, AD2S, AD3S = stats.anderson_ksamp([MIN_DISTANCE_HOT_DEG,\n",
      "<ipython-input-25-99da4e5d8fd9>:160: UserWarning: p-value floored: true value smaller than 0.001\n",
      "  AD1S, AD2S, AD3S = stats.anderson_ksamp([MIN_DISTANCE_HOT_DEG,\n",
      "<ipython-input-25-99da4e5d8fd9>:160: UserWarning: p-value floored: true value smaller than 0.001\n",
      "  AD1S, AD2S, AD3S = stats.anderson_ksamp([MIN_DISTANCE_HOT_DEG,\n",
      "<ipython-input-25-99da4e5d8fd9>:160: UserWarning: p-value floored: true value smaller than 0.001\n",
      "  AD1S, AD2S, AD3S = stats.anderson_ksamp([MIN_DISTANCE_HOT_DEG,\n",
      "<ipython-input-25-99da4e5d8fd9>:160: UserWarning: p-value floored: true value smaller than 0.001\n",
      "  AD1S, AD2S, AD3S = stats.anderson_ksamp([MIN_DISTANCE_HOT_DEG,\n",
      "<ipython-input-25-99da4e5d8fd9>:160: UserWarning: p-value floored: true value smaller than 0.001\n",
      "  AD1S, AD2S, AD3S = stats.anderson_ksamp([MIN_DISTANCE_HOT_DEG,\n",
      "<ipython-input-25-99da4e5d8fd9>:160: UserWarning: p-value floored: true value smaller than 0.001\n",
      "  AD1S, AD2S, AD3S = stats.anderson_ksamp([MIN_DISTANCE_HOT_DEG,\n"
     ]
    },
    {
     "name": "stdout",
     "output_type": "stream",
     "text": [
      "Random 251 out of 1000\n"
     ]
    },
    {
     "name": "stderr",
     "output_type": "stream",
     "text": [
      "<ipython-input-25-99da4e5d8fd9>:160: UserWarning: p-value floored: true value smaller than 0.001\n",
      "  AD1S, AD2S, AD3S = stats.anderson_ksamp([MIN_DISTANCE_HOT_DEG,\n",
      "<ipython-input-25-99da4e5d8fd9>:160: UserWarning: p-value floored: true value smaller than 0.001\n",
      "  AD1S, AD2S, AD3S = stats.anderson_ksamp([MIN_DISTANCE_HOT_DEG,\n",
      "<ipython-input-25-99da4e5d8fd9>:160: UserWarning: p-value floored: true value smaller than 0.001\n",
      "  AD1S, AD2S, AD3S = stats.anderson_ksamp([MIN_DISTANCE_HOT_DEG,\n",
      "<ipython-input-25-99da4e5d8fd9>:160: UserWarning: p-value floored: true value smaller than 0.001\n",
      "  AD1S, AD2S, AD3S = stats.anderson_ksamp([MIN_DISTANCE_HOT_DEG,\n",
      "<ipython-input-25-99da4e5d8fd9>:160: UserWarning: p-value floored: true value smaller than 0.001\n",
      "  AD1S, AD2S, AD3S = stats.anderson_ksamp([MIN_DISTANCE_HOT_DEG,\n",
      "<ipython-input-25-99da4e5d8fd9>:160: UserWarning: p-value floored: true value smaller than 0.001\n",
      "  AD1S, AD2S, AD3S = stats.anderson_ksamp([MIN_DISTANCE_HOT_DEG,\n",
      "<ipython-input-25-99da4e5d8fd9>:160: UserWarning: p-value floored: true value smaller than 0.001\n",
      "  AD1S, AD2S, AD3S = stats.anderson_ksamp([MIN_DISTANCE_HOT_DEG,\n",
      "<ipython-input-25-99da4e5d8fd9>:160: UserWarning: p-value floored: true value smaller than 0.001\n",
      "  AD1S, AD2S, AD3S = stats.anderson_ksamp([MIN_DISTANCE_HOT_DEG,\n",
      "<ipython-input-25-99da4e5d8fd9>:160: UserWarning: p-value floored: true value smaller than 0.001\n",
      "  AD1S, AD2S, AD3S = stats.anderson_ksamp([MIN_DISTANCE_HOT_DEG,\n"
     ]
    },
    {
     "name": "stdout",
     "output_type": "stream",
     "text": [
      "Random 261 out of 1000\n"
     ]
    },
    {
     "name": "stderr",
     "output_type": "stream",
     "text": [
      "<ipython-input-25-99da4e5d8fd9>:160: UserWarning: p-value floored: true value smaller than 0.001\n",
      "  AD1S, AD2S, AD3S = stats.anderson_ksamp([MIN_DISTANCE_HOT_DEG,\n",
      "<ipython-input-25-99da4e5d8fd9>:160: UserWarning: p-value floored: true value smaller than 0.001\n",
      "  AD1S, AD2S, AD3S = stats.anderson_ksamp([MIN_DISTANCE_HOT_DEG,\n",
      "<ipython-input-25-99da4e5d8fd9>:160: UserWarning: p-value floored: true value smaller than 0.001\n",
      "  AD1S, AD2S, AD3S = stats.anderson_ksamp([MIN_DISTANCE_HOT_DEG,\n",
      "<ipython-input-25-99da4e5d8fd9>:160: UserWarning: p-value floored: true value smaller than 0.001\n",
      "  AD1S, AD2S, AD3S = stats.anderson_ksamp([MIN_DISTANCE_HOT_DEG,\n",
      "<ipython-input-25-99da4e5d8fd9>:160: UserWarning: p-value floored: true value smaller than 0.001\n",
      "  AD1S, AD2S, AD3S = stats.anderson_ksamp([MIN_DISTANCE_HOT_DEG,\n",
      "<ipython-input-25-99da4e5d8fd9>:160: UserWarning: p-value floored: true value smaller than 0.001\n",
      "  AD1S, AD2S, AD3S = stats.anderson_ksamp([MIN_DISTANCE_HOT_DEG,\n",
      "<ipython-input-25-99da4e5d8fd9>:160: UserWarning: p-value floored: true value smaller than 0.001\n",
      "  AD1S, AD2S, AD3S = stats.anderson_ksamp([MIN_DISTANCE_HOT_DEG,\n",
      "<ipython-input-25-99da4e5d8fd9>:160: UserWarning: p-value floored: true value smaller than 0.001\n",
      "  AD1S, AD2S, AD3S = stats.anderson_ksamp([MIN_DISTANCE_HOT_DEG,\n",
      "<ipython-input-25-99da4e5d8fd9>:160: UserWarning: p-value floored: true value smaller than 0.001\n",
      "  AD1S, AD2S, AD3S = stats.anderson_ksamp([MIN_DISTANCE_HOT_DEG,\n",
      "<ipython-input-25-99da4e5d8fd9>:160: UserWarning: p-value floored: true value smaller than 0.001\n",
      "  AD1S, AD2S, AD3S = stats.anderson_ksamp([MIN_DISTANCE_HOT_DEG,\n"
     ]
    },
    {
     "name": "stdout",
     "output_type": "stream",
     "text": [
      "Random 271 out of 1000\n"
     ]
    },
    {
     "name": "stderr",
     "output_type": "stream",
     "text": [
      "<ipython-input-25-99da4e5d8fd9>:160: UserWarning: p-value floored: true value smaller than 0.001\n",
      "  AD1S, AD2S, AD3S = stats.anderson_ksamp([MIN_DISTANCE_HOT_DEG,\n",
      "<ipython-input-25-99da4e5d8fd9>:160: UserWarning: p-value floored: true value smaller than 0.001\n",
      "  AD1S, AD2S, AD3S = stats.anderson_ksamp([MIN_DISTANCE_HOT_DEG,\n",
      "<ipython-input-25-99da4e5d8fd9>:160: UserWarning: p-value floored: true value smaller than 0.001\n",
      "  AD1S, AD2S, AD3S = stats.anderson_ksamp([MIN_DISTANCE_HOT_DEG,\n",
      "<ipython-input-25-99da4e5d8fd9>:160: UserWarning: p-value floored: true value smaller than 0.001\n",
      "  AD1S, AD2S, AD3S = stats.anderson_ksamp([MIN_DISTANCE_HOT_DEG,\n",
      "<ipython-input-25-99da4e5d8fd9>:160: UserWarning: p-value floored: true value smaller than 0.001\n",
      "  AD1S, AD2S, AD3S = stats.anderson_ksamp([MIN_DISTANCE_HOT_DEG,\n",
      "<ipython-input-25-99da4e5d8fd9>:160: UserWarning: p-value floored: true value smaller than 0.001\n",
      "  AD1S, AD2S, AD3S = stats.anderson_ksamp([MIN_DISTANCE_HOT_DEG,\n",
      "<ipython-input-25-99da4e5d8fd9>:160: UserWarning: p-value floored: true value smaller than 0.001\n",
      "  AD1S, AD2S, AD3S = stats.anderson_ksamp([MIN_DISTANCE_HOT_DEG,\n",
      "<ipython-input-25-99da4e5d8fd9>:160: UserWarning: p-value floored: true value smaller than 0.001\n",
      "  AD1S, AD2S, AD3S = stats.anderson_ksamp([MIN_DISTANCE_HOT_DEG,\n",
      "<ipython-input-25-99da4e5d8fd9>:160: UserWarning: p-value floored: true value smaller than 0.001\n",
      "  AD1S, AD2S, AD3S = stats.anderson_ksamp([MIN_DISTANCE_HOT_DEG,\n",
      "<ipython-input-25-99da4e5d8fd9>:160: UserWarning: p-value floored: true value smaller than 0.001\n",
      "  AD1S, AD2S, AD3S = stats.anderson_ksamp([MIN_DISTANCE_HOT_DEG,\n"
     ]
    },
    {
     "name": "stdout",
     "output_type": "stream",
     "text": [
      "Random 281 out of 1000\n"
     ]
    },
    {
     "name": "stderr",
     "output_type": "stream",
     "text": [
      "<ipython-input-25-99da4e5d8fd9>:160: UserWarning: p-value floored: true value smaller than 0.001\n",
      "  AD1S, AD2S, AD3S = stats.anderson_ksamp([MIN_DISTANCE_HOT_DEG,\n",
      "<ipython-input-25-99da4e5d8fd9>:160: UserWarning: p-value floored: true value smaller than 0.001\n",
      "  AD1S, AD2S, AD3S = stats.anderson_ksamp([MIN_DISTANCE_HOT_DEG,\n",
      "<ipython-input-25-99da4e5d8fd9>:160: UserWarning: p-value floored: true value smaller than 0.001\n",
      "  AD1S, AD2S, AD3S = stats.anderson_ksamp([MIN_DISTANCE_HOT_DEG,\n",
      "<ipython-input-25-99da4e5d8fd9>:160: UserWarning: p-value floored: true value smaller than 0.001\n",
      "  AD1S, AD2S, AD3S = stats.anderson_ksamp([MIN_DISTANCE_HOT_DEG,\n",
      "<ipython-input-25-99da4e5d8fd9>:160: UserWarning: p-value floored: true value smaller than 0.001\n",
      "  AD1S, AD2S, AD3S = stats.anderson_ksamp([MIN_DISTANCE_HOT_DEG,\n",
      "<ipython-input-25-99da4e5d8fd9>:160: UserWarning: p-value floored: true value smaller than 0.001\n",
      "  AD1S, AD2S, AD3S = stats.anderson_ksamp([MIN_DISTANCE_HOT_DEG,\n",
      "<ipython-input-25-99da4e5d8fd9>:160: UserWarning: p-value floored: true value smaller than 0.001\n",
      "  AD1S, AD2S, AD3S = stats.anderson_ksamp([MIN_DISTANCE_HOT_DEG,\n",
      "<ipython-input-25-99da4e5d8fd9>:160: UserWarning: p-value floored: true value smaller than 0.001\n",
      "  AD1S, AD2S, AD3S = stats.anderson_ksamp([MIN_DISTANCE_HOT_DEG,\n",
      "<ipython-input-25-99da4e5d8fd9>:160: UserWarning: p-value floored: true value smaller than 0.001\n",
      "  AD1S, AD2S, AD3S = stats.anderson_ksamp([MIN_DISTANCE_HOT_DEG,\n"
     ]
    },
    {
     "name": "stdout",
     "output_type": "stream",
     "text": [
      "Random 291 out of 1000\n"
     ]
    },
    {
     "name": "stderr",
     "output_type": "stream",
     "text": [
      "<ipython-input-25-99da4e5d8fd9>:160: UserWarning: p-value floored: true value smaller than 0.001\n",
      "  AD1S, AD2S, AD3S = stats.anderson_ksamp([MIN_DISTANCE_HOT_DEG,\n",
      "<ipython-input-25-99da4e5d8fd9>:160: UserWarning: p-value floored: true value smaller than 0.001\n",
      "  AD1S, AD2S, AD3S = stats.anderson_ksamp([MIN_DISTANCE_HOT_DEG,\n",
      "<ipython-input-25-99da4e5d8fd9>:160: UserWarning: p-value floored: true value smaller than 0.001\n",
      "  AD1S, AD2S, AD3S = stats.anderson_ksamp([MIN_DISTANCE_HOT_DEG,\n",
      "<ipython-input-25-99da4e5d8fd9>:160: UserWarning: p-value floored: true value smaller than 0.001\n",
      "  AD1S, AD2S, AD3S = stats.anderson_ksamp([MIN_DISTANCE_HOT_DEG,\n",
      "<ipython-input-25-99da4e5d8fd9>:160: UserWarning: p-value floored: true value smaller than 0.001\n",
      "  AD1S, AD2S, AD3S = stats.anderson_ksamp([MIN_DISTANCE_HOT_DEG,\n",
      "<ipython-input-25-99da4e5d8fd9>:160: UserWarning: p-value floored: true value smaller than 0.001\n",
      "  AD1S, AD2S, AD3S = stats.anderson_ksamp([MIN_DISTANCE_HOT_DEG,\n",
      "<ipython-input-25-99da4e5d8fd9>:160: UserWarning: p-value floored: true value smaller than 0.001\n",
      "  AD1S, AD2S, AD3S = stats.anderson_ksamp([MIN_DISTANCE_HOT_DEG,\n",
      "<ipython-input-25-99da4e5d8fd9>:160: UserWarning: p-value floored: true value smaller than 0.001\n",
      "  AD1S, AD2S, AD3S = stats.anderson_ksamp([MIN_DISTANCE_HOT_DEG,\n"
     ]
    },
    {
     "name": "stdout",
     "output_type": "stream",
     "text": [
      "Random 301 out of 1000\n"
     ]
    },
    {
     "name": "stderr",
     "output_type": "stream",
     "text": [
      "<ipython-input-25-99da4e5d8fd9>:160: UserWarning: p-value floored: true value smaller than 0.001\n",
      "  AD1S, AD2S, AD3S = stats.anderson_ksamp([MIN_DISTANCE_HOT_DEG,\n",
      "<ipython-input-25-99da4e5d8fd9>:160: UserWarning: p-value floored: true value smaller than 0.001\n",
      "  AD1S, AD2S, AD3S = stats.anderson_ksamp([MIN_DISTANCE_HOT_DEG,\n",
      "<ipython-input-25-99da4e5d8fd9>:160: UserWarning: p-value floored: true value smaller than 0.001\n",
      "  AD1S, AD2S, AD3S = stats.anderson_ksamp([MIN_DISTANCE_HOT_DEG,\n",
      "<ipython-input-25-99da4e5d8fd9>:160: UserWarning: p-value floored: true value smaller than 0.001\n",
      "  AD1S, AD2S, AD3S = stats.anderson_ksamp([MIN_DISTANCE_HOT_DEG,\n",
      "<ipython-input-25-99da4e5d8fd9>:160: UserWarning: p-value floored: true value smaller than 0.001\n",
      "  AD1S, AD2S, AD3S = stats.anderson_ksamp([MIN_DISTANCE_HOT_DEG,\n",
      "<ipython-input-25-99da4e5d8fd9>:160: UserWarning: p-value floored: true value smaller than 0.001\n",
      "  AD1S, AD2S, AD3S = stats.anderson_ksamp([MIN_DISTANCE_HOT_DEG,\n",
      "<ipython-input-25-99da4e5d8fd9>:160: UserWarning: p-value floored: true value smaller than 0.001\n",
      "  AD1S, AD2S, AD3S = stats.anderson_ksamp([MIN_DISTANCE_HOT_DEG,\n",
      "<ipython-input-25-99da4e5d8fd9>:160: UserWarning: p-value floored: true value smaller than 0.001\n",
      "  AD1S, AD2S, AD3S = stats.anderson_ksamp([MIN_DISTANCE_HOT_DEG,\n",
      "<ipython-input-25-99da4e5d8fd9>:160: UserWarning: p-value floored: true value smaller than 0.001\n",
      "  AD1S, AD2S, AD3S = stats.anderson_ksamp([MIN_DISTANCE_HOT_DEG,\n",
      "<ipython-input-25-99da4e5d8fd9>:160: UserWarning: p-value floored: true value smaller than 0.001\n",
      "  AD1S, AD2S, AD3S = stats.anderson_ksamp([MIN_DISTANCE_HOT_DEG,\n"
     ]
    },
    {
     "name": "stdout",
     "output_type": "stream",
     "text": [
      "Random 311 out of 1000\n"
     ]
    },
    {
     "name": "stderr",
     "output_type": "stream",
     "text": [
      "<ipython-input-25-99da4e5d8fd9>:160: UserWarning: p-value floored: true value smaller than 0.001\n",
      "  AD1S, AD2S, AD3S = stats.anderson_ksamp([MIN_DISTANCE_HOT_DEG,\n",
      "<ipython-input-25-99da4e5d8fd9>:160: UserWarning: p-value floored: true value smaller than 0.001\n",
      "  AD1S, AD2S, AD3S = stats.anderson_ksamp([MIN_DISTANCE_HOT_DEG,\n",
      "<ipython-input-25-99da4e5d8fd9>:160: UserWarning: p-value floored: true value smaller than 0.001\n",
      "  AD1S, AD2S, AD3S = stats.anderson_ksamp([MIN_DISTANCE_HOT_DEG,\n",
      "<ipython-input-25-99da4e5d8fd9>:160: UserWarning: p-value floored: true value smaller than 0.001\n",
      "  AD1S, AD2S, AD3S = stats.anderson_ksamp([MIN_DISTANCE_HOT_DEG,\n",
      "<ipython-input-25-99da4e5d8fd9>:160: UserWarning: p-value floored: true value smaller than 0.001\n",
      "  AD1S, AD2S, AD3S = stats.anderson_ksamp([MIN_DISTANCE_HOT_DEG,\n",
      "<ipython-input-25-99da4e5d8fd9>:160: UserWarning: p-value floored: true value smaller than 0.001\n",
      "  AD1S, AD2S, AD3S = stats.anderson_ksamp([MIN_DISTANCE_HOT_DEG,\n",
      "<ipython-input-25-99da4e5d8fd9>:160: UserWarning: p-value floored: true value smaller than 0.001\n",
      "  AD1S, AD2S, AD3S = stats.anderson_ksamp([MIN_DISTANCE_HOT_DEG,\n",
      "<ipython-input-25-99da4e5d8fd9>:160: UserWarning: p-value floored: true value smaller than 0.001\n",
      "  AD1S, AD2S, AD3S = stats.anderson_ksamp([MIN_DISTANCE_HOT_DEG,\n",
      "<ipython-input-25-99da4e5d8fd9>:160: UserWarning: p-value floored: true value smaller than 0.001\n",
      "  AD1S, AD2S, AD3S = stats.anderson_ksamp([MIN_DISTANCE_HOT_DEG,\n"
     ]
    },
    {
     "name": "stdout",
     "output_type": "stream",
     "text": [
      "Random 321 out of 1000\n"
     ]
    },
    {
     "name": "stderr",
     "output_type": "stream",
     "text": [
      "<ipython-input-25-99da4e5d8fd9>:160: UserWarning: p-value floored: true value smaller than 0.001\n",
      "  AD1S, AD2S, AD3S = stats.anderson_ksamp([MIN_DISTANCE_HOT_DEG,\n",
      "<ipython-input-25-99da4e5d8fd9>:160: UserWarning: p-value floored: true value smaller than 0.001\n",
      "  AD1S, AD2S, AD3S = stats.anderson_ksamp([MIN_DISTANCE_HOT_DEG,\n",
      "<ipython-input-25-99da4e5d8fd9>:160: UserWarning: p-value floored: true value smaller than 0.001\n",
      "  AD1S, AD2S, AD3S = stats.anderson_ksamp([MIN_DISTANCE_HOT_DEG,\n",
      "<ipython-input-25-99da4e5d8fd9>:160: UserWarning: p-value floored: true value smaller than 0.001\n",
      "  AD1S, AD2S, AD3S = stats.anderson_ksamp([MIN_DISTANCE_HOT_DEG,\n",
      "<ipython-input-25-99da4e5d8fd9>:160: UserWarning: p-value floored: true value smaller than 0.001\n",
      "  AD1S, AD2S, AD3S = stats.anderson_ksamp([MIN_DISTANCE_HOT_DEG,\n",
      "<ipython-input-25-99da4e5d8fd9>:160: UserWarning: p-value floored: true value smaller than 0.001\n",
      "  AD1S, AD2S, AD3S = stats.anderson_ksamp([MIN_DISTANCE_HOT_DEG,\n",
      "<ipython-input-25-99da4e5d8fd9>:160: UserWarning: p-value floored: true value smaller than 0.001\n",
      "  AD1S, AD2S, AD3S = stats.anderson_ksamp([MIN_DISTANCE_HOT_DEG,\n",
      "<ipython-input-25-99da4e5d8fd9>:160: UserWarning: p-value floored: true value smaller than 0.001\n",
      "  AD1S, AD2S, AD3S = stats.anderson_ksamp([MIN_DISTANCE_HOT_DEG,\n",
      "<ipython-input-25-99da4e5d8fd9>:160: UserWarning: p-value floored: true value smaller than 0.001\n",
      "  AD1S, AD2S, AD3S = stats.anderson_ksamp([MIN_DISTANCE_HOT_DEG,\n"
     ]
    },
    {
     "name": "stdout",
     "output_type": "stream",
     "text": [
      "Random 331 out of 1000\n"
     ]
    },
    {
     "name": "stderr",
     "output_type": "stream",
     "text": [
      "<ipython-input-25-99da4e5d8fd9>:160: UserWarning: p-value floored: true value smaller than 0.001\n",
      "  AD1S, AD2S, AD3S = stats.anderson_ksamp([MIN_DISTANCE_HOT_DEG,\n",
      "<ipython-input-25-99da4e5d8fd9>:160: UserWarning: p-value floored: true value smaller than 0.001\n",
      "  AD1S, AD2S, AD3S = stats.anderson_ksamp([MIN_DISTANCE_HOT_DEG,\n",
      "<ipython-input-25-99da4e5d8fd9>:160: UserWarning: p-value floored: true value smaller than 0.001\n",
      "  AD1S, AD2S, AD3S = stats.anderson_ksamp([MIN_DISTANCE_HOT_DEG,\n",
      "<ipython-input-25-99da4e5d8fd9>:160: UserWarning: p-value floored: true value smaller than 0.001\n",
      "  AD1S, AD2S, AD3S = stats.anderson_ksamp([MIN_DISTANCE_HOT_DEG,\n",
      "<ipython-input-25-99da4e5d8fd9>:160: UserWarning: p-value floored: true value smaller than 0.001\n",
      "  AD1S, AD2S, AD3S = stats.anderson_ksamp([MIN_DISTANCE_HOT_DEG,\n",
      "<ipython-input-25-99da4e5d8fd9>:160: UserWarning: p-value floored: true value smaller than 0.001\n",
      "  AD1S, AD2S, AD3S = stats.anderson_ksamp([MIN_DISTANCE_HOT_DEG,\n",
      "<ipython-input-25-99da4e5d8fd9>:160: UserWarning: p-value floored: true value smaller than 0.001\n",
      "  AD1S, AD2S, AD3S = stats.anderson_ksamp([MIN_DISTANCE_HOT_DEG,\n",
      "<ipython-input-25-99da4e5d8fd9>:160: UserWarning: p-value floored: true value smaller than 0.001\n",
      "  AD1S, AD2S, AD3S = stats.anderson_ksamp([MIN_DISTANCE_HOT_DEG,\n",
      "<ipython-input-25-99da4e5d8fd9>:160: UserWarning: p-value floored: true value smaller than 0.001\n",
      "  AD1S, AD2S, AD3S = stats.anderson_ksamp([MIN_DISTANCE_HOT_DEG,\n",
      "<ipython-input-25-99da4e5d8fd9>:160: UserWarning: p-value floored: true value smaller than 0.001\n",
      "  AD1S, AD2S, AD3S = stats.anderson_ksamp([MIN_DISTANCE_HOT_DEG,\n"
     ]
    },
    {
     "name": "stdout",
     "output_type": "stream",
     "text": [
      "Random 341 out of 1000\n"
     ]
    },
    {
     "name": "stderr",
     "output_type": "stream",
     "text": [
      "<ipython-input-25-99da4e5d8fd9>:160: UserWarning: p-value floored: true value smaller than 0.001\n",
      "  AD1S, AD2S, AD3S = stats.anderson_ksamp([MIN_DISTANCE_HOT_DEG,\n",
      "<ipython-input-25-99da4e5d8fd9>:160: UserWarning: p-value floored: true value smaller than 0.001\n",
      "  AD1S, AD2S, AD3S = stats.anderson_ksamp([MIN_DISTANCE_HOT_DEG,\n",
      "<ipython-input-25-99da4e5d8fd9>:160: UserWarning: p-value floored: true value smaller than 0.001\n",
      "  AD1S, AD2S, AD3S = stats.anderson_ksamp([MIN_DISTANCE_HOT_DEG,\n",
      "<ipython-input-25-99da4e5d8fd9>:160: UserWarning: p-value floored: true value smaller than 0.001\n",
      "  AD1S, AD2S, AD3S = stats.anderson_ksamp([MIN_DISTANCE_HOT_DEG,\n",
      "<ipython-input-25-99da4e5d8fd9>:160: UserWarning: p-value floored: true value smaller than 0.001\n",
      "  AD1S, AD2S, AD3S = stats.anderson_ksamp([MIN_DISTANCE_HOT_DEG,\n",
      "<ipython-input-25-99da4e5d8fd9>:160: UserWarning: p-value floored: true value smaller than 0.001\n",
      "  AD1S, AD2S, AD3S = stats.anderson_ksamp([MIN_DISTANCE_HOT_DEG,\n",
      "<ipython-input-25-99da4e5d8fd9>:160: UserWarning: p-value floored: true value smaller than 0.001\n",
      "  AD1S, AD2S, AD3S = stats.anderson_ksamp([MIN_DISTANCE_HOT_DEG,\n",
      "<ipython-input-25-99da4e5d8fd9>:160: UserWarning: p-value floored: true value smaller than 0.001\n",
      "  AD1S, AD2S, AD3S = stats.anderson_ksamp([MIN_DISTANCE_HOT_DEG,\n",
      "<ipython-input-25-99da4e5d8fd9>:160: UserWarning: p-value floored: true value smaller than 0.001\n",
      "  AD1S, AD2S, AD3S = stats.anderson_ksamp([MIN_DISTANCE_HOT_DEG,\n",
      "<ipython-input-25-99da4e5d8fd9>:160: UserWarning: p-value floored: true value smaller than 0.001\n",
      "  AD1S, AD2S, AD3S = stats.anderson_ksamp([MIN_DISTANCE_HOT_DEG,\n"
     ]
    },
    {
     "name": "stdout",
     "output_type": "stream",
     "text": [
      "Random 351 out of 1000\n"
     ]
    },
    {
     "name": "stderr",
     "output_type": "stream",
     "text": [
      "<ipython-input-25-99da4e5d8fd9>:160: UserWarning: p-value floored: true value smaller than 0.001\n",
      "  AD1S, AD2S, AD3S = stats.anderson_ksamp([MIN_DISTANCE_HOT_DEG,\n",
      "<ipython-input-25-99da4e5d8fd9>:160: UserWarning: p-value floored: true value smaller than 0.001\n",
      "  AD1S, AD2S, AD3S = stats.anderson_ksamp([MIN_DISTANCE_HOT_DEG,\n",
      "<ipython-input-25-99da4e5d8fd9>:160: UserWarning: p-value floored: true value smaller than 0.001\n",
      "  AD1S, AD2S, AD3S = stats.anderson_ksamp([MIN_DISTANCE_HOT_DEG,\n",
      "<ipython-input-25-99da4e5d8fd9>:160: UserWarning: p-value floored: true value smaller than 0.001\n",
      "  AD1S, AD2S, AD3S = stats.anderson_ksamp([MIN_DISTANCE_HOT_DEG,\n",
      "<ipython-input-25-99da4e5d8fd9>:160: UserWarning: p-value floored: true value smaller than 0.001\n",
      "  AD1S, AD2S, AD3S = stats.anderson_ksamp([MIN_DISTANCE_HOT_DEG,\n",
      "<ipython-input-25-99da4e5d8fd9>:160: UserWarning: p-value floored: true value smaller than 0.001\n",
      "  AD1S, AD2S, AD3S = stats.anderson_ksamp([MIN_DISTANCE_HOT_DEG,\n",
      "<ipython-input-25-99da4e5d8fd9>:160: UserWarning: p-value floored: true value smaller than 0.001\n",
      "  AD1S, AD2S, AD3S = stats.anderson_ksamp([MIN_DISTANCE_HOT_DEG,\n",
      "<ipython-input-25-99da4e5d8fd9>:160: UserWarning: p-value floored: true value smaller than 0.001\n",
      "  AD1S, AD2S, AD3S = stats.anderson_ksamp([MIN_DISTANCE_HOT_DEG,\n",
      "<ipython-input-25-99da4e5d8fd9>:160: UserWarning: p-value floored: true value smaller than 0.001\n",
      "  AD1S, AD2S, AD3S = stats.anderson_ksamp([MIN_DISTANCE_HOT_DEG,\n"
     ]
    },
    {
     "name": "stdout",
     "output_type": "stream",
     "text": [
      "Random 361 out of 1000\n"
     ]
    },
    {
     "name": "stderr",
     "output_type": "stream",
     "text": [
      "<ipython-input-25-99da4e5d8fd9>:160: UserWarning: p-value floored: true value smaller than 0.001\n",
      "  AD1S, AD2S, AD3S = stats.anderson_ksamp([MIN_DISTANCE_HOT_DEG,\n",
      "<ipython-input-25-99da4e5d8fd9>:160: UserWarning: p-value floored: true value smaller than 0.001\n",
      "  AD1S, AD2S, AD3S = stats.anderson_ksamp([MIN_DISTANCE_HOT_DEG,\n",
      "<ipython-input-25-99da4e5d8fd9>:160: UserWarning: p-value floored: true value smaller than 0.001\n",
      "  AD1S, AD2S, AD3S = stats.anderson_ksamp([MIN_DISTANCE_HOT_DEG,\n",
      "<ipython-input-25-99da4e5d8fd9>:160: UserWarning: p-value floored: true value smaller than 0.001\n",
      "  AD1S, AD2S, AD3S = stats.anderson_ksamp([MIN_DISTANCE_HOT_DEG,\n",
      "<ipython-input-25-99da4e5d8fd9>:160: UserWarning: p-value floored: true value smaller than 0.001\n",
      "  AD1S, AD2S, AD3S = stats.anderson_ksamp([MIN_DISTANCE_HOT_DEG,\n",
      "<ipython-input-25-99da4e5d8fd9>:160: UserWarning: p-value floored: true value smaller than 0.001\n",
      "  AD1S, AD2S, AD3S = stats.anderson_ksamp([MIN_DISTANCE_HOT_DEG,\n",
      "<ipython-input-25-99da4e5d8fd9>:160: UserWarning: p-value floored: true value smaller than 0.001\n",
      "  AD1S, AD2S, AD3S = stats.anderson_ksamp([MIN_DISTANCE_HOT_DEG,\n",
      "<ipython-input-25-99da4e5d8fd9>:160: UserWarning: p-value floored: true value smaller than 0.001\n",
      "  AD1S, AD2S, AD3S = stats.anderson_ksamp([MIN_DISTANCE_HOT_DEG,\n",
      "<ipython-input-25-99da4e5d8fd9>:160: UserWarning: p-value floored: true value smaller than 0.001\n",
      "  AD1S, AD2S, AD3S = stats.anderson_ksamp([MIN_DISTANCE_HOT_DEG,\n",
      "<ipython-input-25-99da4e5d8fd9>:160: UserWarning: p-value floored: true value smaller than 0.001\n",
      "  AD1S, AD2S, AD3S = stats.anderson_ksamp([MIN_DISTANCE_HOT_DEG,\n"
     ]
    },
    {
     "name": "stdout",
     "output_type": "stream",
     "text": [
      "Random 371 out of 1000\n"
     ]
    },
    {
     "name": "stderr",
     "output_type": "stream",
     "text": [
      "<ipython-input-25-99da4e5d8fd9>:160: UserWarning: p-value floored: true value smaller than 0.001\n",
      "  AD1S, AD2S, AD3S = stats.anderson_ksamp([MIN_DISTANCE_HOT_DEG,\n",
      "<ipython-input-25-99da4e5d8fd9>:160: UserWarning: p-value floored: true value smaller than 0.001\n",
      "  AD1S, AD2S, AD3S = stats.anderson_ksamp([MIN_DISTANCE_HOT_DEG,\n",
      "<ipython-input-25-99da4e5d8fd9>:160: UserWarning: p-value floored: true value smaller than 0.001\n",
      "  AD1S, AD2S, AD3S = stats.anderson_ksamp([MIN_DISTANCE_HOT_DEG,\n",
      "<ipython-input-25-99da4e5d8fd9>:160: UserWarning: p-value floored: true value smaller than 0.001\n",
      "  AD1S, AD2S, AD3S = stats.anderson_ksamp([MIN_DISTANCE_HOT_DEG,\n",
      "<ipython-input-25-99da4e5d8fd9>:160: UserWarning: p-value floored: true value smaller than 0.001\n",
      "  AD1S, AD2S, AD3S = stats.anderson_ksamp([MIN_DISTANCE_HOT_DEG,\n",
      "<ipython-input-25-99da4e5d8fd9>:160: UserWarning: p-value floored: true value smaller than 0.001\n",
      "  AD1S, AD2S, AD3S = stats.anderson_ksamp([MIN_DISTANCE_HOT_DEG,\n",
      "<ipython-input-25-99da4e5d8fd9>:160: UserWarning: p-value floored: true value smaller than 0.001\n",
      "  AD1S, AD2S, AD3S = stats.anderson_ksamp([MIN_DISTANCE_HOT_DEG,\n",
      "<ipython-input-25-99da4e5d8fd9>:160: UserWarning: p-value floored: true value smaller than 0.001\n",
      "  AD1S, AD2S, AD3S = stats.anderson_ksamp([MIN_DISTANCE_HOT_DEG,\n",
      "<ipython-input-25-99da4e5d8fd9>:160: UserWarning: p-value floored: true value smaller than 0.001\n",
      "  AD1S, AD2S, AD3S = stats.anderson_ksamp([MIN_DISTANCE_HOT_DEG,\n"
     ]
    },
    {
     "name": "stdout",
     "output_type": "stream",
     "text": [
      "Random 381 out of 1000\n"
     ]
    },
    {
     "name": "stderr",
     "output_type": "stream",
     "text": [
      "<ipython-input-25-99da4e5d8fd9>:160: UserWarning: p-value floored: true value smaller than 0.001\n",
      "  AD1S, AD2S, AD3S = stats.anderson_ksamp([MIN_DISTANCE_HOT_DEG,\n",
      "<ipython-input-25-99da4e5d8fd9>:160: UserWarning: p-value floored: true value smaller than 0.001\n",
      "  AD1S, AD2S, AD3S = stats.anderson_ksamp([MIN_DISTANCE_HOT_DEG,\n",
      "<ipython-input-25-99da4e5d8fd9>:160: UserWarning: p-value floored: true value smaller than 0.001\n",
      "  AD1S, AD2S, AD3S = stats.anderson_ksamp([MIN_DISTANCE_HOT_DEG,\n",
      "<ipython-input-25-99da4e5d8fd9>:160: UserWarning: p-value floored: true value smaller than 0.001\n",
      "  AD1S, AD2S, AD3S = stats.anderson_ksamp([MIN_DISTANCE_HOT_DEG,\n",
      "<ipython-input-25-99da4e5d8fd9>:160: UserWarning: p-value floored: true value smaller than 0.001\n",
      "  AD1S, AD2S, AD3S = stats.anderson_ksamp([MIN_DISTANCE_HOT_DEG,\n",
      "<ipython-input-25-99da4e5d8fd9>:160: UserWarning: p-value floored: true value smaller than 0.001\n",
      "  AD1S, AD2S, AD3S = stats.anderson_ksamp([MIN_DISTANCE_HOT_DEG,\n",
      "<ipython-input-25-99da4e5d8fd9>:160: UserWarning: p-value floored: true value smaller than 0.001\n",
      "  AD1S, AD2S, AD3S = stats.anderson_ksamp([MIN_DISTANCE_HOT_DEG,\n",
      "<ipython-input-25-99da4e5d8fd9>:160: UserWarning: p-value floored: true value smaller than 0.001\n",
      "  AD1S, AD2S, AD3S = stats.anderson_ksamp([MIN_DISTANCE_HOT_DEG,\n",
      "<ipython-input-25-99da4e5d8fd9>:160: UserWarning: p-value floored: true value smaller than 0.001\n",
      "  AD1S, AD2S, AD3S = stats.anderson_ksamp([MIN_DISTANCE_HOT_DEG,\n"
     ]
    },
    {
     "name": "stdout",
     "output_type": "stream",
     "text": [
      "Random 391 out of 1000\n"
     ]
    },
    {
     "name": "stderr",
     "output_type": "stream",
     "text": [
      "<ipython-input-25-99da4e5d8fd9>:160: UserWarning: p-value floored: true value smaller than 0.001\n",
      "  AD1S, AD2S, AD3S = stats.anderson_ksamp([MIN_DISTANCE_HOT_DEG,\n",
      "<ipython-input-25-99da4e5d8fd9>:160: UserWarning: p-value floored: true value smaller than 0.001\n",
      "  AD1S, AD2S, AD3S = stats.anderson_ksamp([MIN_DISTANCE_HOT_DEG,\n",
      "<ipython-input-25-99da4e5d8fd9>:160: UserWarning: p-value floored: true value smaller than 0.001\n",
      "  AD1S, AD2S, AD3S = stats.anderson_ksamp([MIN_DISTANCE_HOT_DEG,\n",
      "<ipython-input-25-99da4e5d8fd9>:160: UserWarning: p-value floored: true value smaller than 0.001\n",
      "  AD1S, AD2S, AD3S = stats.anderson_ksamp([MIN_DISTANCE_HOT_DEG,\n",
      "<ipython-input-25-99da4e5d8fd9>:160: UserWarning: p-value floored: true value smaller than 0.001\n",
      "  AD1S, AD2S, AD3S = stats.anderson_ksamp([MIN_DISTANCE_HOT_DEG,\n",
      "<ipython-input-25-99da4e5d8fd9>:160: UserWarning: p-value floored: true value smaller than 0.001\n",
      "  AD1S, AD2S, AD3S = stats.anderson_ksamp([MIN_DISTANCE_HOT_DEG,\n",
      "<ipython-input-25-99da4e5d8fd9>:160: UserWarning: p-value floored: true value smaller than 0.001\n",
      "  AD1S, AD2S, AD3S = stats.anderson_ksamp([MIN_DISTANCE_HOT_DEG,\n",
      "<ipython-input-25-99da4e5d8fd9>:160: UserWarning: p-value floored: true value smaller than 0.001\n",
      "  AD1S, AD2S, AD3S = stats.anderson_ksamp([MIN_DISTANCE_HOT_DEG,\n",
      "<ipython-input-25-99da4e5d8fd9>:160: UserWarning: p-value floored: true value smaller than 0.001\n",
      "  AD1S, AD2S, AD3S = stats.anderson_ksamp([MIN_DISTANCE_HOT_DEG,\n"
     ]
    },
    {
     "name": "stdout",
     "output_type": "stream",
     "text": [
      "Random 401 out of 1000\n"
     ]
    },
    {
     "name": "stderr",
     "output_type": "stream",
     "text": [
      "<ipython-input-25-99da4e5d8fd9>:160: UserWarning: p-value floored: true value smaller than 0.001\n",
      "  AD1S, AD2S, AD3S = stats.anderson_ksamp([MIN_DISTANCE_HOT_DEG,\n",
      "<ipython-input-25-99da4e5d8fd9>:160: UserWarning: p-value floored: true value smaller than 0.001\n",
      "  AD1S, AD2S, AD3S = stats.anderson_ksamp([MIN_DISTANCE_HOT_DEG,\n",
      "<ipython-input-25-99da4e5d8fd9>:160: UserWarning: p-value floored: true value smaller than 0.001\n",
      "  AD1S, AD2S, AD3S = stats.anderson_ksamp([MIN_DISTANCE_HOT_DEG,\n",
      "<ipython-input-25-99da4e5d8fd9>:160: UserWarning: p-value floored: true value smaller than 0.001\n",
      "  AD1S, AD2S, AD3S = stats.anderson_ksamp([MIN_DISTANCE_HOT_DEG,\n",
      "<ipython-input-25-99da4e5d8fd9>:160: UserWarning: p-value floored: true value smaller than 0.001\n",
      "  AD1S, AD2S, AD3S = stats.anderson_ksamp([MIN_DISTANCE_HOT_DEG,\n",
      "<ipython-input-25-99da4e5d8fd9>:160: UserWarning: p-value floored: true value smaller than 0.001\n",
      "  AD1S, AD2S, AD3S = stats.anderson_ksamp([MIN_DISTANCE_HOT_DEG,\n",
      "<ipython-input-25-99da4e5d8fd9>:160: UserWarning: p-value floored: true value smaller than 0.001\n",
      "  AD1S, AD2S, AD3S = stats.anderson_ksamp([MIN_DISTANCE_HOT_DEG,\n",
      "<ipython-input-25-99da4e5d8fd9>:160: UserWarning: p-value floored: true value smaller than 0.001\n",
      "  AD1S, AD2S, AD3S = stats.anderson_ksamp([MIN_DISTANCE_HOT_DEG,\n",
      "<ipython-input-25-99da4e5d8fd9>:160: UserWarning: p-value floored: true value smaller than 0.001\n",
      "  AD1S, AD2S, AD3S = stats.anderson_ksamp([MIN_DISTANCE_HOT_DEG,\n"
     ]
    },
    {
     "name": "stdout",
     "output_type": "stream",
     "text": [
      "Random 411 out of 1000\n"
     ]
    },
    {
     "name": "stderr",
     "output_type": "stream",
     "text": [
      "<ipython-input-25-99da4e5d8fd9>:160: UserWarning: p-value floored: true value smaller than 0.001\n",
      "  AD1S, AD2S, AD3S = stats.anderson_ksamp([MIN_DISTANCE_HOT_DEG,\n",
      "<ipython-input-25-99da4e5d8fd9>:160: UserWarning: p-value floored: true value smaller than 0.001\n",
      "  AD1S, AD2S, AD3S = stats.anderson_ksamp([MIN_DISTANCE_HOT_DEG,\n",
      "<ipython-input-25-99da4e5d8fd9>:160: UserWarning: p-value floored: true value smaller than 0.001\n",
      "  AD1S, AD2S, AD3S = stats.anderson_ksamp([MIN_DISTANCE_HOT_DEG,\n",
      "<ipython-input-25-99da4e5d8fd9>:160: UserWarning: p-value floored: true value smaller than 0.001\n",
      "  AD1S, AD2S, AD3S = stats.anderson_ksamp([MIN_DISTANCE_HOT_DEG,\n",
      "<ipython-input-25-99da4e5d8fd9>:160: UserWarning: p-value floored: true value smaller than 0.001\n",
      "  AD1S, AD2S, AD3S = stats.anderson_ksamp([MIN_DISTANCE_HOT_DEG,\n",
      "<ipython-input-25-99da4e5d8fd9>:160: UserWarning: p-value floored: true value smaller than 0.001\n",
      "  AD1S, AD2S, AD3S = stats.anderson_ksamp([MIN_DISTANCE_HOT_DEG,\n",
      "<ipython-input-25-99da4e5d8fd9>:160: UserWarning: p-value floored: true value smaller than 0.001\n",
      "  AD1S, AD2S, AD3S = stats.anderson_ksamp([MIN_DISTANCE_HOT_DEG,\n",
      "<ipython-input-25-99da4e5d8fd9>:160: UserWarning: p-value floored: true value smaller than 0.001\n",
      "  AD1S, AD2S, AD3S = stats.anderson_ksamp([MIN_DISTANCE_HOT_DEG,\n"
     ]
    },
    {
     "name": "stdout",
     "output_type": "stream",
     "text": [
      "Random 421 out of 1000\n"
     ]
    },
    {
     "name": "stderr",
     "output_type": "stream",
     "text": [
      "<ipython-input-25-99da4e5d8fd9>:160: UserWarning: p-value floored: true value smaller than 0.001\n",
      "  AD1S, AD2S, AD3S = stats.anderson_ksamp([MIN_DISTANCE_HOT_DEG,\n",
      "<ipython-input-25-99da4e5d8fd9>:160: UserWarning: p-value floored: true value smaller than 0.001\n",
      "  AD1S, AD2S, AD3S = stats.anderson_ksamp([MIN_DISTANCE_HOT_DEG,\n",
      "<ipython-input-25-99da4e5d8fd9>:160: UserWarning: p-value floored: true value smaller than 0.001\n",
      "  AD1S, AD2S, AD3S = stats.anderson_ksamp([MIN_DISTANCE_HOT_DEG,\n",
      "<ipython-input-25-99da4e5d8fd9>:160: UserWarning: p-value floored: true value smaller than 0.001\n",
      "  AD1S, AD2S, AD3S = stats.anderson_ksamp([MIN_DISTANCE_HOT_DEG,\n",
      "<ipython-input-25-99da4e5d8fd9>:160: UserWarning: p-value floored: true value smaller than 0.001\n",
      "  AD1S, AD2S, AD3S = stats.anderson_ksamp([MIN_DISTANCE_HOT_DEG,\n",
      "<ipython-input-25-99da4e5d8fd9>:160: UserWarning: p-value floored: true value smaller than 0.001\n",
      "  AD1S, AD2S, AD3S = stats.anderson_ksamp([MIN_DISTANCE_HOT_DEG,\n",
      "<ipython-input-25-99da4e5d8fd9>:160: UserWarning: p-value floored: true value smaller than 0.001\n",
      "  AD1S, AD2S, AD3S = stats.anderson_ksamp([MIN_DISTANCE_HOT_DEG,\n",
      "<ipython-input-25-99da4e5d8fd9>:160: UserWarning: p-value floored: true value smaller than 0.001\n",
      "  AD1S, AD2S, AD3S = stats.anderson_ksamp([MIN_DISTANCE_HOT_DEG,\n",
      "<ipython-input-25-99da4e5d8fd9>:160: UserWarning: p-value floored: true value smaller than 0.001\n",
      "  AD1S, AD2S, AD3S = stats.anderson_ksamp([MIN_DISTANCE_HOT_DEG,\n"
     ]
    },
    {
     "name": "stdout",
     "output_type": "stream",
     "text": [
      "Random 431 out of 1000\n"
     ]
    },
    {
     "name": "stderr",
     "output_type": "stream",
     "text": [
      "<ipython-input-25-99da4e5d8fd9>:160: UserWarning: p-value floored: true value smaller than 0.001\n",
      "  AD1S, AD2S, AD3S = stats.anderson_ksamp([MIN_DISTANCE_HOT_DEG,\n",
      "<ipython-input-25-99da4e5d8fd9>:160: UserWarning: p-value floored: true value smaller than 0.001\n",
      "  AD1S, AD2S, AD3S = stats.anderson_ksamp([MIN_DISTANCE_HOT_DEG,\n",
      "<ipython-input-25-99da4e5d8fd9>:160: UserWarning: p-value floored: true value smaller than 0.001\n",
      "  AD1S, AD2S, AD3S = stats.anderson_ksamp([MIN_DISTANCE_HOT_DEG,\n",
      "<ipython-input-25-99da4e5d8fd9>:160: UserWarning: p-value floored: true value smaller than 0.001\n",
      "  AD1S, AD2S, AD3S = stats.anderson_ksamp([MIN_DISTANCE_HOT_DEG,\n",
      "<ipython-input-25-99da4e5d8fd9>:160: UserWarning: p-value floored: true value smaller than 0.001\n",
      "  AD1S, AD2S, AD3S = stats.anderson_ksamp([MIN_DISTANCE_HOT_DEG,\n",
      "<ipython-input-25-99da4e5d8fd9>:160: UserWarning: p-value floored: true value smaller than 0.001\n",
      "  AD1S, AD2S, AD3S = stats.anderson_ksamp([MIN_DISTANCE_HOT_DEG,\n",
      "<ipython-input-25-99da4e5d8fd9>:160: UserWarning: p-value floored: true value smaller than 0.001\n",
      "  AD1S, AD2S, AD3S = stats.anderson_ksamp([MIN_DISTANCE_HOT_DEG,\n",
      "<ipython-input-25-99da4e5d8fd9>:160: UserWarning: p-value floored: true value smaller than 0.001\n",
      "  AD1S, AD2S, AD3S = stats.anderson_ksamp([MIN_DISTANCE_HOT_DEG,\n",
      "<ipython-input-25-99da4e5d8fd9>:160: UserWarning: p-value floored: true value smaller than 0.001\n",
      "  AD1S, AD2S, AD3S = stats.anderson_ksamp([MIN_DISTANCE_HOT_DEG,\n",
      "<ipython-input-25-99da4e5d8fd9>:160: UserWarning: p-value floored: true value smaller than 0.001\n",
      "  AD1S, AD2S, AD3S = stats.anderson_ksamp([MIN_DISTANCE_HOT_DEG,\n"
     ]
    },
    {
     "name": "stdout",
     "output_type": "stream",
     "text": [
      "Random 441 out of 1000\n"
     ]
    },
    {
     "name": "stderr",
     "output_type": "stream",
     "text": [
      "<ipython-input-25-99da4e5d8fd9>:160: UserWarning: p-value floored: true value smaller than 0.001\n",
      "  AD1S, AD2S, AD3S = stats.anderson_ksamp([MIN_DISTANCE_HOT_DEG,\n",
      "<ipython-input-25-99da4e5d8fd9>:160: UserWarning: p-value floored: true value smaller than 0.001\n",
      "  AD1S, AD2S, AD3S = stats.anderson_ksamp([MIN_DISTANCE_HOT_DEG,\n",
      "<ipython-input-25-99da4e5d8fd9>:160: UserWarning: p-value floored: true value smaller than 0.001\n",
      "  AD1S, AD2S, AD3S = stats.anderson_ksamp([MIN_DISTANCE_HOT_DEG,\n",
      "<ipython-input-25-99da4e5d8fd9>:160: UserWarning: p-value floored: true value smaller than 0.001\n",
      "  AD1S, AD2S, AD3S = stats.anderson_ksamp([MIN_DISTANCE_HOT_DEG,\n",
      "<ipython-input-25-99da4e5d8fd9>:160: UserWarning: p-value floored: true value smaller than 0.001\n",
      "  AD1S, AD2S, AD3S = stats.anderson_ksamp([MIN_DISTANCE_HOT_DEG,\n",
      "<ipython-input-25-99da4e5d8fd9>:160: UserWarning: p-value floored: true value smaller than 0.001\n",
      "  AD1S, AD2S, AD3S = stats.anderson_ksamp([MIN_DISTANCE_HOT_DEG,\n",
      "<ipython-input-25-99da4e5d8fd9>:160: UserWarning: p-value floored: true value smaller than 0.001\n",
      "  AD1S, AD2S, AD3S = stats.anderson_ksamp([MIN_DISTANCE_HOT_DEG,\n",
      "<ipython-input-25-99da4e5d8fd9>:160: UserWarning: p-value floored: true value smaller than 0.001\n",
      "  AD1S, AD2S, AD3S = stats.anderson_ksamp([MIN_DISTANCE_HOT_DEG,\n",
      "<ipython-input-25-99da4e5d8fd9>:160: UserWarning: p-value floored: true value smaller than 0.001\n",
      "  AD1S, AD2S, AD3S = stats.anderson_ksamp([MIN_DISTANCE_HOT_DEG,\n"
     ]
    },
    {
     "name": "stdout",
     "output_type": "stream",
     "text": [
      "Random 451 out of 1000\n"
     ]
    },
    {
     "name": "stderr",
     "output_type": "stream",
     "text": [
      "<ipython-input-25-99da4e5d8fd9>:160: UserWarning: p-value floored: true value smaller than 0.001\n",
      "  AD1S, AD2S, AD3S = stats.anderson_ksamp([MIN_DISTANCE_HOT_DEG,\n",
      "<ipython-input-25-99da4e5d8fd9>:160: UserWarning: p-value floored: true value smaller than 0.001\n",
      "  AD1S, AD2S, AD3S = stats.anderson_ksamp([MIN_DISTANCE_HOT_DEG,\n",
      "<ipython-input-25-99da4e5d8fd9>:160: UserWarning: p-value floored: true value smaller than 0.001\n",
      "  AD1S, AD2S, AD3S = stats.anderson_ksamp([MIN_DISTANCE_HOT_DEG,\n",
      "<ipython-input-25-99da4e5d8fd9>:160: UserWarning: p-value floored: true value smaller than 0.001\n",
      "  AD1S, AD2S, AD3S = stats.anderson_ksamp([MIN_DISTANCE_HOT_DEG,\n",
      "<ipython-input-25-99da4e5d8fd9>:160: UserWarning: p-value floored: true value smaller than 0.001\n",
      "  AD1S, AD2S, AD3S = stats.anderson_ksamp([MIN_DISTANCE_HOT_DEG,\n",
      "<ipython-input-25-99da4e5d8fd9>:160: UserWarning: p-value floored: true value smaller than 0.001\n",
      "  AD1S, AD2S, AD3S = stats.anderson_ksamp([MIN_DISTANCE_HOT_DEG,\n",
      "<ipython-input-25-99da4e5d8fd9>:160: UserWarning: p-value floored: true value smaller than 0.001\n",
      "  AD1S, AD2S, AD3S = stats.anderson_ksamp([MIN_DISTANCE_HOT_DEG,\n",
      "<ipython-input-25-99da4e5d8fd9>:160: UserWarning: p-value floored: true value smaller than 0.001\n",
      "  AD1S, AD2S, AD3S = stats.anderson_ksamp([MIN_DISTANCE_HOT_DEG,\n",
      "<ipython-input-25-99da4e5d8fd9>:160: UserWarning: p-value floored: true value smaller than 0.001\n",
      "  AD1S, AD2S, AD3S = stats.anderson_ksamp([MIN_DISTANCE_HOT_DEG,\n",
      "<ipython-input-25-99da4e5d8fd9>:160: UserWarning: p-value floored: true value smaller than 0.001\n",
      "  AD1S, AD2S, AD3S = stats.anderson_ksamp([MIN_DISTANCE_HOT_DEG,\n"
     ]
    },
    {
     "name": "stdout",
     "output_type": "stream",
     "text": [
      "Random 461 out of 1000\n"
     ]
    },
    {
     "name": "stderr",
     "output_type": "stream",
     "text": [
      "<ipython-input-25-99da4e5d8fd9>:160: UserWarning: p-value floored: true value smaller than 0.001\n",
      "  AD1S, AD2S, AD3S = stats.anderson_ksamp([MIN_DISTANCE_HOT_DEG,\n",
      "<ipython-input-25-99da4e5d8fd9>:160: UserWarning: p-value floored: true value smaller than 0.001\n",
      "  AD1S, AD2S, AD3S = stats.anderson_ksamp([MIN_DISTANCE_HOT_DEG,\n",
      "<ipython-input-25-99da4e5d8fd9>:160: UserWarning: p-value floored: true value smaller than 0.001\n",
      "  AD1S, AD2S, AD3S = stats.anderson_ksamp([MIN_DISTANCE_HOT_DEG,\n",
      "<ipython-input-25-99da4e5d8fd9>:160: UserWarning: p-value floored: true value smaller than 0.001\n",
      "  AD1S, AD2S, AD3S = stats.anderson_ksamp([MIN_DISTANCE_HOT_DEG,\n",
      "<ipython-input-25-99da4e5d8fd9>:160: UserWarning: p-value floored: true value smaller than 0.001\n",
      "  AD1S, AD2S, AD3S = stats.anderson_ksamp([MIN_DISTANCE_HOT_DEG,\n",
      "<ipython-input-25-99da4e5d8fd9>:160: UserWarning: p-value floored: true value smaller than 0.001\n",
      "  AD1S, AD2S, AD3S = stats.anderson_ksamp([MIN_DISTANCE_HOT_DEG,\n",
      "<ipython-input-25-99da4e5d8fd9>:160: UserWarning: p-value floored: true value smaller than 0.001\n",
      "  AD1S, AD2S, AD3S = stats.anderson_ksamp([MIN_DISTANCE_HOT_DEG,\n"
     ]
    },
    {
     "name": "stdout",
     "output_type": "stream",
     "text": [
      "Random 471 out of 1000\n"
     ]
    },
    {
     "name": "stderr",
     "output_type": "stream",
     "text": [
      "<ipython-input-25-99da4e5d8fd9>:160: UserWarning: p-value floored: true value smaller than 0.001\n",
      "  AD1S, AD2S, AD3S = stats.anderson_ksamp([MIN_DISTANCE_HOT_DEG,\n",
      "<ipython-input-25-99da4e5d8fd9>:160: UserWarning: p-value floored: true value smaller than 0.001\n",
      "  AD1S, AD2S, AD3S = stats.anderson_ksamp([MIN_DISTANCE_HOT_DEG,\n",
      "<ipython-input-25-99da4e5d8fd9>:160: UserWarning: p-value floored: true value smaller than 0.001\n",
      "  AD1S, AD2S, AD3S = stats.anderson_ksamp([MIN_DISTANCE_HOT_DEG,\n",
      "<ipython-input-25-99da4e5d8fd9>:160: UserWarning: p-value floored: true value smaller than 0.001\n",
      "  AD1S, AD2S, AD3S = stats.anderson_ksamp([MIN_DISTANCE_HOT_DEG,\n",
      "<ipython-input-25-99da4e5d8fd9>:160: UserWarning: p-value floored: true value smaller than 0.001\n",
      "  AD1S, AD2S, AD3S = stats.anderson_ksamp([MIN_DISTANCE_HOT_DEG,\n",
      "<ipython-input-25-99da4e5d8fd9>:160: UserWarning: p-value floored: true value smaller than 0.001\n",
      "  AD1S, AD2S, AD3S = stats.anderson_ksamp([MIN_DISTANCE_HOT_DEG,\n",
      "<ipython-input-25-99da4e5d8fd9>:160: UserWarning: p-value floored: true value smaller than 0.001\n",
      "  AD1S, AD2S, AD3S = stats.anderson_ksamp([MIN_DISTANCE_HOT_DEG,\n",
      "<ipython-input-25-99da4e5d8fd9>:160: UserWarning: p-value floored: true value smaller than 0.001\n",
      "  AD1S, AD2S, AD3S = stats.anderson_ksamp([MIN_DISTANCE_HOT_DEG,\n",
      "<ipython-input-25-99da4e5d8fd9>:160: UserWarning: p-value floored: true value smaller than 0.001\n",
      "  AD1S, AD2S, AD3S = stats.anderson_ksamp([MIN_DISTANCE_HOT_DEG,\n"
     ]
    },
    {
     "name": "stdout",
     "output_type": "stream",
     "text": [
      "Random 481 out of 1000\n"
     ]
    },
    {
     "name": "stderr",
     "output_type": "stream",
     "text": [
      "<ipython-input-25-99da4e5d8fd9>:160: UserWarning: p-value floored: true value smaller than 0.001\n",
      "  AD1S, AD2S, AD3S = stats.anderson_ksamp([MIN_DISTANCE_HOT_DEG,\n",
      "<ipython-input-25-99da4e5d8fd9>:160: UserWarning: p-value floored: true value smaller than 0.001\n",
      "  AD1S, AD2S, AD3S = stats.anderson_ksamp([MIN_DISTANCE_HOT_DEG,\n",
      "<ipython-input-25-99da4e5d8fd9>:160: UserWarning: p-value floored: true value smaller than 0.001\n",
      "  AD1S, AD2S, AD3S = stats.anderson_ksamp([MIN_DISTANCE_HOT_DEG,\n",
      "<ipython-input-25-99da4e5d8fd9>:160: UserWarning: p-value floored: true value smaller than 0.001\n",
      "  AD1S, AD2S, AD3S = stats.anderson_ksamp([MIN_DISTANCE_HOT_DEG,\n",
      "<ipython-input-25-99da4e5d8fd9>:160: UserWarning: p-value floored: true value smaller than 0.001\n",
      "  AD1S, AD2S, AD3S = stats.anderson_ksamp([MIN_DISTANCE_HOT_DEG,\n",
      "<ipython-input-25-99da4e5d8fd9>:160: UserWarning: p-value floored: true value smaller than 0.001\n",
      "  AD1S, AD2S, AD3S = stats.anderson_ksamp([MIN_DISTANCE_HOT_DEG,\n",
      "<ipython-input-25-99da4e5d8fd9>:160: UserWarning: p-value floored: true value smaller than 0.001\n",
      "  AD1S, AD2S, AD3S = stats.anderson_ksamp([MIN_DISTANCE_HOT_DEG,\n"
     ]
    },
    {
     "name": "stdout",
     "output_type": "stream",
     "text": [
      "Random 491 out of 1000\n"
     ]
    },
    {
     "name": "stderr",
     "output_type": "stream",
     "text": [
      "<ipython-input-25-99da4e5d8fd9>:160: UserWarning: p-value floored: true value smaller than 0.001\n",
      "  AD1S, AD2S, AD3S = stats.anderson_ksamp([MIN_DISTANCE_HOT_DEG,\n",
      "<ipython-input-25-99da4e5d8fd9>:160: UserWarning: p-value floored: true value smaller than 0.001\n",
      "  AD1S, AD2S, AD3S = stats.anderson_ksamp([MIN_DISTANCE_HOT_DEG,\n",
      "<ipython-input-25-99da4e5d8fd9>:160: UserWarning: p-value floored: true value smaller than 0.001\n",
      "  AD1S, AD2S, AD3S = stats.anderson_ksamp([MIN_DISTANCE_HOT_DEG,\n",
      "<ipython-input-25-99da4e5d8fd9>:160: UserWarning: p-value floored: true value smaller than 0.001\n",
      "  AD1S, AD2S, AD3S = stats.anderson_ksamp([MIN_DISTANCE_HOT_DEG,\n",
      "<ipython-input-25-99da4e5d8fd9>:160: UserWarning: p-value floored: true value smaller than 0.001\n",
      "  AD1S, AD2S, AD3S = stats.anderson_ksamp([MIN_DISTANCE_HOT_DEG,\n",
      "<ipython-input-25-99da4e5d8fd9>:160: UserWarning: p-value floored: true value smaller than 0.001\n",
      "  AD1S, AD2S, AD3S = stats.anderson_ksamp([MIN_DISTANCE_HOT_DEG,\n",
      "<ipython-input-25-99da4e5d8fd9>:160: UserWarning: p-value floored: true value smaller than 0.001\n",
      "  AD1S, AD2S, AD3S = stats.anderson_ksamp([MIN_DISTANCE_HOT_DEG,\n",
      "<ipython-input-25-99da4e5d8fd9>:160: UserWarning: p-value floored: true value smaller than 0.001\n",
      "  AD1S, AD2S, AD3S = stats.anderson_ksamp([MIN_DISTANCE_HOT_DEG,\n",
      "<ipython-input-25-99da4e5d8fd9>:160: UserWarning: p-value floored: true value smaller than 0.001\n",
      "  AD1S, AD2S, AD3S = stats.anderson_ksamp([MIN_DISTANCE_HOT_DEG,\n"
     ]
    },
    {
     "name": "stdout",
     "output_type": "stream",
     "text": [
      "Random 501 out of 1000\n"
     ]
    },
    {
     "name": "stderr",
     "output_type": "stream",
     "text": [
      "<ipython-input-25-99da4e5d8fd9>:160: UserWarning: p-value floored: true value smaller than 0.001\n",
      "  AD1S, AD2S, AD3S = stats.anderson_ksamp([MIN_DISTANCE_HOT_DEG,\n",
      "<ipython-input-25-99da4e5d8fd9>:160: UserWarning: p-value floored: true value smaller than 0.001\n",
      "  AD1S, AD2S, AD3S = stats.anderson_ksamp([MIN_DISTANCE_HOT_DEG,\n",
      "<ipython-input-25-99da4e5d8fd9>:160: UserWarning: p-value floored: true value smaller than 0.001\n",
      "  AD1S, AD2S, AD3S = stats.anderson_ksamp([MIN_DISTANCE_HOT_DEG,\n",
      "<ipython-input-25-99da4e5d8fd9>:160: UserWarning: p-value floored: true value smaller than 0.001\n",
      "  AD1S, AD2S, AD3S = stats.anderson_ksamp([MIN_DISTANCE_HOT_DEG,\n",
      "<ipython-input-25-99da4e5d8fd9>:160: UserWarning: p-value floored: true value smaller than 0.001\n",
      "  AD1S, AD2S, AD3S = stats.anderson_ksamp([MIN_DISTANCE_HOT_DEG,\n",
      "<ipython-input-25-99da4e5d8fd9>:160: UserWarning: p-value floored: true value smaller than 0.001\n",
      "  AD1S, AD2S, AD3S = stats.anderson_ksamp([MIN_DISTANCE_HOT_DEG,\n",
      "<ipython-input-25-99da4e5d8fd9>:160: UserWarning: p-value floored: true value smaller than 0.001\n",
      "  AD1S, AD2S, AD3S = stats.anderson_ksamp([MIN_DISTANCE_HOT_DEG,\n",
      "<ipython-input-25-99da4e5d8fd9>:160: UserWarning: p-value floored: true value smaller than 0.001\n",
      "  AD1S, AD2S, AD3S = stats.anderson_ksamp([MIN_DISTANCE_HOT_DEG,\n",
      "<ipython-input-25-99da4e5d8fd9>:160: UserWarning: p-value floored: true value smaller than 0.001\n",
      "  AD1S, AD2S, AD3S = stats.anderson_ksamp([MIN_DISTANCE_HOT_DEG,\n",
      "<ipython-input-25-99da4e5d8fd9>:160: UserWarning: p-value floored: true value smaller than 0.001\n",
      "  AD1S, AD2S, AD3S = stats.anderson_ksamp([MIN_DISTANCE_HOT_DEG,\n"
     ]
    },
    {
     "name": "stdout",
     "output_type": "stream",
     "text": [
      "Random 511 out of 1000\n"
     ]
    },
    {
     "name": "stderr",
     "output_type": "stream",
     "text": [
      "<ipython-input-25-99da4e5d8fd9>:160: UserWarning: p-value floored: true value smaller than 0.001\n",
      "  AD1S, AD2S, AD3S = stats.anderson_ksamp([MIN_DISTANCE_HOT_DEG,\n",
      "<ipython-input-25-99da4e5d8fd9>:160: UserWarning: p-value floored: true value smaller than 0.001\n",
      "  AD1S, AD2S, AD3S = stats.anderson_ksamp([MIN_DISTANCE_HOT_DEG,\n",
      "<ipython-input-25-99da4e5d8fd9>:160: UserWarning: p-value floored: true value smaller than 0.001\n",
      "  AD1S, AD2S, AD3S = stats.anderson_ksamp([MIN_DISTANCE_HOT_DEG,\n",
      "<ipython-input-25-99da4e5d8fd9>:160: UserWarning: p-value floored: true value smaller than 0.001\n",
      "  AD1S, AD2S, AD3S = stats.anderson_ksamp([MIN_DISTANCE_HOT_DEG,\n",
      "<ipython-input-25-99da4e5d8fd9>:160: UserWarning: p-value floored: true value smaller than 0.001\n",
      "  AD1S, AD2S, AD3S = stats.anderson_ksamp([MIN_DISTANCE_HOT_DEG,\n",
      "<ipython-input-25-99da4e5d8fd9>:160: UserWarning: p-value floored: true value smaller than 0.001\n",
      "  AD1S, AD2S, AD3S = stats.anderson_ksamp([MIN_DISTANCE_HOT_DEG,\n",
      "<ipython-input-25-99da4e5d8fd9>:160: UserWarning: p-value floored: true value smaller than 0.001\n",
      "  AD1S, AD2S, AD3S = stats.anderson_ksamp([MIN_DISTANCE_HOT_DEG,\n",
      "<ipython-input-25-99da4e5d8fd9>:160: UserWarning: p-value floored: true value smaller than 0.001\n",
      "  AD1S, AD2S, AD3S = stats.anderson_ksamp([MIN_DISTANCE_HOT_DEG,\n",
      "<ipython-input-25-99da4e5d8fd9>:160: UserWarning: p-value floored: true value smaller than 0.001\n",
      "  AD1S, AD2S, AD3S = stats.anderson_ksamp([MIN_DISTANCE_HOT_DEG,\n"
     ]
    },
    {
     "name": "stdout",
     "output_type": "stream",
     "text": [
      "Random 521 out of 1000\n"
     ]
    },
    {
     "name": "stderr",
     "output_type": "stream",
     "text": [
      "<ipython-input-25-99da4e5d8fd9>:160: UserWarning: p-value floored: true value smaller than 0.001\n",
      "  AD1S, AD2S, AD3S = stats.anderson_ksamp([MIN_DISTANCE_HOT_DEG,\n",
      "<ipython-input-25-99da4e5d8fd9>:160: UserWarning: p-value floored: true value smaller than 0.001\n",
      "  AD1S, AD2S, AD3S = stats.anderson_ksamp([MIN_DISTANCE_HOT_DEG,\n",
      "<ipython-input-25-99da4e5d8fd9>:160: UserWarning: p-value floored: true value smaller than 0.001\n",
      "  AD1S, AD2S, AD3S = stats.anderson_ksamp([MIN_DISTANCE_HOT_DEG,\n",
      "<ipython-input-25-99da4e5d8fd9>:160: UserWarning: p-value floored: true value smaller than 0.001\n",
      "  AD1S, AD2S, AD3S = stats.anderson_ksamp([MIN_DISTANCE_HOT_DEG,\n",
      "<ipython-input-25-99da4e5d8fd9>:160: UserWarning: p-value floored: true value smaller than 0.001\n",
      "  AD1S, AD2S, AD3S = stats.anderson_ksamp([MIN_DISTANCE_HOT_DEG,\n",
      "<ipython-input-25-99da4e5d8fd9>:160: UserWarning: p-value floored: true value smaller than 0.001\n",
      "  AD1S, AD2S, AD3S = stats.anderson_ksamp([MIN_DISTANCE_HOT_DEG,\n",
      "<ipython-input-25-99da4e5d8fd9>:160: UserWarning: p-value floored: true value smaller than 0.001\n",
      "  AD1S, AD2S, AD3S = stats.anderson_ksamp([MIN_DISTANCE_HOT_DEG,\n",
      "<ipython-input-25-99da4e5d8fd9>:160: UserWarning: p-value floored: true value smaller than 0.001\n",
      "  AD1S, AD2S, AD3S = stats.anderson_ksamp([MIN_DISTANCE_HOT_DEG,\n",
      "<ipython-input-25-99da4e5d8fd9>:160: UserWarning: p-value floored: true value smaller than 0.001\n",
      "  AD1S, AD2S, AD3S = stats.anderson_ksamp([MIN_DISTANCE_HOT_DEG,\n"
     ]
    },
    {
     "name": "stdout",
     "output_type": "stream",
     "text": [
      "Random 531 out of 1000\n"
     ]
    },
    {
     "name": "stderr",
     "output_type": "stream",
     "text": [
      "<ipython-input-25-99da4e5d8fd9>:160: UserWarning: p-value floored: true value smaller than 0.001\n",
      "  AD1S, AD2S, AD3S = stats.anderson_ksamp([MIN_DISTANCE_HOT_DEG,\n",
      "<ipython-input-25-99da4e5d8fd9>:160: UserWarning: p-value floored: true value smaller than 0.001\n",
      "  AD1S, AD2S, AD3S = stats.anderson_ksamp([MIN_DISTANCE_HOT_DEG,\n",
      "<ipython-input-25-99da4e5d8fd9>:160: UserWarning: p-value floored: true value smaller than 0.001\n",
      "  AD1S, AD2S, AD3S = stats.anderson_ksamp([MIN_DISTANCE_HOT_DEG,\n",
      "<ipython-input-25-99da4e5d8fd9>:160: UserWarning: p-value floored: true value smaller than 0.001\n",
      "  AD1S, AD2S, AD3S = stats.anderson_ksamp([MIN_DISTANCE_HOT_DEG,\n",
      "<ipython-input-25-99da4e5d8fd9>:160: UserWarning: p-value floored: true value smaller than 0.001\n",
      "  AD1S, AD2S, AD3S = stats.anderson_ksamp([MIN_DISTANCE_HOT_DEG,\n",
      "<ipython-input-25-99da4e5d8fd9>:160: UserWarning: p-value floored: true value smaller than 0.001\n",
      "  AD1S, AD2S, AD3S = stats.anderson_ksamp([MIN_DISTANCE_HOT_DEG,\n",
      "<ipython-input-25-99da4e5d8fd9>:160: UserWarning: p-value floored: true value smaller than 0.001\n",
      "  AD1S, AD2S, AD3S = stats.anderson_ksamp([MIN_DISTANCE_HOT_DEG,\n",
      "<ipython-input-25-99da4e5d8fd9>:160: UserWarning: p-value floored: true value smaller than 0.001\n",
      "  AD1S, AD2S, AD3S = stats.anderson_ksamp([MIN_DISTANCE_HOT_DEG,\n",
      "<ipython-input-25-99da4e5d8fd9>:160: UserWarning: p-value floored: true value smaller than 0.001\n",
      "  AD1S, AD2S, AD3S = stats.anderson_ksamp([MIN_DISTANCE_HOT_DEG,\n",
      "<ipython-input-25-99da4e5d8fd9>:160: UserWarning: p-value floored: true value smaller than 0.001\n",
      "  AD1S, AD2S, AD3S = stats.anderson_ksamp([MIN_DISTANCE_HOT_DEG,\n"
     ]
    },
    {
     "name": "stdout",
     "output_type": "stream",
     "text": [
      "Random 541 out of 1000\n"
     ]
    },
    {
     "name": "stderr",
     "output_type": "stream",
     "text": [
      "<ipython-input-25-99da4e5d8fd9>:160: UserWarning: p-value floored: true value smaller than 0.001\n",
      "  AD1S, AD2S, AD3S = stats.anderson_ksamp([MIN_DISTANCE_HOT_DEG,\n",
      "<ipython-input-25-99da4e5d8fd9>:160: UserWarning: p-value floored: true value smaller than 0.001\n",
      "  AD1S, AD2S, AD3S = stats.anderson_ksamp([MIN_DISTANCE_HOT_DEG,\n",
      "<ipython-input-25-99da4e5d8fd9>:160: UserWarning: p-value floored: true value smaller than 0.001\n",
      "  AD1S, AD2S, AD3S = stats.anderson_ksamp([MIN_DISTANCE_HOT_DEG,\n",
      "<ipython-input-25-99da4e5d8fd9>:160: UserWarning: p-value floored: true value smaller than 0.001\n",
      "  AD1S, AD2S, AD3S = stats.anderson_ksamp([MIN_DISTANCE_HOT_DEG,\n",
      "<ipython-input-25-99da4e5d8fd9>:160: UserWarning: p-value floored: true value smaller than 0.001\n",
      "  AD1S, AD2S, AD3S = stats.anderson_ksamp([MIN_DISTANCE_HOT_DEG,\n",
      "<ipython-input-25-99da4e5d8fd9>:160: UserWarning: p-value floored: true value smaller than 0.001\n",
      "  AD1S, AD2S, AD3S = stats.anderson_ksamp([MIN_DISTANCE_HOT_DEG,\n",
      "<ipython-input-25-99da4e5d8fd9>:160: UserWarning: p-value floored: true value smaller than 0.001\n",
      "  AD1S, AD2S, AD3S = stats.anderson_ksamp([MIN_DISTANCE_HOT_DEG,\n",
      "<ipython-input-25-99da4e5d8fd9>:160: UserWarning: p-value floored: true value smaller than 0.001\n",
      "  AD1S, AD2S, AD3S = stats.anderson_ksamp([MIN_DISTANCE_HOT_DEG,\n",
      "<ipython-input-25-99da4e5d8fd9>:160: UserWarning: p-value floored: true value smaller than 0.001\n",
      "  AD1S, AD2S, AD3S = stats.anderson_ksamp([MIN_DISTANCE_HOT_DEG,\n"
     ]
    },
    {
     "name": "stdout",
     "output_type": "stream",
     "text": [
      "Random 551 out of 1000\n"
     ]
    },
    {
     "name": "stderr",
     "output_type": "stream",
     "text": [
      "<ipython-input-25-99da4e5d8fd9>:160: UserWarning: p-value floored: true value smaller than 0.001\n",
      "  AD1S, AD2S, AD3S = stats.anderson_ksamp([MIN_DISTANCE_HOT_DEG,\n",
      "<ipython-input-25-99da4e5d8fd9>:160: UserWarning: p-value floored: true value smaller than 0.001\n",
      "  AD1S, AD2S, AD3S = stats.anderson_ksamp([MIN_DISTANCE_HOT_DEG,\n",
      "<ipython-input-25-99da4e5d8fd9>:160: UserWarning: p-value floored: true value smaller than 0.001\n",
      "  AD1S, AD2S, AD3S = stats.anderson_ksamp([MIN_DISTANCE_HOT_DEG,\n",
      "<ipython-input-25-99da4e5d8fd9>:160: UserWarning: p-value floored: true value smaller than 0.001\n",
      "  AD1S, AD2S, AD3S = stats.anderson_ksamp([MIN_DISTANCE_HOT_DEG,\n",
      "<ipython-input-25-99da4e5d8fd9>:160: UserWarning: p-value floored: true value smaller than 0.001\n",
      "  AD1S, AD2S, AD3S = stats.anderson_ksamp([MIN_DISTANCE_HOT_DEG,\n",
      "<ipython-input-25-99da4e5d8fd9>:160: UserWarning: p-value floored: true value smaller than 0.001\n",
      "  AD1S, AD2S, AD3S = stats.anderson_ksamp([MIN_DISTANCE_HOT_DEG,\n",
      "<ipython-input-25-99da4e5d8fd9>:160: UserWarning: p-value floored: true value smaller than 0.001\n",
      "  AD1S, AD2S, AD3S = stats.anderson_ksamp([MIN_DISTANCE_HOT_DEG,\n",
      "<ipython-input-25-99da4e5d8fd9>:160: UserWarning: p-value floored: true value smaller than 0.001\n",
      "  AD1S, AD2S, AD3S = stats.anderson_ksamp([MIN_DISTANCE_HOT_DEG,\n",
      "<ipython-input-25-99da4e5d8fd9>:160: UserWarning: p-value floored: true value smaller than 0.001\n",
      "  AD1S, AD2S, AD3S = stats.anderson_ksamp([MIN_DISTANCE_HOT_DEG,\n",
      "<ipython-input-25-99da4e5d8fd9>:160: UserWarning: p-value floored: true value smaller than 0.001\n",
      "  AD1S, AD2S, AD3S = stats.anderson_ksamp([MIN_DISTANCE_HOT_DEG,\n"
     ]
    },
    {
     "name": "stdout",
     "output_type": "stream",
     "text": [
      "Random 561 out of 1000\n"
     ]
    },
    {
     "name": "stderr",
     "output_type": "stream",
     "text": [
      "<ipython-input-25-99da4e5d8fd9>:160: UserWarning: p-value floored: true value smaller than 0.001\n",
      "  AD1S, AD2S, AD3S = stats.anderson_ksamp([MIN_DISTANCE_HOT_DEG,\n",
      "<ipython-input-25-99da4e5d8fd9>:160: UserWarning: p-value floored: true value smaller than 0.001\n",
      "  AD1S, AD2S, AD3S = stats.anderson_ksamp([MIN_DISTANCE_HOT_DEG,\n",
      "<ipython-input-25-99da4e5d8fd9>:160: UserWarning: p-value floored: true value smaller than 0.001\n",
      "  AD1S, AD2S, AD3S = stats.anderson_ksamp([MIN_DISTANCE_HOT_DEG,\n",
      "<ipython-input-25-99da4e5d8fd9>:160: UserWarning: p-value floored: true value smaller than 0.001\n",
      "  AD1S, AD2S, AD3S = stats.anderson_ksamp([MIN_DISTANCE_HOT_DEG,\n",
      "<ipython-input-25-99da4e5d8fd9>:160: UserWarning: p-value floored: true value smaller than 0.001\n",
      "  AD1S, AD2S, AD3S = stats.anderson_ksamp([MIN_DISTANCE_HOT_DEG,\n",
      "<ipython-input-25-99da4e5d8fd9>:160: UserWarning: p-value floored: true value smaller than 0.001\n",
      "  AD1S, AD2S, AD3S = stats.anderson_ksamp([MIN_DISTANCE_HOT_DEG,\n",
      "<ipython-input-25-99da4e5d8fd9>:160: UserWarning: p-value floored: true value smaller than 0.001\n",
      "  AD1S, AD2S, AD3S = stats.anderson_ksamp([MIN_DISTANCE_HOT_DEG,\n",
      "<ipython-input-25-99da4e5d8fd9>:160: UserWarning: p-value floored: true value smaller than 0.001\n",
      "  AD1S, AD2S, AD3S = stats.anderson_ksamp([MIN_DISTANCE_HOT_DEG,\n",
      "<ipython-input-25-99da4e5d8fd9>:160: UserWarning: p-value floored: true value smaller than 0.001\n",
      "  AD1S, AD2S, AD3S = stats.anderson_ksamp([MIN_DISTANCE_HOT_DEG,\n"
     ]
    },
    {
     "name": "stdout",
     "output_type": "stream",
     "text": [
      "Random 571 out of 1000\n"
     ]
    },
    {
     "name": "stderr",
     "output_type": "stream",
     "text": [
      "<ipython-input-25-99da4e5d8fd9>:160: UserWarning: p-value floored: true value smaller than 0.001\n",
      "  AD1S, AD2S, AD3S = stats.anderson_ksamp([MIN_DISTANCE_HOT_DEG,\n",
      "<ipython-input-25-99da4e5d8fd9>:160: UserWarning: p-value floored: true value smaller than 0.001\n",
      "  AD1S, AD2S, AD3S = stats.anderson_ksamp([MIN_DISTANCE_HOT_DEG,\n",
      "<ipython-input-25-99da4e5d8fd9>:160: UserWarning: p-value floored: true value smaller than 0.001\n",
      "  AD1S, AD2S, AD3S = stats.anderson_ksamp([MIN_DISTANCE_HOT_DEG,\n",
      "<ipython-input-25-99da4e5d8fd9>:160: UserWarning: p-value floored: true value smaller than 0.001\n",
      "  AD1S, AD2S, AD3S = stats.anderson_ksamp([MIN_DISTANCE_HOT_DEG,\n",
      "<ipython-input-25-99da4e5d8fd9>:160: UserWarning: p-value floored: true value smaller than 0.001\n",
      "  AD1S, AD2S, AD3S = stats.anderson_ksamp([MIN_DISTANCE_HOT_DEG,\n",
      "<ipython-input-25-99da4e5d8fd9>:160: UserWarning: p-value floored: true value smaller than 0.001\n",
      "  AD1S, AD2S, AD3S = stats.anderson_ksamp([MIN_DISTANCE_HOT_DEG,\n",
      "<ipython-input-25-99da4e5d8fd9>:160: UserWarning: p-value floored: true value smaller than 0.001\n",
      "  AD1S, AD2S, AD3S = stats.anderson_ksamp([MIN_DISTANCE_HOT_DEG,\n",
      "<ipython-input-25-99da4e5d8fd9>:160: UserWarning: p-value floored: true value smaller than 0.001\n",
      "  AD1S, AD2S, AD3S = stats.anderson_ksamp([MIN_DISTANCE_HOT_DEG,\n",
      "<ipython-input-25-99da4e5d8fd9>:160: UserWarning: p-value floored: true value smaller than 0.001\n",
      "  AD1S, AD2S, AD3S = stats.anderson_ksamp([MIN_DISTANCE_HOT_DEG,\n",
      "<ipython-input-25-99da4e5d8fd9>:160: UserWarning: p-value floored: true value smaller than 0.001\n",
      "  AD1S, AD2S, AD3S = stats.anderson_ksamp([MIN_DISTANCE_HOT_DEG,\n"
     ]
    },
    {
     "name": "stdout",
     "output_type": "stream",
     "text": [
      "Random 581 out of 1000\n"
     ]
    },
    {
     "name": "stderr",
     "output_type": "stream",
     "text": [
      "<ipython-input-25-99da4e5d8fd9>:160: UserWarning: p-value floored: true value smaller than 0.001\n",
      "  AD1S, AD2S, AD3S = stats.anderson_ksamp([MIN_DISTANCE_HOT_DEG,\n",
      "<ipython-input-25-99da4e5d8fd9>:160: UserWarning: p-value floored: true value smaller than 0.001\n",
      "  AD1S, AD2S, AD3S = stats.anderson_ksamp([MIN_DISTANCE_HOT_DEG,\n",
      "<ipython-input-25-99da4e5d8fd9>:160: UserWarning: p-value floored: true value smaller than 0.001\n",
      "  AD1S, AD2S, AD3S = stats.anderson_ksamp([MIN_DISTANCE_HOT_DEG,\n",
      "<ipython-input-25-99da4e5d8fd9>:160: UserWarning: p-value floored: true value smaller than 0.001\n",
      "  AD1S, AD2S, AD3S = stats.anderson_ksamp([MIN_DISTANCE_HOT_DEG,\n",
      "<ipython-input-25-99da4e5d8fd9>:160: UserWarning: p-value floored: true value smaller than 0.001\n",
      "  AD1S, AD2S, AD3S = stats.anderson_ksamp([MIN_DISTANCE_HOT_DEG,\n",
      "<ipython-input-25-99da4e5d8fd9>:160: UserWarning: p-value floored: true value smaller than 0.001\n",
      "  AD1S, AD2S, AD3S = stats.anderson_ksamp([MIN_DISTANCE_HOT_DEG,\n",
      "<ipython-input-25-99da4e5d8fd9>:160: UserWarning: p-value floored: true value smaller than 0.001\n",
      "  AD1S, AD2S, AD3S = stats.anderson_ksamp([MIN_DISTANCE_HOT_DEG,\n",
      "<ipython-input-25-99da4e5d8fd9>:160: UserWarning: p-value floored: true value smaller than 0.001\n",
      "  AD1S, AD2S, AD3S = stats.anderson_ksamp([MIN_DISTANCE_HOT_DEG,\n",
      "<ipython-input-25-99da4e5d8fd9>:160: UserWarning: p-value floored: true value smaller than 0.001\n",
      "  AD1S, AD2S, AD3S = stats.anderson_ksamp([MIN_DISTANCE_HOT_DEG,\n"
     ]
    },
    {
     "name": "stdout",
     "output_type": "stream",
     "text": [
      "Random 591 out of 1000\n"
     ]
    },
    {
     "name": "stderr",
     "output_type": "stream",
     "text": [
      "<ipython-input-25-99da4e5d8fd9>:160: UserWarning: p-value floored: true value smaller than 0.001\n",
      "  AD1S, AD2S, AD3S = stats.anderson_ksamp([MIN_DISTANCE_HOT_DEG,\n",
      "<ipython-input-25-99da4e5d8fd9>:160: UserWarning: p-value floored: true value smaller than 0.001\n",
      "  AD1S, AD2S, AD3S = stats.anderson_ksamp([MIN_DISTANCE_HOT_DEG,\n",
      "<ipython-input-25-99da4e5d8fd9>:160: UserWarning: p-value floored: true value smaller than 0.001\n",
      "  AD1S, AD2S, AD3S = stats.anderson_ksamp([MIN_DISTANCE_HOT_DEG,\n",
      "<ipython-input-25-99da4e5d8fd9>:160: UserWarning: p-value floored: true value smaller than 0.001\n",
      "  AD1S, AD2S, AD3S = stats.anderson_ksamp([MIN_DISTANCE_HOT_DEG,\n",
      "<ipython-input-25-99da4e5d8fd9>:160: UserWarning: p-value floored: true value smaller than 0.001\n",
      "  AD1S, AD2S, AD3S = stats.anderson_ksamp([MIN_DISTANCE_HOT_DEG,\n",
      "<ipython-input-25-99da4e5d8fd9>:160: UserWarning: p-value floored: true value smaller than 0.001\n",
      "  AD1S, AD2S, AD3S = stats.anderson_ksamp([MIN_DISTANCE_HOT_DEG,\n",
      "<ipython-input-25-99da4e5d8fd9>:160: UserWarning: p-value floored: true value smaller than 0.001\n",
      "  AD1S, AD2S, AD3S = stats.anderson_ksamp([MIN_DISTANCE_HOT_DEG,\n",
      "<ipython-input-25-99da4e5d8fd9>:160: UserWarning: p-value floored: true value smaller than 0.001\n",
      "  AD1S, AD2S, AD3S = stats.anderson_ksamp([MIN_DISTANCE_HOT_DEG,\n",
      "<ipython-input-25-99da4e5d8fd9>:160: UserWarning: p-value floored: true value smaller than 0.001\n",
      "  AD1S, AD2S, AD3S = stats.anderson_ksamp([MIN_DISTANCE_HOT_DEG,\n",
      "<ipython-input-25-99da4e5d8fd9>:160: UserWarning: p-value floored: true value smaller than 0.001\n",
      "  AD1S, AD2S, AD3S = stats.anderson_ksamp([MIN_DISTANCE_HOT_DEG,\n"
     ]
    },
    {
     "name": "stdout",
     "output_type": "stream",
     "text": [
      "Random 601 out of 1000\n"
     ]
    },
    {
     "name": "stderr",
     "output_type": "stream",
     "text": [
      "<ipython-input-25-99da4e5d8fd9>:160: UserWarning: p-value floored: true value smaller than 0.001\n",
      "  AD1S, AD2S, AD3S = stats.anderson_ksamp([MIN_DISTANCE_HOT_DEG,\n",
      "<ipython-input-25-99da4e5d8fd9>:160: UserWarning: p-value floored: true value smaller than 0.001\n",
      "  AD1S, AD2S, AD3S = stats.anderson_ksamp([MIN_DISTANCE_HOT_DEG,\n",
      "<ipython-input-25-99da4e5d8fd9>:160: UserWarning: p-value floored: true value smaller than 0.001\n",
      "  AD1S, AD2S, AD3S = stats.anderson_ksamp([MIN_DISTANCE_HOT_DEG,\n",
      "<ipython-input-25-99da4e5d8fd9>:160: UserWarning: p-value floored: true value smaller than 0.001\n",
      "  AD1S, AD2S, AD3S = stats.anderson_ksamp([MIN_DISTANCE_HOT_DEG,\n",
      "<ipython-input-25-99da4e5d8fd9>:160: UserWarning: p-value floored: true value smaller than 0.001\n",
      "  AD1S, AD2S, AD3S = stats.anderson_ksamp([MIN_DISTANCE_HOT_DEG,\n",
      "<ipython-input-25-99da4e5d8fd9>:160: UserWarning: p-value floored: true value smaller than 0.001\n",
      "  AD1S, AD2S, AD3S = stats.anderson_ksamp([MIN_DISTANCE_HOT_DEG,\n",
      "<ipython-input-25-99da4e5d8fd9>:160: UserWarning: p-value floored: true value smaller than 0.001\n",
      "  AD1S, AD2S, AD3S = stats.anderson_ksamp([MIN_DISTANCE_HOT_DEG,\n",
      "<ipython-input-25-99da4e5d8fd9>:160: UserWarning: p-value floored: true value smaller than 0.001\n",
      "  AD1S, AD2S, AD3S = stats.anderson_ksamp([MIN_DISTANCE_HOT_DEG,\n"
     ]
    },
    {
     "name": "stdout",
     "output_type": "stream",
     "text": [
      "Random 611 out of 1000\n"
     ]
    },
    {
     "name": "stderr",
     "output_type": "stream",
     "text": [
      "<ipython-input-25-99da4e5d8fd9>:160: UserWarning: p-value floored: true value smaller than 0.001\n",
      "  AD1S, AD2S, AD3S = stats.anderson_ksamp([MIN_DISTANCE_HOT_DEG,\n",
      "<ipython-input-25-99da4e5d8fd9>:160: UserWarning: p-value floored: true value smaller than 0.001\n",
      "  AD1S, AD2S, AD3S = stats.anderson_ksamp([MIN_DISTANCE_HOT_DEG,\n",
      "<ipython-input-25-99da4e5d8fd9>:160: UserWarning: p-value floored: true value smaller than 0.001\n",
      "  AD1S, AD2S, AD3S = stats.anderson_ksamp([MIN_DISTANCE_HOT_DEG,\n",
      "<ipython-input-25-99da4e5d8fd9>:160: UserWarning: p-value floored: true value smaller than 0.001\n",
      "  AD1S, AD2S, AD3S = stats.anderson_ksamp([MIN_DISTANCE_HOT_DEG,\n",
      "<ipython-input-25-99da4e5d8fd9>:160: UserWarning: p-value floored: true value smaller than 0.001\n",
      "  AD1S, AD2S, AD3S = stats.anderson_ksamp([MIN_DISTANCE_HOT_DEG,\n",
      "<ipython-input-25-99da4e5d8fd9>:160: UserWarning: p-value floored: true value smaller than 0.001\n",
      "  AD1S, AD2S, AD3S = stats.anderson_ksamp([MIN_DISTANCE_HOT_DEG,\n",
      "<ipython-input-25-99da4e5d8fd9>:160: UserWarning: p-value floored: true value smaller than 0.001\n",
      "  AD1S, AD2S, AD3S = stats.anderson_ksamp([MIN_DISTANCE_HOT_DEG,\n",
      "<ipython-input-25-99da4e5d8fd9>:160: UserWarning: p-value floored: true value smaller than 0.001\n",
      "  AD1S, AD2S, AD3S = stats.anderson_ksamp([MIN_DISTANCE_HOT_DEG,\n",
      "<ipython-input-25-99da4e5d8fd9>:160: UserWarning: p-value floored: true value smaller than 0.001\n",
      "  AD1S, AD2S, AD3S = stats.anderson_ksamp([MIN_DISTANCE_HOT_DEG,\n",
      "<ipython-input-25-99da4e5d8fd9>:160: UserWarning: p-value floored: true value smaller than 0.001\n",
      "  AD1S, AD2S, AD3S = stats.anderson_ksamp([MIN_DISTANCE_HOT_DEG,\n"
     ]
    },
    {
     "name": "stdout",
     "output_type": "stream",
     "text": [
      "Random 621 out of 1000\n"
     ]
    },
    {
     "name": "stderr",
     "output_type": "stream",
     "text": [
      "<ipython-input-25-99da4e5d8fd9>:160: UserWarning: p-value floored: true value smaller than 0.001\n",
      "  AD1S, AD2S, AD3S = stats.anderson_ksamp([MIN_DISTANCE_HOT_DEG,\n",
      "<ipython-input-25-99da4e5d8fd9>:160: UserWarning: p-value floored: true value smaller than 0.001\n",
      "  AD1S, AD2S, AD3S = stats.anderson_ksamp([MIN_DISTANCE_HOT_DEG,\n",
      "<ipython-input-25-99da4e5d8fd9>:160: UserWarning: p-value floored: true value smaller than 0.001\n",
      "  AD1S, AD2S, AD3S = stats.anderson_ksamp([MIN_DISTANCE_HOT_DEG,\n",
      "<ipython-input-25-99da4e5d8fd9>:160: UserWarning: p-value floored: true value smaller than 0.001\n",
      "  AD1S, AD2S, AD3S = stats.anderson_ksamp([MIN_DISTANCE_HOT_DEG,\n",
      "<ipython-input-25-99da4e5d8fd9>:160: UserWarning: p-value floored: true value smaller than 0.001\n",
      "  AD1S, AD2S, AD3S = stats.anderson_ksamp([MIN_DISTANCE_HOT_DEG,\n",
      "<ipython-input-25-99da4e5d8fd9>:160: UserWarning: p-value floored: true value smaller than 0.001\n",
      "  AD1S, AD2S, AD3S = stats.anderson_ksamp([MIN_DISTANCE_HOT_DEG,\n",
      "<ipython-input-25-99da4e5d8fd9>:160: UserWarning: p-value floored: true value smaller than 0.001\n",
      "  AD1S, AD2S, AD3S = stats.anderson_ksamp([MIN_DISTANCE_HOT_DEG,\n"
     ]
    },
    {
     "name": "stdout",
     "output_type": "stream",
     "text": [
      "MUTATION!\n",
      "Random 631 out of 1000\n"
     ]
    },
    {
     "name": "stderr",
     "output_type": "stream",
     "text": [
      "<ipython-input-25-99da4e5d8fd9>:160: UserWarning: p-value floored: true value smaller than 0.001\n",
      "  AD1S, AD2S, AD3S = stats.anderson_ksamp([MIN_DISTANCE_HOT_DEG,\n",
      "<ipython-input-25-99da4e5d8fd9>:160: UserWarning: p-value floored: true value smaller than 0.001\n",
      "  AD1S, AD2S, AD3S = stats.anderson_ksamp([MIN_DISTANCE_HOT_DEG,\n",
      "<ipython-input-25-99da4e5d8fd9>:160: UserWarning: p-value floored: true value smaller than 0.001\n",
      "  AD1S, AD2S, AD3S = stats.anderson_ksamp([MIN_DISTANCE_HOT_DEG,\n",
      "<ipython-input-25-99da4e5d8fd9>:160: UserWarning: p-value floored: true value smaller than 0.001\n",
      "  AD1S, AD2S, AD3S = stats.anderson_ksamp([MIN_DISTANCE_HOT_DEG,\n",
      "<ipython-input-25-99da4e5d8fd9>:160: UserWarning: p-value floored: true value smaller than 0.001\n",
      "  AD1S, AD2S, AD3S = stats.anderson_ksamp([MIN_DISTANCE_HOT_DEG,\n",
      "<ipython-input-25-99da4e5d8fd9>:160: UserWarning: p-value floored: true value smaller than 0.001\n",
      "  AD1S, AD2S, AD3S = stats.anderson_ksamp([MIN_DISTANCE_HOT_DEG,\n",
      "<ipython-input-25-99da4e5d8fd9>:160: UserWarning: p-value floored: true value smaller than 0.001\n",
      "  AD1S, AD2S, AD3S = stats.anderson_ksamp([MIN_DISTANCE_HOT_DEG,\n",
      "<ipython-input-25-99da4e5d8fd9>:160: UserWarning: p-value floored: true value smaller than 0.001\n",
      "  AD1S, AD2S, AD3S = stats.anderson_ksamp([MIN_DISTANCE_HOT_DEG,\n"
     ]
    },
    {
     "name": "stdout",
     "output_type": "stream",
     "text": [
      "Random 641 out of 1000\n"
     ]
    },
    {
     "name": "stderr",
     "output_type": "stream",
     "text": [
      "<ipython-input-25-99da4e5d8fd9>:160: UserWarning: p-value floored: true value smaller than 0.001\n",
      "  AD1S, AD2S, AD3S = stats.anderson_ksamp([MIN_DISTANCE_HOT_DEG,\n",
      "<ipython-input-25-99da4e5d8fd9>:160: UserWarning: p-value floored: true value smaller than 0.001\n",
      "  AD1S, AD2S, AD3S = stats.anderson_ksamp([MIN_DISTANCE_HOT_DEG,\n",
      "<ipython-input-25-99da4e5d8fd9>:160: UserWarning: p-value floored: true value smaller than 0.001\n",
      "  AD1S, AD2S, AD3S = stats.anderson_ksamp([MIN_DISTANCE_HOT_DEG,\n",
      "<ipython-input-25-99da4e5d8fd9>:160: UserWarning: p-value floored: true value smaller than 0.001\n",
      "  AD1S, AD2S, AD3S = stats.anderson_ksamp([MIN_DISTANCE_HOT_DEG,\n",
      "<ipython-input-25-99da4e5d8fd9>:160: UserWarning: p-value floored: true value smaller than 0.001\n",
      "  AD1S, AD2S, AD3S = stats.anderson_ksamp([MIN_DISTANCE_HOT_DEG,\n",
      "<ipython-input-25-99da4e5d8fd9>:160: UserWarning: p-value floored: true value smaller than 0.001\n",
      "  AD1S, AD2S, AD3S = stats.anderson_ksamp([MIN_DISTANCE_HOT_DEG,\n",
      "<ipython-input-25-99da4e5d8fd9>:160: UserWarning: p-value floored: true value smaller than 0.001\n",
      "  AD1S, AD2S, AD3S = stats.anderson_ksamp([MIN_DISTANCE_HOT_DEG,\n",
      "<ipython-input-25-99da4e5d8fd9>:160: UserWarning: p-value floored: true value smaller than 0.001\n",
      "  AD1S, AD2S, AD3S = stats.anderson_ksamp([MIN_DISTANCE_HOT_DEG,\n",
      "<ipython-input-25-99da4e5d8fd9>:160: UserWarning: p-value floored: true value smaller than 0.001\n",
      "  AD1S, AD2S, AD3S = stats.anderson_ksamp([MIN_DISTANCE_HOT_DEG,\n"
     ]
    },
    {
     "name": "stdout",
     "output_type": "stream",
     "text": [
      "Random 651 out of 1000\n"
     ]
    },
    {
     "name": "stderr",
     "output_type": "stream",
     "text": [
      "<ipython-input-25-99da4e5d8fd9>:160: UserWarning: p-value floored: true value smaller than 0.001\n",
      "  AD1S, AD2S, AD3S = stats.anderson_ksamp([MIN_DISTANCE_HOT_DEG,\n",
      "<ipython-input-25-99da4e5d8fd9>:160: UserWarning: p-value floored: true value smaller than 0.001\n",
      "  AD1S, AD2S, AD3S = stats.anderson_ksamp([MIN_DISTANCE_HOT_DEG,\n",
      "<ipython-input-25-99da4e5d8fd9>:160: UserWarning: p-value floored: true value smaller than 0.001\n",
      "  AD1S, AD2S, AD3S = stats.anderson_ksamp([MIN_DISTANCE_HOT_DEG,\n",
      "<ipython-input-25-99da4e5d8fd9>:160: UserWarning: p-value floored: true value smaller than 0.001\n",
      "  AD1S, AD2S, AD3S = stats.anderson_ksamp([MIN_DISTANCE_HOT_DEG,\n",
      "<ipython-input-25-99da4e5d8fd9>:160: UserWarning: p-value floored: true value smaller than 0.001\n",
      "  AD1S, AD2S, AD3S = stats.anderson_ksamp([MIN_DISTANCE_HOT_DEG,\n",
      "<ipython-input-25-99da4e5d8fd9>:160: UserWarning: p-value floored: true value smaller than 0.001\n",
      "  AD1S, AD2S, AD3S = stats.anderson_ksamp([MIN_DISTANCE_HOT_DEG,\n",
      "<ipython-input-25-99da4e5d8fd9>:160: UserWarning: p-value floored: true value smaller than 0.001\n",
      "  AD1S, AD2S, AD3S = stats.anderson_ksamp([MIN_DISTANCE_HOT_DEG,\n",
      "<ipython-input-25-99da4e5d8fd9>:160: UserWarning: p-value floored: true value smaller than 0.001\n",
      "  AD1S, AD2S, AD3S = stats.anderson_ksamp([MIN_DISTANCE_HOT_DEG,\n"
     ]
    },
    {
     "name": "stdout",
     "output_type": "stream",
     "text": [
      "Random 661 out of 1000\n"
     ]
    },
    {
     "name": "stderr",
     "output_type": "stream",
     "text": [
      "<ipython-input-25-99da4e5d8fd9>:160: UserWarning: p-value floored: true value smaller than 0.001\n",
      "  AD1S, AD2S, AD3S = stats.anderson_ksamp([MIN_DISTANCE_HOT_DEG,\n",
      "<ipython-input-25-99da4e5d8fd9>:160: UserWarning: p-value floored: true value smaller than 0.001\n",
      "  AD1S, AD2S, AD3S = stats.anderson_ksamp([MIN_DISTANCE_HOT_DEG,\n",
      "<ipython-input-25-99da4e5d8fd9>:160: UserWarning: p-value floored: true value smaller than 0.001\n",
      "  AD1S, AD2S, AD3S = stats.anderson_ksamp([MIN_DISTANCE_HOT_DEG,\n",
      "<ipython-input-25-99da4e5d8fd9>:160: UserWarning: p-value floored: true value smaller than 0.001\n",
      "  AD1S, AD2S, AD3S = stats.anderson_ksamp([MIN_DISTANCE_HOT_DEG,\n",
      "<ipython-input-25-99da4e5d8fd9>:160: UserWarning: p-value floored: true value smaller than 0.001\n",
      "  AD1S, AD2S, AD3S = stats.anderson_ksamp([MIN_DISTANCE_HOT_DEG,\n",
      "<ipython-input-25-99da4e5d8fd9>:160: UserWarning: p-value floored: true value smaller than 0.001\n",
      "  AD1S, AD2S, AD3S = stats.anderson_ksamp([MIN_DISTANCE_HOT_DEG,\n",
      "<ipython-input-25-99da4e5d8fd9>:160: UserWarning: p-value floored: true value smaller than 0.001\n",
      "  AD1S, AD2S, AD3S = stats.anderson_ksamp([MIN_DISTANCE_HOT_DEG,\n"
     ]
    },
    {
     "name": "stdout",
     "output_type": "stream",
     "text": [
      "Random 671 out of 1000\n"
     ]
    },
    {
     "name": "stderr",
     "output_type": "stream",
     "text": [
      "<ipython-input-25-99da4e5d8fd9>:160: UserWarning: p-value floored: true value smaller than 0.001\n",
      "  AD1S, AD2S, AD3S = stats.anderson_ksamp([MIN_DISTANCE_HOT_DEG,\n",
      "<ipython-input-25-99da4e5d8fd9>:160: UserWarning: p-value floored: true value smaller than 0.001\n",
      "  AD1S, AD2S, AD3S = stats.anderson_ksamp([MIN_DISTANCE_HOT_DEG,\n",
      "<ipython-input-25-99da4e5d8fd9>:160: UserWarning: p-value floored: true value smaller than 0.001\n",
      "  AD1S, AD2S, AD3S = stats.anderson_ksamp([MIN_DISTANCE_HOT_DEG,\n",
      "<ipython-input-25-99da4e5d8fd9>:160: UserWarning: p-value floored: true value smaller than 0.001\n",
      "  AD1S, AD2S, AD3S = stats.anderson_ksamp([MIN_DISTANCE_HOT_DEG,\n",
      "<ipython-input-25-99da4e5d8fd9>:160: UserWarning: p-value floored: true value smaller than 0.001\n",
      "  AD1S, AD2S, AD3S = stats.anderson_ksamp([MIN_DISTANCE_HOT_DEG,\n"
     ]
    },
    {
     "name": "stdout",
     "output_type": "stream",
     "text": [
      "MUTATION!\n"
     ]
    },
    {
     "name": "stderr",
     "output_type": "stream",
     "text": [
      "<ipython-input-25-99da4e5d8fd9>:160: UserWarning: p-value floored: true value smaller than 0.001\n",
      "  AD1S, AD2S, AD3S = stats.anderson_ksamp([MIN_DISTANCE_HOT_DEG,\n",
      "<ipython-input-25-99da4e5d8fd9>:160: UserWarning: p-value floored: true value smaller than 0.001\n",
      "  AD1S, AD2S, AD3S = stats.anderson_ksamp([MIN_DISTANCE_HOT_DEG,\n",
      "<ipython-input-25-99da4e5d8fd9>:160: UserWarning: p-value floored: true value smaller than 0.001\n",
      "  AD1S, AD2S, AD3S = stats.anderson_ksamp([MIN_DISTANCE_HOT_DEG,\n"
     ]
    },
    {
     "name": "stdout",
     "output_type": "stream",
     "text": [
      "Random 681 out of 1000\n"
     ]
    },
    {
     "name": "stderr",
     "output_type": "stream",
     "text": [
      "<ipython-input-25-99da4e5d8fd9>:160: UserWarning: p-value floored: true value smaller than 0.001\n",
      "  AD1S, AD2S, AD3S = stats.anderson_ksamp([MIN_DISTANCE_HOT_DEG,\n",
      "<ipython-input-25-99da4e5d8fd9>:160: UserWarning: p-value floored: true value smaller than 0.001\n",
      "  AD1S, AD2S, AD3S = stats.anderson_ksamp([MIN_DISTANCE_HOT_DEG,\n",
      "<ipython-input-25-99da4e5d8fd9>:160: UserWarning: p-value floored: true value smaller than 0.001\n",
      "  AD1S, AD2S, AD3S = stats.anderson_ksamp([MIN_DISTANCE_HOT_DEG,\n",
      "<ipython-input-25-99da4e5d8fd9>:160: UserWarning: p-value floored: true value smaller than 0.001\n",
      "  AD1S, AD2S, AD3S = stats.anderson_ksamp([MIN_DISTANCE_HOT_DEG,\n",
      "<ipython-input-25-99da4e5d8fd9>:160: UserWarning: p-value floored: true value smaller than 0.001\n",
      "  AD1S, AD2S, AD3S = stats.anderson_ksamp([MIN_DISTANCE_HOT_DEG,\n",
      "<ipython-input-25-99da4e5d8fd9>:160: UserWarning: p-value floored: true value smaller than 0.001\n",
      "  AD1S, AD2S, AD3S = stats.anderson_ksamp([MIN_DISTANCE_HOT_DEG,\n",
      "<ipython-input-25-99da4e5d8fd9>:160: UserWarning: p-value floored: true value smaller than 0.001\n",
      "  AD1S, AD2S, AD3S = stats.anderson_ksamp([MIN_DISTANCE_HOT_DEG,\n",
      "<ipython-input-25-99da4e5d8fd9>:160: UserWarning: p-value floored: true value smaller than 0.001\n",
      "  AD1S, AD2S, AD3S = stats.anderson_ksamp([MIN_DISTANCE_HOT_DEG,\n",
      "<ipython-input-25-99da4e5d8fd9>:160: UserWarning: p-value floored: true value smaller than 0.001\n",
      "  AD1S, AD2S, AD3S = stats.anderson_ksamp([MIN_DISTANCE_HOT_DEG,\n",
      "<ipython-input-25-99da4e5d8fd9>:160: UserWarning: p-value floored: true value smaller than 0.001\n",
      "  AD1S, AD2S, AD3S = stats.anderson_ksamp([MIN_DISTANCE_HOT_DEG,\n"
     ]
    },
    {
     "name": "stdout",
     "output_type": "stream",
     "text": [
      "Random 691 out of 1000\n"
     ]
    },
    {
     "name": "stderr",
     "output_type": "stream",
     "text": [
      "<ipython-input-25-99da4e5d8fd9>:160: UserWarning: p-value floored: true value smaller than 0.001\n",
      "  AD1S, AD2S, AD3S = stats.anderson_ksamp([MIN_DISTANCE_HOT_DEG,\n",
      "<ipython-input-25-99da4e5d8fd9>:160: UserWarning: p-value floored: true value smaller than 0.001\n",
      "  AD1S, AD2S, AD3S = stats.anderson_ksamp([MIN_DISTANCE_HOT_DEG,\n",
      "<ipython-input-25-99da4e5d8fd9>:160: UserWarning: p-value floored: true value smaller than 0.001\n",
      "  AD1S, AD2S, AD3S = stats.anderson_ksamp([MIN_DISTANCE_HOT_DEG,\n",
      "<ipython-input-25-99da4e5d8fd9>:160: UserWarning: p-value floored: true value smaller than 0.001\n",
      "  AD1S, AD2S, AD3S = stats.anderson_ksamp([MIN_DISTANCE_HOT_DEG,\n",
      "<ipython-input-25-99da4e5d8fd9>:160: UserWarning: p-value floored: true value smaller than 0.001\n",
      "  AD1S, AD2S, AD3S = stats.anderson_ksamp([MIN_DISTANCE_HOT_DEG,\n",
      "<ipython-input-25-99da4e5d8fd9>:160: UserWarning: p-value floored: true value smaller than 0.001\n",
      "  AD1S, AD2S, AD3S = stats.anderson_ksamp([MIN_DISTANCE_HOT_DEG,\n",
      "<ipython-input-25-99da4e5d8fd9>:160: UserWarning: p-value floored: true value smaller than 0.001\n",
      "  AD1S, AD2S, AD3S = stats.anderson_ksamp([MIN_DISTANCE_HOT_DEG,\n",
      "<ipython-input-25-99da4e5d8fd9>:160: UserWarning: p-value floored: true value smaller than 0.001\n",
      "  AD1S, AD2S, AD3S = stats.anderson_ksamp([MIN_DISTANCE_HOT_DEG,\n",
      "<ipython-input-25-99da4e5d8fd9>:160: UserWarning: p-value floored: true value smaller than 0.001\n",
      "  AD1S, AD2S, AD3S = stats.anderson_ksamp([MIN_DISTANCE_HOT_DEG,\n",
      "<ipython-input-25-99da4e5d8fd9>:160: UserWarning: p-value floored: true value smaller than 0.001\n",
      "  AD1S, AD2S, AD3S = stats.anderson_ksamp([MIN_DISTANCE_HOT_DEG,\n"
     ]
    },
    {
     "name": "stdout",
     "output_type": "stream",
     "text": [
      "Random 701 out of 1000\n"
     ]
    },
    {
     "name": "stderr",
     "output_type": "stream",
     "text": [
      "<ipython-input-25-99da4e5d8fd9>:160: UserWarning: p-value floored: true value smaller than 0.001\n",
      "  AD1S, AD2S, AD3S = stats.anderson_ksamp([MIN_DISTANCE_HOT_DEG,\n",
      "<ipython-input-25-99da4e5d8fd9>:160: UserWarning: p-value floored: true value smaller than 0.001\n",
      "  AD1S, AD2S, AD3S = stats.anderson_ksamp([MIN_DISTANCE_HOT_DEG,\n",
      "<ipython-input-25-99da4e5d8fd9>:160: UserWarning: p-value floored: true value smaller than 0.001\n",
      "  AD1S, AD2S, AD3S = stats.anderson_ksamp([MIN_DISTANCE_HOT_DEG,\n",
      "<ipython-input-25-99da4e5d8fd9>:160: UserWarning: p-value floored: true value smaller than 0.001\n",
      "  AD1S, AD2S, AD3S = stats.anderson_ksamp([MIN_DISTANCE_HOT_DEG,\n",
      "<ipython-input-25-99da4e5d8fd9>:160: UserWarning: p-value floored: true value smaller than 0.001\n",
      "  AD1S, AD2S, AD3S = stats.anderson_ksamp([MIN_DISTANCE_HOT_DEG,\n",
      "<ipython-input-25-99da4e5d8fd9>:160: UserWarning: p-value floored: true value smaller than 0.001\n",
      "  AD1S, AD2S, AD3S = stats.anderson_ksamp([MIN_DISTANCE_HOT_DEG,\n",
      "<ipython-input-25-99da4e5d8fd9>:160: UserWarning: p-value floored: true value smaller than 0.001\n",
      "  AD1S, AD2S, AD3S = stats.anderson_ksamp([MIN_DISTANCE_HOT_DEG,\n"
     ]
    },
    {
     "name": "stdout",
     "output_type": "stream",
     "text": [
      "MUTATION!\n"
     ]
    },
    {
     "name": "stderr",
     "output_type": "stream",
     "text": [
      "<ipython-input-25-99da4e5d8fd9>:160: UserWarning: p-value floored: true value smaller than 0.001\n",
      "  AD1S, AD2S, AD3S = stats.anderson_ksamp([MIN_DISTANCE_HOT_DEG,\n",
      "<ipython-input-25-99da4e5d8fd9>:160: UserWarning: p-value floored: true value smaller than 0.001\n",
      "  AD1S, AD2S, AD3S = stats.anderson_ksamp([MIN_DISTANCE_HOT_DEG,\n",
      "<ipython-input-25-99da4e5d8fd9>:160: UserWarning: p-value floored: true value smaller than 0.001\n",
      "  AD1S, AD2S, AD3S = stats.anderson_ksamp([MIN_DISTANCE_HOT_DEG,\n"
     ]
    },
    {
     "name": "stdout",
     "output_type": "stream",
     "text": [
      "Random 711 out of 1000\n"
     ]
    },
    {
     "name": "stderr",
     "output_type": "stream",
     "text": [
      "<ipython-input-25-99da4e5d8fd9>:160: UserWarning: p-value floored: true value smaller than 0.001\n",
      "  AD1S, AD2S, AD3S = stats.anderson_ksamp([MIN_DISTANCE_HOT_DEG,\n",
      "<ipython-input-25-99da4e5d8fd9>:160: UserWarning: p-value floored: true value smaller than 0.001\n",
      "  AD1S, AD2S, AD3S = stats.anderson_ksamp([MIN_DISTANCE_HOT_DEG,\n",
      "<ipython-input-25-99da4e5d8fd9>:160: UserWarning: p-value floored: true value smaller than 0.001\n",
      "  AD1S, AD2S, AD3S = stats.anderson_ksamp([MIN_DISTANCE_HOT_DEG,\n",
      "<ipython-input-25-99da4e5d8fd9>:160: UserWarning: p-value floored: true value smaller than 0.001\n",
      "  AD1S, AD2S, AD3S = stats.anderson_ksamp([MIN_DISTANCE_HOT_DEG,\n",
      "<ipython-input-25-99da4e5d8fd9>:160: UserWarning: p-value floored: true value smaller than 0.001\n",
      "  AD1S, AD2S, AD3S = stats.anderson_ksamp([MIN_DISTANCE_HOT_DEG,\n",
      "<ipython-input-25-99da4e5d8fd9>:160: UserWarning: p-value floored: true value smaller than 0.001\n",
      "  AD1S, AD2S, AD3S = stats.anderson_ksamp([MIN_DISTANCE_HOT_DEG,\n",
      "<ipython-input-25-99da4e5d8fd9>:160: UserWarning: p-value floored: true value smaller than 0.001\n",
      "  AD1S, AD2S, AD3S = stats.anderson_ksamp([MIN_DISTANCE_HOT_DEG,\n",
      "<ipython-input-25-99da4e5d8fd9>:160: UserWarning: p-value floored: true value smaller than 0.001\n",
      "  AD1S, AD2S, AD3S = stats.anderson_ksamp([MIN_DISTANCE_HOT_DEG,\n"
     ]
    },
    {
     "name": "stdout",
     "output_type": "stream",
     "text": [
      "Random 721 out of 1000\n"
     ]
    },
    {
     "name": "stderr",
     "output_type": "stream",
     "text": [
      "<ipython-input-25-99da4e5d8fd9>:160: UserWarning: p-value floored: true value smaller than 0.001\n",
      "  AD1S, AD2S, AD3S = stats.anderson_ksamp([MIN_DISTANCE_HOT_DEG,\n"
     ]
    },
    {
     "ename": "IndexError",
     "evalue": "list index out of range",
     "output_type": "error",
     "traceback": [
      "\u001b[0;31m---------------------------------------------------------------------------\u001b[0m",
      "\u001b[0;31mIndexError\u001b[0m                                Traceback (most recent call last)",
      "\u001b[0;32m<ipython-input-25-99da4e5d8fd9>\u001b[0m in \u001b[0;36m<module>\u001b[0;34m\u001b[0m\n\u001b[1;32m    129\u001b[0m \u001b[0;34m\u001b[0m\u001b[0m\n\u001b[1;32m    130\u001b[0m \u001b[0;34m\u001b[0m\u001b[0m\n\u001b[0;32m--> 131\u001b[0;31m         \u001b[0mrandom_pdist2hot\u001b[0m \u001b[0;34m=\u001b[0m \u001b[0mrun_random_sampling\u001b[0m\u001b[0;34m(\u001b[0m\u001b[0mnumKimbs\u001b[0m\u001b[0;34m,\u001b[0m\u001b[0mAge\u001b[0m\u001b[0;34m,\u001b[0m\u001b[0mDistancetoHot\u001b[0m\u001b[0;34m,\u001b[0m\u001b[0mCalcOutputDir\u001b[0m\u001b[0;34m)\u001b[0m\u001b[0;34m\u001b[0m\u001b[0;34m\u001b[0m\u001b[0m\n\u001b[0m\u001b[1;32m    132\u001b[0m \u001b[0;34m\u001b[0m\u001b[0m\n\u001b[1;32m    133\u001b[0m         \u001b[0;32mif\u001b[0m \u001b[0mlen\u001b[0m\u001b[0;34m(\u001b[0m\u001b[0mrandom_pdist2hot\u001b[0m\u001b[0;34m)\u001b[0m \u001b[0;34m>\u001b[0m \u001b[0;36m0\u001b[0m\u001b[0;34m:\u001b[0m\u001b[0;34m\u001b[0m\u001b[0;34m\u001b[0m\u001b[0m\n",
      "\u001b[0;32m<ipython-input-22-70a9bf83e8c8>\u001b[0m in \u001b[0;36mrun_random_sampling\u001b[0;34m(nPoints, age, dist_to_hot_nc_file, CalcOutputDir)\u001b[0m\n\u001b[1;32m     64\u001b[0m     \u001b[0;31m# for the point locations of interest, sample the distance grids\u001b[0m\u001b[0;34m\u001b[0m\u001b[0;34m\u001b[0m\u001b[0;34m\u001b[0m\u001b[0m\n\u001b[1;32m     65\u001b[0m     \u001b[0;31m# (and the original cluster boolean grid as a sanity check)\u001b[0m\u001b[0;34m\u001b[0m\u001b[0;34m\u001b[0m\u001b[0;34m\u001b[0m\u001b[0m\n\u001b[0;32m---> 66\u001b[0;31m     \u001b[0mrandom_pdist2hot\u001b[0m \u001b[0;34m=\u001b[0m \u001b[0msample_using_gmt\u001b[0m\u001b[0;34m(\u001b[0m\u001b[0mdist_to_hot_nc_file\u001b[0m\u001b[0;34m,\u001b[0m \u001b[0mRandomPoints_Lons\u001b[0m\u001b[0;34m,\u001b[0m \u001b[0mRandomPoints_Lats\u001b[0m\u001b[0;34m,\u001b[0m\u001b[0mCalcOutputDir\u001b[0m\u001b[0;34m)\u001b[0m\u001b[0;34m\u001b[0m\u001b[0;34m\u001b[0m\u001b[0m\n\u001b[0m\u001b[1;32m     67\u001b[0m \u001b[0;31m#     random_cluster_bool = sample_using_gmt(cluster_nc_file, RandomPoints_Lons, RandomPoints_Lats)\u001b[0m\u001b[0;34m\u001b[0m\u001b[0;34m\u001b[0m\u001b[0;34m\u001b[0m\u001b[0m\n\u001b[1;32m     68\u001b[0m \u001b[0;34m\u001b[0m\u001b[0m\n",
      "\u001b[0;32m<ipython-input-18-81809ee670dc>\u001b[0m in \u001b[0;36msample_using_gmt\u001b[0;34m(grdfile, point_lons, point_lats, OutputDirectory)\u001b[0m\n\u001b[1;32m     23\u001b[0m                 \u001b[0;32melse\u001b[0m\u001b[0;34m:\u001b[0m\u001b[0;34m\u001b[0m\u001b[0;34m\u001b[0m\u001b[0m\n\u001b[1;32m     24\u001b[0m                     \u001b[0mtmp\u001b[0m \u001b[0;34m=\u001b[0m \u001b[0mline\u001b[0m\u001b[0;34m.\u001b[0m\u001b[0msplit\u001b[0m\u001b[0;34m(\u001b[0m\u001b[0;34m)\u001b[0m\u001b[0;34m\u001b[0m\u001b[0;34m\u001b[0m\u001b[0m\n\u001b[0;32m---> 25\u001b[0;31m                     \u001b[0mG\u001b[0m\u001b[0;34m.\u001b[0m\u001b[0mappend\u001b[0m\u001b[0;34m(\u001b[0m\u001b[0mfloat\u001b[0m\u001b[0;34m(\u001b[0m\u001b[0mtmp\u001b[0m\u001b[0;34m[\u001b[0m\u001b[0;36m2\u001b[0m\u001b[0;34m]\u001b[0m\u001b[0;34m)\u001b[0m\u001b[0;34m)\u001b[0m\u001b[0;34m\u001b[0m\u001b[0;34m\u001b[0m\u001b[0m\n\u001b[0m\u001b[1;32m     26\u001b[0m \u001b[0;34m\u001b[0m\u001b[0m\n\u001b[1;32m     27\u001b[0m         \u001b[0mf\u001b[0m\u001b[0;34m.\u001b[0m\u001b[0mclose\u001b[0m\u001b[0;34m(\u001b[0m\u001b[0;34m)\u001b[0m\u001b[0;34m\u001b[0m\u001b[0;34m\u001b[0m\u001b[0m\n",
      "\u001b[0;31mIndexError\u001b[0m: list index out of range"
     ]
    },
    {
     "data": {
      "image/png": "[encoded data removed]",
      "text/plain": [
       "<Figure size 432x288 with 1 Axes>"
      ]
     },
     "metadata": {
      "needs_background": "light"
     },
     "output_type": "display_data"
    },
    {
     "data": {
      "image/png": "[encoded data removed]",
      "text/plain": [
       "<Figure size 432x288 with 1 Axes>"
      ]
     },
     "metadata": {
      "needs_background": "light"
     },
     "output_type": "display_data"
    },
    {
     "data": {
      "image/png": "[encoded data removed]",
      "text/plain": [
       "<Figure size 432x288 with 1 Axes>"
      ]
     },
     "metadata": {
      "needs_background": "light"
     },
     "output_type": "display_data"
    }
   ],
   "source": [
    "# root_dir = '/Users/omer/Documents/Programming/PyGplates/Supplement/Latest/'\n",
    "# grid_dir = '/Users/omer/Documents/Programming/PyGplates/Supplement/Latest/'\n",
    "# solid_plot_dir = '/Users/omer/Documents/Programming/PyGplates/Supplement/Latest/solid'\n",
    "KimberlitesFile='/Users/omer/Desktop/NatGeoReviews/Kimberlites/Tappe-et-al-2018-EPSL-Kimberlite_emplacement_ages-automatic-part1-with-locations-with-plate-IDs.gpml'\n",
    "pc = pygplates.FeatureCollection(KimberlitesFile)\n",
    "window = 10\n",
    "# Tmin = int(160)\n",
    "# Tmax = int(320)\n",
    "# Tmax = int(180)\n",
    "\n",
    "CalcOutputDir=\"/Users/omer/Desktop/NatGeoReviews/Statistical-Analysis/Flow-Model-Stats/Case3/UpperMantle/\"\n",
    "grid_dir=\"/Users/omer/Desktop/NatGeoReviews/Flow-Models/Case3/\"\n",
    "OutputDirect=\"/Users/omer/Desktop/NatGeoReviews/Statistical-Analysis/Flow-Model-Stats/Case3/UpperMantle/\"\n",
    "FlowModelN=\"Case3_UpperMantle\"\n",
    "\n",
    "\n",
    "# if not os.path.exists(output_dir):\n",
    "#     os.makedirs(output_dir)   \n",
    "\n",
    "recon_label = 'M21-NNR'\n",
    "ReconstructionDir='/Users/omer/Desktop/NatGeoReviews/Reconstruction_Models/M21NNR/'\n",
    "cratonFile=ReconstructionDir+\"shapes_cratons_Merdith_et_al.gpml\"\n",
    "cratons = pygplates.FeatureCollection(cratonFile)    \n",
    "\n",
    "input_rotation_filename1 = '%s/1000-410_rotations-NNR.rot' % ReconstructionDir\n",
    "input_rotation_filename2 = '%s/Global_EB_410-250Ma_GK07_2017-NNR.rot' % ReconstructionDir\n",
    "input_rotation_filename3 = '%s/Global_EB_250-0Ma_GK07_2017-NNR.rot' % ReconstructionDir\n",
    "input_rotation_filename4 = '%s/NR_0Ma_1000Ma_for_gplates.rot' % ReconstructionDir\n",
    "rotation_model = pygplates.RotationModel([input_rotation_filename1,input_rotation_filename2,\\\n",
    "                                          input_rotation_filename3,input_rotation_filename4])\n",
    "\n",
    "\n",
    "\n",
    "\n",
    "# fig2, ax2 = plt.subplots()\n",
    "nTests=1000\n",
    "\n",
    "for Age in np.arange(200,20,-20):\n",
    "    fig, ax = plt.subplots()\n",
    "    age = int(Age)\n",
    "    print(Age, 'Ma')\n",
    "    agemax = age+window\n",
    "    agemin = age-window\n",
    "\n",
    "    point_lats = []\n",
    "    point_lons = []\n",
    "    \n",
    "    MIN_DISTANCE_HOT_DEG=[]\n",
    "    MIN_SOLID_DISTANCE_DEG = []\n",
    "    MIN_DISTANCE_HOT_DEG = []\n",
    "    MIN_DISTANCE_HOT_DEG_STD = []\n",
    "\n",
    "    DistancetoHot=\"%s/%s_%d_Ma_Distance_to_Hot.nc\" %(CalcOutputDir,FlowModelN,Age)\n",
    "    ANCHOR_ID=int(0)    \n",
    "    point_lons, point_lats = get_volcanic_product_long_lat(rotation_model,ANCHOR_ID,age,window,pc)\n",
    "\n",
    "    pdist2hot = sample_using_gmt(DistancetoHot, point_lons, point_lats,CalcOutputDir)\n",
    "    \n",
    "    if len(pdist2hot) > 0:\n",
    "\n",
    "#         CUMULATIVE_MIN_DISTANCE_HOT_DEG.extend(pdist2hot)\n",
    "        MIN_DISTANCE_HOT_DEG=pdist2hot\n",
    "        MIN_DISTANCE_HOT_DEG_STD=np.std(pdist2hot)\n",
    "        \n",
    "#     print(CUMULATIVE_MIN_DISTANCE_HOT_DEG_STD)\n",
    "    \n",
    "    MEAN_MIN_SOLID_DISTANCE_DEG = []\n",
    "    \n",
    "    MEDIAN_MIN_SOLID_DISTANCE_DEG = []\n",
    "\n",
    "    MEAN_MIN_SOLID_DISTANCE_DEG = np.mean(np.array(MIN_DISTANCE_HOT_DEG),axis=0)\n",
    "    print(MEAN_MIN_SOLID_DISTANCE_DEG,'is the mean of the sample')\n",
    "    \n",
    "    # Calculate how many points are on Hot Structures -->\n",
    "    k=np.asarray(MIN_DISTANCE_HOT_DEG)\n",
    "    k=np.where(k<0.01,0.0,k)\n",
    "    # np.where(np.asarray(CUMULATIVE_MIN_SOLID_DISTANCE_DEG) < 0.5)\n",
    "    NumberOfPointsOnCold=np.count_nonzero(np.asarray(k))\n",
    "    FractionOfPointsOnHotSOLIDCASE=100.0*(float(len(MIN_DISTANCE_HOT_DEG))-NumberOfPointsOnCold)/float(len(MIN_DISTANCE_HOT_DEG))\n",
    "    print(FractionOfPointsOnHotSOLIDCASE,'% of the points are on Hot Structures')\n",
    "    # --->\n",
    "    \n",
    "    MEDIAN_MIN_SOLID_DISTANCE_DEG = np.median(np.array(MIN_DISTANCE_HOT_DEG),axis=0)\n",
    "    CalcOutputDir=\"/Users/omer/Desktop/NatGeoReviews/Statistical-Analysis/Flow-Model-Stats/Case3/UpperMantle/\"\n",
    "\n",
    "\n",
    "    #work out the random test\n",
    "    ALL_MIN_RANDOM_SOLID_DISTANCE_DEG = []\n",
    "\n",
    "    MEAN_MIN_RANDOM_SOLID_DISTANCE_DEG = []\n",
    "    \n",
    "    STD_MIN_RANDOM_SOLID_DISTANCE_DEG = []\n",
    "    \n",
    "    ALL_MIN_RANDOM_SOLID_DISTANCE_DEG_SORTED =[]\n",
    "    \n",
    "    ANDERSON_DARLING_STAT_ALL_RANDOM_SAMPLES_SOLID = []\n",
    "    ANDERSON_DARLING_CONFIDENCE_ALL_RANDOM_SAMPLES_SOLID = []\n",
    "    ANDERSON_DARLING_FIVE_PERCENT_ALL_RANDOM_SAMPLES_SOLID = []\n",
    "    \n",
    "    MEDIANS_ALL_RANDOM_SAMPLES_SOLID = []\n",
    "    \n",
    "    MEANS_ALL_RANDOM_SAMPLES_SOLID = []\n",
    "    FRACTION_ANDERSON_DARLING_ALL_MODELS_SOLID_conf=[]\n",
    "    FRACTION_ANDERSON_DARLING_ALL_MODELS_SOLID_5pc=[]\n",
    "    FRACTION_SMALLER_MEDIANS_ALL_MODELS_SOLID=[]\n",
    "    FRACTION_SMALLER_MEANS_ALL_MODELS_SOLID=[]\n",
    "    FRACTION_MEDIANS_AD_ALL_MODELS_SOLID=[]\n",
    "    FRACTION_MEANS_AD_ALL_MODELS_SOLID=[]\n",
    "    MEAN_MEDIANS_ALL_MODELS_SOLID=[]\n",
    "    MEDIAN_ALL_MODELS_SOLID=[]\n",
    "    MEDIAN_RANDOM_TEST_ALL_MODELS_SOLID=[]\n",
    "    CumulativeRand=[]\n",
    "\n",
    "    numKimbs=int(len(MIN_DISTANCE_HOT_DEG))\n",
    "    print(numKimbs)\n",
    "    KOLMOGOROV_ALL_RANDOM_SAMPLES_SOLID_stat_two_sided=[]\n",
    "    KOLMOGOROV_ALL_RANDOM_SAMPLES_SOLID_pval_two_sided=[]\n",
    "    \n",
    "    FRACTION_KOLMOGOROV_ALL_MODELS_SOLID_stat_two_sided=[]\n",
    "    FRACTION_KOLMOGOROV_ALL_MODELS_SOLID_pval_two_sided=[]\n",
    "    for m in range(nTests):\n",
    "        \n",
    "        if m % 10 == 0:\n",
    "            print('Random', m+1, 'out of', nTests)\n",
    "        \n",
    "        MIN_RANDOM_DISTANCE_TO_HOT = []\n",
    "        MIN_RANDOM_DISTANCE_TO_HOT_DEG = []\n",
    "        MIN_RANDOM_SOLID_DISTANCE_DEG = []\n",
    "    \n",
    "        \n",
    "        random_pdist2hot = run_random_sampling(numKimbs,Age,DistancetoHot,CalcOutputDir)\n",
    "        \n",
    "        if len(random_pdist2hot) > 0:\n",
    "\n",
    "            MIN_RANDOM_DISTANCE_TO_HOT.extend(random_pdist2hot)\n",
    "\n",
    "        MIN_RANDOM_SOLID_DISTANCE_DEG = MIN_RANDOM_DISTANCE_TO_HOT\n",
    "        \n",
    "        \n",
    "        if(len(MIN_DISTANCE_HOT_DEG)==len(random_pdist2hot)):\n",
    "            ALL_MIN_RANDOM_SOLID_DISTANCE_DEG.append(MIN_RANDOM_DISTANCE_TO_HOT)        \n",
    "        else:\n",
    "            print('MUTATION!')\n",
    "#             random_pdist2hot = run_random_sampling(numKimbs,Age,DistancetoHot,CalcOutputDir)\n",
    "    \n",
    "            ALL_MIN_RANDOM_SOLID_DISTANCE_DEG=ALL_MIN_RANDOM_SOLID_DISTANCE_DEG\n",
    "\n",
    "        MEANS_ALL_RANDOM_SAMPLES_SOLID.append(np.mean(np.array(MIN_RANDOM_SOLID_DISTANCE_DEG),axis=0))\n",
    "       \n",
    "        MEDIANS_ALL_RANDOM_SAMPLES_SOLID.append(np.median(np.array(MIN_RANDOM_SOLID_DISTANCE_DEG),axis=0))\n",
    " \n",
    "        #plot the cumulative histogram\n",
    "        n, bins, patches = ax.hist(MIN_RANDOM_SOLID_DISTANCE_DEG, bins='fd', density=True, histtype='step',\n",
    "                                cumulative=True, color='grey', linewidth=0.2, zorder=1,alpha=0.20)\n",
    "\n",
    "        patches[0].set_xy(patches[0].get_xy()[:-1])\n",
    "        \n",
    "        \n",
    "       \n",
    "        AD1S, AD2S, AD3S = stats.anderson_ksamp([MIN_DISTANCE_HOT_DEG, \n",
    "                                                 MIN_RANDOM_SOLID_DISTANCE_DEG])\n",
    "        \n",
    "        \n",
    "        ANDERSON_DARLING_STAT_ALL_RANDOM_SAMPLES_SOLID.append(AD1S)\n",
    "        ANDERSON_DARLING_CONFIDENCE_ALL_RANDOM_SAMPLES_SOLID.append(AD3S)\n",
    "#         print(AD3S, \"... confidence level\")\n",
    "        ANDERSON_DARLING_FIVE_PERCENT_ALL_RANDOM_SAMPLES_SOLID.append(AD2S[2])\n",
    "    \n",
    "        KS1tS, KS2tS = stats.ks_2samp(MIN_DISTANCE_HOT_DEG, MIN_RANDOM_SOLID_DISTANCE_DEG,\n",
    "                                      alternative='two-sided', mode='exact')\n",
    "\n",
    "        KOLMOGOROV_ALL_RANDOM_SAMPLES_SOLID_stat_two_sided.append(KS1tS)\n",
    "        KOLMOGOROV_ALL_RANDOM_SAMPLES_SOLID_pval_two_sided.append(KS2tS)\n",
    "        \n",
    "    #work out the fraction of random tests for which the null hypothesis cannot be rejected,\n",
    "    #i.e. the sample distribution significantly differs from the random distribution\n",
    "    ADFS_conf=float(sum(i < 0.05 for i in ANDERSON_DARLING_CONFIDENCE_ALL_RANDOM_SAMPLES_SOLID))/float(len(ANDERSON_DARLING_CONFIDENCE_ALL_RANDOM_SAMPLES_SOLID))\n",
    "    \n",
    "    ADFS_conf_0_25=float(sum(i < 0.25 for i in ANDERSON_DARLING_CONFIDENCE_ALL_RANDOM_SAMPLES_SOLID))/float(len(ANDERSON_DARLING_CONFIDENCE_ALL_RANDOM_SAMPLES_SOLID))\n",
    "    print(ADFS_conf,ADFS_conf_0_25, \" are ADFS_conf and ADFS_conf_0_25\")\n",
    "\n",
    "    count_ADS=0\n",
    "    for k in range(len(ANDERSON_DARLING_STAT_ALL_RANDOM_SAMPLES_SOLID)):\n",
    "        if ANDERSON_DARLING_STAT_ALL_RANDOM_SAMPLES_SOLID[k]>ANDERSON_DARLING_FIVE_PERCENT_ALL_RANDOM_SAMPLES_SOLID[k]:\n",
    "            count_ADS+=1\n",
    "    \n",
    "    ADFS_5pc=float(float(count_ADS)/float(len(ANDERSON_DARLING_FIVE_PERCENT_ALL_RANDOM_SAMPLES_SOLID)))\n",
    "        \n",
    "\n",
    "    FRACTION_ANDERSON_DARLING_ALL_MODELS_SOLID_conf_25pc=[]\n",
    "    \n",
    "    FRACTION_ANDERSON_DARLING_ALL_MODELS_SOLID_conf.append(ADFS_conf)\n",
    "    FRACTION_ANDERSON_DARLING_ALL_MODELS_SOLID_5pc.append(ADFS_5pc)\n",
    "    FRACTION_ANDERSON_DARLING_ALL_MODELS_SOLID_conf_25pc.append(ADFS_conf_0_25)\n",
    "    \n",
    "\n",
    "    p=0.05\n",
    "    \n",
    "    n=int(len(MIN_DISTANCE_HOT_DEG))\n",
    "    \n",
    "    if(n==19):\n",
    "        KScritNEW=0.1280\n",
    "        print(\"n=19\")\n",
    "    elif(n==12):\n",
    "        KScritNEW=0.1287\n",
    "        print(\"n=12\")\n",
    "    else:\n",
    "        KScritNEW=math.sqrt(-1.0*(math.log(1-p))/2.0) -(1.0/6.0)*n**(-1.0/2.0) +1/n\n",
    "        print(\"n>30\")\n",
    "   \n",
    "    KSFS_stat_two_sided=float(sum(i > KScritNEW for i in KOLMOGOROV_ALL_RANDOM_SAMPLES_SOLID_stat_two_sided))/float(len(KOLMOGOROV_ALL_RANDOM_SAMPLES_SOLID_stat_two_sided))\n",
    "\n",
    "    KSFS_pval_two_sided=float(sum(i < 0.05 for i in KOLMOGOROV_ALL_RANDOM_SAMPLES_SOLID_pval_two_sided))/float(len(KOLMOGOROV_ALL_RANDOM_SAMPLES_SOLID_pval_two_sided))\n",
    "    \n",
    "    countSmean_KS=0\n",
    "    for l in range(nTests):\n",
    "        \n",
    "        #find the number of successful tests for the solid case\n",
    "#         if KOLMOGOROV_ALL_RANDOM_SAMPLES_SOLID_stat_two_sided[l] < KScritNEW \\\n",
    "#         or KOLMOGOROV_ALL_RANDOM_SAMPLES_SOLID_pval_two_sided[l] > 0.05:\n",
    "#             countSmean_KS+=1\n",
    "        \n",
    "        if (KOLMOGOROV_ALL_RANDOM_SAMPLES_SOLID_stat_two_sided[l] < KScritNEW):\n",
    "            countSmean_KS+=1\n",
    "        \n",
    "    FRACTION_KS_Crit=float(1.0- countSmean_KS/nTests)\n",
    "    \n",
    "    countSmean_KS=0\n",
    "    for l in range(nTests):\n",
    "        \n",
    "        if KOLMOGOROV_ALL_RANDOM_SAMPLES_SOLID_stat_two_sided[l] < KScritNEW \\\n",
    "        or KOLMOGOROV_ALL_RANDOM_SAMPLES_SOLID_pval_two_sided[l] > 0.05:\n",
    "            countSmean_KS+=1\n",
    "     \n",
    "    FRACTION_KS_Crit_TwoCond=float(1.0- countSmean_KS/nTests)        \n",
    "    \n",
    "   #\n",
    "#     ADFS_conf=float(sum(i < 0.05 for i in ANDERSON_DARLING_CONFIDENCE_ALL_RANDOM_SAMPLES_SOLID))/float(len(ANDERSON_DARLING_CONFIDENCE_ALL_RANDOM_SAMPLES_SOLID))\n",
    "    \n",
    "#     count_ADS=0\n",
    "#     for k in range(len(ANDERSON_DARLING_STAT_ALL_RANDOM_SAMPLES_SOLID)):\n",
    "#         if ANDERSON_DARLING_STAT_ALL_RANDOM_SAMPLES_SOLID[k]>ANDERSON_DARLING_FIVE_PERCENT_ALL_RANDOM_SAMPLES_SOLID[k]:\n",
    "#             count_ADS+=1\n",
    "    \n",
    "#     ADFS_5pc=float(float(count_ADS)/float(len(ANDERSON_DARLING_FIVE_PERCENT_ALL_RANDOM_SAMPLES_SOLID)))\n",
    "    \n",
    "#     FRACTION_ANDERSON_DARLING_ALL_MODELS_SOLID_conf.append(ADFS_conf)\n",
    "#     FRACTION_ANDERSON_DARLING_ALL_MODELS_SOLID_5pc.append(ADFS_5pc)\n",
    "    \n",
    "    \n",
    "    #work out the fraction of random tests for which the median distance is greater than\n",
    "    #in the sample distribution, i.e. sample points are closer to basal structures than\n",
    "    #random points\n",
    "    \n",
    "    FRACTION_KOLMOGOROV_ALL_MODELS_SOLID_stat_two_sided.append(KSFS_stat_two_sided)\n",
    "    \n",
    "    \n",
    "    FRACTION_KOLMOGOROV_ALL_MODELS_SOLID_pval_two_sided.append(KSFS_pval_two_sided)\n",
    "\n",
    "\n",
    "    \n",
    "    #work out the fraction of random tests for which the median distance is greater than\n",
    "    #in the sample distribution, i.e. sample points are closer to basal structures than\n",
    "    #random points\n",
    "    \n",
    "    FRACTION_SMALLER_MEDIANS_SOLID=float(sum(abs(i) > abs(MEDIAN_MIN_SOLID_DISTANCE_DEG) for i in MEDIANS_ALL_RANDOM_SAMPLES_SOLID))/float(len(MEDIANS_ALL_RANDOM_SAMPLES_SOLID))\n",
    "   \n",
    "    FRACTION_SMALLER_MEDIANS_ALL_MODELS_SOLID.append(FRACTION_SMALLER_MEDIANS_SOLID)\n",
    "   \n",
    "    FRACTION_SMALLER_MEANS_SOLID = float(sum(i > MEAN_MIN_SOLID_DISTANCE_DEG for i in MEANS_ALL_RANDOM_SAMPLES_SOLID))/float(len(MEANS_ALL_RANDOM_SAMPLES_SOLID))\n",
    "   \n",
    "    FRACTION_SMALLER_MEANS_ALL_MODELS_SOLID.append(FRACTION_SMALLER_MEANS_SOLID)\n",
    "    \n",
    "    \n",
    "    countSmean=0 # \n",
    "#     countEmean=0\n",
    "    countSmedian=0\n",
    "    countSmeanWeak=0\n",
    "#     countEmedian=0\n",
    "    for l in range(nTests):\n",
    "        if MEANS_ALL_RANDOM_SAMPLES_SOLID[l] >= MEAN_MIN_SOLID_DISTANCE_DEG \\\n",
    "        and ANDERSON_DARLING_STAT_ALL_RANDOM_SAMPLES_SOLID[l]>ANDERSON_DARLING_FIVE_PERCENT_ALL_RANDOM_SAMPLES_SOLID[l]:\n",
    "            countSmean+=1\n",
    "            \n",
    "        if ANDERSON_DARLING_STAT_ALL_RANDOM_SAMPLES_SOLID[l]>ANDERSON_DARLING_FIVE_PERCENT_ALL_RANDOM_SAMPLES_SOLID[l]:\n",
    "            countSmeanWeak+=1    \n",
    "                \n",
    "        if abs(MEDIANS_ALL_RANDOM_SAMPLES_SOLID[l]) >= abs(MEDIAN_MIN_SOLID_DISTANCE_DEG) \\\n",
    "        and ANDERSON_DARLING_STAT_ALL_RANDOM_SAMPLES_SOLID[l]>ANDERSON_DARLING_FIVE_PERCENT_ALL_RANDOM_SAMPLES_SOLID[l]:\n",
    "            countSmedian+=1\n",
    "            \n",
    "    FRACTION_MEANS_AD_SOLID=float(float(countSmean)/float(nTests))\n",
    "    FRACTION_MEANS_AD_SOLIDWeak=float(float(countSmeanWeak)/float(nTests))\n",
    "    FRACTION_MEANS_AD_ALL_MODELS_SOLID.append(FRACTION_MEANS_AD_SOLID)\n",
    "\n",
    "    FRACTION_MEDIANS_AD_SOLID=float(float(countSmedian)/float(nTests))\n",
    "    FRACTION_MEDIANS_AD_ALL_MODELS_SOLID.append(FRACTION_MEDIANS_AD_SOLID)\n",
    "    \n",
    "#     print((100.0*float(countSmean)/nTests),' % of the time mean of the sample is less than random-Solid and Significantly Differs From Random')\n",
    "    \n",
    "    MEAN_MEDIANS_ALL_MODELS_SOLID.append(np.mean(np.array(MEDIANS_ALL_RANDOM_SAMPLES_SOLID),axis=0))\n",
    "    \n",
    "    #work out mean and median for the average of random samples for the solid case\n",
    "    MEAN_MEAN_MIN_RANDOM_SOLID_DISTANCE_DEG = []\n",
    "    MEDIAN_MEAN_MIN_RANDOM_SOLID_DISTANCE_DEG = []\n",
    "    \n",
    "    ALL_MIN_RANDOM_SOLID_DISTANCE_DEG_SORTED=np.sort(ALL_MIN_RANDOM_SOLID_DISTANCE_DEG, axis=-1,kind='stable')\n",
    "    MEAN_MIN_RANDOM_SOLID_DISTANCE_DEG = np.mean(np.array(ALL_MIN_RANDOM_SOLID_DISTANCE_DEG_SORTED),axis=0)\n",
    "\n",
    "#     below are the actual mim-max range\n",
    "    MIN_MIN_RANDOM_SOLID_DISTANCE_DEG = np.amin(np.array(ALL_MIN_RANDOM_SOLID_DISTANCE_DEG_SORTED), axis=0)\n",
    "    MAX_MIN_RANDOM_SOLID_DISTANCE_DEG = np.amax(np.array(ALL_MIN_RANDOM_SOLID_DISTANCE_DEG_SORTED), axis=0)\n",
    "    \n",
    "    MEAN_MEAN_MIN_RANDOM_SOLID_DISTANCE_DEG = np.mean(np.array(MEAN_MIN_RANDOM_SOLID_DISTANCE_DEG),axis=0)\n",
    "    MEDIAN_MEAN_MIN_RANDOM_SOLID_DISTANCE_DEG = np.median(np.array(MEAN_MIN_RANDOM_SOLID_DISTANCE_DEG),axis=0)\n",
    "            \n",
    "    MEDIAN_ALL_MODELS_SOLID.append(MEDIAN_MIN_SOLID_DISTANCE_DEG)\n",
    "    MEDIAN_RANDOM_TEST_ALL_MODELS_SOLID.append(MEDIAN_MEAN_MIN_RANDOM_SOLID_DISTANCE_DEG)\n",
    "    \n",
    "    \n",
    "    \n",
    "    \n",
    "    \n",
    "    # plot the cumulative histogram\n",
    "    n6, bins6, patches6 = ax.hist(MEAN_MIN_RANDOM_SOLID_DISTANCE_DEG, bins='fd', density=True, histtype='step',\n",
    "                            cumulative=True, label='Mean-Random', color='black', linewidth=3, zorder=4)\n",
    "    \n",
    "    patches6[0].set_xy(patches6[0].get_xy()[:-1])\n",
    "    \n",
    "    #plot the cumulative histogram\n",
    "#     a=np.asarray(MIN_SOLID_DISTANCE_DEG)\n",
    "    a=np.asarray(MIN_DISTANCE_HOT_DEG)\n",
    "    a=a.round(4)\n",
    "    \n",
    "    n7, bins7, patches7 = ax.hist(a, bins='fd', density=True, histtype='step',\n",
    "                            cumulative=True, label='Case3 Upper-Mantle', color='red', linewidth=3, zorder=5)\n",
    "        \n",
    "    patches7[0].set_xy(patches7[0].get_xy()[:-1])\n",
    "    \n",
    "    # tidy up the figure\n",
    "\n",
    "    #ax.grid(True)\n",
    "#     ax.grid()\n",
    "    ax.grid(zorder=0,linestyle='--', color='lightgrey')\n",
    "#     ax.legend(loc='lower right')\n",
    "    ax.set_xlim(0,20)\n",
    "    #ax.set_title('Cumulative step histograms')\n",
    "    ax.set_xlabel('Minimum angular distance ($\\degree$)')\n",
    "    ax.set_ylabel('Cumulative probability')\n",
    "#     ax.set_title('{:s} (Solid)'.format(model_case))\n",
    "\n",
    "    textstr = '\\n'.join((\n",
    "        r'Age= %i Ma' %(Age,),\n",
    "        r'n=%i' %(numKimbs,),\n",
    "        r'$\\overline{\\theta}_{Sample}=%.2f\\degree$' % (MEAN_MIN_SOLID_DISTANCE_DEG, ),\n",
    "        r'$\\overline{\\theta}_{Random}=%.2f\\degree$' %(np.mean(MEANS_ALL_RANDOM_SAMPLES_SOLID), ),\n",
    "        r'$f_{K-S}=%.2f$' %(FRACTION_KS_Crit), # based on critical val.\n",
    "        r'$f_{A-D}=%.2f$' %(ADFS_conf))) # 5 percent sig.\n",
    "\n",
    "\n",
    "#         r'${\\kappa}_{\\bar{\\theta}}=%.2f$' % (FRACTION_SMALLER_MEANS_SOLID, )))\n",
    "    props = dict(boxstyle='round', facecolor='white', alpha=0.80,edgecolor='lightgrey')\n",
    "    #ax.grid(True)\n",
    "#     ax.grid(zorder=0,linestyle='--', color='lightgrey')\n",
    "    # Create new legend handles but use the colors from the existing ones\n",
    "    handles, labels = ax.get_legend_handles_labels()\n",
    "    new_handles = [Line2D([], [], c=h.get_edgecolor()) for h in handles]\n",
    "    ax.legend(handles=new_handles[::-1], labels=labels[::-1], loc='lower left')\n",
    "    ax.text(0.65, 0.10, textstr, transform=ax.transAxes, fontsize=12,\n",
    "            verticalalignment='bottom', bbox=props)\n",
    " \n",
    "    ax.grid(zorder=1,linestyle='--', color='lightgrey')\n",
    "    \n",
    "    fig.savefig('/Users/omer/Desktop/NatGeoReviews/Statistical-Analysis/Flow-Model-Stats/Case3/UpperMantle/Case3-UpperMantle-'+str(Age)+'-Ma.pdf', \n",
    "                bbox_inches='tight', dpi=600)\n",
    "    \n",
    "#     plt.show()\n",
    "    \n",
    "    OutputDir=\"/Users/omer/Desktop/NatGeoReviews/Statistical-Analysis/Flow-Model-Stats/Case3/Saved-Arrays\"\n",
    "\n",
    "    np.savetxt(OutputDir+'/Case3-UpperMantle-MIN-DISTANCES_'+str(Age)+'_Ma.txt',MIN_DISTANCE_HOT_DEG)\n",
    "\n",
    "    np.save(OutputDir+'/Case3-UpperMantle-MIN-DISTANCES-STD_'+str(Age)+'_Ma.npy',MIN_DISTANCE_HOT_DEG_STD)\n",
    "\n",
    "    np.save(OutputDir+'/Case3-UpperMantle-AD-Test-conf-5p-'+str(Age)+'_Ma.npy',ADFS_conf)\n",
    "\n",
    "    np.save(OutputDir+'/Case3-UpperMantle-AD-Test-conf-25p-'+str(Age)+'_Ma.npy',ADFS_conf_0_25)\n",
    "\n",
    "    np.save(OutputDir+'/Case3-UpperMantle-ks-stat-two-sided-'+str(Age)+'_Ma.npy',KSFS_stat_two_sided)\n",
    "    \n",
    "    np.save(OutputDir+'/Case3-UpperMantle-ks-stat-pval-'+str(Age)+'_Ma.npy',KSFS_pval_two_sided)\n",
    "   \n",
    "    np.save(OutputDir+'/Case3-UpperMantle-ks-stat-TwoCond-'+str(Age)+'_Ma.npy',FRACTION_KS_Crit_TwoCond)\n",
    "    \n",
    "    np.save(OutputDir+'/Case3-UpperMantle-KS-Stat-critical-val'+str(Age)+'_Ma.npy',FRACTION_KS_Crit)\n",
    "\n",
    "#     for ind in np.arange(0.01,1,0.01):\n",
    "#     a=float(sum(i < ind for i in ANDERSON_DARLING_CONFIDENCE_ALL_RANDOM_SAMPLES_SOLID))/ \\\n",
    "#     float(len(ANDERSON_DARLING_CONFIDENCE_ALL_RANDOM_SAMPLES_SOLID))\n",
    "    \n",
    "#     plt.scatter(ind,100.0*a,c='k',s=1)\n",
    "#     plt.show()\n",
    "    \n",
    "\n",
    "\n",
    "\n",
    "\n"
   ]
  },
  {
   "cell_type": "code",
   "execution_count": null,
   "metadata": {},
   "outputs": [],
   "source": [
    "# len(MIN_DISTANCE_HOT_DEG),len(random_pdist2hot)\n",
    "#             ALL_MIN_RANDOM_SOLID_DISTANCE_DEG.append(MIN_RANDOM_DISTANCE_TO_HOT) "
   ]
  },
  {
   "cell_type": "code",
   "execution_count": null,
   "metadata": {},
   "outputs": [],
   "source": [
    "# random_pdist2hot"
   ]
  },
  {
   "cell_type": "code",
   "execution_count": null,
   "metadata": {},
   "outputs": [],
   "source": [
    "# FRACTION_MEANS_AD_SOLID is the % that shorter distance and highly difference from random is achieved."
   ]
  },
  {
   "cell_type": "code",
   "execution_count": null,
   "metadata": {},
   "outputs": [],
   "source": [
    "# FRACTION_MEANS_AD_SOLID,FRACTION_MEANS_AD_SOLIDWeak"
   ]
  },
  {
   "cell_type": "code",
   "execution_count": null,
   "metadata": {},
   "outputs": [],
   "source": [
    "# AD1S, AD2S, AD3S "
   ]
  },
  {
   "cell_type": "code",
   "execution_count": null,
   "metadata": {},
   "outputs": [],
   "source": [
    "# AD3S"
   ]
  },
  {
   "cell_type": "code",
   "execution_count": null,
   "metadata": {},
   "outputs": [],
   "source": [
    "# for ind in np.arange(0.01,0.25,0.005):\n",
    "#     a=float(sum(i < ind for i in ANDERSON_DARLING_CONFIDENCE_ALL_RANDOM_SAMPLES_SOLID))/ \\\n",
    "#     float(len(ANDERSON_DARLING_CONFIDENCE_ALL_RANDOM_SAMPLES_SOLID))\n",
    "    \n",
    "#     plt.scatter(ind,100.0*a,c='k',s=1)\n",
    "# plt.show()"
   ]
  },
  {
   "cell_type": "code",
   "execution_count": null,
   "metadata": {},
   "outputs": [],
   "source": [
    "# float(sum(i < 0.05 for i in ANDERSON_DARLING_CONFIDENCE_ALL_RANDOM_SAMPLES_SOLID))/float(len(ANDERSON_DARLING_CONFIDENCE_ALL_RANDOM_SAMPLES_SOLID))\n",
    "    "
   ]
  },
  {
   "cell_type": "code",
   "execution_count": null,
   "metadata": {},
   "outputs": [],
   "source": []
  }
 ],
 "metadata": {
  "kernelspec": {
   "display_name": "Python 3",
   "language": "python",
   "name": "python3"
  },
  "language_info": {
   "codemirror_mode": {
    "name": "ipython",
    "version": 3
   },
   "file_extension": ".py",
   "mimetype": "text/x-python",
   "name": "python",
   "nbconvert_exporter": "python",
   "pygments_lexer": "ipython3",
   "version": "3.9.2"
  }
 },
 "nbformat": 4,
 "nbformat_minor": 2
}
